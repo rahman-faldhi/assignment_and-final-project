{
  "nbformat": 4,
  "nbformat_minor": 0,
  "metadata": {
    "colab": {
      "name": "Assignment_8_Quality_Wine.ipynb",
      "provenance": [],
      "collapsed_sections": []
    },
    "kernelspec": {
      "name": "python3",
      "display_name": "Python 3"
    }
  },
  "cells": [
    {
      "cell_type": "code",
      "metadata": {
        "id": "lwBgKfQr7qjT",
        "colab_type": "code",
        "colab": {
          "base_uri": "https://localhost:8080/",
          "height": 71
        },
        "outputId": "80cfe5a5-3bb4-4e6c-a608-f1acc987e2d7"
      },
      "source": [
        "import os\n",
        "import pandas as pd\n",
        "import numpy as np\n",
        "import matplotlib.pyplot as plt\n",
        "import xgboost as xgb\n",
        "import seaborn as sb\n",
        "from sklearn.ensemble import RandomForestRegressor\n",
        "from sklearn.svm import SVR\n",
        "from sklearn.metrics import confusion_matrix\n",
        "from sklearn.neighbors import KNeighborsRegressor\n",
        "\n",
        "from sklearn.preprocessing import StandardScaler, PowerTransformer, QuantileTransformer, MinMaxScaler, MaxAbsScaler, RobustScaler\n",
        "from sklearn.model_selection import train_test_split\n",
        "from sklearn.linear_model import LinearRegression\n",
        "from sklearn.metrics import mean_squared_error, mean_absolute_error, r2_score"
      ],
      "execution_count": null,
      "outputs": [
        {
          "output_type": "stream",
          "text": [
            "/usr/local/lib/python3.6/dist-packages/statsmodels/tools/_testing.py:19: FutureWarning: pandas.util.testing is deprecated. Use the functions in the public API at pandas.testing instead.\n",
            "  import pandas.util.testing as tm\n"
          ],
          "name": "stderr"
        }
      ]
    },
    {
      "cell_type": "code",
      "metadata": {
        "id": "w851_9-d9Rxw",
        "colab_type": "code",
        "colab": {
          "base_uri": "https://localhost:8080/",
          "height": 224
        },
        "outputId": "c5c5b2f2-7e00-4aed-967a-84b4ba2f1861"
      },
      "source": [
        "os.chdir('/content/drive/My Drive/Bootcamp ML2020/')\n",
        "os.listdir('.')\n",
        "dataset = pd.read_csv('winequality-white.csv',delimiter=';')\n",
        "dataset.head()"
      ],
      "execution_count": null,
      "outputs": [
        {
          "output_type": "execute_result",
          "data": {
            "text/html": [
              "<div>\n",
              "<style scoped>\n",
              "    .dataframe tbody tr th:only-of-type {\n",
              "        vertical-align: middle;\n",
              "    }\n",
              "\n",
              "    .dataframe tbody tr th {\n",
              "        vertical-align: top;\n",
              "    }\n",
              "\n",
              "    .dataframe thead th {\n",
              "        text-align: right;\n",
              "    }\n",
              "</style>\n",
              "<table border=\"1\" class=\"dataframe\">\n",
              "  <thead>\n",
              "    <tr style=\"text-align: right;\">\n",
              "      <th></th>\n",
              "      <th>fixed_acidity</th>\n",
              "      <th>volatile_acidity</th>\n",
              "      <th>citric_acid</th>\n",
              "      <th>residual_sugar</th>\n",
              "      <th>chlorides</th>\n",
              "      <th>free_sulfur_dioxide</th>\n",
              "      <th>total_sulfur_dioxide</th>\n",
              "      <th>density</th>\n",
              "      <th>pH</th>\n",
              "      <th>sulphates</th>\n",
              "      <th>alcohol</th>\n",
              "      <th>quality</th>\n",
              "    </tr>\n",
              "  </thead>\n",
              "  <tbody>\n",
              "    <tr>\n",
              "      <th>0</th>\n",
              "      <td>7.0</td>\n",
              "      <td>0.27</td>\n",
              "      <td>0.36</td>\n",
              "      <td>20.7</td>\n",
              "      <td>0.045</td>\n",
              "      <td>45.0</td>\n",
              "      <td>170.0</td>\n",
              "      <td>1.0010</td>\n",
              "      <td>3.00</td>\n",
              "      <td>0.45</td>\n",
              "      <td>8.8</td>\n",
              "      <td>6</td>\n",
              "    </tr>\n",
              "    <tr>\n",
              "      <th>1</th>\n",
              "      <td>6.3</td>\n",
              "      <td>0.30</td>\n",
              "      <td>0.34</td>\n",
              "      <td>1.6</td>\n",
              "      <td>0.049</td>\n",
              "      <td>14.0</td>\n",
              "      <td>132.0</td>\n",
              "      <td>0.9940</td>\n",
              "      <td>3.30</td>\n",
              "      <td>0.49</td>\n",
              "      <td>9.5</td>\n",
              "      <td>6</td>\n",
              "    </tr>\n",
              "    <tr>\n",
              "      <th>2</th>\n",
              "      <td>8.1</td>\n",
              "      <td>0.28</td>\n",
              "      <td>0.40</td>\n",
              "      <td>6.9</td>\n",
              "      <td>0.050</td>\n",
              "      <td>30.0</td>\n",
              "      <td>97.0</td>\n",
              "      <td>0.9951</td>\n",
              "      <td>3.26</td>\n",
              "      <td>0.44</td>\n",
              "      <td>10.1</td>\n",
              "      <td>6</td>\n",
              "    </tr>\n",
              "    <tr>\n",
              "      <th>3</th>\n",
              "      <td>7.2</td>\n",
              "      <td>0.23</td>\n",
              "      <td>0.32</td>\n",
              "      <td>8.5</td>\n",
              "      <td>0.058</td>\n",
              "      <td>47.0</td>\n",
              "      <td>186.0</td>\n",
              "      <td>0.9956</td>\n",
              "      <td>3.19</td>\n",
              "      <td>0.40</td>\n",
              "      <td>9.9</td>\n",
              "      <td>6</td>\n",
              "    </tr>\n",
              "    <tr>\n",
              "      <th>4</th>\n",
              "      <td>7.2</td>\n",
              "      <td>0.23</td>\n",
              "      <td>0.32</td>\n",
              "      <td>8.5</td>\n",
              "      <td>0.058</td>\n",
              "      <td>47.0</td>\n",
              "      <td>186.0</td>\n",
              "      <td>0.9956</td>\n",
              "      <td>3.19</td>\n",
              "      <td>0.40</td>\n",
              "      <td>9.9</td>\n",
              "      <td>6</td>\n",
              "    </tr>\n",
              "  </tbody>\n",
              "</table>\n",
              "</div>"
            ],
            "text/plain": [
              "   fixed_acidity  volatile_acidity  citric_acid  ...  sulphates  alcohol  quality\n",
              "0            7.0              0.27         0.36  ...       0.45      8.8        6\n",
              "1            6.3              0.30         0.34  ...       0.49      9.5        6\n",
              "2            8.1              0.28         0.40  ...       0.44     10.1        6\n",
              "3            7.2              0.23         0.32  ...       0.40      9.9        6\n",
              "4            7.2              0.23         0.32  ...       0.40      9.9        6\n",
              "\n",
              "[5 rows x 12 columns]"
            ]
          },
          "metadata": {
            "tags": []
          },
          "execution_count": 3
        }
      ]
    },
    {
      "cell_type": "code",
      "metadata": {
        "id": "8fYj0H5n-V8X",
        "colab_type": "code",
        "colab": {
          "base_uri": "https://localhost:8080/",
          "height": 317
        },
        "outputId": "1cbc6f8f-51f9-4787-c51c-007dbcc0b65d"
      },
      "source": [
        "dataset.describe()"
      ],
      "execution_count": null,
      "outputs": [
        {
          "output_type": "execute_result",
          "data": {
            "text/html": [
              "<div>\n",
              "<style scoped>\n",
              "    .dataframe tbody tr th:only-of-type {\n",
              "        vertical-align: middle;\n",
              "    }\n",
              "\n",
              "    .dataframe tbody tr th {\n",
              "        vertical-align: top;\n",
              "    }\n",
              "\n",
              "    .dataframe thead th {\n",
              "        text-align: right;\n",
              "    }\n",
              "</style>\n",
              "<table border=\"1\" class=\"dataframe\">\n",
              "  <thead>\n",
              "    <tr style=\"text-align: right;\">\n",
              "      <th></th>\n",
              "      <th>fixed_acidity</th>\n",
              "      <th>volatile_acidity</th>\n",
              "      <th>citric_acid</th>\n",
              "      <th>residual_sugar</th>\n",
              "      <th>chlorides</th>\n",
              "      <th>free_sulfur_dioxide</th>\n",
              "      <th>total_sulfur_dioxide</th>\n",
              "      <th>density</th>\n",
              "      <th>pH</th>\n",
              "      <th>sulphates</th>\n",
              "      <th>alcohol</th>\n",
              "      <th>quality</th>\n",
              "    </tr>\n",
              "  </thead>\n",
              "  <tbody>\n",
              "    <tr>\n",
              "      <th>count</th>\n",
              "      <td>4898.000000</td>\n",
              "      <td>4898.000000</td>\n",
              "      <td>4898.000000</td>\n",
              "      <td>4898.000000</td>\n",
              "      <td>4898.000000</td>\n",
              "      <td>4898.000000</td>\n",
              "      <td>4898.000000</td>\n",
              "      <td>4898.000000</td>\n",
              "      <td>4898.000000</td>\n",
              "      <td>4898.000000</td>\n",
              "      <td>4898.000000</td>\n",
              "      <td>4898.000000</td>\n",
              "    </tr>\n",
              "    <tr>\n",
              "      <th>mean</th>\n",
              "      <td>6.854788</td>\n",
              "      <td>0.278241</td>\n",
              "      <td>0.334192</td>\n",
              "      <td>6.391415</td>\n",
              "      <td>0.045772</td>\n",
              "      <td>35.308085</td>\n",
              "      <td>138.360657</td>\n",
              "      <td>0.994027</td>\n",
              "      <td>3.188267</td>\n",
              "      <td>0.489847</td>\n",
              "      <td>10.514267</td>\n",
              "      <td>5.877909</td>\n",
              "    </tr>\n",
              "    <tr>\n",
              "      <th>std</th>\n",
              "      <td>0.843868</td>\n",
              "      <td>0.100795</td>\n",
              "      <td>0.121020</td>\n",
              "      <td>5.072058</td>\n",
              "      <td>0.021848</td>\n",
              "      <td>17.007137</td>\n",
              "      <td>42.498065</td>\n",
              "      <td>0.002991</td>\n",
              "      <td>0.151001</td>\n",
              "      <td>0.114126</td>\n",
              "      <td>1.230621</td>\n",
              "      <td>0.885639</td>\n",
              "    </tr>\n",
              "    <tr>\n",
              "      <th>min</th>\n",
              "      <td>3.800000</td>\n",
              "      <td>0.080000</td>\n",
              "      <td>0.000000</td>\n",
              "      <td>0.600000</td>\n",
              "      <td>0.009000</td>\n",
              "      <td>2.000000</td>\n",
              "      <td>9.000000</td>\n",
              "      <td>0.987110</td>\n",
              "      <td>2.720000</td>\n",
              "      <td>0.220000</td>\n",
              "      <td>8.000000</td>\n",
              "      <td>3.000000</td>\n",
              "    </tr>\n",
              "    <tr>\n",
              "      <th>25%</th>\n",
              "      <td>6.300000</td>\n",
              "      <td>0.210000</td>\n",
              "      <td>0.270000</td>\n",
              "      <td>1.700000</td>\n",
              "      <td>0.036000</td>\n",
              "      <td>23.000000</td>\n",
              "      <td>108.000000</td>\n",
              "      <td>0.991723</td>\n",
              "      <td>3.090000</td>\n",
              "      <td>0.410000</td>\n",
              "      <td>9.500000</td>\n",
              "      <td>5.000000</td>\n",
              "    </tr>\n",
              "    <tr>\n",
              "      <th>50%</th>\n",
              "      <td>6.800000</td>\n",
              "      <td>0.260000</td>\n",
              "      <td>0.320000</td>\n",
              "      <td>5.200000</td>\n",
              "      <td>0.043000</td>\n",
              "      <td>34.000000</td>\n",
              "      <td>134.000000</td>\n",
              "      <td>0.993740</td>\n",
              "      <td>3.180000</td>\n",
              "      <td>0.470000</td>\n",
              "      <td>10.400000</td>\n",
              "      <td>6.000000</td>\n",
              "    </tr>\n",
              "    <tr>\n",
              "      <th>75%</th>\n",
              "      <td>7.300000</td>\n",
              "      <td>0.320000</td>\n",
              "      <td>0.390000</td>\n",
              "      <td>9.900000</td>\n",
              "      <td>0.050000</td>\n",
              "      <td>46.000000</td>\n",
              "      <td>167.000000</td>\n",
              "      <td>0.996100</td>\n",
              "      <td>3.280000</td>\n",
              "      <td>0.550000</td>\n",
              "      <td>11.400000</td>\n",
              "      <td>6.000000</td>\n",
              "    </tr>\n",
              "    <tr>\n",
              "      <th>max</th>\n",
              "      <td>14.200000</td>\n",
              "      <td>1.100000</td>\n",
              "      <td>1.660000</td>\n",
              "      <td>65.800000</td>\n",
              "      <td>0.346000</td>\n",
              "      <td>289.000000</td>\n",
              "      <td>440.000000</td>\n",
              "      <td>1.038980</td>\n",
              "      <td>3.820000</td>\n",
              "      <td>1.080000</td>\n",
              "      <td>14.200000</td>\n",
              "      <td>9.000000</td>\n",
              "    </tr>\n",
              "  </tbody>\n",
              "</table>\n",
              "</div>"
            ],
            "text/plain": [
              "       fixed_acidity  volatile_acidity  ...      alcohol      quality\n",
              "count    4898.000000       4898.000000  ...  4898.000000  4898.000000\n",
              "mean        6.854788          0.278241  ...    10.514267     5.877909\n",
              "std         0.843868          0.100795  ...     1.230621     0.885639\n",
              "min         3.800000          0.080000  ...     8.000000     3.000000\n",
              "25%         6.300000          0.210000  ...     9.500000     5.000000\n",
              "50%         6.800000          0.260000  ...    10.400000     6.000000\n",
              "75%         7.300000          0.320000  ...    11.400000     6.000000\n",
              "max        14.200000          1.100000  ...    14.200000     9.000000\n",
              "\n",
              "[8 rows x 12 columns]"
            ]
          },
          "metadata": {
            "tags": []
          },
          "execution_count": 4
        }
      ]
    },
    {
      "cell_type": "code",
      "metadata": {
        "id": "n0ECRIKF-mZN",
        "colab_type": "code",
        "colab": {
          "base_uri": "https://localhost:8080/",
          "height": 340
        },
        "outputId": "92bc340b-3d4c-4f7a-fb6a-07aa783d7baf"
      },
      "source": [
        "dataset.info() "
      ],
      "execution_count": null,
      "outputs": [
        {
          "output_type": "stream",
          "text": [
            "<class 'pandas.core.frame.DataFrame'>\n",
            "RangeIndex: 4898 entries, 0 to 4897\n",
            "Data columns (total 12 columns):\n",
            " #   Column                Non-Null Count  Dtype  \n",
            "---  ------                --------------  -----  \n",
            " 0   fixed_acidity         4898 non-null   float64\n",
            " 1   volatile_acidity      4898 non-null   float64\n",
            " 2   citric_acid           4898 non-null   float64\n",
            " 3   residual_sugar        4898 non-null   float64\n",
            " 4   chlorides             4898 non-null   float64\n",
            " 5   free_sulfur_dioxide   4898 non-null   float64\n",
            " 6   total_sulfur_dioxide  4898 non-null   float64\n",
            " 7   density               4898 non-null   float64\n",
            " 8   pH                    4898 non-null   float64\n",
            " 9   sulphates             4898 non-null   float64\n",
            " 10  alcohol               4898 non-null   float64\n",
            " 11  quality               4898 non-null   int64  \n",
            "dtypes: float64(11), int64(1)\n",
            "memory usage: 459.3 KB\n"
          ],
          "name": "stdout"
        }
      ]
    },
    {
      "cell_type": "code",
      "metadata": {
        "id": "aa8FKRax-3o8",
        "colab_type": "code",
        "colab": {
          "base_uri": "https://localhost:8080/",
          "height": 1000
        },
        "outputId": "39fdc179-0054-49be-a1cf-0c9b5cfc6fba"
      },
      "source": [
        "dataset.hist(figsize=(18, 22), bins=50, xlabelsize=8, ylabelsize=8)"
      ],
      "execution_count": null,
      "outputs": [
        {
          "output_type": "execute_result",
          "data": {
            "text/plain": [
              "array([[<matplotlib.axes._subplots.AxesSubplot object at 0x7eff9fe8ce80>,\n",
              "        <matplotlib.axes._subplots.AxesSubplot object at 0x7eff9fded160>,\n",
              "        <matplotlib.axes._subplots.AxesSubplot object at 0x7eff9fe233c8>],\n",
              "       [<matplotlib.axes._subplots.AxesSubplot object at 0x7eff9fdd6630>,\n",
              "        <matplotlib.axes._subplots.AxesSubplot object at 0x7eff9fd89898>,\n",
              "        <matplotlib.axes._subplots.AxesSubplot object at 0x7eff9fd3db00>],\n",
              "       [<matplotlib.axes._subplots.AxesSubplot object at 0x7eff9fcefd68>,\n",
              "        <matplotlib.axes._subplots.AxesSubplot object at 0x7eff9fd25f98>,\n",
              "        <matplotlib.axes._subplots.AxesSubplot object at 0x7eff9fcb1048>],\n",
              "       [<matplotlib.axes._subplots.AxesSubplot object at 0x7eff9fc954e0>,\n",
              "        <matplotlib.axes._subplots.AxesSubplot object at 0x7eff9fc4a748>,\n",
              "        <matplotlib.axes._subplots.AxesSubplot object at 0x7eff9fbfd9b0>]],\n",
              "      dtype=object)"
            ]
          },
          "metadata": {
            "tags": []
          },
          "execution_count": 6
        },
        {
          "output_type": "display_data",
          "data": {
            "image/png": "[encoded data removed]",
            "text/plain": [
              "<Figure size 1296x1584 with 12 Axes>"
            ]
          },
          "metadata": {
            "tags": [],
            "needs_background": "light"
          }
        }
      ]
    },
    {
      "cell_type": "code",
      "metadata": {
        "id": "RI1K-piY_GU-",
        "colab_type": "code",
        "colab": {
          "base_uri": "https://localhost:8080/",
          "height": 221
        },
        "outputId": "5df77866-9099-40ed-923a-ae4f77ee722e"
      },
      "source": [
        "dataset.corr()['quality'][:-1]"
      ],
      "execution_count": null,
      "outputs": [
        {
          "output_type": "execute_result",
          "data": {
            "text/plain": [
              "fixed_acidity          -0.113663\n",
              "volatile_acidity       -0.194723\n",
              "citric_acid            -0.009209\n",
              "residual_sugar         -0.097577\n",
              "chlorides              -0.209934\n",
              "free_sulfur_dioxide     0.008158\n",
              "total_sulfur_dioxide   -0.174737\n",
              "density                -0.307123\n",
              "pH                      0.099427\n",
              "sulphates               0.053678\n",
              "alcohol                 0.435575\n",
              "Name: quality, dtype: float64"
            ]
          },
          "metadata": {
            "tags": []
          },
          "execution_count": 7
        }
      ]
    },
    {
      "cell_type": "code",
      "metadata": {
        "id": "6vU0y7zq_Su9",
        "colab_type": "code",
        "colab": {}
      },
      "source": [
        "corr = dataset.corr()"
      ],
      "execution_count": null,
      "outputs": []
    },
    {
      "cell_type": "code",
      "metadata": {
        "id": "jH5E0R6J_w0_",
        "colab_type": "code",
        "colab": {
          "base_uri": "https://localhost:8080/",
          "height": 944
        },
        "outputId": "34171409-5e89-48ea-e3b2-d4247aeafc15"
      },
      "source": [
        "plt.figure(figsize=(20,20))\n",
        "sb.heatmap(corr, cbar=True, square= True, fmt='.1f', annot=True, annot_kws={'size':15}, cmap='Reds')"
      ],
      "execution_count": null,
      "outputs": [
        {
          "output_type": "execute_result",
          "data": {
            "text/plain": [
              "<matplotlib.axes._subplots.AxesSubplot at 0x7eff9b263c18>"
            ]
          },
          "metadata": {
            "tags": []
          },
          "execution_count": 11
        },
        {
          "output_type": "display_data",
          "data": {
            "image/png": "[encoded data removed]",
            "text/plain": [
              "<Figure size 1440x1440 with 2 Axes>"
            ]
          },
          "metadata": {
            "tags": [],
            "needs_background": "light"
          }
        }
      ]
    },
    {
      "cell_type": "code",
      "metadata": {
        "id": "GMsz6Zmm_4mH",
        "colab_type": "code",
        "colab": {}
      },
      "source": [
        "Y = dataset['quality'] #label\n",
        "x = dataset.drop(['quality'], axis=1) #features"
      ],
      "execution_count": null,
      "outputs": []
    },
    {
      "cell_type": "code",
      "metadata": {
        "id": "DDs76LA7ALm-",
        "colab_type": "code",
        "colab": {
          "base_uri": "https://localhost:8080/",
          "height": 1000
        },
        "outputId": "abc81b32-8cd1-4abd-af6b-32b1711820b1"
      },
      "source": [
        "def acc_scaler(arr_name, arr_scl):\n",
        "  # scaler = arr_scl\n",
        "  X = arr_scl.fit_transform(x) #x=features\n",
        "  data_x = pd.DataFrame(X, columns=x.columns) #pengganti features di materi\n",
        "\n",
        "  x_train, x_test, y_train, y_test = train_test_split(data_x, Y, test_size=0.25, random_state=10)\n",
        "\n",
        "  lm = LinearRegression()\n",
        "  lm.fit(x_train, y_train)\n",
        "  y_pred = lm.predict(x_test)\n",
        "  mse = mean_squared_error(y_test, y_pred)\n",
        "  mae = mean_absolute_error(y_test, y_pred)\n",
        "  r2 = r2_score(y_test, y_pred)\n",
        "  print(arr_name)\n",
        "  print()\n",
        "  print('Accuracy of ',arr_name,' on train set : {:.2f}'.format(lm.score(x_train, y_train))) # .score() -> Accuracy\n",
        "  print('Accuracy of ',arr_name,' on test set  : {:.2f}'.format(lm.score(x_test, y_test))) # .score() -> Accuracy\n",
        "  print()\n",
        "  print(\"MSE (Mean Squared Error)                   :\", mse)\n",
        "  print(\"MAE (Mean Absolute Error)                  :\", mae)\n",
        "  print(\"r^2 score                                  :\", r2)\n",
        "  print('RMSE (Root Mean Squared Error)             :', np.sqrt(mean_squared_error(y_test, y_pred)))\n",
        "  print('====================================================================')\n",
        "\n",
        "arr_scl=[StandardScaler(),PowerTransformer(method='yeo-johnson', standardize=True),QuantileTransformer(),MinMaxScaler(),MaxAbsScaler(),RobustScaler()]\n",
        "arr_name=['Standar Scaler','Power Transformer Yeo Johnson','Quantile Transformer','Min Max Scaler','Max Abs Scaler','Robust Scaler']\n",
        "\n",
        "for a in range(len(arr_scl)):\n",
        "  acc_scaler(arr_name[a], arr_scl[a])"
      ],
      "execution_count": null,
      "outputs": [
        {
          "output_type": "stream",
          "text": [
            "Standar Scaler\n",
            "\n",
            "Accuracy of  Standar Scaler  on train set : 0.28\n",
            "Accuracy of  Standar Scaler  on test set  : 0.29\n",
            "\n",
            "MSE (Mean Squared Error)                   : 0.5548832994203517\n",
            "MAE (Mean Absolute Error)                  : 0.5804267647459413\n",
            "r^2 score                                  : 0.2894540453148069\n",
            "RMSE (Root Mean Squared Error)             : 0.7449048928691178\n",
            "====================================================================\n",
            "Power Transformer Yeo Johnson\n",
            "\n",
            "Accuracy of  Power Transformer Yeo Johnson  on train set : 0.28\n",
            "Accuracy of  Power Transformer Yeo Johnson  on test set  : 0.29\n",
            "\n",
            "MSE (Mean Squared Error)                   : 0.5532974274429229\n",
            "MAE (Mean Absolute Error)                  : 0.5801503621875661\n",
            "r^2 score                                  : 0.29148480551138845\n",
            "RMSE (Root Mean Squared Error)             : 0.7438396517011734\n",
            "====================================================================\n",
            "Quantile Transformer\n",
            "\n",
            "Accuracy of  Quantile Transformer  on train set : 0.30\n",
            "Accuracy of  Quantile Transformer  on test set  : 0.30\n",
            "\n",
            "MSE (Mean Squared Error)                   : 0.5499064978106402\n",
            "MAE (Mean Absolute Error)                  : 0.585416030929065\n",
            "r^2 score                                  : 0.2958270002311747\n",
            "RMSE (Root Mean Squared Error)             : 0.741556806866905\n",
            "====================================================================\n",
            "Min Max Scaler\n",
            "\n",
            "Accuracy of  Min Max Scaler  on train set : 0.28\n",
            "Accuracy of  Min Max Scaler  on test set  : 0.29\n",
            "\n",
            "MSE (Mean Squared Error)                   : 0.554883299420352\n",
            "MAE (Mean Absolute Error)                  : 0.5804267647459413\n",
            "r^2 score                                  : 0.2894540453148067\n",
            "RMSE (Root Mean Squared Error)             : 0.7449048928691179\n",
            "====================================================================\n",
            "Max Abs Scaler\n",
            "\n",
            "Accuracy of  Max Abs Scaler  on train set : 0.28\n",
            "Accuracy of  Max Abs Scaler  on test set  : 0.29\n",
            "\n",
            "MSE (Mean Squared Error)                   : 0.5548832994203533\n",
            "MAE (Mean Absolute Error)                  : 0.5804267647459405\n",
            "r^2 score                                  : 0.289454045314805\n",
            "RMSE (Root Mean Squared Error)             : 0.7449048928691188\n",
            "====================================================================\n",
            "Robust Scaler\n",
            "\n",
            "Accuracy of  Robust Scaler  on train set : 0.28\n",
            "Accuracy of  Robust Scaler  on test set  : 0.29\n",
            "\n",
            "MSE (Mean Squared Error)                   : 0.5548832994203517\n",
            "MAE (Mean Absolute Error)                  : 0.5804267647459413\n",
            "r^2 score                                  : 0.2894540453148069\n",
            "RMSE (Root Mean Squared Error)             : 0.7449048928691178\n",
            "====================================================================\n"
          ],
          "name": "stdout"
        }
      ]
    },
    {
      "cell_type": "markdown",
      "metadata": {
        "id": "hoNvGrmKBOps",
        "colab_type": "text"
      },
      "source": [
        "Dari Berbagai Model Scaler yang digunakan terdapat 3 model yg memiliki hasil yang sama, baik itu nilai r2, MAE, MSE, maupun RMSE nya yaitu model Min Max Scaler, Max Abs Scaler dan Robust Scaler. untuk nilai r2 yang paling baik, didapat oleh model Quantile Transformer dengan nilai 0.2958270002311747. ini menunjukan bahwa nilai yang didapat semuanya memiliki akurasi yang rendah"
      ]
    },
    {
      "cell_type": "markdown",
      "metadata": {
        "id": "ziCUnBhKBPAv",
        "colab_type": "text"
      },
      "source": [
        "***Untuk Power Transformer Metode Box-Cox akan menghasilkan error seperti dibawah***"
      ]
    },
    {
      "cell_type": "code",
      "metadata": {
        "id": "c5jtMhrhBV7Z",
        "colab_type": "code",
        "colab": {
          "base_uri": "https://localhost:8080/",
          "height": 391
        },
        "outputId": "342f8dc9-0274-48b2-b0e3-2a31396f5b0e"
      },
      "source": [
        "scaler = PowerTransformer(method='box-cox', standardize=True)\n",
        "X = scaler.fit_transform(x) #x=features\n",
        "data_x = pd.DataFrame(X, columns=x.columns) #pengganti features di materi\n",
        "\n",
        "x_train, x_test, y_train, y_test = train_test_split(data_x, Y, test_size=0.25, random_state=10)\n",
        "\n",
        "lm = LinearRegression()\n",
        "lm.fit(x_train, y_train)\n",
        "y_pred = lm.predict(x_test)\n",
        "mse = mean_squared_error(y_test, y_pred)\n",
        "mae = mean_absolute_error(y_test, y_pred)\n",
        "r2 = r2_score(y_test, y_pred)\n",
        "print(\"Box-Cox Transformation\")\n",
        "print()\n",
        "print('Accuracy of box-cox on train set : {:.2f}'.format(lm.score(x_train, y_train))) # .score() -> Accuracy\n",
        "print('Accuracy of box-cox on test set  : {:.2f}'.format(lm.score(x_test, y_test))) # .score() -> Accuracy\n",
        "print()\n",
        "print(\"MSE (Mean Squared Error)                   :\", mse)\n",
        "print(\"MAE (Mean Absolute Error)                  :\", mae)\n",
        "print(\"r^2 score                                  :\", r2)\n",
        "print('RMSE (Root Mean Squared Error)             :', np.sqrt(mean_squared_error(y_test, y_pred)))"
      ],
      "execution_count": null,
      "outputs": [
        {
          "output_type": "error",
          "ename": "ValueError",
          "evalue": "ignored",
          "traceback": [
            "\u001b[0;31m---------------------------------------------------------------------------\u001b[0m",
            "\u001b[0;31mValueError\u001b[0m                                Traceback (most recent call last)",
            "\u001b[0;32m<ipython-input-14-63ab0bc1f893>\u001b[0m in \u001b[0;36m<module>\u001b[0;34m()\u001b[0m\n\u001b[1;32m      1\u001b[0m \u001b[0mscaler\u001b[0m \u001b[0;34m=\u001b[0m \u001b[0mPowerTransformer\u001b[0m\u001b[0;34m(\u001b[0m\u001b[0mmethod\u001b[0m\u001b[0;34m=\u001b[0m\u001b[0;34m'box-cox'\u001b[0m\u001b[0;34m,\u001b[0m \u001b[0mstandardize\u001b[0m\u001b[0;34m=\u001b[0m\u001b[0;32mTrue\u001b[0m\u001b[0;34m)\u001b[0m\u001b[0;34m\u001b[0m\u001b[0;34m\u001b[0m\u001b[0m\n\u001b[0;32m----> 2\u001b[0;31m \u001b[0mX\u001b[0m \u001b[0;34m=\u001b[0m \u001b[0mscaler\u001b[0m\u001b[0;34m.\u001b[0m\u001b[0mfit_transform\u001b[0m\u001b[0;34m(\u001b[0m\u001b[0mx\u001b[0m\u001b[0;34m)\u001b[0m \u001b[0;31m#x=features\u001b[0m\u001b[0;34m\u001b[0m\u001b[0;34m\u001b[0m\u001b[0m\n\u001b[0m\u001b[1;32m      3\u001b[0m \u001b[0mdata_x\u001b[0m \u001b[0;34m=\u001b[0m \u001b[0mpd\u001b[0m\u001b[0;34m.\u001b[0m\u001b[0mDataFrame\u001b[0m\u001b[0;34m(\u001b[0m\u001b[0mX\u001b[0m\u001b[0;34m,\u001b[0m \u001b[0mcolumns\u001b[0m\u001b[0;34m=\u001b[0m\u001b[0mx\u001b[0m\u001b[0;34m.\u001b[0m\u001b[0mcolumns\u001b[0m\u001b[0;34m)\u001b[0m \u001b[0;31m#pengganti features di materi\u001b[0m\u001b[0;34m\u001b[0m\u001b[0;34m\u001b[0m\u001b[0m\n\u001b[1;32m      4\u001b[0m \u001b[0;34m\u001b[0m\u001b[0m\n\u001b[1;32m      5\u001b[0m \u001b[0mx_train\u001b[0m\u001b[0;34m,\u001b[0m \u001b[0mx_test\u001b[0m\u001b[0;34m,\u001b[0m \u001b[0my_train\u001b[0m\u001b[0;34m,\u001b[0m \u001b[0my_test\u001b[0m \u001b[0;34m=\u001b[0m \u001b[0mtrain_test_split\u001b[0m\u001b[0;34m(\u001b[0m\u001b[0mdata_x\u001b[0m\u001b[0;34m,\u001b[0m \u001b[0mY\u001b[0m\u001b[0;34m,\u001b[0m \u001b[0mtest_size\u001b[0m\u001b[0;34m=\u001b[0m\u001b[0;36m0.25\u001b[0m\u001b[0;34m,\u001b[0m \u001b[0mrandom_state\u001b[0m\u001b[0;34m=\u001b[0m\u001b[0;36m10\u001b[0m\u001b[0;34m)\u001b[0m\u001b[0;34m\u001b[0m\u001b[0;34m\u001b[0m\u001b[0m\n",
            "\u001b[0;32m/usr/local/lib/python3.6/dist-packages/sklearn/preprocessing/_data.py\u001b[0m in \u001b[0;36mfit_transform\u001b[0;34m(self, X, y)\u001b[0m\n\u001b[1;32m   2795\u001b[0m \u001b[0;34m\u001b[0m\u001b[0m\n\u001b[1;32m   2796\u001b[0m     \u001b[0;32mdef\u001b[0m \u001b[0mfit_transform\u001b[0m\u001b[0;34m(\u001b[0m\u001b[0mself\u001b[0m\u001b[0;34m,\u001b[0m \u001b[0mX\u001b[0m\u001b[0;34m,\u001b[0m \u001b[0my\u001b[0m\u001b[0;34m=\u001b[0m\u001b[0;32mNone\u001b[0m\u001b[0;34m)\u001b[0m\u001b[0;34m:\u001b[0m\u001b[0;34m\u001b[0m\u001b[0;34m\u001b[0m\u001b[0m\n\u001b[0;32m-> 2797\u001b[0;31m         \u001b[0;32mreturn\u001b[0m \u001b[0mself\u001b[0m\u001b[0;34m.\u001b[0m\u001b[0m_fit\u001b[0m\u001b[0;34m(\u001b[0m\u001b[0mX\u001b[0m\u001b[0;34m,\u001b[0m \u001b[0my\u001b[0m\u001b[0;34m,\u001b[0m \u001b[0mforce_transform\u001b[0m\u001b[0;34m=\u001b[0m\u001b[0;32mTrue\u001b[0m\u001b[0;34m)\u001b[0m\u001b[0;34m\u001b[0m\u001b[0;34m\u001b[0m\u001b[0m\n\u001b[0m\u001b[1;32m   2798\u001b[0m \u001b[0;34m\u001b[0m\u001b[0m\n\u001b[1;32m   2799\u001b[0m     \u001b[0;32mdef\u001b[0m \u001b[0m_fit\u001b[0m\u001b[0;34m(\u001b[0m\u001b[0mself\u001b[0m\u001b[0;34m,\u001b[0m \u001b[0mX\u001b[0m\u001b[0;34m,\u001b[0m \u001b[0my\u001b[0m\u001b[0;34m=\u001b[0m\u001b[0;32mNone\u001b[0m\u001b[0;34m,\u001b[0m \u001b[0mforce_transform\u001b[0m\u001b[0;34m=\u001b[0m\u001b[0;32mFalse\u001b[0m\u001b[0;34m)\u001b[0m\u001b[0;34m:\u001b[0m\u001b[0;34m\u001b[0m\u001b[0;34m\u001b[0m\u001b[0m\n",
            "\u001b[0;32m/usr/local/lib/python3.6/dist-packages/sklearn/preprocessing/_data.py\u001b[0m in \u001b[0;36m_fit\u001b[0;34m(self, X, y, force_transform)\u001b[0m\n\u001b[1;32m   2798\u001b[0m \u001b[0;34m\u001b[0m\u001b[0m\n\u001b[1;32m   2799\u001b[0m     \u001b[0;32mdef\u001b[0m \u001b[0m_fit\u001b[0m\u001b[0;34m(\u001b[0m\u001b[0mself\u001b[0m\u001b[0;34m,\u001b[0m \u001b[0mX\u001b[0m\u001b[0;34m,\u001b[0m \u001b[0my\u001b[0m\u001b[0;34m=\u001b[0m\u001b[0;32mNone\u001b[0m\u001b[0;34m,\u001b[0m \u001b[0mforce_transform\u001b[0m\u001b[0;34m=\u001b[0m\u001b[0;32mFalse\u001b[0m\u001b[0;34m)\u001b[0m\u001b[0;34m:\u001b[0m\u001b[0;34m\u001b[0m\u001b[0;34m\u001b[0m\u001b[0m\n\u001b[0;32m-> 2800\u001b[0;31m         \u001b[0mX\u001b[0m \u001b[0;34m=\u001b[0m \u001b[0mself\u001b[0m\u001b[0;34m.\u001b[0m\u001b[0m_check_input\u001b[0m\u001b[0;34m(\u001b[0m\u001b[0mX\u001b[0m\u001b[0;34m,\u001b[0m \u001b[0mcheck_positive\u001b[0m\u001b[0;34m=\u001b[0m\u001b[0;32mTrue\u001b[0m\u001b[0;34m,\u001b[0m \u001b[0mcheck_method\u001b[0m\u001b[0;34m=\u001b[0m\u001b[0;32mTrue\u001b[0m\u001b[0;34m)\u001b[0m\u001b[0;34m\u001b[0m\u001b[0;34m\u001b[0m\u001b[0m\n\u001b[0m\u001b[1;32m   2801\u001b[0m \u001b[0;34m\u001b[0m\u001b[0m\n\u001b[1;32m   2802\u001b[0m         \u001b[0;32mif\u001b[0m \u001b[0;32mnot\u001b[0m \u001b[0mself\u001b[0m\u001b[0;34m.\u001b[0m\u001b[0mcopy\u001b[0m \u001b[0;32mand\u001b[0m \u001b[0;32mnot\u001b[0m \u001b[0mforce_transform\u001b[0m\u001b[0;34m:\u001b[0m  \u001b[0;31m# if call from fit()\u001b[0m\u001b[0;34m\u001b[0m\u001b[0;34m\u001b[0m\u001b[0m\n",
            "\u001b[0;32m/usr/local/lib/python3.6/dist-packages/sklearn/preprocessing/_data.py\u001b[0m in \u001b[0;36m_check_input\u001b[0;34m(self, X, check_positive, check_shape, check_method)\u001b[0m\n\u001b[1;32m   3017\u001b[0m             if (check_positive and self.method == 'box-cox' and\n\u001b[1;32m   3018\u001b[0m                     np.nanmin(X) <= 0):\n\u001b[0;32m-> 3019\u001b[0;31m                 raise ValueError(\"The Box-Cox transformation can only be \"\n\u001b[0m\u001b[1;32m   3020\u001b[0m                                  \"applied to strictly positive data\")\n\u001b[1;32m   3021\u001b[0m \u001b[0;34m\u001b[0m\u001b[0m\n",
            "\u001b[0;31mValueError\u001b[0m: The Box-Cox transformation can only be applied to strictly positive data"
          ]
        }
      ]
    },
    {
      "cell_type": "markdown",
      "metadata": {
        "id": "tI8jo4z5BauZ",
        "colab_type": "text"
      },
      "source": [
        "*Error ini disebakan karena **Box-Cox Transformation** hanya dapat digunakan untuk data yang benar benar positif, sedangkan angka 0 tidak dapat benar benar dikatakan positif maupun negatif. Dengan demikian, jika memang ingin menggunakan metode ini, maka harus dilakukan data cleaning. namun menurut saya dalam kasus ini kita tidak dapat menggunakan **Box-Cox Transformation** karena terdapat nilai 0 didalam quality wine."
      ]
    },
    {
      "cell_type": "markdown",
      "metadata": {
        "id": "OnSdtoNjBmgL",
        "colab_type": "text"
      },
      "source": [
        "**Soal nomor 2**"
      ]
    },
    {
      "cell_type": "markdown",
      "metadata": {
        "id": "8GS9gJR9Bs_q",
        "colab_type": "text"
      },
      "source": [
        "**Random Forest Regressor**"
      ]
    },
    {
      "cell_type": "code",
      "metadata": {
        "id": "38S9qNtCBywo",
        "colab_type": "code",
        "colab": {
          "base_uri": "https://localhost:8080/",
          "height": 649
        },
        "outputId": "ad253f2a-19be-458f-f4d9-00e681d3dfe7"
      },
      "source": [
        "def ex_scaler(sclr):\n",
        "  scaler = sclr\n",
        "  X = scaler.fit_transform(x) #x=features\n",
        "  data_x = pd.DataFrame(X, columns=x.columns) #pengganti features di materi\n",
        "\n",
        "  x_train, x_test, y_train, y_test = train_test_split(data_x, Y, test_size=0.25, random_state=10)\n",
        "\n",
        "  arr_r2=[]\n",
        "  arr_rmse=[]\n",
        "  arr_estm=[]\n",
        "  arr_rstatm=[]\n",
        "\n",
        "\n",
        "  def random_param(est,rstat):\n",
        "    rf = RandomForestRegressor(n_estimators=est,random_state=rstat)\n",
        "    rf.fit(x_train, y_train)\n",
        "    y_pred = rf.predict(x_test)\n",
        "    mse = mean_squared_error(y_test, y_pred)\n",
        "    mae = mean_absolute_error(y_test, y_pred)\n",
        "    r2 = r2_score(y_test, y_pred)\n",
        "    rmse = np.sqrt(mean_squared_error(y_test, y_pred))\n",
        "    # print('\\trandom forest n_estimasi = ',est,'dan random_state = ',rstat)\n",
        "    # print(\"\\tr^2 score                      :\", r2)\n",
        "    # print('\\tRMSE (Root Mean Squared Error) :', rmse)\n",
        "    # print('================================================================')\n",
        "    arr_r2.append(r2)\n",
        "    arr_rmse.append(np.sqrt(mean_squared_error(y_test, y_pred)))\n",
        "    arr_estm.append(est)\n",
        "    arr_rstatm.append(rstat)\n",
        "\n",
        "  arr_est=[50,100,200]\n",
        "  arr_rstat=[0,10,15,20]\n",
        "  for i in arr_est:\n",
        "    for j in arr_rstat:\n",
        "      random_param(i,j)\n",
        "\n",
        "  max_arr2=max(arr_r2)\n",
        "  # print(max_arr2)\n",
        "\n",
        "  for i,j in enumerate(arr_r2):\n",
        "    if max_arr2 == j:\n",
        "      print('nilai r2 terbaik berada pada model random forest dengan n_estimasi',arr_estm[i],'dan random_state',arr_rstatm[i])\n",
        "      print('dengan nilai r2 sebesar: ',arr_r2[i])\n",
        "      print('dan dengan RMSE sebesar: ',arr_rmse[i])\n",
        "\n",
        "sclr=[StandardScaler(),PowerTransformer(method='yeo-johnson', standardize=True),QuantileTransformer(n_quantiles=10, random_state=0),MinMaxScaler(),MaxAbsScaler(),RobustScaler()]\n",
        "nm_sclr=['Standar Scaler','Power Transformer Yeo Johnson','Quantile Transformer','Min Max Scaler','Max Abs Scaler','Robust Scaler']\n",
        "\n",
        "for a in range(len(sclr)):\n",
        "  print('Untuk Scaler: ',nm_sclr[a])\n",
        "  print('---------------------------')\n",
        "  ex_scaler(sclr[a])\n",
        "  print('*************************************************************************************************************************************************')"
      ],
      "execution_count": null,
      "outputs": [
        {
          "output_type": "stream",
          "text": [
            "Untuk Scaler:  Standar Scaler\n",
            "---------------------------\n",
            "nilai r2 terbaik berada pada model random forest dengan n_estimasi 200 dan random_state 10\n",
            "dengan nilai r2 sebesar:  0.5528260679884219\n",
            "dan dengan RMSE sebesar:  0.5909394457737853\n",
            "*************************************************************************************************************************************************\n",
            "Untuk Scaler:  Power Transformer Yeo Johnson\n",
            "---------------------------\n",
            "nilai r2 terbaik berada pada model random forest dengan n_estimasi 200 dan random_state 15\n",
            "dengan nilai r2 sebesar:  0.5538908958797688\n",
            "dan dengan RMSE sebesar:  0.5902354424727647\n",
            "*************************************************************************************************************************************************\n",
            "Untuk Scaler:  Quantile Transformer\n",
            "---------------------------\n",
            "nilai r2 terbaik berada pada model random forest dengan n_estimasi 200 dan random_state 10\n",
            "dengan nilai r2 sebesar:  0.5533950424362304\n",
            "dan dengan RMSE sebesar:  0.5905633768198095\n",
            "*************************************************************************************************************************************************\n",
            "Untuk Scaler:  Min Max Scaler\n",
            "---------------------------\n",
            "nilai r2 terbaik berada pada model random forest dengan n_estimasi 200 dan random_state 15\n",
            "dengan nilai r2 sebesar:  0.5545954238119051\n",
            "dan dengan RMSE sebesar:  0.5897691869515997\n",
            "*************************************************************************************************************************************************\n",
            "Untuk Scaler:  Max Abs Scaler\n",
            "---------------------------\n",
            "nilai r2 terbaik berada pada model random forest dengan n_estimasi 200 dan random_state 10\n",
            "dengan nilai r2 sebesar:  0.5540542029404135\n",
            "dan dengan RMSE sebesar:  0.5901273989053343\n",
            "*************************************************************************************************************************************************\n",
            "Untuk Scaler:  Robust Scaler\n",
            "---------------------------\n",
            "nilai r2 terbaik berada pada model random forest dengan n_estimasi 200 dan random_state 15\n",
            "dengan nilai r2 sebesar:  0.5528122696001966\n",
            "dan dengan RMSE sebesar:  0.5909485629745052\n",
            "*************************************************************************************************************************************************\n"
          ],
          "name": "stdout"
        }
      ]
    },
    {
      "cell_type": "markdown",
      "metadata": {
        "id": "940bf28pFfUN",
        "colab_type": "text"
      },
      "source": [
        "Disini hasil yang saya dapatkan tidak jauh berbeda untuk setiap metode scaling pada random forest regressor, untuk hasil yg lebih baik adalah pada metode scaling Min Max Scaler yang sedikit lebih unggul dibandingkan dengan model scaling lainnya yaitu 0.5545954238119051 dan RMSE sebesar 0.5897691869515997 dengan n_estimasi 200 dan random_state 15"
      ]
    },
    {
      "cell_type": "markdown",
      "metadata": {
        "id": "F4GWNUWVC8RY",
        "colab_type": "text"
      },
      "source": [
        "**XGBoost**"
      ]
    },
    {
      "cell_type": "code",
      "metadata": {
        "id": "GShEVY4IC-sN",
        "colab_type": "code",
        "colab": {
          "base_uri": "https://localhost:8080/",
          "height": 649
        },
        "outputId": "2dea3b0a-aed5-4876-ecc3-0e5cfc652973"
      },
      "source": [
        "def ex_scaler(sclr):\n",
        "  scaler = sclr\n",
        "  X = scaler.fit_transform(x) #x=features\n",
        "  data_x = pd.DataFrame(X, columns=x.columns) #pengganti features di materi\n",
        "\n",
        "  x_train, x_test, y_train, y_test = train_test_split(data_x, Y, test_size=0.25, random_state=10)\n",
        "\n",
        "  arr_r2=[]\n",
        "  arr_rmse=[]\n",
        "  arr_estm=[]\n",
        "  arr_lratem=[]\n",
        "\n",
        "\n",
        "  def random_param(est,lrate):\n",
        "    xr = xgb.XGBRegressor(n_estimators=est,learning_rate=lrate,objective ='reg:squarederror')\n",
        "    xr.fit(x_train, y_train)\n",
        "    y_pred = xr.predict(x_test)\n",
        "    mse = mean_squared_error(y_test, y_pred)\n",
        "    mae = mean_absolute_error(y_test, y_pred)\n",
        "    r2 = r2_score(y_test, y_pred)\n",
        "    rmse = np.sqrt(mean_squared_error(y_test, y_pred))\n",
        "    # print('\\tXGB Regressor n_estimasi = ',est,'dan learning_rate = ',lrate)\n",
        "    # print(\"\\tr^2 score                      :\", r2)\n",
        "    # print('\\tRMSE (Root Mean Squared Error) :', rmse)\n",
        "    # print('================================================================')\n",
        "    arr_r2.append(r2)\n",
        "    arr_rmse.append(np.sqrt(mean_squared_error(y_test, y_pred)))\n",
        "    arr_estm.append(est)\n",
        "    arr_lratem.append(lrate)\n",
        "\n",
        "  arr_est=[50,100,200]\n",
        "  arr_lrate=[0.01,0.05,0.1,0.5]\n",
        "  for i in arr_est:\n",
        "    for j in arr_lrate:\n",
        "      random_param(i,j)\n",
        "\n",
        "  max_arr2=max(arr_r2)\n",
        "  # print(max_arr2)\n",
        "\n",
        "  for i,j in enumerate(arr_r2):\n",
        "    if max_arr2 == j:\n",
        "      print('nilai r2 terbaik berada pada model XGB Regressor dengan n_estimasi',arr_estm[i],'dan learning_rate',arr_lratem[i])\n",
        "      print('dengan nilai r2 sebesar: ',arr_r2[i])\n",
        "      print('dan dengan RMSE sebesar: ',arr_rmse[i])\n",
        "\n",
        "sclr=[StandardScaler(),PowerTransformer(method='yeo-johnson', standardize=True),QuantileTransformer(n_quantiles=10, random_state=0),MinMaxScaler(),MaxAbsScaler(),RobustScaler()]\n",
        "nm_sclr=['Standar Scaler','Power Transformer Yeo Johnson','Quantile Transformer','Min Max Scaler','Max Abs Scaler','Robust Scaler']\n",
        "\n",
        "for a in range(len(sclr)):\n",
        "  print('Untuk Scaler: ',nm_sclr[a])\n",
        "  print('---------------------------')\n",
        "  ex_scaler(sclr[a])\n",
        "  print('*************************************************************************************************************************************************')"
      ],
      "execution_count": null,
      "outputs": [
        {
          "output_type": "stream",
          "text": [
            "Untuk Scaler:  Standar Scaler\n",
            "---------------------------\n",
            "nilai r2 terbaik berada pada model XGB Regressor dengan n_estimasi 200 dan learning_rate 0.1\n",
            "dengan nilai r2 sebesar:  0.4196932978601806\n",
            "dan dengan RMSE sebesar:  0.6731836112917648\n",
            "*************************************************************************************************************************************************\n",
            "Untuk Scaler:  Power Transformer Yeo Johnson\n",
            "---------------------------\n",
            "nilai r2 terbaik berada pada model XGB Regressor dengan n_estimasi 200 dan learning_rate 0.1\n",
            "dengan nilai r2 sebesar:  0.41725781974540777\n",
            "dan dengan RMSE sebesar:  0.6745947679483544\n",
            "*************************************************************************************************************************************************\n",
            "Untuk Scaler:  Quantile Transformer\n",
            "---------------------------\n",
            "nilai r2 terbaik berada pada model XGB Regressor dengan n_estimasi 200 dan learning_rate 0.1\n",
            "dengan nilai r2 sebesar:  0.41991729022787616\n",
            "dan dengan RMSE sebesar:  0.6730536778066871\n",
            "*************************************************************************************************************************************************\n",
            "Untuk Scaler:  Min Max Scaler\n",
            "---------------------------\n",
            "nilai r2 terbaik berada pada model XGB Regressor dengan n_estimasi 200 dan learning_rate 0.1\n",
            "dengan nilai r2 sebesar:  0.41991552116503283\n",
            "dan dengan RMSE sebesar:  0.6730547041028732\n",
            "*************************************************************************************************************************************************\n",
            "Untuk Scaler:  Max Abs Scaler\n",
            "---------------------------\n",
            "nilai r2 terbaik berada pada model XGB Regressor dengan n_estimasi 200 dan learning_rate 0.1\n",
            "dengan nilai r2 sebesar:  0.4198645092361609\n",
            "dan dengan RMSE sebesar:  0.6730842972614214\n",
            "*************************************************************************************************************************************************\n",
            "Untuk Scaler:  Robust Scaler\n",
            "---------------------------\n",
            "nilai r2 terbaik berada pada model XGB Regressor dengan n_estimasi 200 dan learning_rate 0.1\n",
            "dengan nilai r2 sebesar:  0.4199256173641098\n",
            "dan dengan RMSE sebesar:  0.6730488469181888\n",
            "*************************************************************************************************************************************************\n"
          ],
          "name": "stdout"
        }
      ]
    },
    {
      "cell_type": "markdown",
      "metadata": {
        "id": "EEJIGiBDGIK7",
        "colab_type": "text"
      },
      "source": [
        "Disini hasil yang saya dapatkan tidak jauh berbeda untuk setiap metode scaling pada XGBRegressor, untuk hasil yg lebih baik adalah pada metode scaling Robust Scaler yang sedikit lebih unggul dibandingkan dengan model scaling lainnya yaitu r2 sebesar 0.4199256173641098 dan RMS sebesar 0.6730488469181888 dengan n_estimasi 200 dan learning_rate 0.1"
      ]
    },
    {
      "cell_type": "markdown",
      "metadata": {
        "id": "5Q9kqQS9DR3c",
        "colab_type": "text"
      },
      "source": [
        "**SVM Regressor**"
      ]
    },
    {
      "cell_type": "code",
      "metadata": {
        "id": "VLfPty3oDVTe",
        "colab_type": "code",
        "colab": {
          "base_uri": "https://localhost:8080/",
          "height": 649
        },
        "outputId": "151967ca-ad91-4291-a38b-ae2b79b8def8"
      },
      "source": [
        "def ex_scaler(sclr):\n",
        "  scaler = sclr\n",
        "  X = scaler.fit_transform(x) #x=features\n",
        "  data_x = pd.DataFrame(X, columns=x.columns) #pengganti features di materi\n",
        "\n",
        "  x_train, x_test, y_train, y_test = train_test_split(data_x, Y, test_size=0.25, random_state=10)\n",
        "\n",
        "  arr_r2=[]\n",
        "  arr_rmse=[]\n",
        "  arr_kernelm=[]\n",
        "\n",
        "\n",
        "  def random_param(krnl):\n",
        "    svmr = SVR(kernel=krnl)\n",
        "    svmr.fit(x_train, y_train)\n",
        "    y_pred = svmr.predict(x_test)\n",
        "    mse = mean_squared_error(y_test, y_pred)\n",
        "    mae = mean_absolute_error(y_test, y_pred)\n",
        "    r2 = r2_score(y_test, y_pred)\n",
        "    rmse = np.sqrt(mean_squared_error(y_test, y_pred))\n",
        "    # print('\\tSVR dengan kernel = ',krnl)\n",
        "    # print(\"\\tr^2 score                      :\", r2)\n",
        "    # print('\\tRMSE (Root Mean Squared Error) :', rmse)\n",
        "    # print('================================================================')\n",
        "    arr_r2.append(r2)\n",
        "    arr_rmse.append(rmse)\n",
        "    arr_kernelm.append(krnl)\n",
        "\n",
        "  arr_kernel=['rbf','poly','linear']\n",
        "  for i in arr_kernel:\n",
        "    random_param(i)\n",
        "\n",
        "  max_arr2=max(arr_r2)\n",
        "  # print(max_arr2)\n",
        "\n",
        "  for i,j in enumerate(arr_r2):\n",
        "    if max_arr2 == j:\n",
        "      print('nilai r2 terbaik berada pada model SVM dengan kernel',arr_kernelm[i])\n",
        "      print('dengan nilai r2 sebesar: ',arr_r2[i])\n",
        "      print('dan dengan RMSE sebesar: ',arr_rmse[i])\n",
        "\n",
        "sclr=[StandardScaler(),PowerTransformer(method='yeo-johnson', standardize=True),QuantileTransformer(n_quantiles=10, random_state=0),MinMaxScaler(),MaxAbsScaler(),RobustScaler()]\n",
        "nm_sclr=['Standar Scaler','Power Transformer Yeo Johnson','Quantile Transformer','Min Max Scaler','Max Abs Scaler','Robust Scaler']\n",
        "\n",
        "for a in range(len(sclr)):\n",
        "  print('Untuk Scaler: ',nm_sclr[a])\n",
        "  print('---------------------------')\n",
        "  ex_scaler(sclr[a])\n",
        "  print('*************************************************************************************************************************************************')"
      ],
      "execution_count": null,
      "outputs": [
        {
          "output_type": "stream",
          "text": [
            "Untuk Scaler:  Standar Scaler\n",
            "---------------------------\n",
            "nilai r2 terbaik berada pada model SVM dengan kernel rbf\n",
            "dengan nilai r2 sebesar:  0.3912033775056929\n",
            "dan dengan RMSE sebesar:  0.6895104593652682\n",
            "*************************************************************************************************************************************************\n",
            "Untuk Scaler:  Power Transformer Yeo Johnson\n",
            "---------------------------\n",
            "nilai r2 terbaik berada pada model SVM dengan kernel rbf\n",
            "dengan nilai r2 sebesar:  0.3877846164983296\n",
            "dan dengan RMSE sebesar:  0.6914437579983671\n",
            "*************************************************************************************************************************************************\n",
            "Untuk Scaler:  Quantile Transformer\n",
            "---------------------------\n",
            "nilai r2 terbaik berada pada model SVM dengan kernel rbf\n",
            "dengan nilai r2 sebesar:  0.3794351707796345\n",
            "dan dengan RMSE sebesar:  0.6961427753845327\n",
            "*************************************************************************************************************************************************\n",
            "Untuk Scaler:  Min Max Scaler\n",
            "---------------------------\n",
            "nilai r2 terbaik berada pada model SVM dengan kernel rbf\n",
            "dengan nilai r2 sebesar:  0.36491341409263534\n",
            "dan dengan RMSE sebesar:  0.7042408470426987\n",
            "*************************************************************************************************************************************************\n",
            "Untuk Scaler:  Max Abs Scaler\n",
            "---------------------------\n",
            "nilai r2 terbaik berada pada model SVM dengan kernel poly\n",
            "dengan nilai r2 sebesar:  0.3252242820105451\n",
            "dan dengan RMSE sebesar:  0.725912816578233\n",
            "*************************************************************************************************************************************************\n",
            "Untuk Scaler:  Robust Scaler\n",
            "---------------------------\n",
            "nilai r2 terbaik berada pada model SVM dengan kernel rbf\n",
            "dengan nilai r2 sebesar:  0.38233111491613825\n",
            "dan dengan RMSE sebesar:  0.6945165568444972\n",
            "*************************************************************************************************************************************************\n"
          ],
          "name": "stdout"
        }
      ]
    },
    {
      "cell_type": "markdown",
      "metadata": {
        "id": "f8sVEg-GGc7L",
        "colab_type": "text"
      },
      "source": [
        "Untuk SVM Regression saya mendapakan r2 tertinggi, yaitu 0.3912033775056929 pada scaler Standard Scaler, dengan SVM kernel rbf"
      ]
    },
    {
      "cell_type": "markdown",
      "metadata": {
        "id": "C4bgTR4ED4P6",
        "colab_type": "text"
      },
      "source": [
        "**KNN Regressor**"
      ]
    },
    {
      "cell_type": "code",
      "metadata": {
        "id": "kTWJYuhzD70P",
        "colab_type": "code",
        "colab": {
          "base_uri": "https://localhost:8080/",
          "height": 649
        },
        "outputId": "db4c13c7-0fdf-4059-9d70-f81e0914329a"
      },
      "source": [
        "def ex_scaler(sclr):\n",
        "  scaler = sclr\n",
        "  X = scaler.fit_transform(x) #x=features\n",
        "  data_x = pd.DataFrame(X, columns=x.columns) #pengganti features di materi\n",
        "\n",
        "  x_train, x_test, y_train, y_test = train_test_split(data_x, Y, test_size=0.25, random_state=10)\n",
        "\n",
        "  arr_r2=[]\n",
        "  arr_rmse=[]\n",
        "  arr_kernelm=[]\n",
        "\n",
        "\n",
        "  def random_param(knnr):\n",
        "    knn = KNeighborsRegressor(knnr)\n",
        "    knn.fit(x_train, y_train)\n",
        "    y_pred = knn.predict(x_test)\n",
        "    mse = mean_squared_error(y_test, y_pred)\n",
        "    mae = mean_absolute_error(y_test, y_pred)\n",
        "    r2 = r2_score(y_test, y_pred)\n",
        "    rmse = np.sqrt(mean_squared_error(y_test, y_pred))\n",
        "    # print('\\tKNN dengan nilai k = ',knnr)\n",
        "    # print(\"\\tr^2 score                      :\", r2)\n",
        "    # print('\\tRMSE (Root Mean Squared Error) :', rmse)\n",
        "    # print('================================================================')\n",
        "    arr_r2.append(r2)\n",
        "    arr_rmse.append(rmse)\n",
        "    arr_kernelm.append(knnr)\n",
        "\n",
        "  arr_kernel=[1,3,5,7,9,11,13,15]\n",
        "  for i in arr_kernel:\n",
        "    random_param(i)\n",
        "\n",
        "  max_arr2=max(arr_r2)\n",
        "  # print(max_arr2)\n",
        "\n",
        "  for i,j in enumerate(arr_r2):\n",
        "    if max_arr2 == j:\n",
        "      print('nilai r2 terbaik berada pada model SVM dengan kernel',arr_kernelm[i])\n",
        "      print('dengan nilai r2 sebesar: ',arr_r2[i])\n",
        "      print('dan dengan RMSE sebesar: ',arr_rmse[i])\n",
        "\n",
        "sclr=[StandardScaler(),PowerTransformer(method='yeo-johnson', standardize=True),QuantileTransformer(n_quantiles=10, random_state=0),MinMaxScaler(),MaxAbsScaler(),RobustScaler()]\n",
        "nm_sclr=['Standar Scaler','Power Transformer Yeo Johnson','Quantile Transformer','Min Max Scaler','Max Abs Scaler','Robust Scaler']\n",
        "\n",
        "for a in range(len(sclr)):\n",
        "  print('Untuk Scaler: ',nm_sclr[a])\n",
        "  print('---------------------------')\n",
        "  ex_scaler(sclr[a])\n",
        "  print('*************************************************************************************************************************************************')"
      ],
      "execution_count": null,
      "outputs": [
        {
          "output_type": "stream",
          "text": [
            "Untuk Scaler:  Standar Scaler\n",
            "---------------------------\n",
            "nilai r2 terbaik berada pada model SVM dengan kernel 9\n",
            "dengan nilai r2 sebesar:  0.386028507461435\n",
            "dan dengan RMSE sebesar:  0.6924347336884836\n",
            "*************************************************************************************************************************************************\n",
            "Untuk Scaler:  Power Transformer Yeo Johnson\n",
            "---------------------------\n",
            "nilai r2 terbaik berada pada model SVM dengan kernel 11\n",
            "dengan nilai r2 sebesar:  0.37116774321509616\n",
            "dan dengan RMSE sebesar:  0.7007645873723662\n",
            "*************************************************************************************************************************************************\n",
            "Untuk Scaler:  Quantile Transformer\n",
            "---------------------------\n",
            "nilai r2 terbaik berada pada model SVM dengan kernel 9\n",
            "dengan nilai r2 sebesar:  0.35733993934975383\n",
            "dan dengan RMSE sebesar:  0.7084274758478494\n",
            "*************************************************************************************************************************************************\n",
            "Untuk Scaler:  Min Max Scaler\n",
            "---------------------------\n",
            "nilai r2 terbaik berada pada model SVM dengan kernel 5\n",
            "dengan nilai r2 sebesar:  0.3945016366919367\n",
            "dan dengan RMSE sebesar:  0.6876401526902256\n",
            "*************************************************************************************************************************************************\n",
            "Untuk Scaler:  Max Abs Scaler\n",
            "---------------------------\n",
            "nilai r2 terbaik berada pada model SVM dengan kernel 7\n",
            "dengan nilai r2 sebesar:  0.38080052838354916\n",
            "dan dengan RMSE sebesar:  0.695376532138809\n",
            "*************************************************************************************************************************************************\n",
            "Untuk Scaler:  Robust Scaler\n",
            "---------------------------\n",
            "nilai r2 terbaik berada pada model SVM dengan kernel 13\n",
            "dengan nilai r2 sebesar:  0.3900454277923987\n",
            "dan dengan RMSE sebesar:  0.690165882798835\n",
            "*************************************************************************************************************************************************\n"
          ],
          "name": "stdout"
        }
      ]
    },
    {
      "cell_type": "markdown",
      "metadata": {
        "id": "kq6JfbpvG8gP",
        "colab_type": "text"
      },
      "source": [
        "Untuk KNN Regressor, r2 terbaik yang saya dapatkan adalah 0.3945016366919367 dan RMSE 0.6876401526902256 pada kernel bernilai 3. Scaler yang saya gunakan adalah Min-Max Scaler"
      ]
    }
  ]
}