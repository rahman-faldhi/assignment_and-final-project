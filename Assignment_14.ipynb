{
  "nbformat": 4,
  "nbformat_minor": 0,
  "metadata": {
    "colab": {
      "name": "Assignment_14.ipynb",
      "provenance": [],
      "collapsed_sections": [],
      "toc_visible": true
    },
    "kernelspec": {
      "name": "python3",
      "display_name": "Python 3"
    },
    "accelerator": "GPU"
  },
  "cells": [
    {
      "cell_type": "markdown",
      "metadata": {
        "id": "Mq_jVBYUn-kG"
      },
      "source": [
        "# Assignment\n",
        "\n",
        "1. Lakukan image classification terhadap dataset fashion MNIST (https://keras.io/api/datasets/fashion_mnist/) dengan 2 arsitektur diatas! Tunjukan grafik epoch terhadap loss. Tentukan arsitektur dengan hasil terbaik dan jelaskan!\n",
        "\n",
        "2. Buatlah sebuah arsitektur dengan convolution layer lebih dalam:\n",
        "\n",
        "  - Convolution layer dengan 32 filters, kernel size 3x3, activation function ReLu, & nilai awal berdasarkan he_uniform\n",
        "  - Max Pooling Layer 2x2\n",
        "  - Convolution layer dengan 64 filters, kernel size 3x3, activation function ReLu, & nilai awal berdasarkan he_uniform\n",
        "  - Max Pooling Layer 2x2\n",
        "\n",
        "  Lakukan training kepada dataset MNIST & Fashion MNIST! Perhatikan hasil accuracy yang didapat & jelaskan!"
      ]
    },
    {
      "cell_type": "code",
      "metadata": {
        "id": "0MSHSuutnj9O"
      },
      "source": [
        "from tensorflow.keras.datasets import mnist\n",
        "import tensorflow as tf\n",
        "import matplotlib.pyplot as plt\n",
        "import pandas as pd"
      ],
      "execution_count": 1,
      "outputs": []
    },
    {
      "cell_type": "code",
      "metadata": {
        "id": "KcS6Giw6oC5m",
        "outputId": "43c3cbf2-b028-48c4-8628-536b1e3c4cfa",
        "colab": {
          "base_uri": "https://localhost:8080/",
          "height": 313
        }
      },
      "source": [
        "(feature_train, label_train), (feature_test, label_test) = tf.keras.datasets.fashion_mnist.load_data()\n",
        "\n",
        "print(\"Train\", feature_train.shape, label_train.shape)\n",
        "print(\"Test\", feature_test.shape, label_test.shape)\n",
        "\n",
        "plt.imshow(feature_train[100], cmap=plt.get_cmap('gray'))"
      ],
      "execution_count": 2,
      "outputs": [
        {
          "output_type": "stream",
          "text": [
            "Train (60000, 28, 28) (60000,)\n",
            "Test (10000, 28, 28) (10000,)\n"
          ],
          "name": "stdout"
        },
        {
          "output_type": "execute_result",
          "data": {
            "text/plain": [
              "<matplotlib.image.AxesImage at 0x7fadffe09780>"
            ]
          },
          "metadata": {
            "tags": []
          },
          "execution_count": 2
        },
        {
          "output_type": "display_data",
          "data": {
            "image/png": "[encoded data removed]",
            "text/plain": [
              "<Figure size 432x288 with 1 Axes>"
            ]
          },
          "metadata": {
            "tags": [],
            "needs_background": "light"
          }
        }
      ]
    },
    {
      "cell_type": "code",
      "metadata": {
        "id": "MVPdRzuGo54T"
      },
      "source": [
        "# feature_train"
      ],
      "execution_count": 3,
      "outputs": []
    },
    {
      "cell_type": "code",
      "metadata": {
        "id": "QAojyTkJpGx5",
        "outputId": "b79db775-2f16-45dd-cf87-658d220811db",
        "colab": {
          "base_uri": "https://localhost:8080/",
          "height": 33
        }
      },
      "source": [
        "print(feature_train.shape)"
      ],
      "execution_count": 4,
      "outputs": [
        {
          "output_type": "stream",
          "text": [
            "(60000, 28, 28)\n"
          ],
          "name": "stdout"
        }
      ]
    },
    {
      "cell_type": "markdown",
      "metadata": {
        "id": "qyB-wEYhptzc"
      },
      "source": [
        "# Feature Engineering"
      ]
    },
    {
      "cell_type": "code",
      "metadata": {
        "id": "tdpuro44pJqw"
      },
      "source": [
        "feature_train = feature_train.reshape((feature_train.shape[0], 28, 28, 1))\n",
        "feature_test = feature_test.reshape((feature_test.shape[0], 28, 28, 1))"
      ],
      "execution_count": 5,
      "outputs": []
    },
    {
      "cell_type": "code",
      "metadata": {
        "id": "342UNO0kplXd",
        "outputId": "65a1707d-6ff8-42e9-d684-c8aaae9e6040",
        "colab": {
          "base_uri": "https://localhost:8080/",
          "height": 33
        }
      },
      "source": [
        "print(feature_train.shape)"
      ],
      "execution_count": 6,
      "outputs": [
        {
          "output_type": "stream",
          "text": [
            "(60000, 28, 28, 1)\n"
          ],
          "name": "stdout"
        }
      ]
    },
    {
      "cell_type": "code",
      "metadata": {
        "id": "HAWXR-j1p1H7"
      },
      "source": [
        "# feature_train"
      ],
      "execution_count": 7,
      "outputs": []
    },
    {
      "cell_type": "code",
      "metadata": {
        "id": "HC-aUWg4qFBt",
        "outputId": "bd1085e6-0f40-4c3d-b761-0df9d37d1a65",
        "colab": {
          "base_uri": "https://localhost:8080/",
          "height": 131
        }
      },
      "source": [
        "from tensorflow.keras.utils import to_categorical\n",
        "\n",
        "label_train = to_categorical(label_train)\n",
        "label_test = to_categorical(label_test)\n",
        "\n",
        "print(label_train)"
      ],
      "execution_count": 8,
      "outputs": [
        {
          "output_type": "stream",
          "text": [
            "[[0. 0. 0. ... 0. 0. 1.]\n",
            " [1. 0. 0. ... 0. 0. 0.]\n",
            " [1. 0. 0. ... 0. 0. 0.]\n",
            " ...\n",
            " [0. 0. 0. ... 0. 0. 0.]\n",
            " [1. 0. 0. ... 0. 0. 0.]\n",
            " [0. 0. 0. ... 0. 0. 0.]]\n"
          ],
          "name": "stdout"
        }
      ]
    },
    {
      "cell_type": "code",
      "metadata": {
        "id": "34pKaB_uqL6Z"
      },
      "source": [
        "feature_train = feature_train.astype('float32')\n",
        "feature_test = feature_test.astype('float32')\n",
        "\n",
        "feature_train = feature_train / 255.0\n",
        "feature_test = feature_test / 255.0"
      ],
      "execution_count": 9,
      "outputs": []
    },
    {
      "cell_type": "code",
      "metadata": {
        "id": "zWEXoRUNqWoS"
      },
      "source": [
        "# feature_train"
      ],
      "execution_count": 10,
      "outputs": []
    },
    {
      "cell_type": "markdown",
      "metadata": {
        "id": "2pkfpyEqEbEJ"
      },
      "source": [
        "# Soal Nomor 1"
      ]
    },
    {
      "cell_type": "markdown",
      "metadata": {
        "id": "BbsUqNvhqtRF"
      },
      "source": [
        "## Multilayer Perceptron (Neural Network)"
      ]
    },
    {
      "cell_type": "code",
      "metadata": {
        "id": "bb1gV5fwqiVH"
      },
      "source": [
        "from tensorflow.keras.models import Sequential\n",
        "from tensorflow.keras.layers import Conv2D\n",
        "from tensorflow.keras.layers import MaxPooling2D\n",
        "from tensorflow.keras.layers import Dense\n",
        "from tensorflow.keras.layers import Flatten\n",
        "from tensorflow.keras.optimizers import SGD\n",
        "from tensorflow.keras.layers import BatchNormalization"
      ],
      "execution_count": 11,
      "outputs": []
    },
    {
      "cell_type": "code",
      "metadata": {
        "id": "r9kB1l0drLDs"
      },
      "source": [
        "# base_model = Sequential()\n",
        "\n",
        "# base_model.add(Flatten(input_shape=(28, 28, 1)))\n",
        "# base_model.add(Dense(128, activation='relu', kernel_initializer='he_uniform')) # Activation relu dipakai, ini salah satu function yang paling banyak dipakai\n",
        "# base_model.add(Dense(10, activation='softmax')) # Activation softmax dipakai untuk classification, nilai 10 karena terdapat 10 class (0-9)\n",
        "\n",
        "# opt = SGD(lr=0.05, momentum=0.9) # Optimizer (Stochastic Gradient Descent), untuk mencari minima dari grafik fungsi loss\n",
        "\n",
        "# base_model.compile(optimizer=opt, loss='categorical_crossentropy', metrics=['accuracy']) # Loss Function\n",
        "\n",
        "# base_model.summary()\n",
        "\n",
        "# history = base_model.fit(feature_train, label_train, batch_size=32, validation_data=(feature_test, label_test), epochs=10)"
      ],
      "execution_count": 12,
      "outputs": []
    },
    {
      "cell_type": "code",
      "metadata": {
        "id": "W7eis_qWsS1B"
      },
      "source": [
        "def plot_loss(history):\n",
        "  plt.plot(history.history['loss'], label='loss')\n",
        "  plt.plot(history.history['val_loss'], label='val_loss')\n",
        "  plt.xlabel('Epoch')\n",
        "  plt.ylabel('Loss')\n",
        "  plt.legend()\n",
        "  plt.grid(True)"
      ],
      "execution_count": 13,
      "outputs": []
    },
    {
      "cell_type": "code",
      "metadata": {
        "id": "9xoaBLUdsgOd"
      },
      "source": [
        "# history_dataframe = pd.DataFrame(history.history)\n",
        "# history_dataframe['epoch'] = history.epoch\n",
        "# history_dataframe"
      ],
      "execution_count": 14,
      "outputs": []
    },
    {
      "cell_type": "code",
      "metadata": {
        "id": "4LEUTL8WsmEa"
      },
      "source": [
        "# plot_loss(history) # epoch vs loss graph"
      ],
      "execution_count": 15,
      "outputs": []
    },
    {
      "cell_type": "code",
      "metadata": {
        "id": "tmSAunzW8MLB"
      },
      "source": [
        "# loss, accuracy = base_model.evaluate(feature_test,  label_test, verbose=2)\n",
        "\n",
        "# print(\"Test accuracy:\", accuracy)\n",
        "# print(\"Test loss:\", loss)\n"
      ],
      "execution_count": 16,
      "outputs": []
    },
    {
      "cell_type": "code",
      "metadata": {
        "id": "be6D5p8R_Ubj"
      },
      "source": [
        "def learn_rate(lrt):\n",
        "  base_model = Sequential()\n",
        "  base_model.add(Flatten(input_shape=(28, 28, 1)))\n",
        "  base_model.add(Dense(128, activation='relu', kernel_initializer='he_uniform')) # Activation relu dipakai, ini salah satu function yang paling banyak dipakai\n",
        "  base_model.add(Dense(10, activation='softmax')) # Activation softmax dipakai untuk classification, nilai 10 karena terdapat 10 class (0-9)\n",
        "  opt = SGD(lr=lrt, momentum=0.9) # Optimizer (Stochastic Gradient Descent), untuk mencari minima dari grafik fungsi loss\n",
        "  base_model.compile(optimizer=opt, loss='categorical_crossentropy', metrics=['accuracy']) # Loss Function\n",
        "  base_model.summary()\n",
        "  history = base_model.fit(feature_train, label_train, batch_size=32, validation_data=(feature_test, label_test), epochs=50)\n",
        "\n",
        "  history_dataframe = pd.DataFrame(history.history)\n",
        "  history_dataframe['epoch'] = history.epoch\n",
        "  history_dataframe\n",
        "\n",
        "  plot_loss(history)\n",
        "\n",
        "  loss, accuracy = base_model.evaluate(feature_test,  label_test, verbose=2)\n",
        "\n",
        "  print(\"Test accuracy:\", accuracy)\n",
        "  print(\"Test loss:\", loss)\n"
      ],
      "execution_count": 22,
      "outputs": []
    },
    {
      "cell_type": "code",
      "metadata": {
        "id": "sztp4nTXFB3Q",
        "outputId": "c83d6f7d-2f11-4299-a799-f9b815e62fb5",
        "colab": {
          "base_uri": "https://localhost:8080/",
          "height": 1000
        }
      },
      "source": [
        "learn_rate(0.001)"
      ],
      "execution_count": 23,
      "outputs": [
        {
          "output_type": "stream",
          "text": [
            "Model: \"sequential_3\"\n",
            "_________________________________________________________________\n",
            "Layer (type)                 Output Shape              Param #   \n",
            "=================================================================\n",
            "flatten_3 (Flatten)          (None, 784)               0         \n",
            "_________________________________________________________________\n",
            "dense_6 (Dense)              (None, 128)               100480    \n",
            "_________________________________________________________________\n",
            "dense_7 (Dense)              (None, 10)                1290      \n",
            "=================================================================\n",
            "Total params: 101,770\n",
            "Trainable params: 101,770\n",
            "Non-trainable params: 0\n",
            "_________________________________________________________________\n",
            "Epoch 1/50\n",
            "1875/1875 [==============================] - 6s 3ms/step - loss: 0.7644 - accuracy: 0.7497 - val_loss: 0.5883 - val_accuracy: 0.8009\n",
            "Epoch 2/50\n",
            "1875/1875 [==============================] - 5s 3ms/step - loss: 0.5212 - accuracy: 0.8237 - val_loss: 0.5138 - val_accuracy: 0.8206\n",
            "Epoch 3/50\n",
            "1875/1875 [==============================] - 5s 3ms/step - loss: 0.4717 - accuracy: 0.8384 - val_loss: 0.4825 - val_accuracy: 0.8302\n",
            "Epoch 4/50\n",
            "1875/1875 [==============================] - 5s 3ms/step - loss: 0.4455 - accuracy: 0.8468 - val_loss: 0.4633 - val_accuracy: 0.8383\n",
            "Epoch 5/50\n",
            "1875/1875 [==============================] - 5s 3ms/step - loss: 0.4269 - accuracy: 0.8521 - val_loss: 0.4585 - val_accuracy: 0.8370\n",
            "Epoch 6/50\n",
            "1875/1875 [==============================] - 6s 3ms/step - loss: 0.4113 - accuracy: 0.8572 - val_loss: 0.4340 - val_accuracy: 0.8469\n",
            "Epoch 7/50\n",
            "1875/1875 [==============================] - 6s 3ms/step - loss: 0.3985 - accuracy: 0.8620 - val_loss: 0.4245 - val_accuracy: 0.8491\n",
            "Epoch 8/50\n",
            "1875/1875 [==============================] - 5s 3ms/step - loss: 0.3884 - accuracy: 0.8646 - val_loss: 0.4223 - val_accuracy: 0.8511\n",
            "Epoch 9/50\n",
            "1875/1875 [==============================] - 5s 3ms/step - loss: 0.3801 - accuracy: 0.8675 - val_loss: 0.4160 - val_accuracy: 0.8530\n",
            "Epoch 10/50\n",
            "1875/1875 [==============================] - 5s 3ms/step - loss: 0.3715 - accuracy: 0.8701 - val_loss: 0.4030 - val_accuracy: 0.8583\n",
            "Epoch 11/50\n",
            "1875/1875 [==============================] - 5s 3ms/step - loss: 0.3649 - accuracy: 0.8725 - val_loss: 0.4021 - val_accuracy: 0.8579\n",
            "Epoch 12/50\n",
            "1875/1875 [==============================] - 5s 3ms/step - loss: 0.3577 - accuracy: 0.8744 - val_loss: 0.3936 - val_accuracy: 0.8602\n",
            "Epoch 13/50\n",
            "1875/1875 [==============================] - 5s 3ms/step - loss: 0.3526 - accuracy: 0.8766 - val_loss: 0.3960 - val_accuracy: 0.8614\n",
            "Epoch 14/50\n",
            "1875/1875 [==============================] - 5s 3ms/step - loss: 0.3462 - accuracy: 0.8791 - val_loss: 0.3973 - val_accuracy: 0.8598\n",
            "Epoch 15/50\n",
            "1875/1875 [==============================] - 5s 3ms/step - loss: 0.3412 - accuracy: 0.8802 - val_loss: 0.3911 - val_accuracy: 0.8612\n",
            "Epoch 16/50\n",
            "1875/1875 [==============================] - 5s 3ms/step - loss: 0.3362 - accuracy: 0.8820 - val_loss: 0.3945 - val_accuracy: 0.8607\n",
            "Epoch 17/50\n",
            "1875/1875 [==============================] - 5s 3ms/step - loss: 0.3328 - accuracy: 0.8835 - val_loss: 0.3783 - val_accuracy: 0.8692\n",
            "Epoch 18/50\n",
            "1875/1875 [==============================] - 5s 3ms/step - loss: 0.3271 - accuracy: 0.8852 - val_loss: 0.3841 - val_accuracy: 0.8653\n",
            "Epoch 19/50\n",
            "1875/1875 [==============================] - 5s 3ms/step - loss: 0.3233 - accuracy: 0.8852 - val_loss: 0.3782 - val_accuracy: 0.8683\n",
            "Epoch 20/50\n",
            "1875/1875 [==============================] - 5s 3ms/step - loss: 0.3202 - accuracy: 0.8861 - val_loss: 0.3722 - val_accuracy: 0.8686\n",
            "Epoch 21/50\n",
            "1875/1875 [==============================] - 5s 3ms/step - loss: 0.3160 - accuracy: 0.8880 - val_loss: 0.3760 - val_accuracy: 0.8648\n",
            "Epoch 22/50\n",
            "1875/1875 [==============================] - 5s 3ms/step - loss: 0.3128 - accuracy: 0.8889 - val_loss: 0.3852 - val_accuracy: 0.8645\n",
            "Epoch 23/50\n",
            "1875/1875 [==============================] - 5s 3ms/step - loss: 0.3093 - accuracy: 0.8912 - val_loss: 0.3619 - val_accuracy: 0.8724\n",
            "Epoch 24/50\n",
            "1875/1875 [==============================] - 5s 3ms/step - loss: 0.3059 - accuracy: 0.8917 - val_loss: 0.3606 - val_accuracy: 0.8733\n",
            "Epoch 25/50\n",
            "1875/1875 [==============================] - 5s 3ms/step - loss: 0.3019 - accuracy: 0.8931 - val_loss: 0.3595 - val_accuracy: 0.8734\n",
            "Epoch 26/50\n",
            "1875/1875 [==============================] - 6s 3ms/step - loss: 0.2983 - accuracy: 0.8936 - val_loss: 0.3585 - val_accuracy: 0.8744\n",
            "Epoch 27/50\n",
            "1875/1875 [==============================] - 5s 3ms/step - loss: 0.2959 - accuracy: 0.8951 - val_loss: 0.3582 - val_accuracy: 0.8715\n",
            "Epoch 28/50\n",
            "1875/1875 [==============================] - 6s 3ms/step - loss: 0.2937 - accuracy: 0.8956 - val_loss: 0.3596 - val_accuracy: 0.8747\n",
            "Epoch 29/50\n",
            "1875/1875 [==============================] - 5s 3ms/step - loss: 0.2903 - accuracy: 0.8973 - val_loss: 0.3549 - val_accuracy: 0.8760\n",
            "Epoch 30/50\n",
            "1875/1875 [==============================] - 5s 3ms/step - loss: 0.2874 - accuracy: 0.8979 - val_loss: 0.3566 - val_accuracy: 0.8708\n",
            "Epoch 31/50\n",
            "1875/1875 [==============================] - 5s 3ms/step - loss: 0.2855 - accuracy: 0.8979 - val_loss: 0.3624 - val_accuracy: 0.8690\n",
            "Epoch 32/50\n",
            "1875/1875 [==============================] - 6s 3ms/step - loss: 0.2824 - accuracy: 0.8993 - val_loss: 0.3620 - val_accuracy: 0.8713\n",
            "Epoch 33/50\n",
            "1875/1875 [==============================] - 6s 3ms/step - loss: 0.2789 - accuracy: 0.9011 - val_loss: 0.3514 - val_accuracy: 0.8755\n",
            "Epoch 34/50\n",
            "1875/1875 [==============================] - 6s 3ms/step - loss: 0.2777 - accuracy: 0.9008 - val_loss: 0.3480 - val_accuracy: 0.8779\n",
            "Epoch 35/50\n",
            "1875/1875 [==============================] - 5s 3ms/step - loss: 0.2750 - accuracy: 0.9023 - val_loss: 0.3436 - val_accuracy: 0.8785\n",
            "Epoch 36/50\n",
            "1875/1875 [==============================] - 5s 3ms/step - loss: 0.2722 - accuracy: 0.9030 - val_loss: 0.3469 - val_accuracy: 0.8782\n",
            "Epoch 37/50\n",
            "1875/1875 [==============================] - 6s 3ms/step - loss: 0.2694 - accuracy: 0.9038 - val_loss: 0.3437 - val_accuracy: 0.8792\n",
            "Epoch 38/50\n",
            "1875/1875 [==============================] - 5s 3ms/step - loss: 0.2674 - accuracy: 0.9040 - val_loss: 0.3456 - val_accuracy: 0.8790\n",
            "Epoch 39/50\n",
            "1875/1875 [==============================] - 6s 3ms/step - loss: 0.2658 - accuracy: 0.9051 - val_loss: 0.3486 - val_accuracy: 0.8760\n",
            "Epoch 40/50\n",
            "1875/1875 [==============================] - 5s 3ms/step - loss: 0.2641 - accuracy: 0.9059 - val_loss: 0.3461 - val_accuracy: 0.8781\n",
            "Epoch 41/50\n",
            "1875/1875 [==============================] - 6s 3ms/step - loss: 0.2613 - accuracy: 0.9070 - val_loss: 0.3434 - val_accuracy: 0.8790\n",
            "Epoch 42/50\n",
            "1875/1875 [==============================] - 6s 3ms/step - loss: 0.2591 - accuracy: 0.9081 - val_loss: 0.3415 - val_accuracy: 0.8800\n",
            "Epoch 43/50\n",
            "1875/1875 [==============================] - 5s 3ms/step - loss: 0.2576 - accuracy: 0.9082 - val_loss: 0.3447 - val_accuracy: 0.8781\n",
            "Epoch 44/50\n",
            "1875/1875 [==============================] - 5s 3ms/step - loss: 0.2557 - accuracy: 0.9091 - val_loss: 0.3445 - val_accuracy: 0.8763\n",
            "Epoch 45/50\n",
            "1875/1875 [==============================] - 5s 3ms/step - loss: 0.2526 - accuracy: 0.9096 - val_loss: 0.3408 - val_accuracy: 0.8803\n",
            "Epoch 46/50\n",
            "1875/1875 [==============================] - 6s 3ms/step - loss: 0.2513 - accuracy: 0.9100 - val_loss: 0.3404 - val_accuracy: 0.8797\n",
            "Epoch 47/50\n",
            "1875/1875 [==============================] - 6s 3ms/step - loss: 0.2487 - accuracy: 0.9122 - val_loss: 0.3404 - val_accuracy: 0.8788\n",
            "Epoch 48/50\n",
            "1875/1875 [==============================] - 5s 3ms/step - loss: 0.2473 - accuracy: 0.9124 - val_loss: 0.3328 - val_accuracy: 0.8823\n",
            "Epoch 49/50\n",
            "1875/1875 [==============================] - 5s 3ms/step - loss: 0.2451 - accuracy: 0.9135 - val_loss: 0.3342 - val_accuracy: 0.8817\n",
            "Epoch 50/50\n",
            "1875/1875 [==============================] - 5s 3ms/step - loss: 0.2431 - accuracy: 0.9140 - val_loss: 0.3303 - val_accuracy: 0.8830\n",
            "313/313 - 1s - loss: 0.3303 - accuracy: 0.8830\n",
            "Test accuracy: 0.8830000162124634\n",
            "Test loss: 0.33028802275657654\n"
          ],
          "name": "stdout"
        },
        {
          "output_type": "display_data",
          "data": {
            "image/png": "[encoded data removed]",
            "text/plain": [
              "<Figure size 432x288 with 1 Axes>"
            ]
          },
          "metadata": {
            "tags": [],
            "needs_background": "light"
          }
        }
      ]
    },
    {
      "cell_type": "code",
      "metadata": {
        "id": "Z-0KEfltFUSU",
        "outputId": "76ad0076-c5ae-43c2-d307-f3677d94e9fa",
        "colab": {
          "base_uri": "https://localhost:8080/",
          "height": 1000
        }
      },
      "source": [
        "learn_rate(0.05)"
      ],
      "execution_count": 24,
      "outputs": [
        {
          "output_type": "stream",
          "text": [
            "Model: \"sequential_4\"\n",
            "_________________________________________________________________\n",
            "Layer (type)                 Output Shape              Param #   \n",
            "=================================================================\n",
            "flatten_4 (Flatten)          (None, 784)               0         \n",
            "_________________________________________________________________\n",
            "dense_8 (Dense)              (None, 128)               100480    \n",
            "_________________________________________________________________\n",
            "dense_9 (Dense)              (None, 10)                1290      \n",
            "=================================================================\n",
            "Total params: 101,770\n",
            "Trainable params: 101,770\n",
            "Non-trainable params: 0\n",
            "_________________________________________________________________\n",
            "Epoch 1/50\n",
            "1875/1875 [==============================] - 6s 3ms/step - loss: 0.5847 - accuracy: 0.7878 - val_loss: 0.5149 - val_accuracy: 0.8142\n",
            "Epoch 2/50\n",
            "1875/1875 [==============================] - 6s 3ms/step - loss: 0.4885 - accuracy: 0.8227 - val_loss: 0.5526 - val_accuracy: 0.8223\n",
            "Epoch 3/50\n",
            "1875/1875 [==============================] - 6s 3ms/step - loss: 0.4398 - accuracy: 0.8425 - val_loss: 0.5269 - val_accuracy: 0.8139\n",
            "Epoch 4/50\n",
            "1875/1875 [==============================] - 6s 3ms/step - loss: 0.4111 - accuracy: 0.8522 - val_loss: 0.4257 - val_accuracy: 0.8501\n",
            "Epoch 5/50\n",
            "1875/1875 [==============================] - 6s 3ms/step - loss: 0.3947 - accuracy: 0.8582 - val_loss: 0.4977 - val_accuracy: 0.8366\n",
            "Epoch 6/50\n",
            "1875/1875 [==============================] - 5s 3ms/step - loss: 0.3812 - accuracy: 0.8626 - val_loss: 0.4519 - val_accuracy: 0.8539\n",
            "Epoch 7/50\n",
            "1875/1875 [==============================] - 6s 3ms/step - loss: 0.3663 - accuracy: 0.8686 - val_loss: 0.4314 - val_accuracy: 0.8548\n",
            "Epoch 8/50\n",
            "1875/1875 [==============================] - 6s 3ms/step - loss: 0.3609 - accuracy: 0.8697 - val_loss: 0.4497 - val_accuracy: 0.8473\n",
            "Epoch 9/50\n",
            "1875/1875 [==============================] - 6s 3ms/step - loss: 0.3457 - accuracy: 0.8746 - val_loss: 0.4492 - val_accuracy: 0.8408\n",
            "Epoch 10/50\n",
            "1875/1875 [==============================] - 6s 3ms/step - loss: 0.3460 - accuracy: 0.8743 - val_loss: 0.4293 - val_accuracy: 0.8535\n",
            "Epoch 11/50\n",
            "1875/1875 [==============================] - 6s 3ms/step - loss: 0.3312 - accuracy: 0.8795 - val_loss: 0.4491 - val_accuracy: 0.8493\n",
            "Epoch 12/50\n",
            "1875/1875 [==============================] - 6s 3ms/step - loss: 0.3396 - accuracy: 0.8771 - val_loss: 0.4213 - val_accuracy: 0.8556\n",
            "Epoch 13/50\n",
            "1875/1875 [==============================] - 5s 3ms/step - loss: 0.3326 - accuracy: 0.8795 - val_loss: 0.4143 - val_accuracy: 0.8647\n",
            "Epoch 14/50\n",
            "1875/1875 [==============================] - 5s 3ms/step - loss: 0.3175 - accuracy: 0.8854 - val_loss: 0.4296 - val_accuracy: 0.8614\n",
            "Epoch 15/50\n",
            "1875/1875 [==============================] - 6s 3ms/step - loss: 0.3131 - accuracy: 0.8868 - val_loss: 0.4257 - val_accuracy: 0.8598\n",
            "Epoch 16/50\n",
            "1875/1875 [==============================] - 6s 3ms/step - loss: 0.3093 - accuracy: 0.8887 - val_loss: 0.4115 - val_accuracy: 0.8543\n",
            "Epoch 17/50\n",
            "1875/1875 [==============================] - 6s 3ms/step - loss: 0.3065 - accuracy: 0.8899 - val_loss: 0.4969 - val_accuracy: 0.8464\n",
            "Epoch 18/50\n",
            "1875/1875 [==============================] - 6s 3ms/step - loss: 0.3015 - accuracy: 0.8894 - val_loss: 0.3986 - val_accuracy: 0.8650\n",
            "Epoch 19/50\n",
            "1875/1875 [==============================] - 5s 3ms/step - loss: 0.2959 - accuracy: 0.8917 - val_loss: 0.4294 - val_accuracy: 0.8565\n",
            "Epoch 20/50\n",
            "1875/1875 [==============================] - 5s 3ms/step - loss: 0.2980 - accuracy: 0.8924 - val_loss: 0.4685 - val_accuracy: 0.8500\n",
            "Epoch 21/50\n",
            "1875/1875 [==============================] - 5s 3ms/step - loss: 0.2844 - accuracy: 0.8958 - val_loss: 0.4440 - val_accuracy: 0.8593\n",
            "Epoch 22/50\n",
            "1875/1875 [==============================] - 6s 3ms/step - loss: 0.2807 - accuracy: 0.8977 - val_loss: 0.4433 - val_accuracy: 0.8542\n",
            "Epoch 23/50\n",
            "1875/1875 [==============================] - 5s 3ms/step - loss: 0.2802 - accuracy: 0.8975 - val_loss: 0.4282 - val_accuracy: 0.8563\n",
            "Epoch 24/50\n",
            "1875/1875 [==============================] - 5s 3ms/step - loss: 0.2732 - accuracy: 0.8994 - val_loss: 0.4338 - val_accuracy: 0.8592\n",
            "Epoch 25/50\n",
            "1875/1875 [==============================] - 5s 3ms/step - loss: 0.2741 - accuracy: 0.8995 - val_loss: 0.4498 - val_accuracy: 0.8608\n",
            "Epoch 26/50\n",
            "1875/1875 [==============================] - 6s 3ms/step - loss: 0.2746 - accuracy: 0.9008 - val_loss: 0.4410 - val_accuracy: 0.8604\n",
            "Epoch 27/50\n",
            "1875/1875 [==============================] - 6s 3ms/step - loss: 0.2681 - accuracy: 0.9002 - val_loss: 0.4326 - val_accuracy: 0.8681\n",
            "Epoch 28/50\n",
            "1875/1875 [==============================] - 5s 3ms/step - loss: 0.2623 - accuracy: 0.9049 - val_loss: 0.4595 - val_accuracy: 0.8485\n",
            "Epoch 29/50\n",
            "1875/1875 [==============================] - 6s 3ms/step - loss: 0.2685 - accuracy: 0.9029 - val_loss: 0.4435 - val_accuracy: 0.8666\n",
            "Epoch 30/50\n",
            "1875/1875 [==============================] - 5s 3ms/step - loss: 0.2575 - accuracy: 0.9056 - val_loss: 0.4480 - val_accuracy: 0.8630\n",
            "Epoch 31/50\n",
            "1875/1875 [==============================] - 5s 3ms/step - loss: 0.2577 - accuracy: 0.9057 - val_loss: 0.4486 - val_accuracy: 0.8693\n",
            "Epoch 32/50\n",
            "1875/1875 [==============================] - 5s 3ms/step - loss: 0.2507 - accuracy: 0.9074 - val_loss: 0.4756 - val_accuracy: 0.8495\n",
            "Epoch 33/50\n",
            "1875/1875 [==============================] - 5s 3ms/step - loss: 0.2470 - accuracy: 0.9089 - val_loss: 0.4591 - val_accuracy: 0.8694\n",
            "Epoch 34/50\n",
            "1875/1875 [==============================] - 5s 3ms/step - loss: 0.2466 - accuracy: 0.9111 - val_loss: 0.4518 - val_accuracy: 0.8685\n",
            "Epoch 35/50\n",
            "1875/1875 [==============================] - 5s 3ms/step - loss: 0.2424 - accuracy: 0.9099 - val_loss: 0.4867 - val_accuracy: 0.8503\n",
            "Epoch 36/50\n",
            "1875/1875 [==============================] - 5s 3ms/step - loss: 0.2455 - accuracy: 0.9097 - val_loss: 0.4716 - val_accuracy: 0.8583\n",
            "Epoch 37/50\n",
            "1875/1875 [==============================] - 5s 3ms/step - loss: 0.2387 - accuracy: 0.9127 - val_loss: 0.4637 - val_accuracy: 0.8652\n",
            "Epoch 38/50\n",
            "1875/1875 [==============================] - 5s 3ms/step - loss: 0.2382 - accuracy: 0.9127 - val_loss: 0.4582 - val_accuracy: 0.8715\n",
            "Epoch 39/50\n",
            "1875/1875 [==============================] - 5s 3ms/step - loss: 0.2358 - accuracy: 0.9139 - val_loss: 0.4678 - val_accuracy: 0.8669\n",
            "Epoch 40/50\n",
            "1875/1875 [==============================] - 5s 3ms/step - loss: 0.2320 - accuracy: 0.9150 - val_loss: 0.4697 - val_accuracy: 0.8721\n",
            "Epoch 41/50\n",
            "1875/1875 [==============================] - 5s 3ms/step - loss: 0.2351 - accuracy: 0.9129 - val_loss: 0.4416 - val_accuracy: 0.8694\n",
            "Epoch 42/50\n",
            "1875/1875 [==============================] - 6s 3ms/step - loss: 0.2291 - accuracy: 0.9160 - val_loss: 0.4724 - val_accuracy: 0.8638\n",
            "Epoch 43/50\n",
            "1875/1875 [==============================] - 5s 3ms/step - loss: 0.2287 - accuracy: 0.9148 - val_loss: 0.4950 - val_accuracy: 0.8656\n",
            "Epoch 44/50\n",
            "1875/1875 [==============================] - 5s 3ms/step - loss: 0.2264 - accuracy: 0.9164 - val_loss: 0.4917 - val_accuracy: 0.8687\n",
            "Epoch 45/50\n",
            "1875/1875 [==============================] - 5s 3ms/step - loss: 0.2237 - accuracy: 0.9172 - val_loss: 0.4880 - val_accuracy: 0.8643\n",
            "Epoch 46/50\n",
            "1875/1875 [==============================] - 5s 3ms/step - loss: 0.2251 - accuracy: 0.9169 - val_loss: 0.4583 - val_accuracy: 0.8743\n",
            "Epoch 47/50\n",
            "1875/1875 [==============================] - 5s 3ms/step - loss: 0.2205 - accuracy: 0.9176 - val_loss: 0.4701 - val_accuracy: 0.8634\n",
            "Epoch 48/50\n",
            "1875/1875 [==============================] - 5s 3ms/step - loss: 0.2177 - accuracy: 0.9192 - val_loss: 0.5019 - val_accuracy: 0.8625\n",
            "Epoch 49/50\n",
            "1875/1875 [==============================] - 6s 3ms/step - loss: 0.2132 - accuracy: 0.9205 - val_loss: 0.5137 - val_accuracy: 0.8689\n",
            "Epoch 50/50\n",
            "1875/1875 [==============================] - 6s 3ms/step - loss: 0.2203 - accuracy: 0.9190 - val_loss: 0.5007 - val_accuracy: 0.8642\n",
            "313/313 - 1s - loss: 0.5007 - accuracy: 0.8642\n",
            "Test accuracy: 0.8641999959945679\n",
            "Test loss: 0.5006681084632874\n"
          ],
          "name": "stdout"
        },
        {
          "output_type": "display_data",
          "data": {
            "image/png": "[encoded data removed]",
            "text/plain": [
              "<Figure size 432x288 with 1 Axes>"
            ]
          },
          "metadata": {
            "tags": [],
            "needs_background": "light"
          }
        }
      ]
    },
    {
      "cell_type": "code",
      "metadata": {
        "id": "4W_4D07bFu2_",
        "outputId": "40e4cc6e-63bf-4c26-e399-d9ae46e295be",
        "colab": {
          "base_uri": "https://localhost:8080/",
          "height": 1000
        }
      },
      "source": [
        "learn_rate(0.01)"
      ],
      "execution_count": 25,
      "outputs": [
        {
          "output_type": "stream",
          "text": [
            "Model: \"sequential_5\"\n",
            "_________________________________________________________________\n",
            "Layer (type)                 Output Shape              Param #   \n",
            "=================================================================\n",
            "flatten_5 (Flatten)          (None, 784)               0         \n",
            "_________________________________________________________________\n",
            "dense_10 (Dense)             (None, 128)               100480    \n",
            "_________________________________________________________________\n",
            "dense_11 (Dense)             (None, 10)                1290      \n",
            "=================================================================\n",
            "Total params: 101,770\n",
            "Trainable params: 101,770\n",
            "Non-trainable params: 0\n",
            "_________________________________________________________________\n",
            "Epoch 1/50\n",
            "1875/1875 [==============================] - 6s 3ms/step - loss: 0.5199 - accuracy: 0.8157 - val_loss: 0.4274 - val_accuracy: 0.8462\n",
            "Epoch 2/50\n",
            "1875/1875 [==============================] - 6s 3ms/step - loss: 0.3945 - accuracy: 0.8582 - val_loss: 0.4018 - val_accuracy: 0.8573\n",
            "Epoch 3/50\n",
            "1875/1875 [==============================] - 5s 3ms/step - loss: 0.3572 - accuracy: 0.8709 - val_loss: 0.4019 - val_accuracy: 0.8520\n",
            "Epoch 4/50\n",
            "1875/1875 [==============================] - 6s 3ms/step - loss: 0.3347 - accuracy: 0.8788 - val_loss: 0.3813 - val_accuracy: 0.8608\n",
            "Epoch 5/50\n",
            "1875/1875 [==============================] - 6s 3ms/step - loss: 0.3194 - accuracy: 0.8820 - val_loss: 0.3620 - val_accuracy: 0.8694\n",
            "Epoch 6/50\n",
            "1875/1875 [==============================] - 5s 3ms/step - loss: 0.3025 - accuracy: 0.8890 - val_loss: 0.3694 - val_accuracy: 0.8698\n",
            "Epoch 7/50\n",
            "1875/1875 [==============================] - 5s 3ms/step - loss: 0.2933 - accuracy: 0.8921 - val_loss: 0.3727 - val_accuracy: 0.8683\n",
            "Epoch 8/50\n",
            "1875/1875 [==============================] - 6s 3ms/step - loss: 0.2832 - accuracy: 0.8958 - val_loss: 0.3443 - val_accuracy: 0.8776\n",
            "Epoch 9/50\n",
            "1875/1875 [==============================] - 6s 3ms/step - loss: 0.2734 - accuracy: 0.8992 - val_loss: 0.3589 - val_accuracy: 0.8711\n",
            "Epoch 10/50\n",
            "1875/1875 [==============================] - 6s 3ms/step - loss: 0.2654 - accuracy: 0.9016 - val_loss: 0.3445 - val_accuracy: 0.8759\n",
            "Epoch 11/50\n",
            "1875/1875 [==============================] - 6s 3ms/step - loss: 0.2621 - accuracy: 0.9018 - val_loss: 0.3458 - val_accuracy: 0.8750\n",
            "Epoch 12/50\n",
            "1875/1875 [==============================] - 6s 3ms/step - loss: 0.2511 - accuracy: 0.9064 - val_loss: 0.3417 - val_accuracy: 0.8774\n",
            "Epoch 13/50\n",
            "1875/1875 [==============================] - 5s 3ms/step - loss: 0.2454 - accuracy: 0.9092 - val_loss: 0.3380 - val_accuracy: 0.8767\n",
            "Epoch 14/50\n",
            "1875/1875 [==============================] - 5s 3ms/step - loss: 0.2411 - accuracy: 0.9105 - val_loss: 0.3412 - val_accuracy: 0.8808\n",
            "Epoch 15/50\n",
            "1875/1875 [==============================] - 5s 3ms/step - loss: 0.2346 - accuracy: 0.9132 - val_loss: 0.3411 - val_accuracy: 0.8773\n",
            "Epoch 16/50\n",
            "1875/1875 [==============================] - 5s 3ms/step - loss: 0.2297 - accuracy: 0.9149 - val_loss: 0.3468 - val_accuracy: 0.8753\n",
            "Epoch 17/50\n",
            "1875/1875 [==============================] - 5s 3ms/step - loss: 0.2246 - accuracy: 0.9178 - val_loss: 0.3797 - val_accuracy: 0.8642\n",
            "Epoch 18/50\n",
            "1875/1875 [==============================] - 5s 3ms/step - loss: 0.2193 - accuracy: 0.9191 - val_loss: 0.3448 - val_accuracy: 0.8818\n",
            "Epoch 19/50\n",
            "1875/1875 [==============================] - 5s 3ms/step - loss: 0.2135 - accuracy: 0.9207 - val_loss: 0.3371 - val_accuracy: 0.8820\n",
            "Epoch 20/50\n",
            "1875/1875 [==============================] - 5s 3ms/step - loss: 0.2103 - accuracy: 0.9214 - val_loss: 0.3487 - val_accuracy: 0.8814\n",
            "Epoch 21/50\n",
            "1875/1875 [==============================] - 5s 3ms/step - loss: 0.2057 - accuracy: 0.9234 - val_loss: 0.3377 - val_accuracy: 0.8870\n",
            "Epoch 22/50\n",
            "1875/1875 [==============================] - 5s 3ms/step - loss: 0.2030 - accuracy: 0.9247 - val_loss: 0.3373 - val_accuracy: 0.8868\n",
            "Epoch 23/50\n",
            "1875/1875 [==============================] - 6s 3ms/step - loss: 0.1995 - accuracy: 0.9256 - val_loss: 0.3351 - val_accuracy: 0.8887\n",
            "Epoch 24/50\n",
            "1875/1875 [==============================] - 6s 3ms/step - loss: 0.1949 - accuracy: 0.9262 - val_loss: 0.3437 - val_accuracy: 0.8865\n",
            "Epoch 25/50\n",
            "1875/1875 [==============================] - 5s 3ms/step - loss: 0.1900 - accuracy: 0.9295 - val_loss: 0.3457 - val_accuracy: 0.8850\n",
            "Epoch 26/50\n",
            "1875/1875 [==============================] - 6s 3ms/step - loss: 0.1880 - accuracy: 0.9296 - val_loss: 0.3412 - val_accuracy: 0.8867\n",
            "Epoch 27/50\n",
            "1875/1875 [==============================] - 6s 3ms/step - loss: 0.1845 - accuracy: 0.9304 - val_loss: 0.3448 - val_accuracy: 0.8864\n",
            "Epoch 28/50\n",
            "1875/1875 [==============================] - 6s 3ms/step - loss: 0.1817 - accuracy: 0.9322 - val_loss: 0.3475 - val_accuracy: 0.8885\n",
            "Epoch 29/50\n",
            "1875/1875 [==============================] - 5s 3ms/step - loss: 0.1766 - accuracy: 0.9341 - val_loss: 0.3463 - val_accuracy: 0.8836\n",
            "Epoch 30/50\n",
            "1875/1875 [==============================] - 5s 3ms/step - loss: 0.1744 - accuracy: 0.9351 - val_loss: 0.3547 - val_accuracy: 0.8837\n",
            "Epoch 31/50\n",
            "1875/1875 [==============================] - 6s 3ms/step - loss: 0.1702 - accuracy: 0.9362 - val_loss: 0.3498 - val_accuracy: 0.8864\n",
            "Epoch 32/50\n",
            "1875/1875 [==============================] - 5s 3ms/step - loss: 0.1707 - accuracy: 0.9358 - val_loss: 0.3714 - val_accuracy: 0.8762\n",
            "Epoch 33/50\n",
            "1875/1875 [==============================] - 5s 3ms/step - loss: 0.1667 - accuracy: 0.9384 - val_loss: 0.3464 - val_accuracy: 0.8871\n",
            "Epoch 34/50\n",
            "1875/1875 [==============================] - 6s 3ms/step - loss: 0.1666 - accuracy: 0.9381 - val_loss: 0.3650 - val_accuracy: 0.8857\n",
            "Epoch 35/50\n",
            "1875/1875 [==============================] - 6s 3ms/step - loss: 0.1625 - accuracy: 0.9390 - val_loss: 0.3633 - val_accuracy: 0.8858\n",
            "Epoch 36/50\n",
            "1875/1875 [==============================] - 5s 3ms/step - loss: 0.1571 - accuracy: 0.9420 - val_loss: 0.3779 - val_accuracy: 0.8829\n",
            "Epoch 37/50\n",
            "1875/1875 [==============================] - 5s 3ms/step - loss: 0.1575 - accuracy: 0.9412 - val_loss: 0.3490 - val_accuracy: 0.8925\n",
            "Epoch 38/50\n",
            "1875/1875 [==============================] - 5s 3ms/step - loss: 0.1534 - accuracy: 0.9428 - val_loss: 0.3741 - val_accuracy: 0.8850\n",
            "Epoch 39/50\n",
            "1875/1875 [==============================] - 5s 3ms/step - loss: 0.1507 - accuracy: 0.9441 - val_loss: 0.3595 - val_accuracy: 0.8895\n",
            "Epoch 40/50\n",
            "1875/1875 [==============================] - 5s 3ms/step - loss: 0.1499 - accuracy: 0.9435 - val_loss: 0.3692 - val_accuracy: 0.8878\n",
            "Epoch 41/50\n",
            "1875/1875 [==============================] - 5s 3ms/step - loss: 0.1457 - accuracy: 0.9460 - val_loss: 0.3779 - val_accuracy: 0.8870\n",
            "Epoch 42/50\n",
            "1875/1875 [==============================] - 5s 3ms/step - loss: 0.1450 - accuracy: 0.9459 - val_loss: 0.3771 - val_accuracy: 0.8881\n",
            "Epoch 43/50\n",
            "1875/1875 [==============================] - 5s 3ms/step - loss: 0.1406 - accuracy: 0.9484 - val_loss: 0.3964 - val_accuracy: 0.8788\n",
            "Epoch 44/50\n",
            "1875/1875 [==============================] - 5s 3ms/step - loss: 0.1397 - accuracy: 0.9478 - val_loss: 0.3846 - val_accuracy: 0.8884\n",
            "Epoch 45/50\n",
            "1875/1875 [==============================] - 5s 3ms/step - loss: 0.1394 - accuracy: 0.9478 - val_loss: 0.3694 - val_accuracy: 0.8893\n",
            "Epoch 46/50\n",
            "1875/1875 [==============================] - 6s 3ms/step - loss: 0.1388 - accuracy: 0.9485 - val_loss: 0.3746 - val_accuracy: 0.8904\n",
            "Epoch 47/50\n",
            "1875/1875 [==============================] - 5s 3ms/step - loss: 0.1341 - accuracy: 0.9509 - val_loss: 0.3850 - val_accuracy: 0.8876\n",
            "Epoch 48/50\n",
            "1875/1875 [==============================] - 6s 3ms/step - loss: 0.1325 - accuracy: 0.9503 - val_loss: 0.3956 - val_accuracy: 0.8883\n",
            "Epoch 49/50\n",
            "1875/1875 [==============================] - 5s 3ms/step - loss: 0.1304 - accuracy: 0.9523 - val_loss: 0.3868 - val_accuracy: 0.8841\n",
            "Epoch 50/50\n",
            "1875/1875 [==============================] - 5s 3ms/step - loss: 0.1277 - accuracy: 0.9529 - val_loss: 0.3970 - val_accuracy: 0.8828\n",
            "313/313 - 1s - loss: 0.3970 - accuracy: 0.8828\n",
            "Test accuracy: 0.8827999830245972\n",
            "Test loss: 0.3970317244529724\n"
          ],
          "name": "stdout"
        },
        {
          "output_type": "display_data",
          "data": {
            "image/png": "[encoded data removed]",
            "text/plain": [
              "<Figure size 432x288 with 1 Axes>"
            ]
          },
          "metadata": {
            "tags": [],
            "needs_background": "light"
          }
        }
      ]
    },
    {
      "cell_type": "markdown",
      "metadata": {
        "id": "cGhhfpwxPefL"
      },
      "source": [
        "## Convolutional Neural Network (CNN)"
      ]
    },
    {
      "cell_type": "code",
      "metadata": {
        "id": "p5o3rQwDPduH"
      },
      "source": [
        "# Adapted from: https://machinelearningmastery.com/how-to-develop-a-convolutional-neural-network-from-scratch-for-mnist-handwritten-digit-classification/\n",
        "\n",
        "def learn_rate_cnn(lrte):\n",
        "  model = Sequential()\n",
        "  model.add(Conv2D(32, (3, 3), activation='relu', kernel_initializer='he_uniform', input_shape=(28, 28, 1))) # Convolution, 32 filters, masing-masing dengan kernel 3x3\n",
        "\n",
        "  model.add(MaxPooling2D((2, 2))) # Pooling\n",
        "\n",
        "  model.add(Flatten()) # Flatten hasil output\n",
        "\n",
        "  # Fully connected layer\n",
        "  model.add(Dense(100, activation='relu', kernel_initializer='he_uniform')) # Activation relu dipakai, ini salah satu function yang paling banyak dipakai\n",
        "  model.add(Dense(10, activation='softmax')) # Activation softmax dipakai untuk classification, nilai 10 karena terdapat 10 class (0-9)\n",
        "\n",
        "  opt = SGD(lr=lrte, momentum=0.9) # Optimizer (Stochastic Gradient Descent), untuk mencari minima dari grafik fungsi loss\n",
        "\n",
        "  model.compile(optimizer=opt, loss='categorical_crossentropy', metrics=['accuracy']) # Loss Function\n",
        "\n",
        "  model.summary()\n",
        "\n",
        "  history_cnn = model.fit(feature_train, label_train, batch_size=32, validation_data=(feature_test, label_test), epochs=50)\n",
        "\n",
        "  loss, accuracy = model.evaluate(feature_test,  label_test, verbose=2)\n",
        "\n",
        "  print(\"Test accuracy:\", accuracy)\n",
        "  print(\"Test loss:\", loss)\n",
        "\n",
        "  plot_loss(history_cnn)"
      ],
      "execution_count": 27,
      "outputs": []
    },
    {
      "cell_type": "code",
      "metadata": {
        "id": "npYTMbmKRd2N",
        "outputId": "a94543f8-d6b0-4b97-8d23-a9108a00ed19",
        "colab": {
          "base_uri": "https://localhost:8080/",
          "height": 1000
        }
      },
      "source": [
        "learn_rate_cnn(0.001)"
      ],
      "execution_count": 28,
      "outputs": [
        {
          "output_type": "stream",
          "text": [
            "Model: \"sequential_6\"\n",
            "_________________________________________________________________\n",
            "Layer (type)                 Output Shape              Param #   \n",
            "=================================================================\n",
            "conv2d (Conv2D)              (None, 26, 26, 32)        320       \n",
            "_________________________________________________________________\n",
            "max_pooling2d (MaxPooling2D) (None, 13, 13, 32)        0         \n",
            "_________________________________________________________________\n",
            "flatten_6 (Flatten)          (None, 5408)              0         \n",
            "_________________________________________________________________\n",
            "dense_12 (Dense)             (None, 100)               540900    \n",
            "_________________________________________________________________\n",
            "dense_13 (Dense)             (None, 10)                1010      \n",
            "=================================================================\n",
            "Total params: 542,230\n",
            "Trainable params: 542,230\n",
            "Non-trainable params: 0\n",
            "_________________________________________________________________\n",
            "Epoch 1/50\n",
            "1875/1875 [==============================] - 9s 5ms/step - loss: 0.5334 - accuracy: 0.8128 - val_loss: 0.4181 - val_accuracy: 0.8539\n",
            "Epoch 2/50\n",
            "1875/1875 [==============================] - 8s 4ms/step - loss: 0.3932 - accuracy: 0.8608 - val_loss: 0.3787 - val_accuracy: 0.8647\n",
            "Epoch 3/50\n",
            "1875/1875 [==============================] - 8s 4ms/step - loss: 0.3493 - accuracy: 0.8748 - val_loss: 0.3614 - val_accuracy: 0.8728\n",
            "Epoch 4/50\n",
            "1875/1875 [==============================] - 8s 4ms/step - loss: 0.3221 - accuracy: 0.8860 - val_loss: 0.3480 - val_accuracy: 0.8766\n",
            "Epoch 5/50\n",
            "1875/1875 [==============================] - 8s 4ms/step - loss: 0.2997 - accuracy: 0.8932 - val_loss: 0.3328 - val_accuracy: 0.8819\n",
            "Epoch 6/50\n",
            "1875/1875 [==============================] - 8s 4ms/step - loss: 0.2837 - accuracy: 0.8985 - val_loss: 0.3294 - val_accuracy: 0.8807\n",
            "Epoch 7/50\n",
            "1875/1875 [==============================] - 8s 4ms/step - loss: 0.2698 - accuracy: 0.9040 - val_loss: 0.2958 - val_accuracy: 0.8924\n",
            "Epoch 8/50\n",
            "1875/1875 [==============================] - 8s 4ms/step - loss: 0.2572 - accuracy: 0.9076 - val_loss: 0.2905 - val_accuracy: 0.8967\n",
            "Epoch 9/50\n",
            "1875/1875 [==============================] - 9s 5ms/step - loss: 0.2468 - accuracy: 0.9114 - val_loss: 0.2918 - val_accuracy: 0.8928\n",
            "Epoch 10/50\n",
            "1875/1875 [==============================] - 8s 5ms/step - loss: 0.2374 - accuracy: 0.9150 - val_loss: 0.2744 - val_accuracy: 0.9011\n",
            "Epoch 11/50\n",
            "1875/1875 [==============================] - 8s 4ms/step - loss: 0.2276 - accuracy: 0.9193 - val_loss: 0.2679 - val_accuracy: 0.9037\n",
            "Epoch 12/50\n",
            "1875/1875 [==============================] - 8s 4ms/step - loss: 0.2189 - accuracy: 0.9212 - val_loss: 0.2716 - val_accuracy: 0.9006\n",
            "Epoch 13/50\n",
            "1875/1875 [==============================] - 8s 4ms/step - loss: 0.2127 - accuracy: 0.9233 - val_loss: 0.2707 - val_accuracy: 0.9018\n",
            "Epoch 14/50\n",
            "1875/1875 [==============================] - 8s 4ms/step - loss: 0.2045 - accuracy: 0.9268 - val_loss: 0.2684 - val_accuracy: 0.9045\n",
            "Epoch 15/50\n",
            "1875/1875 [==============================] - 8s 4ms/step - loss: 0.1979 - accuracy: 0.9292 - val_loss: 0.2653 - val_accuracy: 0.9046\n",
            "Epoch 16/50\n",
            "1875/1875 [==============================] - 8s 4ms/step - loss: 0.1895 - accuracy: 0.9326 - val_loss: 0.2575 - val_accuracy: 0.9089\n",
            "Epoch 17/50\n",
            "1875/1875 [==============================] - 8s 4ms/step - loss: 0.1850 - accuracy: 0.9342 - val_loss: 0.2525 - val_accuracy: 0.9113\n",
            "Epoch 18/50\n",
            "1875/1875 [==============================] - 8s 4ms/step - loss: 0.1778 - accuracy: 0.9366 - val_loss: 0.2548 - val_accuracy: 0.9109\n",
            "Epoch 19/50\n",
            "1875/1875 [==============================] - 8s 5ms/step - loss: 0.1731 - accuracy: 0.9384 - val_loss: 0.2559 - val_accuracy: 0.9106\n",
            "Epoch 20/50\n",
            "1875/1875 [==============================] - 8s 4ms/step - loss: 0.1678 - accuracy: 0.9406 - val_loss: 0.2756 - val_accuracy: 0.9000\n",
            "Epoch 21/50\n",
            "1875/1875 [==============================] - 8s 4ms/step - loss: 0.1624 - accuracy: 0.9429 - val_loss: 0.2553 - val_accuracy: 0.9103\n",
            "Epoch 22/50\n",
            "1875/1875 [==============================] - 8s 4ms/step - loss: 0.1563 - accuracy: 0.9446 - val_loss: 0.2544 - val_accuracy: 0.9097\n",
            "Epoch 23/50\n",
            "1875/1875 [==============================] - 8s 4ms/step - loss: 0.1522 - accuracy: 0.9460 - val_loss: 0.2635 - val_accuracy: 0.9057\n",
            "Epoch 24/50\n",
            "1875/1875 [==============================] - 8s 4ms/step - loss: 0.1473 - accuracy: 0.9489 - val_loss: 0.2445 - val_accuracy: 0.9157\n",
            "Epoch 25/50\n",
            "1875/1875 [==============================] - 8s 4ms/step - loss: 0.1434 - accuracy: 0.9497 - val_loss: 0.2460 - val_accuracy: 0.9139\n",
            "Epoch 26/50\n",
            "1875/1875 [==============================] - 8s 4ms/step - loss: 0.1378 - accuracy: 0.9520 - val_loss: 0.2489 - val_accuracy: 0.9139\n",
            "Epoch 27/50\n",
            "1875/1875 [==============================] - 8s 4ms/step - loss: 0.1333 - accuracy: 0.9538 - val_loss: 0.2498 - val_accuracy: 0.9151\n",
            "Epoch 28/50\n",
            "1875/1875 [==============================] - 8s 4ms/step - loss: 0.1296 - accuracy: 0.9548 - val_loss: 0.2424 - val_accuracy: 0.9176\n",
            "Epoch 29/50\n",
            "1875/1875 [==============================] - 8s 4ms/step - loss: 0.1251 - accuracy: 0.9567 - val_loss: 0.2497 - val_accuracy: 0.9147\n",
            "Epoch 30/50\n",
            "1875/1875 [==============================] - 8s 4ms/step - loss: 0.1205 - accuracy: 0.9587 - val_loss: 0.2505 - val_accuracy: 0.9161\n",
            "Epoch 31/50\n",
            "1875/1875 [==============================] - 8s 4ms/step - loss: 0.1174 - accuracy: 0.9599 - val_loss: 0.2535 - val_accuracy: 0.9169\n",
            "Epoch 32/50\n",
            "1875/1875 [==============================] - 8s 5ms/step - loss: 0.1142 - accuracy: 0.9604 - val_loss: 0.2449 - val_accuracy: 0.9180\n",
            "Epoch 33/50\n",
            "1875/1875 [==============================] - 9s 5ms/step - loss: 0.1098 - accuracy: 0.9623 - val_loss: 0.2643 - val_accuracy: 0.9116\n",
            "Epoch 34/50\n",
            "1875/1875 [==============================] - 8s 4ms/step - loss: 0.1074 - accuracy: 0.9635 - val_loss: 0.2494 - val_accuracy: 0.9190\n",
            "Epoch 35/50\n",
            "1875/1875 [==============================] - 8s 4ms/step - loss: 0.1037 - accuracy: 0.9645 - val_loss: 0.2626 - val_accuracy: 0.9161\n",
            "Epoch 36/50\n",
            "1875/1875 [==============================] - 8s 4ms/step - loss: 0.1008 - accuracy: 0.9663 - val_loss: 0.2518 - val_accuracy: 0.9176\n",
            "Epoch 37/50\n",
            "1875/1875 [==============================] - 8s 4ms/step - loss: 0.0960 - accuracy: 0.9679 - val_loss: 0.2536 - val_accuracy: 0.9188\n",
            "Epoch 38/50\n",
            "1875/1875 [==============================] - 8s 4ms/step - loss: 0.0931 - accuracy: 0.9693 - val_loss: 0.2586 - val_accuracy: 0.9175\n",
            "Epoch 39/50\n",
            "1875/1875 [==============================] - 8s 4ms/step - loss: 0.0908 - accuracy: 0.9699 - val_loss: 0.2623 - val_accuracy: 0.9140\n",
            "Epoch 40/50\n",
            "1875/1875 [==============================] - 8s 4ms/step - loss: 0.0869 - accuracy: 0.9710 - val_loss: 0.2605 - val_accuracy: 0.9163\n",
            "Epoch 41/50\n",
            "1875/1875 [==============================] - 8s 4ms/step - loss: 0.0834 - accuracy: 0.9726 - val_loss: 0.2614 - val_accuracy: 0.9196\n",
            "Epoch 42/50\n",
            "1875/1875 [==============================] - 8s 4ms/step - loss: 0.0813 - accuracy: 0.9733 - val_loss: 0.2596 - val_accuracy: 0.9197\n",
            "Epoch 43/50\n",
            "1875/1875 [==============================] - 8s 4ms/step - loss: 0.0783 - accuracy: 0.9749 - val_loss: 0.2639 - val_accuracy: 0.9192\n",
            "Epoch 44/50\n",
            "1875/1875 [==============================] - 8s 4ms/step - loss: 0.0764 - accuracy: 0.9760 - val_loss: 0.2786 - val_accuracy: 0.9151\n",
            "Epoch 45/50\n",
            "1875/1875 [==============================] - 8s 4ms/step - loss: 0.0726 - accuracy: 0.9770 - val_loss: 0.2699 - val_accuracy: 0.9182\n",
            "Epoch 46/50\n",
            "1875/1875 [==============================] - 9s 5ms/step - loss: 0.0699 - accuracy: 0.9783 - val_loss: 0.2746 - val_accuracy: 0.9181\n",
            "Epoch 47/50\n",
            "1875/1875 [==============================] - 8s 4ms/step - loss: 0.0666 - accuracy: 0.9792 - val_loss: 0.2855 - val_accuracy: 0.9163\n",
            "Epoch 48/50\n",
            "1875/1875 [==============================] - 8s 4ms/step - loss: 0.0651 - accuracy: 0.9801 - val_loss: 0.2758 - val_accuracy: 0.9174\n",
            "Epoch 49/50\n",
            "1875/1875 [==============================] - 8s 4ms/step - loss: 0.0626 - accuracy: 0.9807 - val_loss: 0.2767 - val_accuracy: 0.9211\n",
            "Epoch 50/50\n",
            "1875/1875 [==============================] - 8s 4ms/step - loss: 0.0604 - accuracy: 0.9811 - val_loss: 0.2783 - val_accuracy: 0.9203\n",
            "313/313 - 1s - loss: 0.2783 - accuracy: 0.9203\n",
            "Test accuracy: 0.9203000068664551\n",
            "Test loss: 0.2782570421695709\n"
          ],
          "name": "stdout"
        },
        {
          "output_type": "display_data",
          "data": {
            "image/png": "[encoded data removed]",
            "text/plain": [
              "<Figure size 432x288 with 1 Axes>"
            ]
          },
          "metadata": {
            "tags": [],
            "needs_background": "light"
          }
        }
      ]
    },
    {
      "cell_type": "code",
      "metadata": {
        "id": "PimXl_x5Tbac",
        "outputId": "e520e88e-afd6-482e-a3ba-bc65a92c43fa",
        "colab": {
          "base_uri": "https://localhost:8080/",
          "height": 1000
        }
      },
      "source": [
        "learn_rate_cnn(0.05)"
      ],
      "execution_count": 29,
      "outputs": [
        {
          "output_type": "stream",
          "text": [
            "Model: \"sequential_7\"\n",
            "_________________________________________________________________\n",
            "Layer (type)                 Output Shape              Param #   \n",
            "=================================================================\n",
            "conv2d_1 (Conv2D)            (None, 26, 26, 32)        320       \n",
            "_________________________________________________________________\n",
            "max_pooling2d_1 (MaxPooling2 (None, 13, 13, 32)        0         \n",
            "_________________________________________________________________\n",
            "flatten_7 (Flatten)          (None, 5408)              0         \n",
            "_________________________________________________________________\n",
            "dense_14 (Dense)             (None, 100)               540900    \n",
            "_________________________________________________________________\n",
            "dense_15 (Dense)             (None, 10)                1010      \n",
            "=================================================================\n",
            "Total params: 542,230\n",
            "Trainable params: 542,230\n",
            "Non-trainable params: 0\n",
            "_________________________________________________________________\n",
            "Epoch 1/50\n",
            "1875/1875 [==============================] - 9s 5ms/step - loss: 0.4079 - accuracy: 0.8530 - val_loss: 0.3578 - val_accuracy: 0.8692\n",
            "Epoch 2/50\n",
            "1875/1875 [==============================] - 8s 5ms/step - loss: 0.3005 - accuracy: 0.8886 - val_loss: 0.3294 - val_accuracy: 0.8817\n",
            "Epoch 3/50\n",
            "1875/1875 [==============================] - 8s 4ms/step - loss: 0.2535 - accuracy: 0.9047 - val_loss: 0.3206 - val_accuracy: 0.8874\n",
            "Epoch 4/50\n",
            "1875/1875 [==============================] - 8s 5ms/step - loss: 0.2237 - accuracy: 0.9148 - val_loss: 0.3113 - val_accuracy: 0.8934\n",
            "Epoch 5/50\n",
            "1875/1875 [==============================] - 8s 4ms/step - loss: 0.2047 - accuracy: 0.9225 - val_loss: 0.3182 - val_accuracy: 0.8960\n",
            "Epoch 6/50\n",
            "1875/1875 [==============================] - 8s 4ms/step - loss: 0.1830 - accuracy: 0.9316 - val_loss: 0.3468 - val_accuracy: 0.8847\n",
            "Epoch 7/50\n",
            "1875/1875 [==============================] - 8s 4ms/step - loss: 0.1685 - accuracy: 0.9366 - val_loss: 0.3948 - val_accuracy: 0.8856\n",
            "Epoch 8/50\n",
            "1875/1875 [==============================] - 8s 4ms/step - loss: 0.1511 - accuracy: 0.9431 - val_loss: 0.4122 - val_accuracy: 0.8870\n",
            "Epoch 9/50\n",
            "1875/1875 [==============================] - 8s 4ms/step - loss: 0.1393 - accuracy: 0.9483 - val_loss: 0.3951 - val_accuracy: 0.8894\n",
            "Epoch 10/50\n",
            "1875/1875 [==============================] - 9s 5ms/step - loss: 0.1287 - accuracy: 0.9515 - val_loss: 0.4183 - val_accuracy: 0.8909\n",
            "Epoch 11/50\n",
            "1875/1875 [==============================] - 9s 5ms/step - loss: 0.1147 - accuracy: 0.9575 - val_loss: 0.4712 - val_accuracy: 0.8891\n",
            "Epoch 12/50\n",
            "1875/1875 [==============================] - 8s 4ms/step - loss: 0.1104 - accuracy: 0.9595 - val_loss: 0.4582 - val_accuracy: 0.8889\n",
            "Epoch 13/50\n",
            "1875/1875 [==============================] - 8s 4ms/step - loss: 0.1021 - accuracy: 0.9629 - val_loss: 0.5117 - val_accuracy: 0.8862\n",
            "Epoch 14/50\n",
            "1875/1875 [==============================] - 8s 4ms/step - loss: 0.1040 - accuracy: 0.9626 - val_loss: 0.5654 - val_accuracy: 0.8908\n",
            "Epoch 15/50\n",
            "1875/1875 [==============================] - 8s 4ms/step - loss: 0.0930 - accuracy: 0.9674 - val_loss: 0.5896 - val_accuracy: 0.8941\n",
            "Epoch 16/50\n",
            "1875/1875 [==============================] - 8s 5ms/step - loss: 0.0985 - accuracy: 0.9647 - val_loss: 0.7068 - val_accuracy: 0.8808\n",
            "Epoch 17/50\n",
            "1875/1875 [==============================] - 8s 4ms/step - loss: 0.0917 - accuracy: 0.9686 - val_loss: 0.7298 - val_accuracy: 0.8818\n",
            "Epoch 18/50\n",
            "1875/1875 [==============================] - 8s 4ms/step - loss: 0.0788 - accuracy: 0.9724 - val_loss: 0.6618 - val_accuracy: 0.8817\n",
            "Epoch 19/50\n",
            "1875/1875 [==============================] - 8s 4ms/step - loss: 0.0789 - accuracy: 0.9727 - val_loss: 0.6874 - val_accuracy: 0.8845\n",
            "Epoch 20/50\n",
            "1875/1875 [==============================] - 8s 4ms/step - loss: 0.0878 - accuracy: 0.9698 - val_loss: 0.7425 - val_accuracy: 0.8802\n",
            "Epoch 21/50\n",
            "1875/1875 [==============================] - 8s 4ms/step - loss: 0.0880 - accuracy: 0.9711 - val_loss: 0.7532 - val_accuracy: 0.8853\n",
            "Epoch 22/50\n",
            "1875/1875 [==============================] - 9s 5ms/step - loss: 0.0802 - accuracy: 0.9734 - val_loss: 0.8140 - val_accuracy: 0.8844\n",
            "Epoch 23/50\n",
            "1875/1875 [==============================] - 9s 5ms/step - loss: 0.0749 - accuracy: 0.9751 - val_loss: 0.8184 - val_accuracy: 0.8901\n",
            "Epoch 24/50\n",
            "1875/1875 [==============================] - 8s 4ms/step - loss: 0.0747 - accuracy: 0.9763 - val_loss: 0.7618 - val_accuracy: 0.8853\n",
            "Epoch 25/50\n",
            "1875/1875 [==============================] - 8s 4ms/step - loss: 0.0832 - accuracy: 0.9722 - val_loss: 0.8251 - val_accuracy: 0.8876\n",
            "Epoch 26/50\n",
            "1875/1875 [==============================] - 8s 4ms/step - loss: 0.0745 - accuracy: 0.9768 - val_loss: 0.8783 - val_accuracy: 0.8839\n",
            "Epoch 27/50\n",
            "1875/1875 [==============================] - 8s 4ms/step - loss: 0.0654 - accuracy: 0.9793 - val_loss: 0.9810 - val_accuracy: 0.8843\n",
            "Epoch 28/50\n",
            "1875/1875 [==============================] - 8s 4ms/step - loss: 0.0844 - accuracy: 0.9750 - val_loss: 0.9886 - val_accuracy: 0.8837\n",
            "Epoch 29/50\n",
            "1875/1875 [==============================] - 8s 4ms/step - loss: 0.0663 - accuracy: 0.9790 - val_loss: 0.9384 - val_accuracy: 0.8835\n",
            "Epoch 30/50\n",
            "1875/1875 [==============================] - 8s 4ms/step - loss: 0.0726 - accuracy: 0.9782 - val_loss: 0.9966 - val_accuracy: 0.8852\n",
            "Epoch 31/50\n",
            "1875/1875 [==============================] - 8s 5ms/step - loss: 0.0851 - accuracy: 0.9755 - val_loss: 0.9215 - val_accuracy: 0.8864\n",
            "Epoch 32/50\n",
            "1875/1875 [==============================] - 8s 4ms/step - loss: 0.0753 - accuracy: 0.9777 - val_loss: 1.1803 - val_accuracy: 0.8777\n",
            "Epoch 33/50\n",
            "1875/1875 [==============================] - 8s 4ms/step - loss: 0.0914 - accuracy: 0.9748 - val_loss: 1.1185 - val_accuracy: 0.8828\n",
            "Epoch 34/50\n",
            "1875/1875 [==============================] - 8s 4ms/step - loss: 0.0848 - accuracy: 0.9754 - val_loss: 1.0245 - val_accuracy: 0.8854\n",
            "Epoch 35/50\n",
            "1875/1875 [==============================] - 8s 4ms/step - loss: 0.0776 - accuracy: 0.9774 - val_loss: 1.0724 - val_accuracy: 0.8839\n",
            "Epoch 36/50\n",
            "1875/1875 [==============================] - 8s 4ms/step - loss: 0.0811 - accuracy: 0.9775 - val_loss: 1.1886 - val_accuracy: 0.8823\n",
            "Epoch 37/50\n",
            "1875/1875 [==============================] - 8s 4ms/step - loss: 0.0829 - accuracy: 0.9775 - val_loss: 1.2568 - val_accuracy: 0.8831\n",
            "Epoch 38/50\n",
            "1875/1875 [==============================] - 8s 4ms/step - loss: 0.0943 - accuracy: 0.9761 - val_loss: 1.3838 - val_accuracy: 0.8834\n",
            "Epoch 39/50\n",
            "1875/1875 [==============================] - 8s 4ms/step - loss: 0.1034 - accuracy: 0.9746 - val_loss: 1.3287 - val_accuracy: 0.8795\n",
            "Epoch 40/50\n",
            "1875/1875 [==============================] - 8s 4ms/step - loss: 0.0999 - accuracy: 0.9742 - val_loss: 1.2348 - val_accuracy: 0.8769\n",
            "Epoch 41/50\n",
            "1875/1875 [==============================] - 8s 4ms/step - loss: 0.1023 - accuracy: 0.9740 - val_loss: 1.3424 - val_accuracy: 0.8802\n",
            "Epoch 42/50\n",
            "1875/1875 [==============================] - 8s 5ms/step - loss: 0.1131 - accuracy: 0.9728 - val_loss: 1.2627 - val_accuracy: 0.8792\n",
            "Epoch 43/50\n",
            "1875/1875 [==============================] - 8s 4ms/step - loss: 0.1019 - accuracy: 0.9749 - val_loss: 1.4970 - val_accuracy: 0.8681\n",
            "Epoch 44/50\n",
            "1875/1875 [==============================] - 8s 4ms/step - loss: 0.1283 - accuracy: 0.9707 - val_loss: 1.3632 - val_accuracy: 0.8752\n",
            "Epoch 45/50\n",
            "1875/1875 [==============================] - 8s 4ms/step - loss: 0.1109 - accuracy: 0.9733 - val_loss: 1.3045 - val_accuracy: 0.8736\n",
            "Epoch 46/50\n",
            "1875/1875 [==============================] - 8s 4ms/step - loss: 0.1169 - accuracy: 0.9729 - val_loss: 1.4160 - val_accuracy: 0.8827\n",
            "Epoch 47/50\n",
            "1875/1875 [==============================] - 9s 5ms/step - loss: 0.1352 - accuracy: 0.9700 - val_loss: 1.4899 - val_accuracy: 0.8746\n",
            "Epoch 48/50\n",
            "1875/1875 [==============================] - 9s 5ms/step - loss: 0.1391 - accuracy: 0.9692 - val_loss: 1.5244 - val_accuracy: 0.8635\n",
            "Epoch 49/50\n",
            "1875/1875 [==============================] - 8s 4ms/step - loss: 0.1237 - accuracy: 0.9735 - val_loss: 1.7115 - val_accuracy: 0.8768\n",
            "Epoch 50/50\n",
            "1875/1875 [==============================] - 8s 5ms/step - loss: 0.1516 - accuracy: 0.9676 - val_loss: 1.7352 - val_accuracy: 0.8791\n",
            "313/313 - 1s - loss: 1.7352 - accuracy: 0.8791\n",
            "Test accuracy: 0.8791000247001648\n",
            "Test loss: 1.7351957559585571\n"
          ],
          "name": "stdout"
        },
        {
          "output_type": "display_data",
          "data": {
            "image/png": "[encoded data removed]",
            "text/plain": [
              "<Figure size 432x288 with 1 Axes>"
            ]
          },
          "metadata": {
            "tags": [],
            "needs_background": "light"
          }
        }
      ]
    },
    {
      "cell_type": "code",
      "metadata": {
        "id": "yBnC2yg-Tc9M",
        "outputId": "c26328bd-850d-492d-985b-6b9a50bdd7cf",
        "colab": {
          "base_uri": "https://localhost:8080/",
          "height": 1000
        }
      },
      "source": [
        "learn_rate_cnn(0.01)"
      ],
      "execution_count": 30,
      "outputs": [
        {
          "output_type": "stream",
          "text": [
            "Model: \"sequential_8\"\n",
            "_________________________________________________________________\n",
            "Layer (type)                 Output Shape              Param #   \n",
            "=================================================================\n",
            "conv2d_2 (Conv2D)            (None, 26, 26, 32)        320       \n",
            "_________________________________________________________________\n",
            "max_pooling2d_2 (MaxPooling2 (None, 13, 13, 32)        0         \n",
            "_________________________________________________________________\n",
            "flatten_8 (Flatten)          (None, 5408)              0         \n",
            "_________________________________________________________________\n",
            "dense_16 (Dense)             (None, 100)               540900    \n",
            "_________________________________________________________________\n",
            "dense_17 (Dense)             (None, 10)                1010      \n",
            "=================================================================\n",
            "Total params: 542,230\n",
            "Trainable params: 542,230\n",
            "Non-trainable params: 0\n",
            "_________________________________________________________________\n",
            "Epoch 1/50\n",
            "1875/1875 [==============================] - 9s 5ms/step - loss: 0.4163 - accuracy: 0.8501 - val_loss: 0.3514 - val_accuracy: 0.8782\n",
            "Epoch 2/50\n",
            "1875/1875 [==============================] - 8s 5ms/step - loss: 0.2844 - accuracy: 0.8956 - val_loss: 0.3319 - val_accuracy: 0.8824\n",
            "Epoch 3/50\n",
            "1875/1875 [==============================] - 8s 4ms/step - loss: 0.2418 - accuracy: 0.9112 - val_loss: 0.2791 - val_accuracy: 0.9018\n",
            "Epoch 4/50\n",
            "1875/1875 [==============================] - 8s 4ms/step - loss: 0.2153 - accuracy: 0.9208 - val_loss: 0.2944 - val_accuracy: 0.8937\n",
            "Epoch 5/50\n",
            "1875/1875 [==============================] - 8s 4ms/step - loss: 0.1955 - accuracy: 0.9293 - val_loss: 0.2736 - val_accuracy: 0.9042\n",
            "Epoch 6/50\n",
            "1875/1875 [==============================] - 8s 5ms/step - loss: 0.1765 - accuracy: 0.9342 - val_loss: 0.3100 - val_accuracy: 0.8944\n",
            "Epoch 7/50\n",
            "1875/1875 [==============================] - 8s 5ms/step - loss: 0.1608 - accuracy: 0.9408 - val_loss: 0.2791 - val_accuracy: 0.9092\n",
            "Epoch 8/50\n",
            "1875/1875 [==============================] - 9s 5ms/step - loss: 0.1445 - accuracy: 0.9466 - val_loss: 0.2807 - val_accuracy: 0.9079\n",
            "Epoch 9/50\n",
            "1875/1875 [==============================] - 9s 5ms/step - loss: 0.1308 - accuracy: 0.9516 - val_loss: 0.2806 - val_accuracy: 0.9080\n",
            "Epoch 10/50\n",
            "1875/1875 [==============================] - 8s 5ms/step - loss: 0.1217 - accuracy: 0.9544 - val_loss: 0.3191 - val_accuracy: 0.9020\n",
            "Epoch 11/50\n",
            "1875/1875 [==============================] - 8s 4ms/step - loss: 0.1083 - accuracy: 0.9605 - val_loss: 0.3202 - val_accuracy: 0.9053\n",
            "Epoch 12/50\n",
            "1875/1875 [==============================] - 8s 4ms/step - loss: 0.0980 - accuracy: 0.9644 - val_loss: 0.3480 - val_accuracy: 0.9004\n",
            "Epoch 13/50\n",
            "1875/1875 [==============================] - 8s 4ms/step - loss: 0.0869 - accuracy: 0.9671 - val_loss: 0.3461 - val_accuracy: 0.9055\n",
            "Epoch 14/50\n",
            "1875/1875 [==============================] - 8s 4ms/step - loss: 0.0813 - accuracy: 0.9706 - val_loss: 0.3383 - val_accuracy: 0.9111\n",
            "Epoch 15/50\n",
            "1875/1875 [==============================] - 8s 5ms/step - loss: 0.0716 - accuracy: 0.9738 - val_loss: 0.3866 - val_accuracy: 0.9036\n",
            "Epoch 16/50\n",
            "1875/1875 [==============================] - 8s 4ms/step - loss: 0.0658 - accuracy: 0.9762 - val_loss: 0.3557 - val_accuracy: 0.9070\n",
            "Epoch 17/50\n",
            "1875/1875 [==============================] - 8s 4ms/step - loss: 0.0583 - accuracy: 0.9787 - val_loss: 0.3727 - val_accuracy: 0.9048\n",
            "Epoch 18/50\n",
            "1875/1875 [==============================] - 8s 4ms/step - loss: 0.0521 - accuracy: 0.9811 - val_loss: 0.3934 - val_accuracy: 0.9095\n",
            "Epoch 19/50\n",
            "1875/1875 [==============================] - 8s 4ms/step - loss: 0.0453 - accuracy: 0.9844 - val_loss: 0.4096 - val_accuracy: 0.9072\n",
            "Epoch 20/50\n",
            "1875/1875 [==============================] - 8s 4ms/step - loss: 0.0434 - accuracy: 0.9844 - val_loss: 0.4359 - val_accuracy: 0.9075\n",
            "Epoch 21/50\n",
            "1875/1875 [==============================] - 8s 4ms/step - loss: 0.0364 - accuracy: 0.9870 - val_loss: 0.4411 - val_accuracy: 0.9121\n",
            "Epoch 22/50\n",
            "1875/1875 [==============================] - 8s 4ms/step - loss: 0.0344 - accuracy: 0.9877 - val_loss: 0.4634 - val_accuracy: 0.9057\n",
            "Epoch 23/50\n",
            "1875/1875 [==============================] - 8s 4ms/step - loss: 0.0293 - accuracy: 0.9902 - val_loss: 0.4432 - val_accuracy: 0.9115\n",
            "Epoch 24/50\n",
            "1875/1875 [==============================] - 8s 4ms/step - loss: 0.0246 - accuracy: 0.9915 - val_loss: 0.4875 - val_accuracy: 0.9096\n",
            "Epoch 25/50\n",
            "1875/1875 [==============================] - 8s 4ms/step - loss: 0.0258 - accuracy: 0.9906 - val_loss: 0.4796 - val_accuracy: 0.9084\n",
            "Epoch 26/50\n",
            "1875/1875 [==============================] - 8s 4ms/step - loss: 0.0214 - accuracy: 0.9926 - val_loss: 0.5392 - val_accuracy: 0.9058\n",
            "Epoch 27/50\n",
            "1875/1875 [==============================] - 8s 4ms/step - loss: 0.0211 - accuracy: 0.9932 - val_loss: 0.5218 - val_accuracy: 0.9081\n",
            "Epoch 28/50\n",
            "1875/1875 [==============================] - 8s 4ms/step - loss: 0.0191 - accuracy: 0.9939 - val_loss: 0.5309 - val_accuracy: 0.9089\n",
            "Epoch 29/50\n",
            "1875/1875 [==============================] - 8s 5ms/step - loss: 0.0193 - accuracy: 0.9935 - val_loss: 0.5182 - val_accuracy: 0.9088\n",
            "Epoch 30/50\n",
            "1875/1875 [==============================] - 8s 5ms/step - loss: 0.0111 - accuracy: 0.9966 - val_loss: 0.5365 - val_accuracy: 0.9092\n",
            "Epoch 31/50\n",
            "1875/1875 [==============================] - 8s 4ms/step - loss: 0.0099 - accuracy: 0.9971 - val_loss: 0.5578 - val_accuracy: 0.9128\n",
            "Epoch 32/50\n",
            "1875/1875 [==============================] - 8s 4ms/step - loss: 0.0069 - accuracy: 0.9982 - val_loss: 0.5856 - val_accuracy: 0.9087\n",
            "Epoch 33/50\n",
            "1875/1875 [==============================] - 8s 5ms/step - loss: 0.0059 - accuracy: 0.9986 - val_loss: 0.6105 - val_accuracy: 0.9098\n",
            "Epoch 34/50\n",
            "1875/1875 [==============================] - 9s 5ms/step - loss: 0.0036 - accuracy: 0.9994 - val_loss: 0.5877 - val_accuracy: 0.9130\n",
            "Epoch 35/50\n",
            "1875/1875 [==============================] - 8s 4ms/step - loss: 0.0120 - accuracy: 0.9959 - val_loss: 0.6226 - val_accuracy: 0.9063\n",
            "Epoch 36/50\n",
            "1875/1875 [==============================] - 8s 4ms/step - loss: 0.0134 - accuracy: 0.9954 - val_loss: 0.6196 - val_accuracy: 0.9066\n",
            "Epoch 37/50\n",
            "1875/1875 [==============================] - 8s 4ms/step - loss: 0.0135 - accuracy: 0.9955 - val_loss: 0.6335 - val_accuracy: 0.9063\n",
            "Epoch 38/50\n",
            "1875/1875 [==============================] - 8s 4ms/step - loss: 0.0127 - accuracy: 0.9959 - val_loss: 0.6244 - val_accuracy: 0.9074\n",
            "Epoch 39/50\n",
            "1875/1875 [==============================] - 8s 4ms/step - loss: 0.0051 - accuracy: 0.9987 - val_loss: 0.6460 - val_accuracy: 0.9095\n",
            "Epoch 40/50\n",
            "1875/1875 [==============================] - 8s 4ms/step - loss: 0.0013 - accuracy: 0.9999 - val_loss: 0.6381 - val_accuracy: 0.9122\n",
            "Epoch 41/50\n",
            "1875/1875 [==============================] - 8s 4ms/step - loss: 7.6937e-04 - accuracy: 1.0000 - val_loss: 0.6460 - val_accuracy: 0.9121\n",
            "Epoch 42/50\n",
            "1875/1875 [==============================] - 8s 4ms/step - loss: 6.2613e-04 - accuracy: 1.0000 - val_loss: 0.6518 - val_accuracy: 0.9120\n",
            "Epoch 43/50\n",
            "1875/1875 [==============================] - 8s 4ms/step - loss: 4.8352e-04 - accuracy: 1.0000 - val_loss: 0.6605 - val_accuracy: 0.9120\n",
            "Epoch 44/50\n",
            "1875/1875 [==============================] - 8s 4ms/step - loss: 4.2902e-04 - accuracy: 1.0000 - val_loss: 0.6644 - val_accuracy: 0.9123\n",
            "Epoch 45/50\n",
            "1875/1875 [==============================] - 9s 5ms/step - loss: 3.8376e-04 - accuracy: 1.0000 - val_loss: 0.6684 - val_accuracy: 0.9126\n",
            "Epoch 46/50\n",
            "1875/1875 [==============================] - 8s 4ms/step - loss: 3.5372e-04 - accuracy: 1.0000 - val_loss: 0.6742 - val_accuracy: 0.9127\n",
            "Epoch 47/50\n",
            "1875/1875 [==============================] - 8s 4ms/step - loss: 3.2733e-04 - accuracy: 1.0000 - val_loss: 0.6765 - val_accuracy: 0.9135\n",
            "Epoch 48/50\n",
            "1875/1875 [==============================] - 8s 4ms/step - loss: 3.0744e-04 - accuracy: 1.0000 - val_loss: 0.6796 - val_accuracy: 0.9119\n",
            "Epoch 49/50\n",
            "1875/1875 [==============================] - 8s 4ms/step - loss: 2.8966e-04 - accuracy: 1.0000 - val_loss: 0.6850 - val_accuracy: 0.9126\n",
            "Epoch 50/50\n",
            "1875/1875 [==============================] - 8s 4ms/step - loss: 2.7183e-04 - accuracy: 1.0000 - val_loss: 0.6888 - val_accuracy: 0.9128\n",
            "313/313 - 1s - loss: 0.6888 - accuracy: 0.9128\n",
            "Test accuracy: 0.9128000140190125\n",
            "Test loss: 0.6888348460197449\n"
          ],
          "name": "stdout"
        },
        {
          "output_type": "display_data",
          "data": {
            "image/png": "[encoded data removed]",
            "text/plain": [
              "<Figure size 432x288 with 1 Axes>"
            ]
          },
          "metadata": {
            "tags": [],
            "needs_background": "light"
          }
        }
      ]
    },
    {
      "cell_type": "markdown",
      "metadata": {
        "id": "aHpL8Hzvg6HO"
      },
      "source": [
        "##Kesimpulan"
      ]
    },
    {
      "cell_type": "markdown",
      "metadata": {
        "id": "eaE-fuc4hArU"
      },
      "source": [
        "Disini saya melakukan prediksi menggunakan multilayer perceptron dan convolutional neural network. masing masingnya saya coba dengan variasi learning rate yang berbeda yaitu dari 0.001, 0.05, dan 0.01. Saya mencoba membandingkan 2 arsitektur tersebut berdasarkan learning rate 0.001 karena memiliki akurasi lebih baik dan epoch=50 agar grafiknya lebih jelas. Berdasarkan hasil pengamatan terhadap grafik dan nilai akurasi, saya mendapatkan hasil bahwa Multilayer Perceptron lebih baik digunakan karena nilai loss nya sudah mulai stabil."
      ]
    },
    {
      "cell_type": "markdown",
      "metadata": {
        "id": "PYHJTBMcjMT1"
      },
      "source": [
        "# Soal nomor 2\n"
      ]
    },
    {
      "cell_type": "markdown",
      "metadata": {
        "id": "0O75CUjevSUZ"
      },
      "source": [
        "##Fashion"
      ]
    },
    {
      "cell_type": "code",
      "metadata": {
        "id": "ypi9i3UhjPK5"
      },
      "source": [
        "def conv_filter_cnn(fltr):\n",
        "  model = Sequential()\n",
        "  model.add(Conv2D(fltr, (3, 3), activation='relu', kernel_initializer='he_uniform', input_shape=(28, 28, 1))) # Convolution, 32 filters, masing-masing dengan kernel 3x3\n",
        "\n",
        "  model.add(MaxPooling2D((2, 2))) # Pooling\n",
        "\n",
        "  model.add(Flatten()) # Flatten hasil output\n",
        "\n",
        "  # Fully connected layer\n",
        "  model.add(Dense(100, activation='relu', kernel_initializer='he_uniform')) # Activation relu dipakai, ini salah satu function yang paling banyak dipakai\n",
        "  model.add(Dense(10, activation='softmax')) # Activation softmax dipakai untuk classification, nilai 10 karena terdapat 10 class (0-9)\n",
        "\n",
        "  opt = SGD(lr=0.001, momentum=0.9) # Optimizer (Stochastic Gradient Descent), untuk mencari minima dari grafik fungsi loss\n",
        "\n",
        "  model.compile(optimizer=opt, loss='categorical_crossentropy', metrics=['accuracy']) # Loss Function\n",
        "\n",
        "  model.summary()\n",
        "\n",
        "  history_cnn = model.fit(feature_train, label_train, batch_size=32, validation_data=(feature_test, label_test), epochs=50)\n",
        "\n",
        "  loss, accuracy = model.evaluate(feature_test,  label_test, verbose=2)\n",
        "\n",
        "  print(\"Test accuracy:\", accuracy)\n",
        "  print(\"Test loss:\", loss)\n",
        "\n",
        "  plot_loss(history_cnn)"
      ],
      "execution_count": 31,
      "outputs": []
    },
    {
      "cell_type": "markdown",
      "metadata": {
        "id": "HloX83gXv6Yf"
      },
      "source": [
        "###Filter 32"
      ]
    },
    {
      "cell_type": "code",
      "metadata": {
        "id": "2Ca1wcyVvzIb",
        "outputId": "02124031-68a4-4698-e8f1-3dfa14f159bd",
        "colab": {
          "base_uri": "https://localhost:8080/",
          "height": 1000
        }
      },
      "source": [
        "conv_filter_cnn(32)"
      ],
      "execution_count": 32,
      "outputs": [
        {
          "output_type": "stream",
          "text": [
            "Model: \"sequential_9\"\n",
            "_________________________________________________________________\n",
            "Layer (type)                 Output Shape              Param #   \n",
            "=================================================================\n",
            "conv2d_3 (Conv2D)            (None, 26, 26, 32)        320       \n",
            "_________________________________________________________________\n",
            "max_pooling2d_3 (MaxPooling2 (None, 13, 13, 32)        0         \n",
            "_________________________________________________________________\n",
            "flatten_9 (Flatten)          (None, 5408)              0         \n",
            "_________________________________________________________________\n",
            "dense_18 (Dense)             (None, 100)               540900    \n",
            "_________________________________________________________________\n",
            "dense_19 (Dense)             (None, 10)                1010      \n",
            "=================================================================\n",
            "Total params: 542,230\n",
            "Trainable params: 542,230\n",
            "Non-trainable params: 0\n",
            "_________________________________________________________________\n",
            "Epoch 1/50\n",
            "1875/1875 [==============================] - 9s 5ms/step - loss: 0.5234 - accuracy: 0.8176 - val_loss: 0.4144 - val_accuracy: 0.8556\n",
            "Epoch 2/50\n",
            "1875/1875 [==============================] - 8s 4ms/step - loss: 0.3774 - accuracy: 0.8683 - val_loss: 0.3672 - val_accuracy: 0.8704\n",
            "Epoch 3/50\n",
            "1875/1875 [==============================] - 8s 5ms/step - loss: 0.3383 - accuracy: 0.8816 - val_loss: 0.3525 - val_accuracy: 0.8730\n",
            "Epoch 4/50\n",
            "1875/1875 [==============================] - 8s 4ms/step - loss: 0.3117 - accuracy: 0.8894 - val_loss: 0.3391 - val_accuracy: 0.8810\n",
            "Epoch 5/50\n",
            "1875/1875 [==============================] - 8s 5ms/step - loss: 0.2936 - accuracy: 0.8957 - val_loss: 0.3139 - val_accuracy: 0.8850\n",
            "Epoch 6/50\n",
            "1875/1875 [==============================] - 9s 5ms/step - loss: 0.2757 - accuracy: 0.9019 - val_loss: 0.3155 - val_accuracy: 0.8872\n",
            "Epoch 7/50\n",
            "1875/1875 [==============================] - 9s 5ms/step - loss: 0.2632 - accuracy: 0.9057 - val_loss: 0.3002 - val_accuracy: 0.8920\n",
            "Epoch 8/50\n",
            "1875/1875 [==============================] - 9s 5ms/step - loss: 0.2499 - accuracy: 0.9118 - val_loss: 0.2887 - val_accuracy: 0.8948\n",
            "Epoch 9/50\n",
            "1875/1875 [==============================] - 9s 5ms/step - loss: 0.2402 - accuracy: 0.9143 - val_loss: 0.2901 - val_accuracy: 0.8951\n",
            "Epoch 10/50\n",
            "1875/1875 [==============================] - 8s 4ms/step - loss: 0.2320 - accuracy: 0.9176 - val_loss: 0.2750 - val_accuracy: 0.9012\n",
            "Epoch 11/50\n",
            "1875/1875 [==============================] - 8s 5ms/step - loss: 0.2223 - accuracy: 0.9205 - val_loss: 0.2716 - val_accuracy: 0.9024\n",
            "Epoch 12/50\n",
            "1875/1875 [==============================] - 8s 4ms/step - loss: 0.2125 - accuracy: 0.9249 - val_loss: 0.2626 - val_accuracy: 0.9048\n",
            "Epoch 13/50\n",
            "1875/1875 [==============================] - 8s 4ms/step - loss: 0.2063 - accuracy: 0.9270 - val_loss: 0.2779 - val_accuracy: 0.9005\n",
            "Epoch 14/50\n",
            "1875/1875 [==============================] - 8s 4ms/step - loss: 0.1981 - accuracy: 0.9296 - val_loss: 0.2725 - val_accuracy: 0.9002\n",
            "Epoch 15/50\n",
            "1875/1875 [==============================] - 8s 4ms/step - loss: 0.1909 - accuracy: 0.9330 - val_loss: 0.2604 - val_accuracy: 0.9061\n",
            "Epoch 16/50\n",
            "1875/1875 [==============================] - 8s 4ms/step - loss: 0.1856 - accuracy: 0.9342 - val_loss: 0.2555 - val_accuracy: 0.9082\n",
            "Epoch 17/50\n",
            "1875/1875 [==============================] - 8s 4ms/step - loss: 0.1805 - accuracy: 0.9363 - val_loss: 0.2608 - val_accuracy: 0.9116\n",
            "Epoch 18/50\n",
            "1875/1875 [==============================] - 8s 4ms/step - loss: 0.1738 - accuracy: 0.9392 - val_loss: 0.2579 - val_accuracy: 0.9071\n",
            "Epoch 19/50\n",
            "1875/1875 [==============================] - 8s 4ms/step - loss: 0.1675 - accuracy: 0.9412 - val_loss: 0.2641 - val_accuracy: 0.9065\n",
            "Epoch 20/50\n",
            "1875/1875 [==============================] - 8s 4ms/step - loss: 0.1617 - accuracy: 0.9434 - val_loss: 0.2462 - val_accuracy: 0.9130\n",
            "Epoch 21/50\n",
            "1875/1875 [==============================] - 8s 4ms/step - loss: 0.1570 - accuracy: 0.9450 - val_loss: 0.2537 - val_accuracy: 0.9095\n",
            "Epoch 22/50\n",
            "1875/1875 [==============================] - 8s 4ms/step - loss: 0.1512 - accuracy: 0.9478 - val_loss: 0.2649 - val_accuracy: 0.9108\n",
            "Epoch 23/50\n",
            "1875/1875 [==============================] - 8s 4ms/step - loss: 0.1481 - accuracy: 0.9495 - val_loss: 0.2593 - val_accuracy: 0.9096\n",
            "Epoch 24/50\n",
            "1875/1875 [==============================] - 8s 4ms/step - loss: 0.1417 - accuracy: 0.9509 - val_loss: 0.2487 - val_accuracy: 0.9139\n",
            "Epoch 25/50\n",
            "1875/1875 [==============================] - 8s 4ms/step - loss: 0.1369 - accuracy: 0.9519 - val_loss: 0.2704 - val_accuracy: 0.9101\n",
            "Epoch 26/50\n",
            "1875/1875 [==============================] - 8s 4ms/step - loss: 0.1323 - accuracy: 0.9547 - val_loss: 0.2493 - val_accuracy: 0.9151\n",
            "Epoch 27/50\n",
            "1875/1875 [==============================] - 8s 4ms/step - loss: 0.1291 - accuracy: 0.9551 - val_loss: 0.2510 - val_accuracy: 0.9138\n",
            "Epoch 28/50\n",
            "1875/1875 [==============================] - 8s 4ms/step - loss: 0.1238 - accuracy: 0.9571 - val_loss: 0.2547 - val_accuracy: 0.9148\n",
            "Epoch 29/50\n",
            "1875/1875 [==============================] - 8s 4ms/step - loss: 0.1198 - accuracy: 0.9591 - val_loss: 0.2493 - val_accuracy: 0.9183\n",
            "Epoch 30/50\n",
            "1875/1875 [==============================] - 8s 4ms/step - loss: 0.1163 - accuracy: 0.9600 - val_loss: 0.2456 - val_accuracy: 0.9174\n",
            "Epoch 31/50\n",
            "1875/1875 [==============================] - 8s 4ms/step - loss: 0.1119 - accuracy: 0.9620 - val_loss: 0.2538 - val_accuracy: 0.9142\n",
            "Epoch 32/50\n",
            "1875/1875 [==============================] - 8s 4ms/step - loss: 0.1088 - accuracy: 0.9625 - val_loss: 0.2509 - val_accuracy: 0.9161\n",
            "Epoch 33/50\n",
            "1875/1875 [==============================] - 8s 4ms/step - loss: 0.1050 - accuracy: 0.9633 - val_loss: 0.2575 - val_accuracy: 0.9166\n",
            "Epoch 34/50\n",
            "1875/1875 [==============================] - 8s 4ms/step - loss: 0.1010 - accuracy: 0.9661 - val_loss: 0.2543 - val_accuracy: 0.9183\n",
            "Epoch 35/50\n",
            "1875/1875 [==============================] - 8s 4ms/step - loss: 0.0970 - accuracy: 0.9674 - val_loss: 0.2718 - val_accuracy: 0.9128\n",
            "Epoch 36/50\n",
            "1875/1875 [==============================] - 8s 4ms/step - loss: 0.0943 - accuracy: 0.9685 - val_loss: 0.2593 - val_accuracy: 0.9174\n",
            "Epoch 37/50\n",
            "1875/1875 [==============================] - 8s 4ms/step - loss: 0.0899 - accuracy: 0.9702 - val_loss: 0.2655 - val_accuracy: 0.9182\n",
            "Epoch 38/50\n",
            "1875/1875 [==============================] - 8s 4ms/step - loss: 0.0859 - accuracy: 0.9711 - val_loss: 0.2536 - val_accuracy: 0.9207\n",
            "Epoch 39/50\n",
            "1875/1875 [==============================] - 8s 4ms/step - loss: 0.0838 - accuracy: 0.9726 - val_loss: 0.2691 - val_accuracy: 0.9168\n",
            "Epoch 40/50\n",
            "1875/1875 [==============================] - 8s 4ms/step - loss: 0.0806 - accuracy: 0.9741 - val_loss: 0.2772 - val_accuracy: 0.9146\n",
            "Epoch 41/50\n",
            "1875/1875 [==============================] - 8s 4ms/step - loss: 0.0778 - accuracy: 0.9743 - val_loss: 0.2641 - val_accuracy: 0.9179\n",
            "Epoch 42/50\n",
            "1875/1875 [==============================] - 8s 4ms/step - loss: 0.0747 - accuracy: 0.9758 - val_loss: 0.2711 - val_accuracy: 0.9172\n",
            "Epoch 43/50\n",
            "1875/1875 [==============================] - 9s 5ms/step - loss: 0.0705 - accuracy: 0.9780 - val_loss: 0.2675 - val_accuracy: 0.9185\n",
            "Epoch 44/50\n",
            "1875/1875 [==============================] - 8s 4ms/step - loss: 0.0685 - accuracy: 0.9786 - val_loss: 0.2885 - val_accuracy: 0.9128\n",
            "Epoch 45/50\n",
            "1875/1875 [==============================] - 9s 5ms/step - loss: 0.0660 - accuracy: 0.9795 - val_loss: 0.2722 - val_accuracy: 0.9202\n",
            "Epoch 46/50\n",
            "1875/1875 [==============================] - 9s 5ms/step - loss: 0.0645 - accuracy: 0.9792 - val_loss: 0.2766 - val_accuracy: 0.9200\n",
            "Epoch 47/50\n",
            "1875/1875 [==============================] - 8s 4ms/step - loss: 0.0620 - accuracy: 0.9808 - val_loss: 0.2757 - val_accuracy: 0.9193\n",
            "Epoch 48/50\n",
            "1875/1875 [==============================] - 8s 4ms/step - loss: 0.0580 - accuracy: 0.9822 - val_loss: 0.2908 - val_accuracy: 0.9151\n",
            "Epoch 49/50\n",
            "1875/1875 [==============================] - 8s 4ms/step - loss: 0.0564 - accuracy: 0.9827 - val_loss: 0.2781 - val_accuracy: 0.9206\n",
            "Epoch 50/50\n",
            "1875/1875 [==============================] - 8s 4ms/step - loss: 0.0530 - accuracy: 0.9848 - val_loss: 0.2921 - val_accuracy: 0.9173\n",
            "313/313 - 1s - loss: 0.2921 - accuracy: 0.9173\n",
            "Test accuracy: 0.9172999858856201\n",
            "Test loss: 0.29206737875938416\n"
          ],
          "name": "stdout"
        },
        {
          "output_type": "display_data",
          "data": {
            "image/png": "[encoded data removed]",
            "text/plain": [
              "<Figure size 432x288 with 1 Axes>"
            ]
          },
          "metadata": {
            "tags": [],
            "needs_background": "light"
          }
        }
      ]
    },
    {
      "cell_type": "markdown",
      "metadata": {
        "id": "CmKWt7cey5hb"
      },
      "source": [
        "###Filter 64"
      ]
    },
    {
      "cell_type": "code",
      "metadata": {
        "id": "pKFcfpYay6SJ",
        "outputId": "939da84f-1fd2-435a-e596-5bedc9d663f5",
        "colab": {
          "base_uri": "https://localhost:8080/",
          "height": 1000
        }
      },
      "source": [
        "conv_filter_cnn(64)"
      ],
      "execution_count": 33,
      "outputs": [
        {
          "output_type": "stream",
          "text": [
            "Model: \"sequential_10\"\n",
            "_________________________________________________________________\n",
            "Layer (type)                 Output Shape              Param #   \n",
            "=================================================================\n",
            "conv2d_4 (Conv2D)            (None, 26, 26, 64)        640       \n",
            "_________________________________________________________________\n",
            "max_pooling2d_4 (MaxPooling2 (None, 13, 13, 64)        0         \n",
            "_________________________________________________________________\n",
            "flatten_10 (Flatten)         (None, 10816)             0         \n",
            "_________________________________________________________________\n",
            "dense_20 (Dense)             (None, 100)               1081700   \n",
            "_________________________________________________________________\n",
            "dense_21 (Dense)             (None, 10)                1010      \n",
            "=================================================================\n",
            "Total params: 1,083,350\n",
            "Trainable params: 1,083,350\n",
            "Non-trainable params: 0\n",
            "_________________________________________________________________\n",
            "Epoch 1/50\n",
            "1875/1875 [==============================] - 10s 5ms/step - loss: 0.4934 - accuracy: 0.8305 - val_loss: 0.4175 - val_accuracy: 0.8535\n",
            "Epoch 2/50\n",
            "1875/1875 [==============================] - 10s 5ms/step - loss: 0.3598 - accuracy: 0.8743 - val_loss: 0.3741 - val_accuracy: 0.8694\n",
            "Epoch 3/50\n",
            "1875/1875 [==============================] - 10s 5ms/step - loss: 0.3205 - accuracy: 0.8884 - val_loss: 0.3426 - val_accuracy: 0.8794\n",
            "Epoch 4/50\n",
            "1875/1875 [==============================] - 10s 5ms/step - loss: 0.2937 - accuracy: 0.8967 - val_loss: 0.3189 - val_accuracy: 0.8856\n",
            "Epoch 5/50\n",
            "1875/1875 [==============================] - 10s 5ms/step - loss: 0.2724 - accuracy: 0.9040 - val_loss: 0.3008 - val_accuracy: 0.8913\n",
            "Epoch 6/50\n",
            "1875/1875 [==============================] - 10s 5ms/step - loss: 0.2567 - accuracy: 0.9100 - val_loss: 0.2904 - val_accuracy: 0.8944\n",
            "Epoch 7/50\n",
            "1875/1875 [==============================] - 10s 5ms/step - loss: 0.2426 - accuracy: 0.9139 - val_loss: 0.2859 - val_accuracy: 0.8964\n",
            "Epoch 8/50\n",
            "1875/1875 [==============================] - 10s 5ms/step - loss: 0.2299 - accuracy: 0.9185 - val_loss: 0.2892 - val_accuracy: 0.8952\n",
            "Epoch 9/50\n",
            "1875/1875 [==============================] - 10s 5ms/step - loss: 0.2208 - accuracy: 0.9217 - val_loss: 0.2716 - val_accuracy: 0.8993\n",
            "Epoch 10/50\n",
            "1875/1875 [==============================] - 10s 5ms/step - loss: 0.2097 - accuracy: 0.9248 - val_loss: 0.2645 - val_accuracy: 0.9052\n",
            "Epoch 11/50\n",
            "1875/1875 [==============================] - 10s 5ms/step - loss: 0.2004 - accuracy: 0.9295 - val_loss: 0.2915 - val_accuracy: 0.8959\n",
            "Epoch 12/50\n",
            "1875/1875 [==============================] - 10s 5ms/step - loss: 0.1913 - accuracy: 0.9317 - val_loss: 0.2763 - val_accuracy: 0.8978\n",
            "Epoch 13/50\n",
            "1875/1875 [==============================] - 10s 5ms/step - loss: 0.1837 - accuracy: 0.9343 - val_loss: 0.2565 - val_accuracy: 0.9113\n",
            "Epoch 14/50\n",
            "1875/1875 [==============================] - 10s 5ms/step - loss: 0.1761 - accuracy: 0.9383 - val_loss: 0.2603 - val_accuracy: 0.9068\n",
            "Epoch 15/50\n",
            "1875/1875 [==============================] - 10s 5ms/step - loss: 0.1692 - accuracy: 0.9403 - val_loss: 0.2503 - val_accuracy: 0.9112\n",
            "Epoch 16/50\n",
            "1875/1875 [==============================] - 10s 5ms/step - loss: 0.1639 - accuracy: 0.9421 - val_loss: 0.2550 - val_accuracy: 0.9090\n",
            "Epoch 17/50\n",
            "1875/1875 [==============================] - 10s 5ms/step - loss: 0.1568 - accuracy: 0.9448 - val_loss: 0.2478 - val_accuracy: 0.9139\n",
            "Epoch 18/50\n",
            "1875/1875 [==============================] - 10s 5ms/step - loss: 0.1503 - accuracy: 0.9473 - val_loss: 0.2491 - val_accuracy: 0.9140\n",
            "Epoch 19/50\n",
            "1875/1875 [==============================] - 10s 6ms/step - loss: 0.1436 - accuracy: 0.9503 - val_loss: 0.2454 - val_accuracy: 0.9151\n",
            "Epoch 20/50\n",
            "1875/1875 [==============================] - 10s 5ms/step - loss: 0.1384 - accuracy: 0.9517 - val_loss: 0.2450 - val_accuracy: 0.9149\n",
            "Epoch 21/50\n",
            "1875/1875 [==============================] - 10s 5ms/step - loss: 0.1337 - accuracy: 0.9547 - val_loss: 0.2461 - val_accuracy: 0.9145\n",
            "Epoch 22/50\n",
            "1875/1875 [==============================] - 11s 6ms/step - loss: 0.1287 - accuracy: 0.9554 - val_loss: 0.2552 - val_accuracy: 0.9138\n",
            "Epoch 23/50\n",
            "1875/1875 [==============================] - 10s 6ms/step - loss: 0.1224 - accuracy: 0.9580 - val_loss: 0.2553 - val_accuracy: 0.9131\n",
            "Epoch 24/50\n",
            "1875/1875 [==============================] - 10s 5ms/step - loss: 0.1175 - accuracy: 0.9599 - val_loss: 0.2525 - val_accuracy: 0.9151\n",
            "Epoch 25/50\n",
            "1875/1875 [==============================] - 10s 5ms/step - loss: 0.1140 - accuracy: 0.9610 - val_loss: 0.2494 - val_accuracy: 0.9163\n",
            "Epoch 26/50\n",
            "1875/1875 [==============================] - 10s 5ms/step - loss: 0.1090 - accuracy: 0.9638 - val_loss: 0.2532 - val_accuracy: 0.9175\n",
            "Epoch 27/50\n",
            "1875/1875 [==============================] - 10s 5ms/step - loss: 0.1053 - accuracy: 0.9645 - val_loss: 0.2438 - val_accuracy: 0.9187\n",
            "Epoch 28/50\n",
            "1875/1875 [==============================] - 10s 5ms/step - loss: 0.1007 - accuracy: 0.9658 - val_loss: 0.2598 - val_accuracy: 0.9163\n",
            "Epoch 29/50\n",
            "1875/1875 [==============================] - 10s 5ms/step - loss: 0.0959 - accuracy: 0.9683 - val_loss: 0.2640 - val_accuracy: 0.9144\n",
            "Epoch 30/50\n",
            "1875/1875 [==============================] - 10s 5ms/step - loss: 0.0935 - accuracy: 0.9694 - val_loss: 0.2579 - val_accuracy: 0.9174\n",
            "Epoch 31/50\n",
            "1875/1875 [==============================] - 10s 5ms/step - loss: 0.0890 - accuracy: 0.9711 - val_loss: 0.2534 - val_accuracy: 0.9176\n",
            "Epoch 32/50\n",
            "1875/1875 [==============================] - 10s 5ms/step - loss: 0.0846 - accuracy: 0.9728 - val_loss: 0.2510 - val_accuracy: 0.9196\n",
            "Epoch 33/50\n",
            "1875/1875 [==============================] - 10s 5ms/step - loss: 0.0819 - accuracy: 0.9740 - val_loss: 0.2801 - val_accuracy: 0.9108\n",
            "Epoch 34/50\n",
            "1875/1875 [==============================] - 10s 5ms/step - loss: 0.0781 - accuracy: 0.9748 - val_loss: 0.2666 - val_accuracy: 0.9144\n",
            "Epoch 35/50\n",
            "1875/1875 [==============================] - 10s 5ms/step - loss: 0.0756 - accuracy: 0.9763 - val_loss: 0.2765 - val_accuracy: 0.9129\n",
            "Epoch 36/50\n",
            "1875/1875 [==============================] - 10s 5ms/step - loss: 0.0715 - accuracy: 0.9776 - val_loss: 0.2652 - val_accuracy: 0.9169\n",
            "Epoch 37/50\n",
            "1875/1875 [==============================] - 10s 5ms/step - loss: 0.0682 - accuracy: 0.9787 - val_loss: 0.2658 - val_accuracy: 0.9190\n",
            "Epoch 38/50\n",
            "1875/1875 [==============================] - 10s 5ms/step - loss: 0.0669 - accuracy: 0.9790 - val_loss: 0.2654 - val_accuracy: 0.9179\n",
            "Epoch 39/50\n",
            "1875/1875 [==============================] - 10s 5ms/step - loss: 0.0625 - accuracy: 0.9807 - val_loss: 0.2668 - val_accuracy: 0.9180\n",
            "Epoch 40/50\n",
            "1875/1875 [==============================] - 10s 5ms/step - loss: 0.0601 - accuracy: 0.9812 - val_loss: 0.2666 - val_accuracy: 0.9205\n",
            "Epoch 41/50\n",
            "1875/1875 [==============================] - 10s 5ms/step - loss: 0.0578 - accuracy: 0.9825 - val_loss: 0.2832 - val_accuracy: 0.9165\n",
            "Epoch 42/50\n",
            "1875/1875 [==============================] - 10s 5ms/step - loss: 0.0553 - accuracy: 0.9840 - val_loss: 0.2718 - val_accuracy: 0.9203\n",
            "Epoch 43/50\n",
            "1875/1875 [==============================] - 10s 5ms/step - loss: 0.0524 - accuracy: 0.9850 - val_loss: 0.2772 - val_accuracy: 0.9182\n",
            "Epoch 44/50\n",
            "1875/1875 [==============================] - 10s 5ms/step - loss: 0.0506 - accuracy: 0.9861 - val_loss: 0.2827 - val_accuracy: 0.9186\n",
            "Epoch 45/50\n",
            "1875/1875 [==============================] - 10s 5ms/step - loss: 0.0477 - accuracy: 0.9868 - val_loss: 0.2943 - val_accuracy: 0.9152\n",
            "Epoch 46/50\n",
            "1875/1875 [==============================] - 10s 5ms/step - loss: 0.0464 - accuracy: 0.9870 - val_loss: 0.2883 - val_accuracy: 0.9168\n",
            "Epoch 47/50\n",
            "1875/1875 [==============================] - 10s 5ms/step - loss: 0.0440 - accuracy: 0.9877 - val_loss: 0.2823 - val_accuracy: 0.9200\n",
            "Epoch 48/50\n",
            "1875/1875 [==============================] - 10s 5ms/step - loss: 0.0422 - accuracy: 0.9883 - val_loss: 0.2993 - val_accuracy: 0.9178\n",
            "Epoch 49/50\n",
            "1875/1875 [==============================] - 10s 6ms/step - loss: 0.0398 - accuracy: 0.9893 - val_loss: 0.2878 - val_accuracy: 0.9198\n",
            "Epoch 50/50\n",
            "1875/1875 [==============================] - 10s 5ms/step - loss: 0.0386 - accuracy: 0.9900 - val_loss: 0.3009 - val_accuracy: 0.9192\n",
            "313/313 - 1s - loss: 0.3009 - accuracy: 0.9192\n",
            "Test accuracy: 0.9192000031471252\n",
            "Test loss: 0.30090782046318054\n"
          ],
          "name": "stdout"
        },
        {
          "output_type": "display_data",
          "data": {
            "image/png": "[encoded data removed]",
            "text/plain": [
              "<Figure size 432x288 with 1 Axes>"
            ]
          },
          "metadata": {
            "tags": [],
            "needs_background": "light"
          }
        }
      ]
    },
    {
      "cell_type": "markdown",
      "metadata": {
        "id": "wLRru2Q09-rr"
      },
      "source": [
        "###Deeper CNN 32 dan 64"
      ]
    },
    {
      "cell_type": "code",
      "metadata": {
        "id": "8cdBrCka-Fef",
        "outputId": "05f83ee1-7e33-42e1-be2e-31e054436319",
        "colab": {
          "base_uri": "https://localhost:8080/",
          "height": 1000
        }
      },
      "source": [
        "deeper_model = Sequential()\n",
        "deeper_model.add(Conv2D(32, (3, 3), activation='relu', kernel_initializer='he_uniform', input_shape=(28, 28, 1))) # Convolution, 32 filters, masing-masing dengan kernel 3x3\n",
        "deeper_model.add(MaxPooling2D((2, 2))) # Pooling\n",
        "deeper_model.add(Conv2D(64, (3, 3), activation='relu', kernel_initializer='he_uniform'))\n",
        "deeper_model.add(MaxPooling2D((2, 2))) # Pooling\n",
        "\n",
        "deeper_model.add(Flatten()) # Flatten hasil output\n",
        "\n",
        "# Fully connected layer\n",
        "deeper_model.add(Dense(100, activation='relu', kernel_initializer='he_uniform')) # Activation relu dipakai, ini salah satu function yang paling banyak dipakai\n",
        "deeper_model.add(Dense(10, activation='softmax')) # Activation softmax dipakai untuk classification, nilai 10 karena terdapat 10 class (0-9)\n",
        "\n",
        "opt = SGD(lr=0.001, momentum=0.9) # Optimizer (Stochastic Gradient Descent), untuk mencari minima dari grafik fungsi loss\n",
        "\n",
        "deeper_model.compile(optimizer=opt, loss='categorical_crossentropy', metrics=['accuracy']) # Loss Function\n",
        "deeper_model.summary()\n",
        "\n",
        "history_cnn = deeper_model.fit(feature_train, label_train, batch_size=32, validation_data=(feature_test, label_test), epochs=50)\n",
        "\n",
        "loss, accuracy = deeper_model.evaluate(feature_test,  label_test, verbose=2)\n",
        "\n",
        "print(\"Test accuracy:\", accuracy)\n",
        "print(\"Test loss:\", loss)\n",
        "\n",
        "plot_loss(history_cnn)"
      ],
      "execution_count": 44,
      "outputs": [
        {
          "output_type": "stream",
          "text": [
            "Model: \"sequential_13\"\n",
            "_________________________________________________________________\n",
            "Layer (type)                 Output Shape              Param #   \n",
            "=================================================================\n",
            "conv2d_7 (Conv2D)            (None, 26, 26, 32)        320       \n",
            "_________________________________________________________________\n",
            "max_pooling2d_7 (MaxPooling2 (None, 13, 13, 32)        0         \n",
            "_________________________________________________________________\n",
            "conv2d_8 (Conv2D)            (None, 11, 11, 64)        18496     \n",
            "_________________________________________________________________\n",
            "max_pooling2d_8 (MaxPooling2 (None, 5, 5, 64)          0         \n",
            "_________________________________________________________________\n",
            "flatten_13 (Flatten)         (None, 1600)              0         \n",
            "_________________________________________________________________\n",
            "dense_26 (Dense)             (None, 100)               160100    \n",
            "_________________________________________________________________\n",
            "dense_27 (Dense)             (None, 10)                1010      \n",
            "=================================================================\n",
            "Total params: 179,926\n",
            "Trainable params: 179,926\n",
            "Non-trainable params: 0\n",
            "_________________________________________________________________\n",
            "Epoch 1/50\n",
            "1875/1875 [==============================] - 11s 6ms/step - loss: 0.6107 - accuracy: 0.7825 - val_loss: 0.4878 - val_accuracy: 0.8262\n",
            "Epoch 2/50\n",
            "1875/1875 [==============================] - 10s 6ms/step - loss: 0.4210 - accuracy: 0.8510 - val_loss: 0.4041 - val_accuracy: 0.8560\n",
            "Epoch 3/50\n",
            "1875/1875 [==============================] - 10s 6ms/step - loss: 0.3703 - accuracy: 0.8691 - val_loss: 0.3714 - val_accuracy: 0.8654\n",
            "Epoch 4/50\n",
            "1875/1875 [==============================] - 10s 6ms/step - loss: 0.3424 - accuracy: 0.8789 - val_loss: 0.3587 - val_accuracy: 0.8696\n",
            "Epoch 5/50\n",
            "1875/1875 [==============================] - 11s 6ms/step - loss: 0.3220 - accuracy: 0.8856 - val_loss: 0.3656 - val_accuracy: 0.8684\n",
            "Epoch 6/50\n",
            "1875/1875 [==============================] - 11s 6ms/step - loss: 0.3062 - accuracy: 0.8903 - val_loss: 0.3320 - val_accuracy: 0.8813\n",
            "Epoch 7/50\n",
            "1875/1875 [==============================] - 10s 6ms/step - loss: 0.2926 - accuracy: 0.8953 - val_loss: 0.3137 - val_accuracy: 0.8881\n",
            "Epoch 8/50\n",
            "1875/1875 [==============================] - 10s 6ms/step - loss: 0.2793 - accuracy: 0.8996 - val_loss: 0.3310 - val_accuracy: 0.8798\n",
            "Epoch 9/50\n",
            "1875/1875 [==============================] - 11s 6ms/step - loss: 0.2689 - accuracy: 0.9040 - val_loss: 0.3206 - val_accuracy: 0.8841\n",
            "Epoch 10/50\n",
            "1875/1875 [==============================] - 10s 6ms/step - loss: 0.2585 - accuracy: 0.9070 - val_loss: 0.2980 - val_accuracy: 0.8900\n",
            "Epoch 11/50\n",
            "1875/1875 [==============================] - 11s 6ms/step - loss: 0.2506 - accuracy: 0.9105 - val_loss: 0.2955 - val_accuracy: 0.8948\n",
            "Epoch 12/50\n",
            "1875/1875 [==============================] - 11s 6ms/step - loss: 0.2421 - accuracy: 0.9127 - val_loss: 0.2989 - val_accuracy: 0.8932\n",
            "Epoch 13/50\n",
            "1875/1875 [==============================] - 10s 6ms/step - loss: 0.2367 - accuracy: 0.9152 - val_loss: 0.2905 - val_accuracy: 0.8927\n",
            "Epoch 14/50\n",
            "1875/1875 [==============================] - 11s 6ms/step - loss: 0.2277 - accuracy: 0.9177 - val_loss: 0.2830 - val_accuracy: 0.8981\n",
            "Epoch 15/50\n",
            "1875/1875 [==============================] - 11s 6ms/step - loss: 0.2219 - accuracy: 0.9201 - val_loss: 0.2816 - val_accuracy: 0.8998\n",
            "Epoch 16/50\n",
            "1875/1875 [==============================] - 11s 6ms/step - loss: 0.2147 - accuracy: 0.9227 - val_loss: 0.2862 - val_accuracy: 0.8987\n",
            "Epoch 17/50\n",
            "1875/1875 [==============================] - 11s 6ms/step - loss: 0.2102 - accuracy: 0.9240 - val_loss: 0.2753 - val_accuracy: 0.9029\n",
            "Epoch 18/50\n",
            "1875/1875 [==============================] - 11s 6ms/step - loss: 0.2023 - accuracy: 0.9270 - val_loss: 0.2732 - val_accuracy: 0.9049\n",
            "Epoch 19/50\n",
            "1875/1875 [==============================] - 11s 6ms/step - loss: 0.1987 - accuracy: 0.9288 - val_loss: 0.2699 - val_accuracy: 0.9026\n",
            "Epoch 20/50\n",
            "1875/1875 [==============================] - 10s 6ms/step - loss: 0.1918 - accuracy: 0.9314 - val_loss: 0.2741 - val_accuracy: 0.9044\n",
            "Epoch 21/50\n",
            "1875/1875 [==============================] - 10s 6ms/step - loss: 0.1873 - accuracy: 0.9320 - val_loss: 0.2798 - val_accuracy: 0.9016\n",
            "Epoch 22/50\n",
            "1875/1875 [==============================] - 10s 6ms/step - loss: 0.1830 - accuracy: 0.9338 - val_loss: 0.2787 - val_accuracy: 0.9036\n",
            "Epoch 23/50\n",
            "1875/1875 [==============================] - 10s 6ms/step - loss: 0.1780 - accuracy: 0.9355 - val_loss: 0.2823 - val_accuracy: 0.8989\n",
            "Epoch 24/50\n",
            "1875/1875 [==============================] - 10s 6ms/step - loss: 0.1726 - accuracy: 0.9383 - val_loss: 0.2696 - val_accuracy: 0.9062\n",
            "Epoch 25/50\n",
            "1875/1875 [==============================] - 10s 6ms/step - loss: 0.1691 - accuracy: 0.9391 - val_loss: 0.2762 - val_accuracy: 0.9050\n",
            "Epoch 26/50\n",
            "1875/1875 [==============================] - 10s 6ms/step - loss: 0.1641 - accuracy: 0.9404 - val_loss: 0.2699 - val_accuracy: 0.9073\n",
            "Epoch 27/50\n",
            "1875/1875 [==============================] - 10s 6ms/step - loss: 0.1597 - accuracy: 0.9434 - val_loss: 0.2749 - val_accuracy: 0.9062\n",
            "Epoch 28/50\n",
            "1875/1875 [==============================] - 11s 6ms/step - loss: 0.1561 - accuracy: 0.9445 - val_loss: 0.2762 - val_accuracy: 0.9050\n",
            "Epoch 29/50\n",
            "1875/1875 [==============================] - 11s 6ms/step - loss: 0.1515 - accuracy: 0.9457 - val_loss: 0.2666 - val_accuracy: 0.9071\n",
            "Epoch 30/50\n",
            "1875/1875 [==============================] - 10s 6ms/step - loss: 0.1476 - accuracy: 0.9475 - val_loss: 0.2764 - val_accuracy: 0.9073\n",
            "Epoch 31/50\n",
            "1875/1875 [==============================] - 10s 6ms/step - loss: 0.1444 - accuracy: 0.9480 - val_loss: 0.2802 - val_accuracy: 0.9023\n",
            "Epoch 32/50\n",
            "1875/1875 [==============================] - 10s 6ms/step - loss: 0.1397 - accuracy: 0.9506 - val_loss: 0.2783 - val_accuracy: 0.9046\n",
            "Epoch 33/50\n",
            "1875/1875 [==============================] - 10s 6ms/step - loss: 0.1353 - accuracy: 0.9517 - val_loss: 0.2714 - val_accuracy: 0.9085\n",
            "Epoch 34/50\n",
            "1875/1875 [==============================] - 10s 6ms/step - loss: 0.1311 - accuracy: 0.9527 - val_loss: 0.2851 - val_accuracy: 0.9016\n",
            "Epoch 35/50\n",
            "1875/1875 [==============================] - 10s 6ms/step - loss: 0.1291 - accuracy: 0.9541 - val_loss: 0.2848 - val_accuracy: 0.9052\n",
            "Epoch 36/50\n",
            "1875/1875 [==============================] - 10s 6ms/step - loss: 0.1257 - accuracy: 0.9559 - val_loss: 0.2773 - val_accuracy: 0.9084\n",
            "Epoch 37/50\n",
            "1875/1875 [==============================] - 10s 6ms/step - loss: 0.1211 - accuracy: 0.9578 - val_loss: 0.2904 - val_accuracy: 0.9045\n",
            "Epoch 38/50\n",
            "1875/1875 [==============================] - 10s 6ms/step - loss: 0.1175 - accuracy: 0.9581 - val_loss: 0.2950 - val_accuracy: 0.9043\n",
            "Epoch 39/50\n",
            "1875/1875 [==============================] - 10s 6ms/step - loss: 0.1152 - accuracy: 0.9590 - val_loss: 0.2944 - val_accuracy: 0.9076\n",
            "Epoch 40/50\n",
            "1875/1875 [==============================] - 10s 6ms/step - loss: 0.1112 - accuracy: 0.9601 - val_loss: 0.2781 - val_accuracy: 0.9102\n",
            "Epoch 41/50\n",
            "1875/1875 [==============================] - 10s 6ms/step - loss: 0.1079 - accuracy: 0.9622 - val_loss: 0.2940 - val_accuracy: 0.9069\n",
            "Epoch 42/50\n",
            "1875/1875 [==============================] - 10s 6ms/step - loss: 0.1038 - accuracy: 0.9629 - val_loss: 0.2946 - val_accuracy: 0.9073\n",
            "Epoch 43/50\n",
            "1875/1875 [==============================] - 10s 6ms/step - loss: 0.1020 - accuracy: 0.9629 - val_loss: 0.2986 - val_accuracy: 0.9079\n",
            "Epoch 44/50\n",
            "1875/1875 [==============================] - 11s 6ms/step - loss: 0.0967 - accuracy: 0.9657 - val_loss: 0.3034 - val_accuracy: 0.9076\n",
            "Epoch 45/50\n",
            "1875/1875 [==============================] - 10s 6ms/step - loss: 0.0943 - accuracy: 0.9667 - val_loss: 0.2955 - val_accuracy: 0.9103\n",
            "Epoch 46/50\n",
            "1875/1875 [==============================] - 10s 6ms/step - loss: 0.0901 - accuracy: 0.9684 - val_loss: 0.3065 - val_accuracy: 0.9079\n",
            "Epoch 47/50\n",
            "1875/1875 [==============================] - 11s 6ms/step - loss: 0.0879 - accuracy: 0.9692 - val_loss: 0.3208 - val_accuracy: 0.9039\n",
            "Epoch 48/50\n",
            "1875/1875 [==============================] - 11s 6ms/step - loss: 0.0844 - accuracy: 0.9704 - val_loss: 0.3289 - val_accuracy: 0.9042\n",
            "Epoch 49/50\n",
            "1875/1875 [==============================] - 11s 6ms/step - loss: 0.0831 - accuracy: 0.9707 - val_loss: 0.3058 - val_accuracy: 0.9109\n",
            "Epoch 50/50\n",
            "1875/1875 [==============================] - 10s 6ms/step - loss: 0.0782 - accuracy: 0.9728 - val_loss: 0.3133 - val_accuracy: 0.9078\n",
            "313/313 - 1s - loss: 0.3133 - accuracy: 0.9078\n",
            "Test accuracy: 0.907800018787384\n",
            "Test loss: 0.31334662437438965\n"
          ],
          "name": "stdout"
        },
        {
          "output_type": "display_data",
          "data": {
            "image/png": "[encoded data removed]",
            "text/plain": [
              "<Figure size 432x288 with 1 Axes>"
            ]
          },
          "metadata": {
            "tags": [],
            "needs_background": "light"
          }
        }
      ]
    },
    {
      "cell_type": "markdown",
      "metadata": {
        "id": "AsNXw43N7ZAX"
      },
      "source": [
        "###Kesimpulan"
      ]
    },
    {
      "cell_type": "markdown",
      "metadata": {
        "id": "xBe-cUIS7bQW"
      },
      "source": [
        "Jika dibandingkan antara CNN dan Deeper CNN, pada Deeper CNN, nilai loss train akan turun secara signifikan dari 61% ke 42% dan bisa kita lihat juga bahwa **akurasinya** turun jika dibandingkan dengan CNN biasa yaitu **90%** berbanding **91%** pada nilai **epoch=50** jika diperhatikan pada grafik nilai loss masih belum stabil sehingga kita masih belum mendapatkan nilai sesuai dengan yang kita inginkan. jumlah parameternyapun juga semakin sedikit jika dibandingkan dengan CNN biasa yaitu 179,926 (Deeper CNN) : 1,083,350 (CNN filter 64) : 1,083,350 : 542,230 (CNN filter 32), sehingga inputnya pada saat diflatten menjadi kecil. "
      ]
    },
    {
      "cell_type": "markdown",
      "metadata": {
        "id": "NXHedvHg1V3I"
      },
      "source": [
        "##MNIST"
      ]
    },
    {
      "cell_type": "code",
      "metadata": {
        "id": "gJOZBkbG1Ybe",
        "outputId": "d7f37a23-7310-4bde-8d5e-e353b3ec5509",
        "colab": {
          "base_uri": "https://localhost:8080/",
          "height": 346
        }
      },
      "source": [
        "(feature_train1, label_train1), (feature_test1, label_test1) = mnist.load_data()\n",
        "\n",
        "print(\"Train\", feature_train1.shape, label_train1.shape)\n",
        "print(\"Test\", feature_test1.shape, label_test1.shape)\n",
        "\n",
        "plt.imshow(feature_train1[100], cmap=plt.get_cmap('gray'))"
      ],
      "execution_count": 34,
      "outputs": [
        {
          "output_type": "stream",
          "text": [
            "Downloading data from https://storage.googleapis.com/tensorflow/tf-keras-datasets/mnist.npz\n",
            "11493376/11490434 [==============================] - 0s 0us/step\n",
            "Train (60000, 28, 28) (60000,)\n",
            "Test (10000, 28, 28) (10000,)\n"
          ],
          "name": "stdout"
        },
        {
          "output_type": "execute_result",
          "data": {
            "text/plain": [
              "<matplotlib.image.AxesImage at 0x7fada4d62940>"
            ]
          },
          "metadata": {
            "tags": []
          },
          "execution_count": 34
        },
        {
          "output_type": "display_data",
          "data": {
            "image/png": "[encoded data removed]",
            "text/plain": [
              "<Figure size 432x288 with 1 Axes>"
            ]
          },
          "metadata": {
            "tags": [],
            "needs_background": "light"
          }
        }
      ]
    },
    {
      "cell_type": "code",
      "metadata": {
        "id": "qbTN4gsm1zmw"
      },
      "source": [
        "feature_train1 = feature_train1.reshape((feature_train1.shape[0], 28, 28, 1))\n",
        "feature_test1 = feature_test1.reshape((feature_test1.shape[0], 28, 28, 1))"
      ],
      "execution_count": 35,
      "outputs": []
    },
    {
      "cell_type": "code",
      "metadata": {
        "id": "p_YykCFp14qZ",
        "outputId": "45b2d11b-c1e3-4c99-a574-b6807a50cc39",
        "colab": {
          "base_uri": "https://localhost:8080/",
          "height": 131
        }
      },
      "source": [
        "label_train1 = to_categorical(label_train1)\n",
        "label_test1 = to_categorical(label_test1)\n",
        "\n",
        "print(label_train1)"
      ],
      "execution_count": 37,
      "outputs": [
        {
          "output_type": "stream",
          "text": [
            "[[0. 0. 0. ... 0. 0. 0.]\n",
            " [1. 0. 0. ... 0. 0. 0.]\n",
            " [0. 0. 0. ... 0. 0. 0.]\n",
            " ...\n",
            " [0. 0. 0. ... 0. 0. 0.]\n",
            " [0. 0. 0. ... 0. 0. 0.]\n",
            " [0. 0. 0. ... 0. 1. 0.]]\n"
          ],
          "name": "stdout"
        }
      ]
    },
    {
      "cell_type": "code",
      "metadata": {
        "id": "hn5wr29o2Kvi"
      },
      "source": [
        "feature_train1 = feature_train1.astype('float32')\n",
        "feature_test1 = feature_test1.astype('float32')\n",
        "\n",
        "feature_train1 = feature_train1 / 255.0\n",
        "feature_test1 = feature_test1 / 255.0"
      ],
      "execution_count": 38,
      "outputs": []
    },
    {
      "cell_type": "code",
      "metadata": {
        "id": "Azp7wR1X2V0p"
      },
      "source": [
        "def conv_filter_cnn1(fltr1):\n",
        "  model1 = Sequential()\n",
        "  model1.add(Conv2D(fltr1, (3, 3), activation='relu', kernel_initializer='he_uniform', input_shape=(28, 28, 1))) # Convolution, 32 filters, masing-masing dengan kernel 3x3\n",
        "\n",
        "  model1.add(MaxPooling2D((2, 2))) # Pooling\n",
        "\n",
        "  model1.add(Flatten()) # Flatten hasil output\n",
        "\n",
        "  # Fully connected layer\n",
        "  model1.add(Dense(100, activation='relu', kernel_initializer='he_uniform')) # Activation relu dipakai, ini salah satu function yang paling banyak dipakai\n",
        "  model1.add(Dense(10, activation='softmax')) # Activation softmax dipakai untuk classification, nilai 10 karena terdapat 10 class (0-9)\n",
        "\n",
        "  opt = SGD(lr=0.001, momentum=0.9) # Optimizer (Stochastic Gradient Descent), untuk mencari minima dari grafik fungsi loss\n",
        "\n",
        "  model1.compile(optimizer=opt, loss='categorical_crossentropy', metrics=['accuracy']) # Loss Function\n",
        "\n",
        "  model1.summary()\n",
        "\n",
        "  history_cnn = model1.fit(feature_train1, label_train1, batch_size=32, validation_data=(feature_test1, label_test1), epochs=50)\n",
        "\n",
        "  loss1, accuracy1 = model1.evaluate(feature_test1,  label_test1, verbose=2)\n",
        "\n",
        "  print(\"Test accuracy:\", accuracy1)\n",
        "  print(\"Test loss:\", loss1)\n",
        "\n",
        "  plot_loss(history_cnn)"
      ],
      "execution_count": 40,
      "outputs": []
    },
    {
      "cell_type": "markdown",
      "metadata": {
        "id": "qbb9rk2F3SOk"
      },
      "source": [
        "###Filter 32"
      ]
    },
    {
      "cell_type": "code",
      "metadata": {
        "id": "RrfIun5f3UNc",
        "outputId": "e01f878e-f891-4c77-fa12-17a2f005dcf7",
        "colab": {
          "base_uri": "https://localhost:8080/",
          "height": 1000
        }
      },
      "source": [
        "conv_filter_cnn1(32)"
      ],
      "execution_count": 42,
      "outputs": [
        {
          "output_type": "stream",
          "text": [
            "Model: \"sequential_11\"\n",
            "_________________________________________________________________\n",
            "Layer (type)                 Output Shape              Param #   \n",
            "=================================================================\n",
            "conv2d_5 (Conv2D)            (None, 26, 26, 32)        320       \n",
            "_________________________________________________________________\n",
            "max_pooling2d_5 (MaxPooling2 (None, 13, 13, 32)        0         \n",
            "_________________________________________________________________\n",
            "flatten_11 (Flatten)         (None, 5408)              0         \n",
            "_________________________________________________________________\n",
            "dense_22 (Dense)             (None, 100)               540900    \n",
            "_________________________________________________________________\n",
            "dense_23 (Dense)             (None, 10)                1010      \n",
            "=================================================================\n",
            "Total params: 542,230\n",
            "Trainable params: 542,230\n",
            "Non-trainable params: 0\n",
            "_________________________________________________________________\n",
            "Epoch 1/50\n",
            "1875/1875 [==============================] - 9s 5ms/step - loss: 0.3082 - accuracy: 0.9118 - val_loss: 0.1742 - val_accuracy: 0.9493\n",
            "Epoch 2/50\n",
            "1875/1875 [==============================] - 9s 5ms/step - loss: 0.1547 - accuracy: 0.9550 - val_loss: 0.1245 - val_accuracy: 0.9627\n",
            "Epoch 3/50\n",
            "1875/1875 [==============================] - 8s 4ms/step - loss: 0.1155 - accuracy: 0.9666 - val_loss: 0.1000 - val_accuracy: 0.9693\n",
            "Epoch 4/50\n",
            "1875/1875 [==============================] - 8s 4ms/step - loss: 0.0927 - accuracy: 0.9735 - val_loss: 0.0872 - val_accuracy: 0.9714\n",
            "Epoch 5/50\n",
            "1875/1875 [==============================] - 8s 4ms/step - loss: 0.0781 - accuracy: 0.9776 - val_loss: 0.0862 - val_accuracy: 0.9728\n",
            "Epoch 6/50\n",
            "1875/1875 [==============================] - 8s 4ms/step - loss: 0.0671 - accuracy: 0.9807 - val_loss: 0.0732 - val_accuracy: 0.9775\n",
            "Epoch 7/50\n",
            "1875/1875 [==============================] - 8s 4ms/step - loss: 0.0595 - accuracy: 0.9831 - val_loss: 0.0697 - val_accuracy: 0.9777\n",
            "Epoch 8/50\n",
            "1875/1875 [==============================] - 8s 4ms/step - loss: 0.0521 - accuracy: 0.9848 - val_loss: 0.0687 - val_accuracy: 0.9773\n",
            "Epoch 9/50\n",
            "1875/1875 [==============================] - 8s 4ms/step - loss: 0.0472 - accuracy: 0.9868 - val_loss: 0.0599 - val_accuracy: 0.9811\n",
            "Epoch 10/50\n",
            "1875/1875 [==============================] - 8s 4ms/step - loss: 0.0426 - accuracy: 0.9881 - val_loss: 0.0567 - val_accuracy: 0.9805\n",
            "Epoch 11/50\n",
            "1875/1875 [==============================] - 8s 4ms/step - loss: 0.0388 - accuracy: 0.9891 - val_loss: 0.0582 - val_accuracy: 0.9813\n",
            "Epoch 12/50\n",
            "1875/1875 [==============================] - 8s 4ms/step - loss: 0.0354 - accuracy: 0.9900 - val_loss: 0.0542 - val_accuracy: 0.9819\n",
            "Epoch 13/50\n",
            "1875/1875 [==============================] - 8s 4ms/step - loss: 0.0323 - accuracy: 0.9908 - val_loss: 0.0573 - val_accuracy: 0.9808\n",
            "Epoch 14/50\n",
            "1875/1875 [==============================] - 8s 4ms/step - loss: 0.0298 - accuracy: 0.9917 - val_loss: 0.0552 - val_accuracy: 0.9818\n",
            "Epoch 15/50\n",
            "1875/1875 [==============================] - 8s 4ms/step - loss: 0.0275 - accuracy: 0.9927 - val_loss: 0.0527 - val_accuracy: 0.9817\n",
            "Epoch 16/50\n",
            "1875/1875 [==============================] - 8s 5ms/step - loss: 0.0250 - accuracy: 0.9934 - val_loss: 0.0501 - val_accuracy: 0.9834\n",
            "Epoch 17/50\n",
            "1875/1875 [==============================] - 8s 4ms/step - loss: 0.0232 - accuracy: 0.9942 - val_loss: 0.0542 - val_accuracy: 0.9822\n",
            "Epoch 18/50\n",
            "1875/1875 [==============================] - 8s 4ms/step - loss: 0.0220 - accuracy: 0.9943 - val_loss: 0.0529 - val_accuracy: 0.9827\n",
            "Epoch 19/50\n",
            "1875/1875 [==============================] - 8s 4ms/step - loss: 0.0202 - accuracy: 0.9948 - val_loss: 0.0526 - val_accuracy: 0.9819\n",
            "Epoch 20/50\n",
            "1875/1875 [==============================] - 8s 4ms/step - loss: 0.0188 - accuracy: 0.9952 - val_loss: 0.0467 - val_accuracy: 0.9845\n",
            "Epoch 21/50\n",
            "1875/1875 [==============================] - 8s 5ms/step - loss: 0.0173 - accuracy: 0.9960 - val_loss: 0.0488 - val_accuracy: 0.9837\n",
            "Epoch 22/50\n",
            "1875/1875 [==============================] - 8s 5ms/step - loss: 0.0160 - accuracy: 0.9963 - val_loss: 0.0476 - val_accuracy: 0.9840\n",
            "Epoch 23/50\n",
            "1875/1875 [==============================] - 8s 4ms/step - loss: 0.0151 - accuracy: 0.9964 - val_loss: 0.0503 - val_accuracy: 0.9832\n",
            "Epoch 24/50\n",
            "1875/1875 [==============================] - 9s 5ms/step - loss: 0.0139 - accuracy: 0.9971 - val_loss: 0.0505 - val_accuracy: 0.9839\n",
            "Epoch 25/50\n",
            "1875/1875 [==============================] - 8s 4ms/step - loss: 0.0129 - accuracy: 0.9973 - val_loss: 0.0491 - val_accuracy: 0.9848\n",
            "Epoch 26/50\n",
            "1875/1875 [==============================] - 8s 4ms/step - loss: 0.0119 - accuracy: 0.9977 - val_loss: 0.0499 - val_accuracy: 0.9847\n",
            "Epoch 27/50\n",
            "1875/1875 [==============================] - 8s 5ms/step - loss: 0.0115 - accuracy: 0.9978 - val_loss: 0.0468 - val_accuracy: 0.9849\n",
            "Epoch 28/50\n",
            "1875/1875 [==============================] - 8s 4ms/step - loss: 0.0106 - accuracy: 0.9980 - val_loss: 0.0480 - val_accuracy: 0.9838\n",
            "Epoch 29/50\n",
            "1875/1875 [==============================] - 8s 4ms/step - loss: 0.0096 - accuracy: 0.9982 - val_loss: 0.0496 - val_accuracy: 0.9839\n",
            "Epoch 30/50\n",
            "1875/1875 [==============================] - 8s 5ms/step - loss: 0.0095 - accuracy: 0.9983 - val_loss: 0.0483 - val_accuracy: 0.9850\n",
            "Epoch 31/50\n",
            "1875/1875 [==============================] - 9s 5ms/step - loss: 0.0088 - accuracy: 0.9985 - val_loss: 0.0477 - val_accuracy: 0.9845\n",
            "Epoch 32/50\n",
            "1875/1875 [==============================] - 9s 5ms/step - loss: 0.0079 - accuracy: 0.9990 - val_loss: 0.0472 - val_accuracy: 0.9849\n",
            "Epoch 33/50\n",
            "1875/1875 [==============================] - 8s 5ms/step - loss: 0.0075 - accuracy: 0.9990 - val_loss: 0.0485 - val_accuracy: 0.9843\n",
            "Epoch 34/50\n",
            "1875/1875 [==============================] - 8s 5ms/step - loss: 0.0073 - accuracy: 0.9990 - val_loss: 0.0487 - val_accuracy: 0.9846\n",
            "Epoch 35/50\n",
            "1875/1875 [==============================] - 8s 4ms/step - loss: 0.0067 - accuracy: 0.9991 - val_loss: 0.0490 - val_accuracy: 0.9850\n",
            "Epoch 36/50\n",
            "1875/1875 [==============================] - 8s 4ms/step - loss: 0.0063 - accuracy: 0.9993 - val_loss: 0.0489 - val_accuracy: 0.9848\n",
            "Epoch 37/50\n",
            "1875/1875 [==============================] - 8s 4ms/step - loss: 0.0058 - accuracy: 0.9994 - val_loss: 0.0478 - val_accuracy: 0.9847\n",
            "Epoch 38/50\n",
            "1875/1875 [==============================] - 9s 5ms/step - loss: 0.0056 - accuracy: 0.9994 - val_loss: 0.0492 - val_accuracy: 0.9850\n",
            "Epoch 39/50\n",
            "1875/1875 [==============================] - 9s 5ms/step - loss: 0.0052 - accuracy: 0.9995 - val_loss: 0.0491 - val_accuracy: 0.9844\n",
            "Epoch 40/50\n",
            "1875/1875 [==============================] - 8s 5ms/step - loss: 0.0049 - accuracy: 0.9996 - val_loss: 0.0507 - val_accuracy: 0.9852\n",
            "Epoch 41/50\n",
            "1875/1875 [==============================] - 8s 4ms/step - loss: 0.0047 - accuracy: 0.9996 - val_loss: 0.0496 - val_accuracy: 0.9854\n",
            "Epoch 42/50\n",
            "1875/1875 [==============================] - 8s 4ms/step - loss: 0.0044 - accuracy: 0.9997 - val_loss: 0.0499 - val_accuracy: 0.9851\n",
            "Epoch 43/50\n",
            "1875/1875 [==============================] - 8s 4ms/step - loss: 0.0042 - accuracy: 0.9997 - val_loss: 0.0482 - val_accuracy: 0.9852\n",
            "Epoch 44/50\n",
            "1875/1875 [==============================] - 8s 4ms/step - loss: 0.0040 - accuracy: 0.9997 - val_loss: 0.0492 - val_accuracy: 0.9851\n",
            "Epoch 45/50\n",
            "1875/1875 [==============================] - 8s 4ms/step - loss: 0.0038 - accuracy: 0.9998 - val_loss: 0.0515 - val_accuracy: 0.9851\n",
            "Epoch 46/50\n",
            "1875/1875 [==============================] - 8s 4ms/step - loss: 0.0036 - accuracy: 0.9998 - val_loss: 0.0498 - val_accuracy: 0.9855\n",
            "Epoch 47/50\n",
            "1875/1875 [==============================] - 8s 4ms/step - loss: 0.0034 - accuracy: 0.9998 - val_loss: 0.0523 - val_accuracy: 0.9853\n",
            "Epoch 48/50\n",
            "1875/1875 [==============================] - 8s 4ms/step - loss: 0.0032 - accuracy: 0.9999 - val_loss: 0.0499 - val_accuracy: 0.9849\n",
            "Epoch 49/50\n",
            "1875/1875 [==============================] - 8s 4ms/step - loss: 0.0031 - accuracy: 0.9998 - val_loss: 0.0503 - val_accuracy: 0.9851\n",
            "Epoch 50/50\n",
            "1875/1875 [==============================] - 8s 4ms/step - loss: 0.0030 - accuracy: 0.9999 - val_loss: 0.0495 - val_accuracy: 0.9852\n",
            "313/313 - 1s - loss: 0.0495 - accuracy: 0.9852\n",
            "Test accuracy: 0.9851999878883362\n",
            "Test loss: 0.0495368167757988\n"
          ],
          "name": "stdout"
        },
        {
          "output_type": "display_data",
          "data": {
            "image/png": "[encoded data removed]",
            "text/plain": [
              "<Figure size 432x288 with 1 Axes>"
            ]
          },
          "metadata": {
            "tags": [],
            "needs_background": "light"
          }
        }
      ]
    },
    {
      "cell_type": "markdown",
      "metadata": {
        "id": "dGmLnQXE5DLa"
      },
      "source": [
        "###Filter 64"
      ]
    },
    {
      "cell_type": "code",
      "metadata": {
        "id": "ydwFIQjb5G66",
        "outputId": "b7b2a47d-3eda-4154-d341-ca14512a6fc5",
        "colab": {
          "base_uri": "https://localhost:8080/",
          "height": 1000
        }
      },
      "source": [
        "conv_filter_cnn1(64)"
      ],
      "execution_count": 43,
      "outputs": [
        {
          "output_type": "stream",
          "text": [
            "Model: \"sequential_12\"\n",
            "_________________________________________________________________\n",
            "Layer (type)                 Output Shape              Param #   \n",
            "=================================================================\n",
            "conv2d_6 (Conv2D)            (None, 26, 26, 64)        640       \n",
            "_________________________________________________________________\n",
            "max_pooling2d_6 (MaxPooling2 (None, 13, 13, 64)        0         \n",
            "_________________________________________________________________\n",
            "flatten_12 (Flatten)         (None, 10816)             0         \n",
            "_________________________________________________________________\n",
            "dense_24 (Dense)             (None, 100)               1081700   \n",
            "_________________________________________________________________\n",
            "dense_25 (Dense)             (None, 10)                1010      \n",
            "=================================================================\n",
            "Total params: 1,083,350\n",
            "Trainable params: 1,083,350\n",
            "Non-trainable params: 0\n",
            "_________________________________________________________________\n",
            "Epoch 1/50\n",
            "1875/1875 [==============================] - 10s 6ms/step - loss: 0.2695 - accuracy: 0.9204 - val_loss: 0.1497 - val_accuracy: 0.9571\n",
            "Epoch 2/50\n",
            "1875/1875 [==============================] - 10s 5ms/step - loss: 0.1365 - accuracy: 0.9605 - val_loss: 0.1073 - val_accuracy: 0.9676\n",
            "Epoch 3/50\n",
            "1875/1875 [==============================] - 10s 5ms/step - loss: 0.1004 - accuracy: 0.9714 - val_loss: 0.1186 - val_accuracy: 0.9628\n",
            "Epoch 4/50\n",
            "1875/1875 [==============================] - 10s 5ms/step - loss: 0.0810 - accuracy: 0.9772 - val_loss: 0.0798 - val_accuracy: 0.9763\n",
            "Epoch 5/50\n",
            "1875/1875 [==============================] - 10s 5ms/step - loss: 0.0677 - accuracy: 0.9806 - val_loss: 0.0733 - val_accuracy: 0.9772\n",
            "Epoch 6/50\n",
            "1875/1875 [==============================] - 10s 5ms/step - loss: 0.0582 - accuracy: 0.9833 - val_loss: 0.0726 - val_accuracy: 0.9774\n",
            "Epoch 7/50\n",
            "1875/1875 [==============================] - 10s 5ms/step - loss: 0.0515 - accuracy: 0.9852 - val_loss: 0.0638 - val_accuracy: 0.9806\n",
            "Epoch 8/50\n",
            "1875/1875 [==============================] - 10s 5ms/step - loss: 0.0455 - accuracy: 0.9871 - val_loss: 0.0596 - val_accuracy: 0.9824\n",
            "Epoch 9/50\n",
            "1875/1875 [==============================] - 10s 5ms/step - loss: 0.0407 - accuracy: 0.9882 - val_loss: 0.0528 - val_accuracy: 0.9828\n",
            "Epoch 10/50\n",
            "1875/1875 [==============================] - 10s 6ms/step - loss: 0.0364 - accuracy: 0.9899 - val_loss: 0.0567 - val_accuracy: 0.9810\n",
            "Epoch 11/50\n",
            "1875/1875 [==============================] - 10s 5ms/step - loss: 0.0325 - accuracy: 0.9913 - val_loss: 0.0512 - val_accuracy: 0.9829\n",
            "Epoch 12/50\n",
            "1875/1875 [==============================] - 10s 5ms/step - loss: 0.0297 - accuracy: 0.9919 - val_loss: 0.0516 - val_accuracy: 0.9836\n",
            "Epoch 13/50\n",
            "1875/1875 [==============================] - 10s 5ms/step - loss: 0.0274 - accuracy: 0.9927 - val_loss: 0.0509 - val_accuracy: 0.9840\n",
            "Epoch 14/50\n",
            "1875/1875 [==============================] - 10s 5ms/step - loss: 0.0247 - accuracy: 0.9936 - val_loss: 0.0466 - val_accuracy: 0.9842\n",
            "Epoch 15/50\n",
            "1875/1875 [==============================] - 10s 5ms/step - loss: 0.0226 - accuracy: 0.9944 - val_loss: 0.0477 - val_accuracy: 0.9856\n",
            "Epoch 16/50\n",
            "1875/1875 [==============================] - 10s 6ms/step - loss: 0.0209 - accuracy: 0.9947 - val_loss: 0.0504 - val_accuracy: 0.9825\n",
            "Epoch 17/50\n",
            "1875/1875 [==============================] - 11s 6ms/step - loss: 0.0186 - accuracy: 0.9952 - val_loss: 0.0487 - val_accuracy: 0.9852\n",
            "Epoch 18/50\n",
            "1875/1875 [==============================] - 10s 5ms/step - loss: 0.0174 - accuracy: 0.9962 - val_loss: 0.0450 - val_accuracy: 0.9847\n",
            "Epoch 19/50\n",
            "1875/1875 [==============================] - 10s 5ms/step - loss: 0.0159 - accuracy: 0.9964 - val_loss: 0.0467 - val_accuracy: 0.9839\n",
            "Epoch 20/50\n",
            "1875/1875 [==============================] - 10s 5ms/step - loss: 0.0147 - accuracy: 0.9970 - val_loss: 0.0476 - val_accuracy: 0.9839\n",
            "Epoch 21/50\n",
            "1875/1875 [==============================] - 10s 5ms/step - loss: 0.0135 - accuracy: 0.9969 - val_loss: 0.0459 - val_accuracy: 0.9855\n",
            "Epoch 22/50\n",
            "1875/1875 [==============================] - 10s 5ms/step - loss: 0.0126 - accuracy: 0.9974 - val_loss: 0.0457 - val_accuracy: 0.9847\n",
            "Epoch 23/50\n",
            "1875/1875 [==============================] - 10s 5ms/step - loss: 0.0116 - accuracy: 0.9976 - val_loss: 0.0440 - val_accuracy: 0.9851\n",
            "Epoch 24/50\n",
            "1875/1875 [==============================] - 10s 5ms/step - loss: 0.0105 - accuracy: 0.9981 - val_loss: 0.0465 - val_accuracy: 0.9850\n",
            "Epoch 25/50\n",
            "1875/1875 [==============================] - 10s 5ms/step - loss: 0.0100 - accuracy: 0.9983 - val_loss: 0.0492 - val_accuracy: 0.9833\n",
            "Epoch 26/50\n",
            "1875/1875 [==============================] - 10s 5ms/step - loss: 0.0094 - accuracy: 0.9984 - val_loss: 0.0434 - val_accuracy: 0.9850\n",
            "Epoch 27/50\n",
            "1875/1875 [==============================] - 10s 5ms/step - loss: 0.0085 - accuracy: 0.9988 - val_loss: 0.0426 - val_accuracy: 0.9864\n",
            "Epoch 28/50\n",
            "1875/1875 [==============================] - 10s 5ms/step - loss: 0.0079 - accuracy: 0.9987 - val_loss: 0.0438 - val_accuracy: 0.9856\n",
            "Epoch 29/50\n",
            "1875/1875 [==============================] - 10s 5ms/step - loss: 0.0074 - accuracy: 0.9991 - val_loss: 0.0445 - val_accuracy: 0.9857\n",
            "Epoch 30/50\n",
            "1875/1875 [==============================] - 10s 5ms/step - loss: 0.0070 - accuracy: 0.9991 - val_loss: 0.0441 - val_accuracy: 0.9864\n",
            "Epoch 31/50\n",
            "1875/1875 [==============================] - 10s 5ms/step - loss: 0.0064 - accuracy: 0.9993 - val_loss: 0.0434 - val_accuracy: 0.9857\n",
            "Epoch 32/50\n",
            "1875/1875 [==============================] - 10s 5ms/step - loss: 0.0058 - accuracy: 0.9994 - val_loss: 0.0428 - val_accuracy: 0.9855\n",
            "Epoch 33/50\n",
            "1875/1875 [==============================] - 10s 5ms/step - loss: 0.0055 - accuracy: 0.9994 - val_loss: 0.0426 - val_accuracy: 0.9860\n",
            "Epoch 34/50\n",
            "1875/1875 [==============================] - 10s 5ms/step - loss: 0.0052 - accuracy: 0.9995 - val_loss: 0.0446 - val_accuracy: 0.9850\n",
            "Epoch 35/50\n",
            "1875/1875 [==============================] - 10s 5ms/step - loss: 0.0049 - accuracy: 0.9996 - val_loss: 0.0457 - val_accuracy: 0.9856\n",
            "Epoch 36/50\n",
            "1875/1875 [==============================] - 10s 5ms/step - loss: 0.0047 - accuracy: 0.9997 - val_loss: 0.0455 - val_accuracy: 0.9852\n",
            "Epoch 37/50\n",
            "1875/1875 [==============================] - 10s 5ms/step - loss: 0.0044 - accuracy: 0.9996 - val_loss: 0.0433 - val_accuracy: 0.9859\n",
            "Epoch 38/50\n",
            "1875/1875 [==============================] - 10s 5ms/step - loss: 0.0041 - accuracy: 0.9997 - val_loss: 0.0453 - val_accuracy: 0.9854\n",
            "Epoch 39/50\n",
            "1875/1875 [==============================] - 10s 5ms/step - loss: 0.0039 - accuracy: 0.9997 - val_loss: 0.0448 - val_accuracy: 0.9849\n",
            "Epoch 40/50\n",
            "1875/1875 [==============================] - 10s 5ms/step - loss: 0.0038 - accuracy: 0.9997 - val_loss: 0.0449 - val_accuracy: 0.9866\n",
            "Epoch 41/50\n",
            "1875/1875 [==============================] - 10s 6ms/step - loss: 0.0034 - accuracy: 0.9999 - val_loss: 0.0439 - val_accuracy: 0.9863\n",
            "Epoch 42/50\n",
            "1875/1875 [==============================] - 10s 5ms/step - loss: 0.0033 - accuracy: 0.9998 - val_loss: 0.0449 - val_accuracy: 0.9865\n",
            "Epoch 43/50\n",
            "1875/1875 [==============================] - 10s 5ms/step - loss: 0.0031 - accuracy: 0.9999 - val_loss: 0.0442 - val_accuracy: 0.9863\n",
            "Epoch 44/50\n",
            "1875/1875 [==============================] - 10s 5ms/step - loss: 0.0029 - accuracy: 0.9999 - val_loss: 0.0447 - val_accuracy: 0.9858\n",
            "Epoch 45/50\n",
            "1875/1875 [==============================] - 10s 5ms/step - loss: 0.0027 - accuracy: 0.9999 - val_loss: 0.0444 - val_accuracy: 0.9856\n",
            "Epoch 46/50\n",
            "1875/1875 [==============================] - 10s 5ms/step - loss: 0.0027 - accuracy: 0.9999 - val_loss: 0.0451 - val_accuracy: 0.9859\n",
            "Epoch 47/50\n",
            "1875/1875 [==============================] - 10s 6ms/step - loss: 0.0025 - accuracy: 0.9999 - val_loss: 0.0436 - val_accuracy: 0.9864\n",
            "Epoch 48/50\n",
            "1875/1875 [==============================] - 11s 6ms/step - loss: 0.0025 - accuracy: 0.9999 - val_loss: 0.0448 - val_accuracy: 0.9858\n",
            "Epoch 49/50\n",
            "1875/1875 [==============================] - 10s 5ms/step - loss: 0.0023 - accuracy: 0.9999 - val_loss: 0.0445 - val_accuracy: 0.9864\n",
            "Epoch 50/50\n",
            "1875/1875 [==============================] - 10s 5ms/step - loss: 0.0022 - accuracy: 0.9999 - val_loss: 0.0445 - val_accuracy: 0.9862\n",
            "313/313 - 1s - loss: 0.0445 - accuracy: 0.9862\n",
            "Test accuracy: 0.9861999750137329\n",
            "Test loss: 0.044513039290905\n"
          ],
          "name": "stdout"
        },
        {
          "output_type": "display_data",
          "data": {
            "image/png": "[encoded data removed]",
            "text/plain": [
              "<Figure size 432x288 with 1 Axes>"
            ]
          },
          "metadata": {
            "tags": [],
            "needs_background": "light"
          }
        }
      ]
    },
    {
      "cell_type": "markdown",
      "metadata": {
        "id": "lMqAZko_B9uR"
      },
      "source": [
        "###Deeper CNN 32 dan 64"
      ]
    },
    {
      "cell_type": "code",
      "metadata": {
        "id": "LF-hVd3OB_4q",
        "outputId": "9dfe67f9-f15e-4d48-c96b-806dd833769d",
        "colab": {
          "base_uri": "https://localhost:8080/",
          "height": 1000
        }
      },
      "source": [
        "deeper_model1 = Sequential()\n",
        "deeper_model1.add(Conv2D(32, (3, 3), activation='relu', kernel_initializer='he_uniform', input_shape=(28, 28, 1))) # Convolution, 32 filters, masing-masing dengan kernel 3x3\n",
        "deeper_model1.add(MaxPooling2D((2, 2))) # Pooling\n",
        "deeper_model1.add(Conv2D(64, (3, 3), activation='relu', kernel_initializer='he_uniform'))\n",
        "deeper_model1.add(MaxPooling2D((2, 2))) # Pooling\n",
        "\n",
        "deeper_model1.add(Flatten()) # Flatten hasil output\n",
        "\n",
        "# Fully connected layer\n",
        "deeper_model1.add(Dense(100, activation='relu', kernel_initializer='he_uniform')) # Activation relu dipakai, ini salah satu function yang paling banyak dipakai\n",
        "deeper_model1.add(Dense(10, activation='softmax')) # Activation softmax dipakai untuk classification, nilai 10 karena terdapat 10 class (0-9)\n",
        "\n",
        "opt = SGD(lr=0.001, momentum=0.9) # Optimizer (Stochastic Gradient Descent), untuk mencari minima dari grafik fungsi loss\n",
        "\n",
        "deeper_model1.compile(optimizer=opt, loss='categorical_crossentropy', metrics=['accuracy']) # Loss Function\n",
        "deeper_model1.summary()\n",
        "\n",
        "history_cnn1 = deeper_model1.fit(feature_train1, label_train1, batch_size=32, validation_data=(feature_test1, label_test1), epochs=50)\n",
        "\n",
        "loss1, accuracy1 = deeper_model1.evaluate(feature_test1,  label_test1, verbose=2)\n",
        "\n",
        "print(\"Test accuracy:\", accuracy1)\n",
        "print(\"Test loss:\", loss1)\n",
        "\n",
        "plot_loss(history_cnn1)"
      ],
      "execution_count": 45,
      "outputs": [
        {
          "output_type": "stream",
          "text": [
            "Model: \"sequential_14\"\n",
            "_________________________________________________________________\n",
            "Layer (type)                 Output Shape              Param #   \n",
            "=================================================================\n",
            "conv2d_9 (Conv2D)            (None, 26, 26, 32)        320       \n",
            "_________________________________________________________________\n",
            "max_pooling2d_9 (MaxPooling2 (None, 13, 13, 32)        0         \n",
            "_________________________________________________________________\n",
            "conv2d_10 (Conv2D)           (None, 11, 11, 64)        18496     \n",
            "_________________________________________________________________\n",
            "max_pooling2d_10 (MaxPooling (None, 5, 5, 64)          0         \n",
            "_________________________________________________________________\n",
            "flatten_14 (Flatten)         (None, 1600)              0         \n",
            "_________________________________________________________________\n",
            "dense_28 (Dense)             (None, 100)               160100    \n",
            "_________________________________________________________________\n",
            "dense_29 (Dense)             (None, 10)                1010      \n",
            "=================================================================\n",
            "Total params: 179,926\n",
            "Trainable params: 179,926\n",
            "Non-trainable params: 0\n",
            "_________________________________________________________________\n",
            "Epoch 1/50\n",
            "1875/1875 [==============================] - 11s 6ms/step - loss: 0.2563 - accuracy: 0.9232 - val_loss: 0.1084 - val_accuracy: 0.9681\n",
            "Epoch 2/50\n",
            "1875/1875 [==============================] - 10s 6ms/step - loss: 0.0985 - accuracy: 0.9704 - val_loss: 0.0720 - val_accuracy: 0.9789\n",
            "Epoch 3/50\n",
            "1875/1875 [==============================] - 10s 6ms/step - loss: 0.0722 - accuracy: 0.9787 - val_loss: 0.0607 - val_accuracy: 0.9820\n",
            "Epoch 4/50\n",
            "1875/1875 [==============================] - 10s 6ms/step - loss: 0.0594 - accuracy: 0.9824 - val_loss: 0.0512 - val_accuracy: 0.9840\n",
            "Epoch 5/50\n",
            "1875/1875 [==============================] - 10s 6ms/step - loss: 0.0507 - accuracy: 0.9850 - val_loss: 0.0503 - val_accuracy: 0.9835\n",
            "Epoch 6/50\n",
            "1875/1875 [==============================] - 10s 6ms/step - loss: 0.0441 - accuracy: 0.9865 - val_loss: 0.0436 - val_accuracy: 0.9870\n",
            "Epoch 7/50\n",
            "1875/1875 [==============================] - 10s 6ms/step - loss: 0.0400 - accuracy: 0.9884 - val_loss: 0.0489 - val_accuracy: 0.9841\n",
            "Epoch 8/50\n",
            "1875/1875 [==============================] - 10s 6ms/step - loss: 0.0361 - accuracy: 0.9892 - val_loss: 0.0374 - val_accuracy: 0.9876\n",
            "Epoch 9/50\n",
            "1875/1875 [==============================] - 10s 6ms/step - loss: 0.0324 - accuracy: 0.9904 - val_loss: 0.0369 - val_accuracy: 0.9879\n",
            "Epoch 10/50\n",
            "1875/1875 [==============================] - 10s 6ms/step - loss: 0.0298 - accuracy: 0.9908 - val_loss: 0.0337 - val_accuracy: 0.9885\n",
            "Epoch 11/50\n",
            "1875/1875 [==============================] - 10s 6ms/step - loss: 0.0270 - accuracy: 0.9919 - val_loss: 0.0322 - val_accuracy: 0.9902\n",
            "Epoch 12/50\n",
            "1875/1875 [==============================] - 10s 6ms/step - loss: 0.0246 - accuracy: 0.9927 - val_loss: 0.0314 - val_accuracy: 0.9896\n",
            "Epoch 13/50\n",
            "1875/1875 [==============================] - 10s 6ms/step - loss: 0.0223 - accuracy: 0.9934 - val_loss: 0.0368 - val_accuracy: 0.9882\n",
            "Epoch 14/50\n",
            "1875/1875 [==============================] - 11s 6ms/step - loss: 0.0212 - accuracy: 0.9935 - val_loss: 0.0316 - val_accuracy: 0.9896\n",
            "Epoch 15/50\n",
            "1875/1875 [==============================] - 10s 6ms/step - loss: 0.0195 - accuracy: 0.9941 - val_loss: 0.0311 - val_accuracy: 0.9900\n",
            "Epoch 16/50\n",
            "1875/1875 [==============================] - 10s 6ms/step - loss: 0.0180 - accuracy: 0.9944 - val_loss: 0.0331 - val_accuracy: 0.9898\n",
            "Epoch 17/50\n",
            "1875/1875 [==============================] - 10s 6ms/step - loss: 0.0166 - accuracy: 0.9948 - val_loss: 0.0289 - val_accuracy: 0.9910\n",
            "Epoch 18/50\n",
            "1875/1875 [==============================] - 10s 6ms/step - loss: 0.0157 - accuracy: 0.9952 - val_loss: 0.0309 - val_accuracy: 0.9907\n",
            "Epoch 19/50\n",
            "1875/1875 [==============================] - 10s 6ms/step - loss: 0.0140 - accuracy: 0.9958 - val_loss: 0.0302 - val_accuracy: 0.9906\n",
            "Epoch 20/50\n",
            "1875/1875 [==============================] - 10s 6ms/step - loss: 0.0132 - accuracy: 0.9960 - val_loss: 0.0299 - val_accuracy: 0.9901\n",
            "Epoch 21/50\n",
            "1875/1875 [==============================] - 10s 6ms/step - loss: 0.0123 - accuracy: 0.9965 - val_loss: 0.0338 - val_accuracy: 0.9892\n",
            "Epoch 22/50\n",
            "1875/1875 [==============================] - 10s 6ms/step - loss: 0.0118 - accuracy: 0.9966 - val_loss: 0.0327 - val_accuracy: 0.9906\n",
            "Epoch 23/50\n",
            "1875/1875 [==============================] - 10s 6ms/step - loss: 0.0109 - accuracy: 0.9969 - val_loss: 0.0301 - val_accuracy: 0.9911\n",
            "Epoch 24/50\n",
            "1875/1875 [==============================] - 11s 6ms/step - loss: 0.0100 - accuracy: 0.9973 - val_loss: 0.0322 - val_accuracy: 0.9904\n",
            "Epoch 25/50\n",
            "1875/1875 [==============================] - 10s 6ms/step - loss: 0.0089 - accuracy: 0.9977 - val_loss: 0.0341 - val_accuracy: 0.9906\n",
            "Epoch 26/50\n",
            "1875/1875 [==============================] - 10s 6ms/step - loss: 0.0085 - accuracy: 0.9978 - val_loss: 0.0317 - val_accuracy: 0.9906\n",
            "Epoch 27/50\n",
            "1875/1875 [==============================] - 10s 6ms/step - loss: 0.0075 - accuracy: 0.9981 - val_loss: 0.0324 - val_accuracy: 0.9906\n",
            "Epoch 28/50\n",
            "1875/1875 [==============================] - 10s 6ms/step - loss: 0.0071 - accuracy: 0.9982 - val_loss: 0.0321 - val_accuracy: 0.9906\n",
            "Epoch 29/50\n",
            "1875/1875 [==============================] - 10s 6ms/step - loss: 0.0064 - accuracy: 0.9986 - val_loss: 0.0316 - val_accuracy: 0.9912\n",
            "Epoch 30/50\n",
            "1875/1875 [==============================] - 11s 6ms/step - loss: 0.0058 - accuracy: 0.9990 - val_loss: 0.0320 - val_accuracy: 0.9903\n",
            "Epoch 31/50\n",
            "1875/1875 [==============================] - 10s 6ms/step - loss: 0.0056 - accuracy: 0.9988 - val_loss: 0.0343 - val_accuracy: 0.9905\n",
            "Epoch 32/50\n",
            "1875/1875 [==============================] - 10s 6ms/step - loss: 0.0052 - accuracy: 0.9990 - val_loss: 0.0311 - val_accuracy: 0.9903\n",
            "Epoch 33/50\n",
            "1875/1875 [==============================] - 11s 6ms/step - loss: 0.0052 - accuracy: 0.9988 - val_loss: 0.0324 - val_accuracy: 0.9900\n",
            "Epoch 34/50\n",
            "1875/1875 [==============================] - 11s 6ms/step - loss: 0.0045 - accuracy: 0.9991 - val_loss: 0.0329 - val_accuracy: 0.9905\n",
            "Epoch 35/50\n",
            "1875/1875 [==============================] - 11s 6ms/step - loss: 0.0039 - accuracy: 0.9994 - val_loss: 0.0314 - val_accuracy: 0.9913\n",
            "Epoch 36/50\n",
            "1875/1875 [==============================] - 11s 6ms/step - loss: 0.0038 - accuracy: 0.9994 - val_loss: 0.0362 - val_accuracy: 0.9897\n",
            "Epoch 37/50\n",
            "1875/1875 [==============================] - 11s 6ms/step - loss: 0.0036 - accuracy: 0.9994 - val_loss: 0.0349 - val_accuracy: 0.9897\n",
            "Epoch 38/50\n",
            "1875/1875 [==============================] - 11s 6ms/step - loss: 0.0035 - accuracy: 0.9993 - val_loss: 0.0316 - val_accuracy: 0.9917\n",
            "Epoch 39/50\n",
            "1875/1875 [==============================] - 11s 6ms/step - loss: 0.0031 - accuracy: 0.9995 - val_loss: 0.0330 - val_accuracy: 0.9908\n",
            "Epoch 40/50\n",
            "1875/1875 [==============================] - 11s 6ms/step - loss: 0.0031 - accuracy: 0.9994 - val_loss: 0.0327 - val_accuracy: 0.9911\n",
            "Epoch 41/50\n",
            "1875/1875 [==============================] - 11s 6ms/step - loss: 0.0027 - accuracy: 0.9995 - val_loss: 0.0334 - val_accuracy: 0.9910\n",
            "Epoch 42/50\n",
            "1875/1875 [==============================] - 11s 6ms/step - loss: 0.0028 - accuracy: 0.9995 - val_loss: 0.0331 - val_accuracy: 0.9911\n",
            "Epoch 43/50\n",
            "1875/1875 [==============================] - 11s 6ms/step - loss: 0.0023 - accuracy: 0.9997 - val_loss: 0.0333 - val_accuracy: 0.9910\n",
            "Epoch 44/50\n",
            "1875/1875 [==============================] - 11s 6ms/step - loss: 0.0023 - accuracy: 0.9997 - val_loss: 0.0334 - val_accuracy: 0.9913\n",
            "Epoch 45/50\n",
            "1875/1875 [==============================] - 10s 6ms/step - loss: 0.0019 - accuracy: 0.9998 - val_loss: 0.0325 - val_accuracy: 0.9912\n",
            "Epoch 46/50\n",
            "1875/1875 [==============================] - 11s 6ms/step - loss: 0.0020 - accuracy: 0.9997 - val_loss: 0.0335 - val_accuracy: 0.9907\n",
            "Epoch 47/50\n",
            "1875/1875 [==============================] - 11s 6ms/step - loss: 0.0018 - accuracy: 0.9998 - val_loss: 0.0341 - val_accuracy: 0.9915\n",
            "Epoch 48/50\n",
            "1875/1875 [==============================] - 11s 6ms/step - loss: 0.0016 - accuracy: 0.9998 - val_loss: 0.0334 - val_accuracy: 0.9915\n",
            "Epoch 49/50\n",
            "1875/1875 [==============================] - 11s 6ms/step - loss: 0.0016 - accuracy: 0.9998 - val_loss: 0.0335 - val_accuracy: 0.9915\n",
            "Epoch 50/50\n",
            "1875/1875 [==============================] - 11s 6ms/step - loss: 0.0014 - accuracy: 0.9999 - val_loss: 0.0343 - val_accuracy: 0.9915\n",
            "313/313 - 1s - loss: 0.0343 - accuracy: 0.9915\n",
            "Test accuracy: 0.9915000200271606\n",
            "Test loss: 0.034301139414310455\n"
          ],
          "name": "stdout"
        },
        {
          "output_type": "display_data",
          "data": {
            "image/png": "[encoded data removed]",
            "text/plain": [
              "<Figure size 432x288 with 1 Axes>"
            ]
          },
          "metadata": {
            "tags": [],
            "needs_background": "light"
          }
        }
      ]
    },
    {
      "cell_type": "markdown",
      "metadata": {
        "id": "sZ6ZfotNLJPn"
      },
      "source": [
        ""
      ]
    },
    {
      "cell_type": "markdown",
      "metadata": {
        "id": "hlsxnLsK7RyW"
      },
      "source": [
        "###Kesimpulan"
      ]
    },
    {
      "cell_type": "markdown",
      "metadata": {
        "id": "Si3IDFyy7UaR"
      },
      "source": [
        "Jika dibandingkan antara CNN dan Deeper CNN, pada Deeper CNN, nilai loss train akan turun secara signifikan dari 25% ke 9% dan bisa kita lihat juga bahwa **akurasinya** naik jika dibandingkan dengan CNN biasa yaitu **99%** berbanding **98%**. jumlah parameternyapun juga semakin sedikit jika dibandingkan dengan CNN biasa yaitu 179,926 (Deeper CNN) : 1,083,350 (CNN filter 64) : 1,083,350 : 542,230 (CNN filter 32), sehingga inputnya pada saat diflatten menjadi kecil. "
      ]
    }
  ]
}