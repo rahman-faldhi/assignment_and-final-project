{
  "nbformat": 4,
  "nbformat_minor": 0,
  "metadata": {
    "colab": {
      "name": "Assignment_15_no2_Rahman",
      "provenance": [],
      "collapsed_sections": []
    },
    "kernelspec": {
      "name": "python3",
      "display_name": "Python 3"
    },
    "accelerator": "GPU"
  },
  "cells": [
    {
      "cell_type": "markdown",
      "metadata": {
        "id": "R_1FBrq19bpx"
      },
      "source": [
        "adam optimizer, 32 and 64 filter, 2 layer, epoch 20"
      ]
    },
    {
      "cell_type": "code",
      "metadata": {
        "id": "8W9OerDChWSn"
      },
      "source": [
        "import numpy as np\n",
        "import os\n",
        "import matplotlib.pyplot as plt"
      ],
      "execution_count": null,
      "outputs": []
    },
    {
      "cell_type": "code",
      "metadata": {
        "id": "RP-v1lEGhrix"
      },
      "source": [
        "def plot_loss(history):\n",
        "  plt.plot(history.history['loss'], label='loss')\n",
        "  plt.plot(history.history['val_loss'], label='val_loss')\n",
        "  plt.xlabel('Epoch')\n",
        "  plt.ylabel('Loss')\n",
        "  plt.legend()\n",
        "  plt.grid(True)"
      ],
      "execution_count": null,
      "outputs": []
    },
    {
      "cell_type": "code",
      "metadata": {
        "id": "0rP_PtNohvEa"
      },
      "source": [
        "zip_path = '/content/drive/My\\ Drive/Bootcamp\\ ML2020/dataset/cats-dogs.zip'\n",
        "\n",
        "!cp {zip_path} /content/\n",
        "\n",
        "!cd /content/\n",
        "\n",
        "!unzip -q /content/cats-dogs.zip -d /content\n",
        "\n",
        "# !rm /content/cats-dogs.zip"
      ],
      "execution_count": null,
      "outputs": []
    },
    {
      "cell_type": "code",
      "metadata": {
        "id": "iuCFoagmhv5I",
        "outputId": "8121642b-458d-4bef-9ec2-07597a7b15be",
        "colab": {
          "base_uri": "https://localhost:8080/",
          "height": 375
        }
      },
      "source": [
        "from tensorflow.keras.models import Sequential\n",
        "from tensorflow.keras.layers import Conv2D, MaxPooling2D, Dense, Flatten\n",
        "from tensorflow.keras.optimizers import Adam\n",
        "\n",
        "model = Sequential()\n",
        "model.add(Conv2D(32, (3, 3), activation='relu', kernel_initializer='he_uniform', padding='same', input_shape=(200, 200, 3)))\n",
        "model.add(MaxPooling2D((2, 2)))\n",
        "\n",
        "model.add(Conv2D(64, (3, 3), activation='relu', kernel_initializer='he_uniform', padding='same', input_shape=(200, 200, 3)))\n",
        "model.add(MaxPooling2D((2, 2)))\n",
        "\n",
        "model.add(Flatten())\n",
        "\n",
        "model.add(Dense(128, activation='relu', kernel_initializer='he_uniform'))\n",
        "model.add(Dense(1, activation='sigmoid'))\n",
        "\n",
        "opt = Adam(lr=0.001, beta_1=0.9, beta_2=0.999, epsilon=1e-07)\n",
        "\n",
        "model.compile(optimizer=opt, loss='binary_crossentropy', metrics=['accuracy'])\n",
        "\n",
        "model.summary()"
      ],
      "execution_count": null,
      "outputs": [
        {
          "output_type": "stream",
          "text": [
            "Model: \"sequential\"\n",
            "_________________________________________________________________\n",
            "Layer (type)                 Output Shape              Param #   \n",
            "=================================================================\n",
            "conv2d (Conv2D)              (None, 200, 200, 32)      896       \n",
            "_________________________________________________________________\n",
            "max_pooling2d (MaxPooling2D) (None, 100, 100, 32)      0         \n",
            "_________________________________________________________________\n",
            "conv2d_1 (Conv2D)            (None, 100, 100, 64)      18496     \n",
            "_________________________________________________________________\n",
            "max_pooling2d_1 (MaxPooling2 (None, 50, 50, 64)        0         \n",
            "_________________________________________________________________\n",
            "flatten (Flatten)            (None, 160000)            0         \n",
            "_________________________________________________________________\n",
            "dense (Dense)                (None, 128)               20480128  \n",
            "_________________________________________________________________\n",
            "dense_1 (Dense)              (None, 1)                 129       \n",
            "=================================================================\n",
            "Total params: 20,499,649\n",
            "Trainable params: 20,499,649\n",
            "Non-trainable params: 0\n",
            "_________________________________________________________________\n"
          ],
          "name": "stdout"
        }
      ]
    },
    {
      "cell_type": "code",
      "metadata": {
        "id": "HH5OLxMAhydL",
        "outputId": "522ca98e-5cf0-4e1f-da77-4e54a5e7e2bc",
        "colab": {
          "base_uri": "https://localhost:8080/",
          "height": 50
        }
      },
      "source": [
        "dataset_dir = '/content/'\n",
        "\n",
        "from tensorflow.keras.preprocessing.image import ImageDataGenerator\n",
        "\n",
        "# datagen = ImageDataGenerator(rescale=1.0/255.0)\n",
        "\n",
        "train_datagen = ImageDataGenerator(rescale=1.0/255.0, width_shift_range=0.1, height_shift_range=0.1, horizontal_flip=True)\n",
        "test_datagen = ImageDataGenerator(rescale=1.0/255.0)\n",
        "\n",
        "train_aug_iterator = train_datagen.flow_from_directory(os.path.join(dataset_dir, 'train'), class_mode='binary', batch_size=128, target_size=(200, 200))\n",
        "test_aug_iterator = test_datagen.flow_from_directory(os.path.join(dataset_dir, 'test'), class_mode='binary', batch_size=128, target_size=(200, 200))"
      ],
      "execution_count": null,
      "outputs": [
        {
          "output_type": "stream",
          "text": [
            "Found 12749 images belonging to 2 classes.\n",
            "Found 2252 images belonging to 2 classes.\n"
          ],
          "name": "stdout"
        }
      ]
    },
    {
      "cell_type": "code",
      "metadata": {
        "id": "VArWruNhh29o",
        "outputId": "61c52c61-f311-499f-cd6c-87c1db448250",
        "colab": {
          "base_uri": "https://localhost:8080/",
          "height": 752
        }
      },
      "source": [
        "history_base_model = model.fit_generator(train_aug_iterator, steps_per_epoch=len(train_aug_iterator), validation_data=test_aug_iterator, validation_steps=len(test_aug_iterator), epochs=20)"
      ],
      "execution_count": null,
      "outputs": [
        {
          "output_type": "stream",
          "text": [
            "WARNING:tensorflow:From <ipython-input-6-91bb1a15b0e7>:1: Model.fit_generator (from tensorflow.python.keras.engine.training) is deprecated and will be removed in a future version.\n",
            "Instructions for updating:\n",
            "Please use Model.fit, which supports generators.\n",
            "Epoch 1/20\n",
            "  2/100 [..............................] - ETA: 6s - loss: 58.1164 - accuracy: 0.5430WARNING:tensorflow:Callbacks method `on_train_batch_end` is slow compared to the batch time (batch time: 0.0478s vs `on_train_batch_end` time: 0.0943s). Check your callbacks.\n",
            "100/100 [==============================] - 135s 1s/step - loss: 3.7403 - accuracy: 0.5517 - val_loss: 0.6648 - val_accuracy: 0.5941\n",
            "Epoch 2/20\n",
            "100/100 [==============================] - 139s 1s/step - loss: 0.6256 - accuracy: 0.6568 - val_loss: 0.5747 - val_accuracy: 0.6945\n",
            "Epoch 3/20\n",
            "100/100 [==============================] - 139s 1s/step - loss: 0.5747 - accuracy: 0.7063 - val_loss: 0.5866 - val_accuracy: 0.6998\n",
            "Epoch 4/20\n",
            "100/100 [==============================] - 136s 1s/step - loss: 0.5618 - accuracy: 0.7124 - val_loss: 0.5225 - val_accuracy: 0.7425\n",
            "Epoch 5/20\n",
            "100/100 [==============================] - 138s 1s/step - loss: 0.5399 - accuracy: 0.7306 - val_loss: 0.5092 - val_accuracy: 0.7549\n",
            "Epoch 6/20\n",
            "100/100 [==============================] - 139s 1s/step - loss: 0.5209 - accuracy: 0.7420 - val_loss: 0.4897 - val_accuracy: 0.7664\n",
            "Epoch 7/20\n",
            "100/100 [==============================] - 140s 1s/step - loss: 0.5008 - accuracy: 0.7573 - val_loss: 0.4723 - val_accuracy: 0.7722\n",
            "Epoch 8/20\n",
            "100/100 [==============================] - 140s 1s/step - loss: 0.4921 - accuracy: 0.7589 - val_loss: 0.4711 - val_accuracy: 0.7806\n",
            "Epoch 9/20\n",
            "100/100 [==============================] - 140s 1s/step - loss: 0.4809 - accuracy: 0.7708 - val_loss: 0.4500 - val_accuracy: 0.7944\n",
            "Epoch 10/20\n",
            "100/100 [==============================] - 140s 1s/step - loss: 0.4701 - accuracy: 0.7748 - val_loss: 0.4549 - val_accuracy: 0.7869\n",
            "Epoch 11/20\n",
            "100/100 [==============================] - 141s 1s/step - loss: 0.4641 - accuracy: 0.7793 - val_loss: 0.4794 - val_accuracy: 0.7922\n",
            "Epoch 12/20\n",
            "100/100 [==============================] - 139s 1s/step - loss: 0.4517 - accuracy: 0.7875 - val_loss: 0.4232 - val_accuracy: 0.8091\n",
            "Epoch 13/20\n",
            "100/100 [==============================] - 138s 1s/step - loss: 0.4452 - accuracy: 0.7904 - val_loss: 0.4343 - val_accuracy: 0.7971\n",
            "Epoch 14/20\n",
            "100/100 [==============================] - 140s 1s/step - loss: 0.4394 - accuracy: 0.7943 - val_loss: 0.4476 - val_accuracy: 0.7846\n",
            "Epoch 15/20\n",
            "100/100 [==============================] - 136s 1s/step - loss: 0.4344 - accuracy: 0.7998 - val_loss: 0.4396 - val_accuracy: 0.7984\n",
            "Epoch 16/20\n",
            "100/100 [==============================] - 140s 1s/step - loss: 0.4333 - accuracy: 0.7989 - val_loss: 0.4019 - val_accuracy: 0.8219\n",
            "Epoch 17/20\n",
            "100/100 [==============================] - 142s 1s/step - loss: 0.4216 - accuracy: 0.8052 - val_loss: 0.4514 - val_accuracy: 0.7962\n",
            "Epoch 18/20\n",
            "100/100 [==============================] - 133s 1s/step - loss: 0.4173 - accuracy: 0.8091 - val_loss: 0.4270 - val_accuracy: 0.8091\n",
            "Epoch 19/20\n",
            "100/100 [==============================] - 134s 1s/step - loss: 0.4123 - accuracy: 0.8126 - val_loss: 0.4091 - val_accuracy: 0.8233\n",
            "Epoch 20/20\n",
            "100/100 [==============================] - 134s 1s/step - loss: 0.4170 - accuracy: 0.8116 - val_loss: 0.4533 - val_accuracy: 0.7904\n"
          ],
          "name": "stdout"
        }
      ]
    },
    {
      "cell_type": "code",
      "metadata": {
        "id": "dosQFqafh5xS",
        "outputId": "9f9160c1-fe1b-4c4a-b732-751e17d6dba0",
        "colab": {
          "base_uri": "https://localhost:8080/"
        }
      },
      "source": [
        "plot_loss(history_base_model)"
      ],
      "execution_count": null,
      "outputs": [
        {
          "output_type": "display_data",
          "data": {
            "image/png": "[encoded data removed]",
            "text/plain": [
              "<Figure size 432x288 with 1 Axes>"
            ]
          },
          "metadata": {
            "tags": [],
            "needs_background": "light"
          }
        }
      ]
    },
    {
      "cell_type": "markdown",
      "metadata": {
        "id": "R-a0uw-r8r-5"
      },
      "source": [
        "**Kesimpulan:** Nilai terbaik yang saya dapat adalah pada Optimizer Adam, menggunakan 2 filter, parameter data generator width_shift_range=0.1 dan height_shift_range=0.1, 20 epoch, saya mendapatkan akurasi sebesar **82%** dan val_loss **40%** pada epoch ke 16"
      ]
    }
  ]
}