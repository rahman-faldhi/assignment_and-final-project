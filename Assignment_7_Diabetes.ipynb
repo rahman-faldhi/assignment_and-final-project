{
  "nbformat": 4,
  "nbformat_minor": 0,
  "metadata": {
    "colab": {
      "name": "Assignment 7 Diabetes",
      "provenance": [],
      "collapsed_sections": []
    },
    "kernelspec": {
      "name": "python3",
      "display_name": "Python 3"
    }
  },
  "cells": [
    {
      "cell_type": "code",
      "metadata": {
        "id": "t3WXSMH3965b",
        "colab_type": "code",
        "colab": {}
      },
      "source": [
        "import os\n",
        "import pandas as pd\n",
        "import numpy as np\n",
        "import matplotlib.pyplot as plt\n",
        "import xgboost as xgb\n",
        "import seaborn as sb\n",
        "from sklearn.metrics import auc, accuracy_score, confusion_matrix, mean_squared_error\n",
        "from sklearn.model_selection import cross_val_score, GridSearchCV, KFold, RandomizedSearchCV, train_test_split\n",
        "from sklearn.metrics import classification_report\n",
        "from sklearn.linear_model import LogisticRegression\n",
        "from sklearn.preprocessing import StandardScaler\n",
        "from sklearn.metrics import f1_score, precision_score, recall_score\n",
        "from sklearn import preprocessing\n",
        "from sklearn import linear_model\n",
        "from sklearn.metrics import r2_score, mean_squared_error\n",
        "from sklearn.model_selection import cross_val_score\n",
        "from sklearn.model_selection import train_test_split\n",
        "from sklearn.linear_model import LinearRegression"
      ],
      "execution_count": 216,
      "outputs": []
    },
    {
      "cell_type": "code",
      "metadata": {
        "id": "oiriesOw-eF7",
        "colab_type": "code",
        "colab": {
          "base_uri": "https://localhost:8080/",
          "height": 204
        },
        "outputId": "9bfd4d66-3c0e-47f1-bb6e-77ad71ac7689"
      },
      "source": [
        "os.chdir('/content/drive/My Drive/Bootcamp ML2020/')\n",
        "os.listdir('.')\n",
        "dataset = pd.read_csv('pima-indians-diabetes.csv')\n",
        "dataset.head()"
      ],
      "execution_count": 217,
      "outputs": [
        {
          "output_type": "execute_result",
          "data": {
            "text/html": [
              "<div>\n",
              "<style scoped>\n",
              "    .dataframe tbody tr th:only-of-type {\n",
              "        vertical-align: middle;\n",
              "    }\n",
              "\n",
              "    .dataframe tbody tr th {\n",
              "        vertical-align: top;\n",
              "    }\n",
              "\n",
              "    .dataframe thead th {\n",
              "        text-align: right;\n",
              "    }\n",
              "</style>\n",
              "<table border=\"1\" class=\"dataframe\">\n",
              "  <thead>\n",
              "    <tr style=\"text-align: right;\">\n",
              "      <th></th>\n",
              "      <th>Pregnancies</th>\n",
              "      <th>Glucose</th>\n",
              "      <th>BloodPressure</th>\n",
              "      <th>SkinThickness</th>\n",
              "      <th>Insulin</th>\n",
              "      <th>BMI</th>\n",
              "      <th>DiabetesPedigreeFunction</th>\n",
              "      <th>Age</th>\n",
              "      <th>Outcome</th>\n",
              "    </tr>\n",
              "  </thead>\n",
              "  <tbody>\n",
              "    <tr>\n",
              "      <th>0</th>\n",
              "      <td>6</td>\n",
              "      <td>148</td>\n",
              "      <td>72</td>\n",
              "      <td>35</td>\n",
              "      <td>0</td>\n",
              "      <td>33.6</td>\n",
              "      <td>0.627</td>\n",
              "      <td>50</td>\n",
              "      <td>1</td>\n",
              "    </tr>\n",
              "    <tr>\n",
              "      <th>1</th>\n",
              "      <td>1</td>\n",
              "      <td>85</td>\n",
              "      <td>66</td>\n",
              "      <td>29</td>\n",
              "      <td>0</td>\n",
              "      <td>26.6</td>\n",
              "      <td>0.351</td>\n",
              "      <td>31</td>\n",
              "      <td>0</td>\n",
              "    </tr>\n",
              "    <tr>\n",
              "      <th>2</th>\n",
              "      <td>8</td>\n",
              "      <td>183</td>\n",
              "      <td>64</td>\n",
              "      <td>0</td>\n",
              "      <td>0</td>\n",
              "      <td>23.3</td>\n",
              "      <td>0.672</td>\n",
              "      <td>32</td>\n",
              "      <td>1</td>\n",
              "    </tr>\n",
              "    <tr>\n",
              "      <th>3</th>\n",
              "      <td>1</td>\n",
              "      <td>89</td>\n",
              "      <td>66</td>\n",
              "      <td>23</td>\n",
              "      <td>94</td>\n",
              "      <td>28.1</td>\n",
              "      <td>0.167</td>\n",
              "      <td>21</td>\n",
              "      <td>0</td>\n",
              "    </tr>\n",
              "    <tr>\n",
              "      <th>4</th>\n",
              "      <td>0</td>\n",
              "      <td>137</td>\n",
              "      <td>40</td>\n",
              "      <td>35</td>\n",
              "      <td>168</td>\n",
              "      <td>43.1</td>\n",
              "      <td>2.288</td>\n",
              "      <td>33</td>\n",
              "      <td>1</td>\n",
              "    </tr>\n",
              "  </tbody>\n",
              "</table>\n",
              "</div>"
            ],
            "text/plain": [
              "   Pregnancies  Glucose  BloodPressure  ...  DiabetesPedigreeFunction  Age  Outcome\n",
              "0            6      148             72  ...                     0.627   50        1\n",
              "1            1       85             66  ...                     0.351   31        0\n",
              "2            8      183             64  ...                     0.672   32        1\n",
              "3            1       89             66  ...                     0.167   21        0\n",
              "4            0      137             40  ...                     2.288   33        1\n",
              "\n",
              "[5 rows x 9 columns]"
            ]
          },
          "metadata": {
            "tags": []
          },
          "execution_count": 217
        }
      ]
    },
    {
      "cell_type": "code",
      "metadata": {
        "id": "8ryFD443_LET",
        "colab_type": "code",
        "colab": {
          "base_uri": "https://localhost:8080/",
          "height": 289
        },
        "outputId": "104f4660-3515-463a-95fd-debc058ac1eb"
      },
      "source": [
        "dataset.info()"
      ],
      "execution_count": 218,
      "outputs": [
        {
          "output_type": "stream",
          "text": [
            "<class 'pandas.core.frame.DataFrame'>\n",
            "RangeIndex: 768 entries, 0 to 767\n",
            "Data columns (total 9 columns):\n",
            " #   Column                    Non-Null Count  Dtype  \n",
            "---  ------                    --------------  -----  \n",
            " 0   Pregnancies               768 non-null    int64  \n",
            " 1   Glucose                   768 non-null    int64  \n",
            " 2   BloodPressure             768 non-null    int64  \n",
            " 3   SkinThickness             768 non-null    int64  \n",
            " 4   Insulin                   768 non-null    int64  \n",
            " 5   BMI                       768 non-null    float64\n",
            " 6   DiabetesPedigreeFunction  768 non-null    float64\n",
            " 7   Age                       768 non-null    int64  \n",
            " 8   Outcome                   768 non-null    int64  \n",
            "dtypes: float64(2), int64(7)\n",
            "memory usage: 54.1 KB\n"
          ],
          "name": "stdout"
        }
      ]
    },
    {
      "cell_type": "code",
      "metadata": {
        "id": "SexTQhiR_PWs",
        "colab_type": "code",
        "colab": {
          "base_uri": "https://localhost:8080/",
          "height": 297
        },
        "outputId": "18201193-81f6-418e-bb2e-2def8d187c27"
      },
      "source": [
        "dataset.describe()"
      ],
      "execution_count": 219,
      "outputs": [
        {
          "output_type": "execute_result",
          "data": {
            "text/html": [
              "<div>\n",
              "<style scoped>\n",
              "    .dataframe tbody tr th:only-of-type {\n",
              "        vertical-align: middle;\n",
              "    }\n",
              "\n",
              "    .dataframe tbody tr th {\n",
              "        vertical-align: top;\n",
              "    }\n",
              "\n",
              "    .dataframe thead th {\n",
              "        text-align: right;\n",
              "    }\n",
              "</style>\n",
              "<table border=\"1\" class=\"dataframe\">\n",
              "  <thead>\n",
              "    <tr style=\"text-align: right;\">\n",
              "      <th></th>\n",
              "      <th>Pregnancies</th>\n",
              "      <th>Glucose</th>\n",
              "      <th>BloodPressure</th>\n",
              "      <th>SkinThickness</th>\n",
              "      <th>Insulin</th>\n",
              "      <th>BMI</th>\n",
              "      <th>DiabetesPedigreeFunction</th>\n",
              "      <th>Age</th>\n",
              "      <th>Outcome</th>\n",
              "    </tr>\n",
              "  </thead>\n",
              "  <tbody>\n",
              "    <tr>\n",
              "      <th>count</th>\n",
              "      <td>768.000000</td>\n",
              "      <td>768.000000</td>\n",
              "      <td>768.000000</td>\n",
              "      <td>768.000000</td>\n",
              "      <td>768.000000</td>\n",
              "      <td>768.000000</td>\n",
              "      <td>768.000000</td>\n",
              "      <td>768.000000</td>\n",
              "      <td>768.000000</td>\n",
              "    </tr>\n",
              "    <tr>\n",
              "      <th>mean</th>\n",
              "      <td>3.845052</td>\n",
              "      <td>120.894531</td>\n",
              "      <td>69.105469</td>\n",
              "      <td>20.536458</td>\n",
              "      <td>79.799479</td>\n",
              "      <td>31.992578</td>\n",
              "      <td>0.471876</td>\n",
              "      <td>33.240885</td>\n",
              "      <td>0.348958</td>\n",
              "    </tr>\n",
              "    <tr>\n",
              "      <th>std</th>\n",
              "      <td>3.369578</td>\n",
              "      <td>31.972618</td>\n",
              "      <td>19.355807</td>\n",
              "      <td>15.952218</td>\n",
              "      <td>115.244002</td>\n",
              "      <td>7.884160</td>\n",
              "      <td>0.331329</td>\n",
              "      <td>11.760232</td>\n",
              "      <td>0.476951</td>\n",
              "    </tr>\n",
              "    <tr>\n",
              "      <th>min</th>\n",
              "      <td>0.000000</td>\n",
              "      <td>0.000000</td>\n",
              "      <td>0.000000</td>\n",
              "      <td>0.000000</td>\n",
              "      <td>0.000000</td>\n",
              "      <td>0.000000</td>\n",
              "      <td>0.078000</td>\n",
              "      <td>21.000000</td>\n",
              "      <td>0.000000</td>\n",
              "    </tr>\n",
              "    <tr>\n",
              "      <th>25%</th>\n",
              "      <td>1.000000</td>\n",
              "      <td>99.000000</td>\n",
              "      <td>62.000000</td>\n",
              "      <td>0.000000</td>\n",
              "      <td>0.000000</td>\n",
              "      <td>27.300000</td>\n",
              "      <td>0.243750</td>\n",
              "      <td>24.000000</td>\n",
              "      <td>0.000000</td>\n",
              "    </tr>\n",
              "    <tr>\n",
              "      <th>50%</th>\n",
              "      <td>3.000000</td>\n",
              "      <td>117.000000</td>\n",
              "      <td>72.000000</td>\n",
              "      <td>23.000000</td>\n",
              "      <td>30.500000</td>\n",
              "      <td>32.000000</td>\n",
              "      <td>0.372500</td>\n",
              "      <td>29.000000</td>\n",
              "      <td>0.000000</td>\n",
              "    </tr>\n",
              "    <tr>\n",
              "      <th>75%</th>\n",
              "      <td>6.000000</td>\n",
              "      <td>140.250000</td>\n",
              "      <td>80.000000</td>\n",
              "      <td>32.000000</td>\n",
              "      <td>127.250000</td>\n",
              "      <td>36.600000</td>\n",
              "      <td>0.626250</td>\n",
              "      <td>41.000000</td>\n",
              "      <td>1.000000</td>\n",
              "    </tr>\n",
              "    <tr>\n",
              "      <th>max</th>\n",
              "      <td>17.000000</td>\n",
              "      <td>199.000000</td>\n",
              "      <td>122.000000</td>\n",
              "      <td>99.000000</td>\n",
              "      <td>846.000000</td>\n",
              "      <td>67.100000</td>\n",
              "      <td>2.420000</td>\n",
              "      <td>81.000000</td>\n",
              "      <td>1.000000</td>\n",
              "    </tr>\n",
              "  </tbody>\n",
              "</table>\n",
              "</div>"
            ],
            "text/plain": [
              "       Pregnancies     Glucose  ...         Age     Outcome\n",
              "count   768.000000  768.000000  ...  768.000000  768.000000\n",
              "mean      3.845052  120.894531  ...   33.240885    0.348958\n",
              "std       3.369578   31.972618  ...   11.760232    0.476951\n",
              "min       0.000000    0.000000  ...   21.000000    0.000000\n",
              "25%       1.000000   99.000000  ...   24.000000    0.000000\n",
              "50%       3.000000  117.000000  ...   29.000000    0.000000\n",
              "75%       6.000000  140.250000  ...   41.000000    1.000000\n",
              "max      17.000000  199.000000  ...   81.000000    1.000000\n",
              "\n",
              "[8 rows x 9 columns]"
            ]
          },
          "metadata": {
            "tags": []
          },
          "execution_count": 219
        }
      ]
    },
    {
      "cell_type": "code",
      "metadata": {
        "id": "0Y8qzt0HJkJ7",
        "colab_type": "code",
        "colab": {
          "base_uri": "https://localhost:8080/",
          "height": 68
        },
        "outputId": "5bc1c9b5-7a56-4ffe-ce69-e027350e2afc"
      },
      "source": [
        "dataset['Outcome'].value_counts()"
      ],
      "execution_count": 220,
      "outputs": [
        {
          "output_type": "execute_result",
          "data": {
            "text/plain": [
              "0    500\n",
              "1    268\n",
              "Name: Outcome, dtype: int64"
            ]
          },
          "metadata": {
            "tags": []
          },
          "execution_count": 220
        }
      ]
    },
    {
      "cell_type": "code",
      "metadata": {
        "id": "aXn6sIV0KY1D",
        "colab_type": "code",
        "colab": {
          "base_uri": "https://localhost:8080/",
          "height": 68
        },
        "outputId": "32546496-a315-4502-e368-242a3fb3af41"
      },
      "source": [
        "dataset.columns"
      ],
      "execution_count": 221,
      "outputs": [
        {
          "output_type": "execute_result",
          "data": {
            "text/plain": [
              "Index(['Pregnancies', 'Glucose', 'BloodPressure', 'SkinThickness', 'Insulin',\n",
              "       'BMI', 'DiabetesPedigreeFunction', 'Age', 'Outcome'],\n",
              "      dtype='object')"
            ]
          },
          "metadata": {
            "tags": []
          },
          "execution_count": 221
        }
      ]
    },
    {
      "cell_type": "code",
      "metadata": {
        "id": "BqqKsnDWRFiJ",
        "colab_type": "code",
        "colab": {
          "base_uri": "https://localhost:8080/",
          "height": 419
        },
        "outputId": "87d8bd23-f715-41cf-968f-b9a4b7cafc18"
      },
      "source": [
        "dataset"
      ],
      "execution_count": 222,
      "outputs": [
        {
          "output_type": "execute_result",
          "data": {
            "text/html": [
              "<div>\n",
              "<style scoped>\n",
              "    .dataframe tbody tr th:only-of-type {\n",
              "        vertical-align: middle;\n",
              "    }\n",
              "\n",
              "    .dataframe tbody tr th {\n",
              "        vertical-align: top;\n",
              "    }\n",
              "\n",
              "    .dataframe thead th {\n",
              "        text-align: right;\n",
              "    }\n",
              "</style>\n",
              "<table border=\"1\" class=\"dataframe\">\n",
              "  <thead>\n",
              "    <tr style=\"text-align: right;\">\n",
              "      <th></th>\n",
              "      <th>Pregnancies</th>\n",
              "      <th>Glucose</th>\n",
              "      <th>BloodPressure</th>\n",
              "      <th>SkinThickness</th>\n",
              "      <th>Insulin</th>\n",
              "      <th>BMI</th>\n",
              "      <th>DiabetesPedigreeFunction</th>\n",
              "      <th>Age</th>\n",
              "      <th>Outcome</th>\n",
              "    </tr>\n",
              "  </thead>\n",
              "  <tbody>\n",
              "    <tr>\n",
              "      <th>0</th>\n",
              "      <td>6</td>\n",
              "      <td>148</td>\n",
              "      <td>72</td>\n",
              "      <td>35</td>\n",
              "      <td>0</td>\n",
              "      <td>33.6</td>\n",
              "      <td>0.627</td>\n",
              "      <td>50</td>\n",
              "      <td>1</td>\n",
              "    </tr>\n",
              "    <tr>\n",
              "      <th>1</th>\n",
              "      <td>1</td>\n",
              "      <td>85</td>\n",
              "      <td>66</td>\n",
              "      <td>29</td>\n",
              "      <td>0</td>\n",
              "      <td>26.6</td>\n",
              "      <td>0.351</td>\n",
              "      <td>31</td>\n",
              "      <td>0</td>\n",
              "    </tr>\n",
              "    <tr>\n",
              "      <th>2</th>\n",
              "      <td>8</td>\n",
              "      <td>183</td>\n",
              "      <td>64</td>\n",
              "      <td>0</td>\n",
              "      <td>0</td>\n",
              "      <td>23.3</td>\n",
              "      <td>0.672</td>\n",
              "      <td>32</td>\n",
              "      <td>1</td>\n",
              "    </tr>\n",
              "    <tr>\n",
              "      <th>3</th>\n",
              "      <td>1</td>\n",
              "      <td>89</td>\n",
              "      <td>66</td>\n",
              "      <td>23</td>\n",
              "      <td>94</td>\n",
              "      <td>28.1</td>\n",
              "      <td>0.167</td>\n",
              "      <td>21</td>\n",
              "      <td>0</td>\n",
              "    </tr>\n",
              "    <tr>\n",
              "      <th>4</th>\n",
              "      <td>0</td>\n",
              "      <td>137</td>\n",
              "      <td>40</td>\n",
              "      <td>35</td>\n",
              "      <td>168</td>\n",
              "      <td>43.1</td>\n",
              "      <td>2.288</td>\n",
              "      <td>33</td>\n",
              "      <td>1</td>\n",
              "    </tr>\n",
              "    <tr>\n",
              "      <th>...</th>\n",
              "      <td>...</td>\n",
              "      <td>...</td>\n",
              "      <td>...</td>\n",
              "      <td>...</td>\n",
              "      <td>...</td>\n",
              "      <td>...</td>\n",
              "      <td>...</td>\n",
              "      <td>...</td>\n",
              "      <td>...</td>\n",
              "    </tr>\n",
              "    <tr>\n",
              "      <th>763</th>\n",
              "      <td>10</td>\n",
              "      <td>101</td>\n",
              "      <td>76</td>\n",
              "      <td>48</td>\n",
              "      <td>180</td>\n",
              "      <td>32.9</td>\n",
              "      <td>0.171</td>\n",
              "      <td>63</td>\n",
              "      <td>0</td>\n",
              "    </tr>\n",
              "    <tr>\n",
              "      <th>764</th>\n",
              "      <td>2</td>\n",
              "      <td>122</td>\n",
              "      <td>70</td>\n",
              "      <td>27</td>\n",
              "      <td>0</td>\n",
              "      <td>36.8</td>\n",
              "      <td>0.340</td>\n",
              "      <td>27</td>\n",
              "      <td>0</td>\n",
              "    </tr>\n",
              "    <tr>\n",
              "      <th>765</th>\n",
              "      <td>5</td>\n",
              "      <td>121</td>\n",
              "      <td>72</td>\n",
              "      <td>23</td>\n",
              "      <td>112</td>\n",
              "      <td>26.2</td>\n",
              "      <td>0.245</td>\n",
              "      <td>30</td>\n",
              "      <td>0</td>\n",
              "    </tr>\n",
              "    <tr>\n",
              "      <th>766</th>\n",
              "      <td>1</td>\n",
              "      <td>126</td>\n",
              "      <td>60</td>\n",
              "      <td>0</td>\n",
              "      <td>0</td>\n",
              "      <td>30.1</td>\n",
              "      <td>0.349</td>\n",
              "      <td>47</td>\n",
              "      <td>1</td>\n",
              "    </tr>\n",
              "    <tr>\n",
              "      <th>767</th>\n",
              "      <td>1</td>\n",
              "      <td>93</td>\n",
              "      <td>70</td>\n",
              "      <td>31</td>\n",
              "      <td>0</td>\n",
              "      <td>30.4</td>\n",
              "      <td>0.315</td>\n",
              "      <td>23</td>\n",
              "      <td>0</td>\n",
              "    </tr>\n",
              "  </tbody>\n",
              "</table>\n",
              "<p>768 rows × 9 columns</p>\n",
              "</div>"
            ],
            "text/plain": [
              "     Pregnancies  Glucose  ...  Age  Outcome\n",
              "0              6      148  ...   50        1\n",
              "1              1       85  ...   31        0\n",
              "2              8      183  ...   32        1\n",
              "3              1       89  ...   21        0\n",
              "4              0      137  ...   33        1\n",
              "..           ...      ...  ...  ...      ...\n",
              "763           10      101  ...   63        0\n",
              "764            2      122  ...   27        0\n",
              "765            5      121  ...   30        0\n",
              "766            1      126  ...   47        1\n",
              "767            1       93  ...   23        0\n",
              "\n",
              "[768 rows x 9 columns]"
            ]
          },
          "metadata": {
            "tags": []
          },
          "execution_count": 222
        }
      ]
    },
    {
      "cell_type": "code",
      "metadata": {
        "id": "trDdNNAhM0JT",
        "colab_type": "code",
        "colab": {
          "base_uri": "https://localhost:8080/",
          "height": 289
        },
        "outputId": "24c7fa76-f2cb-4d01-961a-4f227e8bc6ea"
      },
      "source": [
        "dataset.info()"
      ],
      "execution_count": 223,
      "outputs": [
        {
          "output_type": "stream",
          "text": [
            "<class 'pandas.core.frame.DataFrame'>\n",
            "RangeIndex: 768 entries, 0 to 767\n",
            "Data columns (total 9 columns):\n",
            " #   Column                    Non-Null Count  Dtype  \n",
            "---  ------                    --------------  -----  \n",
            " 0   Pregnancies               768 non-null    int64  \n",
            " 1   Glucose                   768 non-null    int64  \n",
            " 2   BloodPressure             768 non-null    int64  \n",
            " 3   SkinThickness             768 non-null    int64  \n",
            " 4   Insulin                   768 non-null    int64  \n",
            " 5   BMI                       768 non-null    float64\n",
            " 6   DiabetesPedigreeFunction  768 non-null    float64\n",
            " 7   Age                       768 non-null    int64  \n",
            " 8   Outcome                   768 non-null    int64  \n",
            "dtypes: float64(2), int64(7)\n",
            "memory usage: 54.1 KB\n"
          ],
          "name": "stdout"
        }
      ]
    },
    {
      "cell_type": "code",
      "metadata": {
        "id": "JTOlLHjpBeaA",
        "colab_type": "code",
        "colab": {}
      },
      "source": [
        "# scaler = preprocessing.StandardScaler() \n",
        "\n",
        "# dataset.columns\n",
        "\n",
        "# feature = dataset.drop(['Outcome'], axis=1) # Hapus kolom Outcome dari feature karena ini adalah variabel yang kita ingin diprediksi\n",
        "# label = dataset['Outcome'] # Kolom Outcome digunakan karena ini adalah yang ingin kita prediksi\n",
        "\n",
        "# feature_scaled = scaler.fit_transform(feature.values) # Features setelah discaling\n",
        "# label_scaled = scaler.fit_transform(dataset['Outcome'].values.reshape(-1,1)).flatten() # Label/hasil prediksi setelah scaling\n",
        "\n",
        "# feature_train, feature_test,label_train, label_test = train_test_split(feature_scaled, label_scaled, test_size=0.2)"
      ],
      "execution_count": 224,
      "outputs": []
    },
    {
      "cell_type": "markdown",
      "metadata": {
        "id": "oehYyFpvKhN1",
        "colab_type": "text"
      },
      "source": [
        "**EDA**"
      ]
    },
    {
      "cell_type": "code",
      "metadata": {
        "id": "myfxYYTqKgHX",
        "colab_type": "code",
        "colab": {
          "base_uri": "https://localhost:8080/",
          "height": 265
        },
        "outputId": "ffe91e9b-eea7-49e8-dde0-8a15dd934d14"
      },
      "source": [
        "out_null = dataset.loc[dataset[\"Outcome\"] == 0]\n",
        "out_one = dataset.loc[dataset[\"Outcome\"] == 1]\n",
        "\n",
        "plt.plot(out_null[\"Pregnancies\"],np.zeros_like(out_null[\"Age\"]), 'o')\n",
        "plt.plot(out_one[\"Pregnancies\"],np.zeros_like(out_one[\"Age\"]), 'x')\n",
        "plt.grid()\n",
        "plt.show()"
      ],
      "execution_count": 225,
      "outputs": [
        {
          "output_type": "display_data",
          "data": {
            "image/png": "[encoded data removed]",
            "text/plain": [
              "<Figure size 432x288 with 1 Axes>"
            ]
          },
          "metadata": {
            "tags": []
          }
        }
      ]
    },
    {
      "cell_type": "code",
      "metadata": {
        "id": "VmOioUZjdY2-",
        "colab_type": "code",
        "colab": {}
      },
      "source": [
        "# sb.set_style(\"whitegrid\");\n",
        "# sb.pairplot(dataset, hue=\"Outcome\", size=3);\n",
        "# plt.show()"
      ],
      "execution_count": 226,
      "outputs": []
    },
    {
      "cell_type": "code",
      "metadata": {
        "id": "oj8sU72pKNlx",
        "colab_type": "code",
        "colab": {}
      },
      "source": [
        "Y = dataset['Outcome'] # Target prediksi\n",
        "x = dataset.drop(['Outcome'], axis=1) # Data Id tidak diperlukan"
      ],
      "execution_count": 227,
      "outputs": []
    },
    {
      "cell_type": "code",
      "metadata": {
        "id": "XmdKdHAXNi2_",
        "colab_type": "code",
        "colab": {}
      },
      "source": [
        "scaler = StandardScaler()\n",
        "X = scaler.fit_transform(x)\n",
        "data_x = pd.DataFrame(X, columns=x.columns)"
      ],
      "execution_count": 228,
      "outputs": []
    },
    {
      "cell_type": "code",
      "metadata": {
        "id": "qSOcz1CeN24Z",
        "colab_type": "code",
        "colab": {}
      },
      "source": [
        "x_train, x_test, y_train, y_test = train_test_split(data_x, Y, test_size=0.2)"
      ],
      "execution_count": 229,
      "outputs": []
    },
    {
      "cell_type": "code",
      "metadata": {
        "id": "-9EZ5gi65R-7",
        "colab_type": "code",
        "colab": {
          "base_uri": "https://localhost:8080/",
          "height": 88
        },
        "outputId": "4f47dc7a-9000-4139-e146-dd45cf087516"
      },
      "source": [
        "from imblearn.over_sampling import SMOTE\n",
        "smt=SMOTE()\n",
        "x_train, y_train = smt.fit_sample(x_train, y_train)\n",
        "np.bincount(y_train)"
      ],
      "execution_count": 230,
      "outputs": [
        {
          "output_type": "stream",
          "text": [
            "/usr/local/lib/python3.6/dist-packages/sklearn/utils/deprecation.py:87: FutureWarning: Function safe_indexing is deprecated; safe_indexing is deprecated in version 0.22 and will be removed in version 0.24.\n",
            "  warnings.warn(msg, category=FutureWarning)\n"
          ],
          "name": "stderr"
        },
        {
          "output_type": "execute_result",
          "data": {
            "text/plain": [
              "array([406, 406])"
            ]
          },
          "metadata": {
            "tags": []
          },
          "execution_count": 230
        }
      ]
    },
    {
      "cell_type": "markdown",
      "metadata": {
        "id": "aukx7AyVSu_q",
        "colab_type": "text"
      },
      "source": [
        "**Logistic Regression**"
      ]
    },
    {
      "cell_type": "code",
      "metadata": {
        "id": "mizZ9mZON7fa",
        "colab_type": "code",
        "colab": {
          "base_uri": "https://localhost:8080/",
          "height": 102
        },
        "outputId": "b054ac3b-6dba-4e96-d69f-2f6c595960d1"
      },
      "source": [
        "logreg = LogisticRegression(tol=0.25)\n",
        "logreg.fit(x_train, y_train)\n",
        "y_pred = logreg.predict(x_test)\n",
        "print('Accuracy of logistic regression classifier on train set: {:.2f}'.format(logreg.score(x_train, y_train))) # .score() -> Accuracy\n",
        "print('Accuracy of logistic regression classifier on test set: {:.2f}'.format(logreg.score(x_test, y_test))) # .score() -> Accuracy\n",
        "print(\"f1 score         :\",f1_score(y_test, y_pred, average='macro'))\n",
        "print(\"precision score  :\",precision_score(y_test, y_pred, average='macro'))\n",
        "print(\"recall score     :\",recall_score(y_test, y_pred, average='macro'))"
      ],
      "execution_count": 231,
      "outputs": [
        {
          "output_type": "stream",
          "text": [
            "Accuracy of logistic regression classifier on train set: 0.75\n",
            "Accuracy of logistic regression classifier on test set: 0.79\n",
            "f1 score         : 0.7861111111111112\n",
            "precision score  : 0.7831737346101231\n",
            "recall score     : 0.7936170212765958\n"
          ],
          "name": "stdout"
        }
      ]
    },
    {
      "cell_type": "code",
      "metadata": {
        "id": "QP_glaINTGsj",
        "colab_type": "code",
        "colab": {
          "base_uri": "https://localhost:8080/",
          "height": 170
        },
        "outputId": "03d2349a-ac14-473f-b53f-0ed3a21bfb98"
      },
      "source": [
        "print(classification_report(y_test, y_pred))"
      ],
      "execution_count": 232,
      "outputs": [
        {
          "output_type": "stream",
          "text": [
            "              precision    recall  f1-score   support\n",
            "\n",
            "           0       0.86      0.79      0.82        94\n",
            "           1       0.71      0.80      0.75        60\n",
            "\n",
            "    accuracy                           0.79       154\n",
            "   macro avg       0.78      0.79      0.79       154\n",
            "weighted avg       0.80      0.79      0.79       154\n",
            "\n"
          ],
          "name": "stdout"
        }
      ]
    },
    {
      "cell_type": "markdown",
      "metadata": {
        "id": "0KRGWNU6ImjW",
        "colab_type": "text"
      },
      "source": [
        "**Decision Tree Classifier**"
      ]
    },
    {
      "cell_type": "code",
      "metadata": {
        "id": "aeeCRE7UIERw",
        "colab_type": "code",
        "colab": {
          "base_uri": "https://localhost:8080/",
          "height": 102
        },
        "outputId": "cef3699a-b193-4bdb-cd1c-26360bd16fa8"
      },
      "source": [
        "from sklearn.tree import DecisionTreeClassifier\n",
        "dectree = DecisionTreeClassifier()\n",
        "dectree.fit(x_train, y_train)\n",
        "y_pred = dectree.predict(x_test)\n",
        "print('Accuracy of Decision Tree Classifier on train set: {:.2f}'.format(dectree.score(x_train, y_train))) # .score() -> Accuracy\n",
        "print('Accuracy of Decision Tree Classifier on test set: {:.2f}'.format(dectree.score(x_test, y_test))) # .score() -> Accuracy\n",
        "print(\"f1 score         :\",f1_score(y_test, y_pred, average='macro'))\n",
        "print(\"precision score  :\",precision_score(y_test, y_pred, average='macro'))\n",
        "print(\"recall score     :\",recall_score(y_test, y_pred, average='macro'))\n"
      ],
      "execution_count": 233,
      "outputs": [
        {
          "output_type": "stream",
          "text": [
            "Accuracy of Decision Tree Classifier on train set: 1.00\n",
            "Accuracy of Decision Tree Classifier on test set: 0.71\n",
            "f1 score         : 0.6957614942528736\n",
            "precision score  : 0.6989795918367347\n",
            "recall score     : 0.6936170212765957\n"
          ],
          "name": "stdout"
        }
      ]
    },
    {
      "cell_type": "code",
      "metadata": {
        "id": "9GE7pQ31Is0k",
        "colab_type": "code",
        "colab": {
          "base_uri": "https://localhost:8080/",
          "height": 170
        },
        "outputId": "9ed4c3f3-582b-45a6-b9a0-3300ddcd41d5"
      },
      "source": [
        "print(classification_report(y_test, y_pred))"
      ],
      "execution_count": 234,
      "outputs": [
        {
          "output_type": "stream",
          "text": [
            "              precision    recall  f1-score   support\n",
            "\n",
            "           0       0.76      0.79      0.77        94\n",
            "           1       0.64      0.60      0.62        60\n",
            "\n",
            "    accuracy                           0.71       154\n",
            "   macro avg       0.70      0.69      0.70       154\n",
            "weighted avg       0.71      0.71      0.71       154\n",
            "\n"
          ],
          "name": "stdout"
        }
      ]
    },
    {
      "cell_type": "markdown",
      "metadata": {
        "id": "AlV-7BGrTcWL",
        "colab_type": "text"
      },
      "source": [
        "**SVM**\n"
      ]
    },
    {
      "cell_type": "code",
      "metadata": {
        "id": "GK01w6LSTM3W",
        "colab_type": "code",
        "colab": {
          "base_uri": "https://localhost:8080/",
          "height": 374
        },
        "outputId": "bc1c23d4-2473-47b0-edc7-1d3858b9be59"
      },
      "source": [
        "from sklearn.svm import SVC\n",
        "\n",
        "def kernel_svc(ks):\n",
        "  classifier_svc = SVC(kernel = ks, shrinking=True)\n",
        "  classifier_svc.fit(x_train, y_train)\n",
        "  y_pred = classifier_svc.predict(x_test)\n",
        "  print('Accuracy of SVC ',ks,' classifier on test set: {:.2f}'.format(classifier_svc.score(x_train, y_train))) # .score() -> Accuracy\n",
        "  print('Accuracy of SVC ',ks,' classifier on test set: {:.2f}'.format(classifier_svc.score(x_test, y_test)))\n",
        "  print(f1_score(y_test, y_pred, average=\"macro\"))\n",
        "  print(precision_score(y_test, y_pred, average=\"macro\"))\n",
        "  print(recall_score(y_test, y_pred, average=\"macro\"))\n",
        "\n",
        "kernelsvc=['rbf','poly','linear']\n",
        "for x in kernelsvc:\n",
        "  print(\"SVC linear: \", x)\n",
        "  kernel_svc(x)\n",
        "  print()"
      ],
      "execution_count": 247,
      "outputs": [
        {
          "output_type": "stream",
          "text": [
            "SVC linear:  rbf\n",
            "Accuracy of SVC  rbf  classifier on test set: 0.84\n",
            "Accuracy of SVC  rbf  classifier on test set: 0.75\n",
            "0.7387218862835515\n",
            "0.7364041859667181\n",
            "0.7443262411347518\n",
            "\n",
            "SVC linear:  poly\n",
            "Accuracy of SVC  poly  classifier on test set: 0.77\n",
            "Accuracy of SVC  poly  classifier on test set: 0.75\n",
            "0.7353951890034365\n",
            "0.7418518518518519\n",
            "0.7315602836879432\n",
            "\n",
            "SVC linear:  linear\n",
            "Accuracy of SVC  linear  classifier on test set: 0.74\n",
            "Accuracy of SVC  linear  classifier on test set: 0.79\n",
            "0.7851037851037851\n",
            "0.7821969696969697\n",
            "0.7906028368794327\n",
            "\n"
          ],
          "name": "stdout"
        }
      ]
    },
    {
      "cell_type": "code",
      "metadata": {
        "id": "IKW7aIFvViXU",
        "colab_type": "code",
        "colab": {
          "base_uri": "https://localhost:8080/",
          "height": 102
        },
        "outputId": "0b8724cc-b3e7-4f03-b955-a91207b17a32"
      },
      "source": [
        "classifier_linear_svc = SVC()\n",
        "classifier_linear_svc.fit(x_train, y_train)\n",
        "y_pred = classifier_linear_svc.predict(x_test)\n",
        "print('Accuracy of LinearSVC classifier on train set: {:.2f}'.format(classifier_linear_svc.score(x_train, y_train))) # .score() -> Accuracy\n",
        "print('Accuracy of LinearSVC classifier on test set: {:.2f}'.format(classifier_linear_svc.score(x_test, y_test)))\n",
        "print(f1_score(y_test, y_pred, average=\"macro\"))\n",
        "print(precision_score(y_test, y_pred, average=\"macro\"))\n",
        "print(recall_score(y_test, y_pred, average=\"macro\"))"
      ],
      "execution_count": 236,
      "outputs": [
        {
          "output_type": "stream",
          "text": [
            "Accuracy of LinearSVC classifier on train set: 0.84\n",
            "Accuracy of LinearSVC classifier on test set: 0.75\n",
            "0.7387218862835515\n",
            "0.7364041859667181\n",
            "0.7443262411347518\n"
          ],
          "name": "stdout"
        }
      ]
    },
    {
      "cell_type": "markdown",
      "metadata": {
        "id": "ZBpLpygedpu_",
        "colab_type": "text"
      },
      "source": [
        "**Random Forest**"
      ]
    },
    {
      "cell_type": "code",
      "metadata": {
        "id": "HzOFhxfPdoYP",
        "colab_type": "code",
        "colab": {
          "base_uri": "https://localhost:8080/",
          "height": 102
        },
        "outputId": "b5b86613-c21e-4ef0-cd93-fa29146cf363"
      },
      "source": [
        "from sklearn.ensemble import RandomForestClassifier\n",
        "rf_model = RandomForestClassifier(n_estimators=300, bootstrap=True, max_features = \"sqrt\")\n",
        "rf_model.fit(x_train, y_train)\n",
        "y_pred = rf_model.predict(x_test)\n",
        "print('Accuracy of Random Forest on train set: {:.2f}'.format(rf_model.score(x_train, y_train)))\n",
        "print('Accuracy of Random Forest on test set: {:.2f}'.format(rf_model.score(x_test, y_test)))\n",
        "print(f1_score(y_test, y_pred, average=\"macro\"))\n",
        "print(precision_score(y_test, y_pred, average=\"macro\"))\n",
        "print(recall_score(y_test, y_pred, average=\"macro\"))"
      ],
      "execution_count": 246,
      "outputs": [
        {
          "output_type": "stream",
          "text": [
            "Accuracy of Random Forest on train set: 1.00\n",
            "Accuracy of Random Forest on test set: 0.79\n",
            "0.7710295111511603\n",
            "0.7767676767676768\n",
            "0.7671985815602838\n"
          ],
          "name": "stdout"
        }
      ]
    },
    {
      "cell_type": "markdown",
      "metadata": {
        "id": "DuB9YgLoedam",
        "colab_type": "text"
      },
      "source": [
        "**K-Nearest Neighbors**"
      ]
    },
    {
      "cell_type": "code",
      "metadata": {
        "id": "dioB-a8geQSP",
        "colab_type": "code",
        "colab": {
          "base_uri": "https://localhost:8080/",
          "height": 476
        },
        "outputId": "2d42e2b7-0555-4c63-d7fd-94cef0190493"
      },
      "source": [
        "from sklearn.neighbors import KNeighborsClassifier\n",
        "from sklearn.metrics import confusion_matrix\n",
        "from sklearn.neighbors import KNeighborsRegressor\n",
        "\n",
        "def k_near(knnr):\n",
        "  # knear = KNeighborsClassifier(knnr)\n",
        "  # knear.fit(x_train, y_train)\n",
        "  # y_pred = knear.predict(x_test)\n",
        "  # print('Accuracy of KNN on train set: {:.2f}'.format(knear.score(x_train, y_train)))\n",
        "  # print('Accuracy of KNN on test set: {:.2f}'.format(knear.score(x_test, y_test)))\n",
        "  # print(f1_score(y_test, y_pred, average=\"macro\"))\n",
        "  # print(precision_score(y_test, y_pred, average=\"macro\"))\n",
        "  # print(recall_score(y_test, y_pred, average=\"macro\"))\n",
        "  \n",
        "  knn = KNeighborsClassifier(knnr)\n",
        "  knn.fit(x_train, y_train)\n",
        "  f1_score(knn.predict(x_train), y_train)\n",
        "  cross_validation_score = cross_val_score(knn, x_train, y_train, cv=10)\n",
        "  knn_score = f1_score(knn.predict(x_test), y_test) \n",
        "  return knn_score\n",
        "\n",
        "# k=[1,3,5,7,9,11,13,15,99]\n",
        "# for x in k:\n",
        "#   print(\"K Nearest Neighbor: \", x)\n",
        "#   k_near(x)\n",
        "#   print()\n",
        "\n",
        "k=[1,3,5,7,9,11,13,15,99]\n",
        "for x in k:\n",
        "  print(\"K Nearest Neighbor: \", x)\n",
        "  print(k_near(x))\n",
        "  print()"
      ],
      "execution_count": 238,
      "outputs": [
        {
          "output_type": "stream",
          "text": [
            "K Nearest Neighbor:  1\n",
            "0.5471698113207547\n",
            "\n",
            "K Nearest Neighbor:  3\n",
            "0.6984126984126984\n",
            "\n",
            "K Nearest Neighbor:  5\n",
            "0.7343749999999999\n",
            "\n",
            "K Nearest Neighbor:  7\n",
            "0.7328244274809161\n",
            "\n",
            "K Nearest Neighbor:  9\n",
            "0.7205882352941178\n",
            "\n",
            "K Nearest Neighbor:  11\n",
            "0.7246376811594204\n",
            "\n",
            "K Nearest Neighbor:  13\n",
            "0.7338129496402879\n",
            "\n",
            "K Nearest Neighbor:  15\n",
            "0.7142857142857143\n",
            "\n",
            "K Nearest Neighbor:  99\n",
            "0.6911764705882353\n",
            "\n"
          ],
          "name": "stdout"
        }
      ]
    },
    {
      "cell_type": "markdown",
      "metadata": {
        "id": "rPTickxHqPUn",
        "colab_type": "text"
      },
      "source": [
        "**XGBoost**"
      ]
    },
    {
      "cell_type": "code",
      "metadata": {
        "id": "cNEg0DjkqP2b",
        "colab_type": "code",
        "colab": {
          "base_uri": "https://localhost:8080/",
          "height": 119
        },
        "outputId": "4109a534-e619-43a2-f4db-42b9a04da8c7"
      },
      "source": [
        "xgb_model = xgb.XGBClassifier(objective=\"reg:linear\", n_estimators=150, learning_rate=0.07, booster='gbtree')\n",
        "xgb_model.fit(x_train, y_train)\n",
        "y_pred = xgb_model.predict(x_test.values)\n",
        "print('Accuracy of XGBoost on train set: {:.2f}'.format(xgb_model.score(x_train, y_train)))\n",
        "print('Accuracy of XGBoost on test set: {:.2f}'.format(xgb_model.score(np.array(x_test), y_test)))\n",
        "print(f1_score(y_test, y_pred, average=\"macro\"))\n",
        "print(precision_score(y_test, y_pred, average=\"macro\"))\n",
        "print(recall_score(y_test, y_pred, average=\"macro\"))"
      ],
      "execution_count": 239,
      "outputs": [
        {
          "output_type": "stream",
          "text": [
            "[07:43:25] WARNING: /workspace/src/objective/regression_obj.cu:152: reg:linear is now deprecated in favor of reg:squarederror.\n",
            "Accuracy of XGBoost on train set: 0.91\n",
            "Accuracy of XGBoost on test set: 0.77\n",
            "0.7571525118269881\n",
            "0.7626262626262627\n",
            "0.7535460992907801\n"
          ],
          "name": "stdout"
        }
      ]
    },
    {
      "cell_type": "markdown",
      "metadata": {
        "id": "H-2zhcWY5MPI",
        "colab_type": "text"
      },
      "source": [
        "**Gaussian Process Classifier**"
      ]
    },
    {
      "cell_type": "code",
      "metadata": {
        "id": "OHH5_KlY4T8C",
        "colab_type": "code",
        "colab": {
          "base_uri": "https://localhost:8080/",
          "height": 102
        },
        "outputId": "162db337-886c-44a1-b434-bf8741b74859"
      },
      "source": [
        "from sklearn.gaussian_process import GaussianProcessClassifier\n",
        "\n",
        "\n",
        "gaus_model = GaussianProcessClassifier()\n",
        "gaus_model.fit(x_train, y_train)\n",
        "\n",
        "y_pred = gaus_model.predict(x_test)\n",
        "print('Accuracy of Gauss on train set: {:.2f}'.format(gaus_model.score(x_train, y_train)))\n",
        "print('Accuracy of Gauss on test set: {:.2f}'.format(gaus_model.score(x_test, y_test)))\n",
        "print(f1_score(y_test, y_pred, average=\"macro\"))\n",
        "print(precision_score(y_test, y_pred, average=\"macro\"))\n",
        "print(recall_score(y_test, y_pred, average=\"macro\"))\n"
      ],
      "execution_count": 240,
      "outputs": [
        {
          "output_type": "stream",
          "text": [
            "Accuracy of Gauss on train set: 0.90\n",
            "Accuracy of Gauss on test set: 0.75\n",
            "0.7387218862835515\n",
            "0.7364041859667181\n",
            "0.7443262411347518\n"
          ],
          "name": "stdout"
        }
      ]
    },
    {
      "cell_type": "markdown",
      "metadata": {
        "id": "LRbFKUOFFOr4",
        "colab_type": "text"
      },
      "source": [
        "**MLP Classifier**"
      ]
    },
    {
      "cell_type": "code",
      "metadata": {
        "id": "ercNZnv9EBGG",
        "colab_type": "code",
        "colab": {
          "base_uri": "https://localhost:8080/",
          "height": 102
        },
        "outputId": "1acd1f2d-120b-479c-85b0-9ae56c328293"
      },
      "source": [
        "from sklearn.neural_network import MLPClassifier\n",
        "MLP_model = MLPClassifier(hidden_layer_sizes=(3,), activation='logistic',\n",
        "                       solver='adam', alpha=0.0001,learning_rate='constant', \n",
        "                      learning_rate_init=0.3)\n",
        "MLP_model.fit(x_train, y_train)\n",
        "\n",
        "y_pred = MLP_model.predict(x_test)\n",
        "print('Accuracy of MLP on train set: {:.2f}'.format(MLP_model.score(x_train, y_train)))\n",
        "print('Accuracy of MLP on test set: {:.2f}'.format(MLP_model.score(x_test, y_test)))\n",
        "print(f1_score(y_test, y_pred, average=\"macro\"))\n",
        "print(precision_score(y_test, y_pred, average=\"macro\"))\n",
        "print(recall_score(y_test, y_pred, average=\"macro\"))"
      ],
      "execution_count": 241,
      "outputs": [
        {
          "output_type": "stream",
          "text": [
            "Accuracy of MLP on train set: 0.78\n",
            "Accuracy of MLP on test set: 0.77\n",
            "0.7665757221428262\n",
            "0.7641091219096334\n",
            "0.774645390070922\n"
          ],
          "name": "stdout"
        }
      ]
    },
    {
      "cell_type": "markdown",
      "metadata": {
        "id": "8xKEd6FBNIjT",
        "colab_type": "text"
      },
      "source": [
        "**ADA Boost**"
      ]
    },
    {
      "cell_type": "code",
      "metadata": {
        "id": "aI9yTKZGMSfC",
        "colab_type": "code",
        "colab": {
          "base_uri": "https://localhost:8080/",
          "height": 102
        },
        "outputId": "5e4d8da4-082f-46eb-99d2-d610a5737eba"
      },
      "source": [
        "from sklearn.ensemble import AdaBoostClassifier\n",
        "ada_model = AdaBoostClassifier(n_estimators=100, random_state=0)\n",
        "ada_model.fit(x_train, y_train)\n",
        "\n",
        "y_pred = ada_model.predict(x_test)\n",
        "print('Accuracy of ADA Boost on train set: {:.2f}'.format(ada_model.score(x_train, y_train)))\n",
        "print('Accuracy of ADA Boost on test set: {:.2f}'.format(ada_model.score(x_test, y_test)))\n",
        "print(f1_score(y_test, y_pred, average=\"macro\"))\n",
        "print(precision_score(y_test, y_pred, average=\"macro\"))\n",
        "print(recall_score(y_test, y_pred, average=\"macro\"))"
      ],
      "execution_count": 242,
      "outputs": [
        {
          "output_type": "stream",
          "text": [
            "Accuracy of ADA Boost on train set: 0.86\n",
            "Accuracy of ADA Boost on test set: 0.77\n",
            "0.7617890131259115\n",
            "0.7610611669310771\n",
            "0.7625886524822695\n"
          ],
          "name": "stdout"
        }
      ]
    },
    {
      "cell_type": "markdown",
      "metadata": {
        "id": "y9tObssIHueW",
        "colab_type": "text"
      },
      "source": [
        "Dari setiap algoritma yang digunakan untuk menentukan akurasi dengan komposisi 20 train dan 80 test, saya mendapatkan hasil bahwa algoritma yang paling tinggi tingkat akurasinya ada 3, diantaranya random forest, svc linear dan logistic regression dimana akurasi yang didapatkan sama sama 79%"
      ]
    }
  ]
}