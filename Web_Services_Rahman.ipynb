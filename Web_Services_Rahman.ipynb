{
  "nbformat": 4,
  "nbformat_minor": 0,
  "metadata": {
    "colab": {
      "name": "Web_Services_Rahman.ipynb",
      "provenance": [],
      "collapsed_sections": []
    },
    "kernelspec": {
      "name": "python3",
      "display_name": "Python 3"
    },
    "accelerator": "GPU"
  },
  "cells": [
    {
      "cell_type": "markdown",
      "metadata": {
        "id": "MfmcY7yK1VDT"
      },
      "source": [
        "# JSON\n",
        "Sebuah format/cara representasi data\n",
        "\n",
        "```\n",
        "{\n",
        "  \"petal_width\": 0.8,\n",
        "  \"petal_length\": 0.9,\n",
        "  \"sepal_width\": 0.1,\n",
        "  \"sepal_length\": 10\n",
        "}\n",
        "```\n",
        "\n"
      ]
    },
    {
      "cell_type": "markdown",
      "metadata": {
        "id": "6XEQUBEV1auc"
      },
      "source": [
        "\n",
        "\n",
        "```\n",
        "{\n",
        "  \"output\": \"Iris-Versicolor\"\n",
        "}\n",
        "```\n",
        "\n"
      ]
    },
    {
      "cell_type": "code",
      "metadata": {
        "id": "c8rV2Y0quwfC",
        "outputId": "8a52a86c-6612-4243-fb6d-d9326661a4b7",
        "colab": {
          "base_uri": "https://localhost:8080/",
          "height": 212
        }
      },
      "source": [
        "!pip install flask-ngrok"
      ],
      "execution_count": 8,
      "outputs": [
        {
          "output_type": "stream",
          "text": [
            "Requirement already satisfied: flask-ngrok in /usr/local/lib/python3.6/dist-packages (0.0.25)\n",
            "Requirement already satisfied: Flask>=0.8 in /usr/local/lib/python3.6/dist-packages (from flask-ngrok) (1.1.2)\n",
            "Requirement already satisfied: requests in /usr/local/lib/python3.6/dist-packages (from flask-ngrok) (2.23.0)\n",
            "Requirement already satisfied: Jinja2>=2.10.1 in /usr/local/lib/python3.6/dist-packages (from Flask>=0.8->flask-ngrok) (2.11.2)\n",
            "Requirement already satisfied: click>=5.1 in /usr/local/lib/python3.6/dist-packages (from Flask>=0.8->flask-ngrok) (7.1.2)\n",
            "Requirement already satisfied: itsdangerous>=0.24 in /usr/local/lib/python3.6/dist-packages (from Flask>=0.8->flask-ngrok) (1.1.0)\n",
            "Requirement already satisfied: Werkzeug>=0.15 in /usr/local/lib/python3.6/dist-packages (from Flask>=0.8->flask-ngrok) (1.0.1)\n",
            "Requirement already satisfied: certifi>=2017.4.17 in /usr/local/lib/python3.6/dist-packages (from requests->flask-ngrok) (2020.6.20)\n",
            "Requirement already satisfied: chardet<4,>=3.0.2 in /usr/local/lib/python3.6/dist-packages (from requests->flask-ngrok) (3.0.4)\n",
            "Requirement already satisfied: urllib3!=1.25.0,!=1.25.1,<1.26,>=1.21.1 in /usr/local/lib/python3.6/dist-packages (from requests->flask-ngrok) (1.24.3)\n",
            "Requirement already satisfied: idna<3,>=2.5 in /usr/local/lib/python3.6/dist-packages (from requests->flask-ngrok) (2.10)\n",
            "Requirement already satisfied: MarkupSafe>=0.23 in /usr/local/lib/python3.6/dist-packages (from Jinja2>=2.10.1->Flask>=0.8->flask-ngrok) (1.1.1)\n"
          ],
          "name": "stdout"
        }
      ]
    },
    {
      "cell_type": "code",
      "metadata": {
        "id": "SzvQ4mC3xf4q"
      },
      "source": [
        "from flask_ngrok import run_with_ngrok\n",
        "from flask import Flask"
      ],
      "execution_count": 20,
      "outputs": []
    },
    {
      "cell_type": "code",
      "metadata": {
        "id": "bC7dkWg5xmeF"
      },
      "source": [
        "app = Flask(__name__) # Membuat sebuah object Flask\n",
        "\n",
        "@app.route(\"/home\")\n",
        "def home():\n",
        "    return \"<h1>Running Flask on Google Colab!</h1>\""
      ],
      "execution_count": 21,
      "outputs": []
    },
    {
      "cell_type": "code",
      "metadata": {
        "id": "RUfH_wCsxnbn"
      },
      "source": [
        "from flask import jsonify, request"
      ],
      "execution_count": 22,
      "outputs": []
    },
    {
      "cell_type": "code",
      "metadata": {
        "id": "LAB6SmH3xqgv"
      },
      "source": [
        "@app.route('/classify', methods=['POST'])\n",
        "def classification():\n",
        "  sepal_width = float(request.json['sepal_width'])\n",
        "  sepal_length = float(request.json['sepal_length'])\n",
        "  petal_length = float(request.json['petal_length'])\n",
        "  petal_width = float(request.json['petal_width'])\n",
        "\n",
        "  if sepal_width < 0.5 and petal_length > 0.6:\n",
        "    output_class = \"Iris-Versicolor\"\n",
        "  else:\n",
        "    output_class = \"Iris-Virginica\"\n",
        "\n",
        "  return jsonify({\n",
        "      \"output\": output_class\n",
        "  })"
      ],
      "execution_count": 23,
      "outputs": []
    },
    {
      "cell_type": "code",
      "metadata": {
        "id": "CJEW5jPVxt-k",
        "outputId": "af50d614-d3cb-4403-8cf2-0364c9e17a56",
        "colab": {
          "base_uri": "https://localhost:8080/",
          "height": 180
        }
      },
      "source": [
        "run_with_ngrok(app)\n",
        "\n",
        "app.run()"
      ],
      "execution_count": 15,
      "outputs": [
        {
          "output_type": "stream",
          "text": [
            " * Serving Flask app \"__main__\" (lazy loading)\n",
            " * Environment: production\n",
            "\u001b[31m   WARNING: This is a development server. Do not use it in a production deployment.\u001b[0m\n",
            "\u001b[2m   Use a production WSGI server instead.\u001b[0m\n",
            " * Debug mode: off\n"
          ],
          "name": "stdout"
        },
        {
          "output_type": "stream",
          "text": [
            " * Running on http://127.0.0.1:5000/ (Press CTRL+C to quit)\n"
          ],
          "name": "stderr"
        },
        {
          "output_type": "stream",
          "text": [
            " * Running on http://3e081ada5551.ngrok.io * Running on http://3e081ada5551.ngrok.io\n",
            " * Traffic stats available on http://127.0.0.1:4040\n",
            "\n",
            " * Traffic stats available on http://127.0.0.1:4040\n"
          ],
          "name": "stdout"
        }
      ]
    },
    {
      "cell_type": "markdown",
      "metadata": {
        "id": "zzQPw9nMby-Z"
      },
      "source": [
        "# Contoh Memanggil Web Service Secara Langsung"
      ]
    },
    {
      "cell_type": "code",
      "metadata": {
        "id": "Q-SLlY4Zxx71"
      },
      "source": [
        "import requests\n",
        "import json"
      ],
      "execution_count": 17,
      "outputs": []
    },
    {
      "cell_type": "code",
      "metadata": {
        "id": "jJe7qDEFb5Vb"
      },
      "source": [
        "url = 'http://3e081ada5551.ngrok.io/classify'\n",
        "\n",
        "data = {\n",
        "\t\"sepal_width\": 0.5,\n",
        "\t\"sepal_length\": 0.7,\n",
        "\t\"petal_width\": 0.3,\n",
        "\t\"petal_length\": 1.0\n",
        "}\n",
        "\n",
        "json_response = requests.post(url, json=data)\n",
        "\n",
        "json_response\n",
        "response = json.loads(json_response.text)"
      ],
      "execution_count": null,
      "outputs": []
    },
    {
      "cell_type": "code",
      "metadata": {
        "id": "E3QxSHeQb80_"
      },
      "source": [
        "response['output']"
      ],
      "execution_count": null,
      "outputs": []
    }
  ]
}