{
  "nbformat": 4,
  "nbformat_minor": 0,
  "metadata": {
    "colab": {
      "name": "Web_service_bonus_Rahman.ipynb",
      "provenance": []
    },
    "kernelspec": {
      "name": "python3",
      "display_name": "Python 3"
    }
  },
  "cells": [
    {
      "cell_type": "code",
      "metadata": {
        "id": "6UKb6PZwtfXQ"
      },
      "source": [
        "import requests\n",
        "import json\n",
        "import cv2 as cv\n",
        "import matplotlib.pyplot as plt"
      ],
      "execution_count": 1,
      "outputs": []
    },
    {
      "cell_type": "code",
      "metadata": {
        "id": "72U5AcYWtqvm"
      },
      "source": [
        "url = 'http://0efb69fc1e9f.ngrok.io/classify'\n",
        "\n",
        "data = {\n",
        "\t\"file_path\": '/content/sample_numb_1.jpg' ,\n",
        "}\n",
        "\n",
        "json_response = requests.post(url,  json=data)\n",
        "json_response\n",
        "response = json.loads(json_response.text)"
      ],
      "execution_count": 2,
      "outputs": []
    },
    {
      "cell_type": "code",
      "metadata": {
        "id": "1SC0VQYEttN0",
        "outputId": "6ffe18f1-ea02-4c4a-d3bb-213462cf1f37",
        "colab": {
          "base_uri": "https://localhost:8080/"
        }
      },
      "source": [
        "response"
      ],
      "execution_count": 3,
      "outputs": [
        {
          "output_type": "execute_result",
          "data": {
            "text/plain": [
              "{'output': '1'}"
            ]
          },
          "metadata": {
            "tags": []
          },
          "execution_count": 3
        }
      ]
    }
  ]
}