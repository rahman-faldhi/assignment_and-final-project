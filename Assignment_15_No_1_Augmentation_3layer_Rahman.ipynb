{
  "nbformat": 4,
  "nbformat_minor": 0,
  "metadata": {
    "colab": {
      "name": "Assignment_15_No_1_Augmentation_3layer_Rahman.ipynb",
      "provenance": [],
      "collapsed_sections": []
    },
    "kernelspec": {
      "name": "python3",
      "display_name": "Python 3"
    },
    "accelerator": "GPU"
  },
  "cells": [
    {
      "cell_type": "code",
      "metadata": {
        "id": "RhKzreBXsVFJ"
      },
      "source": [
        "import numpy as np\n",
        "import os\n",
        "import matplotlib.pyplot as plt"
      ],
      "execution_count": null,
      "outputs": []
    },
    {
      "cell_type": "code",
      "metadata": {
        "id": "J2LaGZ4y0hsY"
      },
      "source": [
        "def plot_loss(history):\n",
        "  plt.plot(history.history['loss'], label='loss')\n",
        "  plt.plot(history.history['val_loss'], label='val_loss')\n",
        "  plt.xlabel('Epoch')\n",
        "  plt.ylabel('Loss')\n",
        "  plt.legend()\n",
        "  plt.grid(True)"
      ],
      "execution_count": null,
      "outputs": []
    },
    {
      "cell_type": "code",
      "metadata": {
        "id": "SGzbDGXi203O"
      },
      "source": [
        "zip_path = '/content/drive/My\\ Drive/Bootcamp\\ ML2020/dataset/cats-dogs.zip'\n",
        "\n",
        "!cp {zip_path} /content/\n",
        "\n",
        "!cd /content/\n",
        "\n",
        "!unzip -q /content/cats-dogs.zip -d /content\n",
        "\n",
        "# !rm /content/cats-dogs.zip"
      ],
      "execution_count": null,
      "outputs": []
    },
    {
      "cell_type": "code",
      "metadata": {
        "id": "nonlrtxQ2-Vy",
        "outputId": "9bfdb2fe-f4c6-4a53-aad7-63c207cb022e",
        "colab": {
          "base_uri": "https://localhost:8080/",
          "height": 440
        }
      },
      "source": [
        "from tensorflow.keras.models import Sequential\n",
        "from tensorflow.keras.layers import Conv2D, MaxPooling2D, Dense, Flatten\n",
        "from tensorflow.keras.optimizers import SGD\n",
        "\n",
        "model = Sequential()\n",
        "model.add(Conv2D(32, (3, 3), activation='relu', kernel_initializer='he_uniform', padding='same', input_shape=(200, 200, 3)))\n",
        "model.add(MaxPooling2D((2, 2)))\n",
        "\n",
        "model.add(Conv2D(64, (3, 3), activation='relu', kernel_initializer='he_uniform', padding='same', input_shape=(200, 200, 3)))\n",
        "model.add(MaxPooling2D((2, 2)))\n",
        "\n",
        "model.add(Conv2D(128, (3, 3), activation='relu', kernel_initializer='he_uniform', padding='same', input_shape=(200, 200, 3)))\n",
        "model.add(MaxPooling2D((2, 2)))\n",
        "\n",
        "model.add(Flatten())\n",
        "\n",
        "model.add(Dense(128, activation='relu', kernel_initializer='he_uniform'))\n",
        "model.add(Dense(1, activation='sigmoid'))\n",
        "\n",
        "opt = SGD(lr=0.001, momentum=0.9)\n",
        "\n",
        "model.compile(optimizer=opt, loss='binary_crossentropy', metrics=['accuracy'])\n",
        "\n",
        "model.summary()"
      ],
      "execution_count": null,
      "outputs": [
        {
          "output_type": "stream",
          "text": [
            "Model: \"sequential\"\n",
            "_________________________________________________________________\n",
            "Layer (type)                 Output Shape              Param #   \n",
            "=================================================================\n",
            "conv2d (Conv2D)              (None, 200, 200, 32)      896       \n",
            "_________________________________________________________________\n",
            "max_pooling2d (MaxPooling2D) (None, 100, 100, 32)      0         \n",
            "_________________________________________________________________\n",
            "conv2d_1 (Conv2D)            (None, 100, 100, 64)      18496     \n",
            "_________________________________________________________________\n",
            "max_pooling2d_1 (MaxPooling2 (None, 50, 50, 64)        0         \n",
            "_________________________________________________________________\n",
            "conv2d_2 (Conv2D)            (None, 50, 50, 128)       73856     \n",
            "_________________________________________________________________\n",
            "max_pooling2d_2 (MaxPooling2 (None, 25, 25, 128)       0         \n",
            "_________________________________________________________________\n",
            "flatten (Flatten)            (None, 80000)             0         \n",
            "_________________________________________________________________\n",
            "dense (Dense)                (None, 128)               10240128  \n",
            "_________________________________________________________________\n",
            "dense_1 (Dense)              (None, 1)                 129       \n",
            "=================================================================\n",
            "Total params: 10,333,505\n",
            "Trainable params: 10,333,505\n",
            "Non-trainable params: 0\n",
            "_________________________________________________________________\n"
          ],
          "name": "stdout"
        }
      ]
    },
    {
      "cell_type": "code",
      "metadata": {
        "id": "onJPW1vd3JUn",
        "outputId": "e5c8359a-2192-4811-d504-ca873dee8d60",
        "colab": {
          "base_uri": "https://localhost:8080/",
          "height": 50
        }
      },
      "source": [
        "dataset_dir = '/content/'\n",
        "\n",
        "from tensorflow.keras.preprocessing.image import ImageDataGenerator\n",
        "\n",
        "# datagen = ImageDataGenerator(rescale=1.0/255.0)\n",
        "\n",
        "train_datagen = ImageDataGenerator(rescale=1.0/255.0, width_shift_range=0.1, height_shift_range=0.1, horizontal_flip=True)\n",
        "test_datagen = ImageDataGenerator(rescale=1.0/255.0)\n",
        "\n",
        "train_aug_iterator = train_datagen.flow_from_directory(os.path.join(dataset_dir, 'train'), class_mode='binary', batch_size=128, target_size=(200, 200))\n",
        "test_aug_iterator = test_datagen.flow_from_directory(os.path.join(dataset_dir, 'test'), class_mode='binary', batch_size=128, target_size=(200, 200))"
      ],
      "execution_count": null,
      "outputs": [
        {
          "output_type": "stream",
          "text": [
            "Found 12749 images belonging to 2 classes.\n",
            "Found 2252 images belonging to 2 classes.\n"
          ],
          "name": "stdout"
        }
      ]
    },
    {
      "cell_type": "code",
      "metadata": {
        "id": "EHlvXkxB3gwj",
        "outputId": "e7947802-a33c-49a1-a42a-1a0883c4ec12",
        "colab": {
          "base_uri": "https://localhost:8080/",
          "height": 1000
        }
      },
      "source": [
        "history_base_model = model.fit_generator(train_aug_iterator, steps_per_epoch=len(train_aug_iterator), validation_data=test_aug_iterator, validation_steps=len(test_aug_iterator), epochs=75)"
      ],
      "execution_count": null,
      "outputs": [
        {
          "output_type": "stream",
          "text": [
            "WARNING:tensorflow:From <ipython-input-6-87704f706a05>:1: Model.fit_generator (from tensorflow.python.keras.engine.training) is deprecated and will be removed in a future version.\n",
            "Instructions for updating:\n",
            "Please use Model.fit, which supports generators.\n",
            "Epoch 1/75\n",
            "100/100 [==============================] - 124s 1s/step - loss: 0.7242 - accuracy: 0.5325 - val_loss: 0.6900 - val_accuracy: 0.5333\n",
            "Epoch 2/75\n",
            "100/100 [==============================] - 124s 1s/step - loss: 0.6842 - accuracy: 0.5643 - val_loss: 0.6719 - val_accuracy: 0.5999\n",
            "Epoch 3/75\n",
            "100/100 [==============================] - 124s 1s/step - loss: 0.6706 - accuracy: 0.5896 - val_loss: 0.6529 - val_accuracy: 0.6230\n",
            "Epoch 4/75\n",
            "100/100 [==============================] - 124s 1s/step - loss: 0.6606 - accuracy: 0.6033 - val_loss: 0.6542 - val_accuracy: 0.5990\n",
            "Epoch 5/75\n",
            "100/100 [==============================] - 124s 1s/step - loss: 0.6514 - accuracy: 0.6080 - val_loss: 0.6535 - val_accuracy: 0.6004\n",
            "Epoch 6/75\n",
            "100/100 [==============================] - 124s 1s/step - loss: 0.6468 - accuracy: 0.6218 - val_loss: 0.6336 - val_accuracy: 0.6372\n",
            "Epoch 7/75\n",
            "100/100 [==============================] - 124s 1s/step - loss: 0.6357 - accuracy: 0.6384 - val_loss: 0.6242 - val_accuracy: 0.6341\n",
            "Epoch 8/75\n",
            "100/100 [==============================] - 124s 1s/step - loss: 0.6240 - accuracy: 0.6485 - val_loss: 0.6068 - val_accuracy: 0.6576\n",
            "Epoch 9/75\n",
            "100/100 [==============================] - 124s 1s/step - loss: 0.6287 - accuracy: 0.6433 - val_loss: 0.6378 - val_accuracy: 0.6092\n",
            "Epoch 10/75\n",
            "100/100 [==============================] - 124s 1s/step - loss: 0.6143 - accuracy: 0.6618 - val_loss: 0.5913 - val_accuracy: 0.6785\n",
            "Epoch 11/75\n",
            "100/100 [==============================] - 124s 1s/step - loss: 0.6038 - accuracy: 0.6698 - val_loss: 0.6299 - val_accuracy: 0.6292\n",
            "Epoch 12/75\n",
            "100/100 [==============================] - 124s 1s/step - loss: 0.6032 - accuracy: 0.6742 - val_loss: 0.5686 - val_accuracy: 0.6989\n",
            "Epoch 13/75\n",
            "100/100 [==============================] - 124s 1s/step - loss: 0.5901 - accuracy: 0.6840 - val_loss: 0.5619 - val_accuracy: 0.7060\n",
            "Epoch 14/75\n",
            "100/100 [==============================] - 123s 1s/step - loss: 0.5824 - accuracy: 0.6943 - val_loss: 0.5474 - val_accuracy: 0.7216\n",
            "Epoch 15/75\n",
            "100/100 [==============================] - 124s 1s/step - loss: 0.5707 - accuracy: 0.7037 - val_loss: 0.5350 - val_accuracy: 0.7202\n",
            "Epoch 16/75\n",
            "100/100 [==============================] - 124s 1s/step - loss: 0.5665 - accuracy: 0.7096 - val_loss: 0.5303 - val_accuracy: 0.7309\n",
            "Epoch 17/75\n",
            "100/100 [==============================] - 123s 1s/step - loss: 0.5646 - accuracy: 0.7108 - val_loss: 0.5857 - val_accuracy: 0.6616\n",
            "Epoch 18/75\n",
            "100/100 [==============================] - 123s 1s/step - loss: 0.5609 - accuracy: 0.7103 - val_loss: 0.5226 - val_accuracy: 0.7367\n",
            "Epoch 19/75\n",
            "100/100 [==============================] - 123s 1s/step - loss: 0.5409 - accuracy: 0.7313 - val_loss: 0.5192 - val_accuracy: 0.7425\n",
            "Epoch 20/75\n",
            "100/100 [==============================] - 124s 1s/step - loss: 0.5315 - accuracy: 0.7375 - val_loss: 0.4971 - val_accuracy: 0.7544\n",
            "Epoch 21/75\n",
            "100/100 [==============================] - 123s 1s/step - loss: 0.5303 - accuracy: 0.7349 - val_loss: 0.5036 - val_accuracy: 0.7567\n",
            "Epoch 22/75\n",
            "100/100 [==============================] - 123s 1s/step - loss: 0.5216 - accuracy: 0.7468 - val_loss: 0.5078 - val_accuracy: 0.7518\n",
            "Epoch 23/75\n",
            "100/100 [==============================] - 124s 1s/step - loss: 0.5236 - accuracy: 0.7419 - val_loss: 0.4851 - val_accuracy: 0.7669\n",
            "Epoch 24/75\n",
            "100/100 [==============================] - 123s 1s/step - loss: 0.5058 - accuracy: 0.7561 - val_loss: 0.4777 - val_accuracy: 0.7673\n",
            "Epoch 25/75\n",
            "100/100 [==============================] - 124s 1s/step - loss: 0.5057 - accuracy: 0.7544 - val_loss: 0.4771 - val_accuracy: 0.7678\n",
            "Epoch 26/75\n",
            "100/100 [==============================] - 123s 1s/step - loss: 0.5017 - accuracy: 0.7559 - val_loss: 0.5204 - val_accuracy: 0.7247\n",
            "Epoch 27/75\n",
            "100/100 [==============================] - 124s 1s/step - loss: 0.4940 - accuracy: 0.7631 - val_loss: 0.4702 - val_accuracy: 0.7798\n",
            "Epoch 28/75\n",
            "100/100 [==============================] - 124s 1s/step - loss: 0.4903 - accuracy: 0.7650 - val_loss: 0.4994 - val_accuracy: 0.7473\n",
            "Epoch 29/75\n",
            "100/100 [==============================] - 124s 1s/step - loss: 0.4894 - accuracy: 0.7688 - val_loss: 0.4601 - val_accuracy: 0.7789\n",
            "Epoch 30/75\n",
            "100/100 [==============================] - 124s 1s/step - loss: 0.4789 - accuracy: 0.7733 - val_loss: 0.4578 - val_accuracy: 0.7815\n",
            "Epoch 31/75\n",
            "100/100 [==============================] - 124s 1s/step - loss: 0.4733 - accuracy: 0.7761 - val_loss: 0.4614 - val_accuracy: 0.7669\n",
            "Epoch 32/75\n",
            "100/100 [==============================] - 124s 1s/step - loss: 0.4704 - accuracy: 0.7749 - val_loss: 0.4908 - val_accuracy: 0.7513\n",
            "Epoch 33/75\n",
            "100/100 [==============================] - 124s 1s/step - loss: 0.4744 - accuracy: 0.7792 - val_loss: 0.4378 - val_accuracy: 0.7851\n",
            "Epoch 34/75\n",
            "100/100 [==============================] - 124s 1s/step - loss: 0.4629 - accuracy: 0.7867 - val_loss: 0.4954 - val_accuracy: 0.7527\n",
            "Epoch 35/75\n",
            "100/100 [==============================] - 124s 1s/step - loss: 0.4550 - accuracy: 0.7886 - val_loss: 0.4363 - val_accuracy: 0.7917\n",
            "Epoch 36/75\n",
            "100/100 [==============================] - 124s 1s/step - loss: 0.4574 - accuracy: 0.7854 - val_loss: 0.4415 - val_accuracy: 0.7873\n",
            "Epoch 37/75\n",
            "100/100 [==============================] - 124s 1s/step - loss: 0.4558 - accuracy: 0.7874 - val_loss: 0.4307 - val_accuracy: 0.7966\n",
            "Epoch 38/75\n",
            "100/100 [==============================] - 124s 1s/step - loss: 0.4532 - accuracy: 0.7877 - val_loss: 0.4233 - val_accuracy: 0.8020\n",
            "Epoch 39/75\n",
            "100/100 [==============================] - 124s 1s/step - loss: 0.4488 - accuracy: 0.7907 - val_loss: 0.4351 - val_accuracy: 0.7980\n",
            "Epoch 40/75\n",
            "100/100 [==============================] - 125s 1s/step - loss: 0.4473 - accuracy: 0.7911 - val_loss: 0.4339 - val_accuracy: 0.7957\n",
            "Epoch 41/75\n",
            "100/100 [==============================] - 124s 1s/step - loss: 0.4385 - accuracy: 0.7979 - val_loss: 0.4193 - val_accuracy: 0.8011\n",
            "Epoch 42/75\n",
            "100/100 [==============================] - 124s 1s/step - loss: 0.4401 - accuracy: 0.8007 - val_loss: 0.4134 - val_accuracy: 0.8091\n",
            "Epoch 43/75\n",
            "100/100 [==============================] - 124s 1s/step - loss: 0.4378 - accuracy: 0.7999 - val_loss: 0.4457 - val_accuracy: 0.7877\n",
            "Epoch 44/75\n",
            "100/100 [==============================] - 124s 1s/step - loss: 0.4317 - accuracy: 0.8006 - val_loss: 0.4258 - val_accuracy: 0.8002\n",
            "Epoch 45/75\n",
            "100/100 [==============================] - 124s 1s/step - loss: 0.4325 - accuracy: 0.8051 - val_loss: 0.4077 - val_accuracy: 0.8162\n",
            "Epoch 46/75\n",
            "100/100 [==============================] - 124s 1s/step - loss: 0.4269 - accuracy: 0.8045 - val_loss: 0.4208 - val_accuracy: 0.8051\n",
            "Epoch 47/75\n",
            "100/100 [==============================] - 124s 1s/step - loss: 0.4268 - accuracy: 0.8052 - val_loss: 0.3995 - val_accuracy: 0.8179\n",
            "Epoch 48/75\n",
            "100/100 [==============================] - 124s 1s/step - loss: 0.4229 - accuracy: 0.8068 - val_loss: 0.4068 - val_accuracy: 0.8139\n",
            "Epoch 49/75\n",
            "100/100 [==============================] - 124s 1s/step - loss: 0.4181 - accuracy: 0.8122 - val_loss: 0.4133 - val_accuracy: 0.8108\n",
            "Epoch 50/75\n",
            "100/100 [==============================] - 124s 1s/step - loss: 0.4191 - accuracy: 0.8066 - val_loss: 0.4097 - val_accuracy: 0.8104\n",
            "Epoch 51/75\n",
            "100/100 [==============================] - 124s 1s/step - loss: 0.4113 - accuracy: 0.8157 - val_loss: 0.3953 - val_accuracy: 0.8242\n",
            "Epoch 52/75\n",
            "100/100 [==============================] - 124s 1s/step - loss: 0.4100 - accuracy: 0.8157 - val_loss: 0.3906 - val_accuracy: 0.8188\n",
            "Epoch 53/75\n",
            "100/100 [==============================] - 124s 1s/step - loss: 0.4191 - accuracy: 0.8107 - val_loss: 0.3984 - val_accuracy: 0.8224\n",
            "Epoch 54/75\n",
            "100/100 [==============================] - 123s 1s/step - loss: 0.4029 - accuracy: 0.8177 - val_loss: 0.4113 - val_accuracy: 0.8135\n",
            "Epoch 55/75\n",
            "100/100 [==============================] - 124s 1s/step - loss: 0.3996 - accuracy: 0.8193 - val_loss: 0.3818 - val_accuracy: 0.8259\n",
            "Epoch 56/75\n",
            "100/100 [==============================] - 124s 1s/step - loss: 0.3957 - accuracy: 0.8234 - val_loss: 0.3915 - val_accuracy: 0.8224\n",
            "Epoch 57/75\n",
            "100/100 [==============================] - 124s 1s/step - loss: 0.3997 - accuracy: 0.8220 - val_loss: 0.3793 - val_accuracy: 0.8286\n",
            "Epoch 58/75\n",
            "100/100 [==============================] - 124s 1s/step - loss: 0.3962 - accuracy: 0.8198 - val_loss: 0.3863 - val_accuracy: 0.8326\n",
            "Epoch 59/75\n",
            "100/100 [==============================] - 124s 1s/step - loss: 0.3965 - accuracy: 0.8187 - val_loss: 0.3818 - val_accuracy: 0.8268\n",
            "Epoch 60/75\n",
            "100/100 [==============================] - 124s 1s/step - loss: 0.3883 - accuracy: 0.8242 - val_loss: 0.3880 - val_accuracy: 0.8282\n",
            "Epoch 61/75\n",
            "100/100 [==============================] - 124s 1s/step - loss: 0.3858 - accuracy: 0.8276 - val_loss: 0.3802 - val_accuracy: 0.8277\n",
            "Epoch 62/75\n",
            "100/100 [==============================] - 124s 1s/step - loss: 0.3847 - accuracy: 0.8243 - val_loss: 0.4036 - val_accuracy: 0.8153\n",
            "Epoch 63/75\n",
            "100/100 [==============================] - 124s 1s/step - loss: 0.3877 - accuracy: 0.8267 - val_loss: 0.3959 - val_accuracy: 0.8237\n",
            "Epoch 64/75\n",
            "100/100 [==============================] - 124s 1s/step - loss: 0.3862 - accuracy: 0.8276 - val_loss: 0.3677 - val_accuracy: 0.8424\n",
            "Epoch 65/75\n",
            "100/100 [==============================] - 124s 1s/step - loss: 0.3783 - accuracy: 0.8328 - val_loss: 0.3775 - val_accuracy: 0.8375\n",
            "Epoch 66/75\n",
            "100/100 [==============================] - 124s 1s/step - loss: 0.3805 - accuracy: 0.8319 - val_loss: 0.3766 - val_accuracy: 0.8388\n",
            "Epoch 67/75\n",
            "100/100 [==============================] - 124s 1s/step - loss: 0.3705 - accuracy: 0.8365 - val_loss: 0.3599 - val_accuracy: 0.8437\n",
            "Epoch 68/75\n",
            "100/100 [==============================] - 124s 1s/step - loss: 0.3705 - accuracy: 0.8347 - val_loss: 0.3695 - val_accuracy: 0.8433\n",
            "Epoch 69/75\n",
            "100/100 [==============================] - 124s 1s/step - loss: 0.3661 - accuracy: 0.8388 - val_loss: 0.3677 - val_accuracy: 0.8357\n",
            "Epoch 70/75\n",
            "100/100 [==============================] - 124s 1s/step - loss: 0.3677 - accuracy: 0.8373 - val_loss: 0.3664 - val_accuracy: 0.8335\n",
            "Epoch 71/75\n",
            "100/100 [==============================] - 124s 1s/step - loss: 0.3627 - accuracy: 0.8358 - val_loss: 0.3708 - val_accuracy: 0.8388\n",
            "Epoch 72/75\n",
            "100/100 [==============================] - 125s 1s/step - loss: 0.3532 - accuracy: 0.8453 - val_loss: 0.3735 - val_accuracy: 0.8370\n",
            "Epoch 73/75\n",
            "100/100 [==============================] - 124s 1s/step - loss: 0.3617 - accuracy: 0.8438 - val_loss: 0.3589 - val_accuracy: 0.8446\n",
            "Epoch 74/75\n",
            "100/100 [==============================] - 124s 1s/step - loss: 0.3534 - accuracy: 0.8436 - val_loss: 0.3715 - val_accuracy: 0.8321\n",
            "Epoch 75/75\n",
            "100/100 [==============================] - 124s 1s/step - loss: 0.3651 - accuracy: 0.8358 - val_loss: 0.3629 - val_accuracy: 0.8415\n"
          ],
          "name": "stdout"
        }
      ]
    },
    {
      "cell_type": "code",
      "metadata": {
        "id": "Q4a5v63JbR8U",
        "outputId": "a42967ad-d9f4-483e-9764-2bf08352fdb0",
        "colab": {
          "base_uri": "https://localhost:8080/",
          "height": 278
        }
      },
      "source": [
        "plot_loss(history_base_model)"
      ],
      "execution_count": null,
      "outputs": [
        {
          "output_type": "display_data",
          "data": {
            "image/png": "[encoded data removed]",
            "text/plain": [
              "<Figure size 432x288 with 1 Axes>"
            ]
          },
          "metadata": {
            "tags": [],
            "needs_background": "light"
          }
        }
      ]
    },
    {
      "cell_type": "markdown",
      "metadata": {
        "id": "WqCBMEN87Bk4"
      },
      "source": [
        "**Kesimpulan:** Pada **Augmentation** 3 Layer, Saya Mendapatkan nilai akurasi terbaik pada epoch 73, dengan nilai akurasi **84%** dan val_loss **35%**, ini lebih baik jika dibandingkan dengan **Baseline** yang mana akurasi yang didapatkan adalah **71%** dan val_loss **56%**"
      ]
    }
  ]
}