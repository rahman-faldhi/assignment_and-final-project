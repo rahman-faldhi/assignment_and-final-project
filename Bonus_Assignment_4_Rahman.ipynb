{
  "nbformat": 4,
  "nbformat_minor": 0,
  "metadata": {
    "colab": {
      "name": "Bonus_Assignment_4_Rahman.ipynb",
      "provenance": [],
      "collapsed_sections": []
    },
    "kernelspec": {
      "name": "python3",
      "display_name": "Python 3"
    },
    "accelerator": "GPU"
  },
  "cells": [
    {
      "cell_type": "markdown",
      "metadata": {
        "id": "ICUWZteASVFO"
      },
      "source": [
        "#Bonus Assignment"
      ]
    },
    {
      "cell_type": "code",
      "metadata": {
        "id": "6_neaeCWBN-8"
      },
      "source": [
        "import numpy as np\n",
        "import os\n",
        "import matplotlib.pyplot as plt"
      ],
      "execution_count": 1,
      "outputs": []
    },
    {
      "cell_type": "code",
      "metadata": {
        "id": "Qhct7eLtBgEf"
      },
      "source": [
        "def plot_loss(history):\n",
        "  plt.plot(history.history['loss'], label='loss')\n",
        "  plt.plot(history.history['val_loss'], label='val_loss')\n",
        "  plt.xlabel('Epoch')\n",
        "  plt.ylabel('Loss')\n",
        "  plt.legend()\n",
        "  plt.grid(True)"
      ],
      "execution_count": 2,
      "outputs": []
    },
    {
      "cell_type": "code",
      "metadata": {
        "id": "syIpZdM-BmK6"
      },
      "source": [
        "zip_path = '/content/drive/My\\ Drive/Bootcamp\\ ML2020/dataset/santa-dataset.zip'\n",
        "\n",
        "!cp {zip_path} /content/\n",
        "\n",
        "!cd /content/\n",
        "\n",
        "!unzip -q /content/santa-dataset.zip -d /content\n",
        "\n",
        "# !rm /content/santa-dataset.zip"
      ],
      "execution_count": 3,
      "outputs": []
    },
    {
      "cell_type": "markdown",
      "metadata": {
        "id": "XqANOq11CMce"
      },
      "source": [
        "##Optimizer SGD, 3 Filter, "
      ]
    },
    {
      "cell_type": "code",
      "metadata": {
        "id": "WQXMf3SQCFMl",
        "outputId": "f2e0c0c1-efaf-4eda-85b0-1524fc3a0542",
        "colab": {
          "base_uri": "https://localhost:8080/",
          "height": 440
        }
      },
      "source": [
        "from tensorflow.keras.models import Sequential\n",
        "from tensorflow.keras.layers import Conv2D, MaxPooling2D, Dense, Flatten\n",
        "from tensorflow.keras.optimizers import SGD\n",
        "\n",
        "model = Sequential()\n",
        "model.add(Conv2D(32, (3, 3), activation='relu', kernel_initializer='he_uniform', padding='same', input_shape=(200, 200, 3)))\n",
        "model.add(MaxPooling2D((2, 2)))\n",
        "\n",
        "model.add(Conv2D(64, (3, 3), activation='relu', kernel_initializer='he_uniform', padding='same', input_shape=(200, 200, 3)))\n",
        "model.add(MaxPooling2D((2, 2)))\n",
        "\n",
        "model.add(Conv2D(128, (3, 3), activation='relu', kernel_initializer='he_uniform', padding='same', input_shape=(200, 200, 3)))\n",
        "model.add(MaxPooling2D((2, 2)))\n",
        "\n",
        "model.add(Flatten())\n",
        "\n",
        "model.add(Dense(128, activation='relu', kernel_initializer='he_uniform'))\n",
        "model.add(Dense(1, activation='sigmoid'))\n",
        "\n",
        "opt = SGD(lr=0.001, momentum=0.9)\n",
        "\n",
        "model.compile(optimizer=opt, loss='binary_crossentropy', metrics=['accuracy'])\n",
        "\n",
        "model.summary()"
      ],
      "execution_count": 4,
      "outputs": [
        {
          "output_type": "stream",
          "text": [
            "Model: \"sequential\"\n",
            "_________________________________________________________________\n",
            "Layer (type)                 Output Shape              Param #   \n",
            "=================================================================\n",
            "conv2d (Conv2D)              (None, 200, 200, 32)      896       \n",
            "_________________________________________________________________\n",
            "max_pooling2d (MaxPooling2D) (None, 100, 100, 32)      0         \n",
            "_________________________________________________________________\n",
            "conv2d_1 (Conv2D)            (None, 100, 100, 64)      18496     \n",
            "_________________________________________________________________\n",
            "max_pooling2d_1 (MaxPooling2 (None, 50, 50, 64)        0         \n",
            "_________________________________________________________________\n",
            "conv2d_2 (Conv2D)            (None, 50, 50, 128)       73856     \n",
            "_________________________________________________________________\n",
            "max_pooling2d_2 (MaxPooling2 (None, 25, 25, 128)       0         \n",
            "_________________________________________________________________\n",
            "flatten (Flatten)            (None, 80000)             0         \n",
            "_________________________________________________________________\n",
            "dense (Dense)                (None, 128)               10240128  \n",
            "_________________________________________________________________\n",
            "dense_1 (Dense)              (None, 1)                 129       \n",
            "=================================================================\n",
            "Total params: 10,333,505\n",
            "Trainable params: 10,333,505\n",
            "Non-trainable params: 0\n",
            "_________________________________________________________________\n"
          ],
          "name": "stdout"
        }
      ]
    },
    {
      "cell_type": "code",
      "metadata": {
        "id": "wv1ntSkWEMtH",
        "outputId": "df9b602e-bc68-4ebd-8589-18004cb747d8",
        "colab": {
          "base_uri": "https://localhost:8080/",
          "height": 50
        }
      },
      "source": [
        "dataset_dir = '/content/santa-dataset'\n",
        "\n",
        "from tensorflow.keras.preprocessing.image import ImageDataGenerator\n",
        "\n",
        "# datagen = ImageDataGenerator(rescale=1.0/255.0)\n",
        "\n",
        "train_datagen = ImageDataGenerator(rescale=1.0/255.0, width_shift_range=0.1, height_shift_range=0.1, horizontal_flip=True)\n",
        "test_datagen = ImageDataGenerator(rescale=1.0/255.0)\n",
        "\n",
        "train_aug_iterator = train_datagen.flow_from_directory(os.path.join(dataset_dir, 'train'), class_mode='binary', batch_size=128, target_size=(200, 200))\n",
        "test_aug_iterator = test_datagen.flow_from_directory(os.path.join(dataset_dir, 'test'), class_mode='binary', batch_size=128, target_size=(200, 200))"
      ],
      "execution_count": 7,
      "outputs": [
        {
          "output_type": "stream",
          "text": [
            "Found 662 images belonging to 2 classes.\n",
            "Found 260 images belonging to 2 classes.\n"
          ],
          "name": "stdout"
        }
      ]
    },
    {
      "cell_type": "code",
      "metadata": {
        "id": "tvBIvMQeHbPD",
        "outputId": "47e634be-e4e9-402c-c3fa-292451d06f85",
        "colab": {
          "base_uri": "https://localhost:8080/",
          "height": 1000
        }
      },
      "source": [
        "history_base_model = model.fit_generator(train_aug_iterator, steps_per_epoch=len(train_aug_iterator), validation_data=test_aug_iterator, validation_steps=len(test_aug_iterator), epochs=50)"
      ],
      "execution_count": 10,
      "outputs": [
        {
          "output_type": "stream",
          "text": [
            "Epoch 1/50\n",
            "6/6 [==============================] - 18s 3s/step - loss: 0.1983 - accuracy: 0.9275 - val_loss: 0.2549 - val_accuracy: 0.9231\n",
            "Epoch 2/50\n",
            "6/6 [==============================] - 17s 3s/step - loss: 0.1969 - accuracy: 0.9290 - val_loss: 0.4056 - val_accuracy: 0.8538\n",
            "Epoch 3/50\n",
            "6/6 [==============================] - 19s 3s/step - loss: 0.3513 - accuracy: 0.8625 - val_loss: 0.2715 - val_accuracy: 0.9192\n",
            "Epoch 4/50\n",
            "6/6 [==============================] - 17s 3s/step - loss: 0.3162 - accuracy: 0.8625 - val_loss: 0.2410 - val_accuracy: 0.9269\n",
            "Epoch 5/50\n",
            "6/6 [==============================] - 19s 3s/step - loss: 0.2444 - accuracy: 0.9094 - val_loss: 0.2658 - val_accuracy: 0.9192\n",
            "Epoch 6/50\n",
            "6/6 [==============================] - 17s 3s/step - loss: 0.1927 - accuracy: 0.9411 - val_loss: 0.2484 - val_accuracy: 0.9269\n",
            "Epoch 7/50\n",
            "6/6 [==============================] - 17s 3s/step - loss: 0.1865 - accuracy: 0.9381 - val_loss: 0.2419 - val_accuracy: 0.9269\n",
            "Epoch 8/50\n",
            "6/6 [==============================] - 18s 3s/step - loss: 0.1944 - accuracy: 0.9320 - val_loss: 0.2604 - val_accuracy: 0.9192\n",
            "Epoch 9/50\n",
            "6/6 [==============================] - 18s 3s/step - loss: 0.1757 - accuracy: 0.9381 - val_loss: 0.4173 - val_accuracy: 0.8423\n",
            "Epoch 10/50\n",
            "6/6 [==============================] - 17s 3s/step - loss: 0.2192 - accuracy: 0.9124 - val_loss: 0.4663 - val_accuracy: 0.8231\n",
            "Epoch 11/50\n",
            "6/6 [==============================] - 18s 3s/step - loss: 0.2086 - accuracy: 0.9275 - val_loss: 0.2961 - val_accuracy: 0.9077\n",
            "Epoch 12/50\n",
            "6/6 [==============================] - 17s 3s/step - loss: 0.1943 - accuracy: 0.9230 - val_loss: 0.2215 - val_accuracy: 0.9385\n",
            "Epoch 13/50\n",
            "6/6 [==============================] - 17s 3s/step - loss: 0.2102 - accuracy: 0.9094 - val_loss: 0.2409 - val_accuracy: 0.9231\n",
            "Epoch 14/50\n",
            "6/6 [==============================] - 17s 3s/step - loss: 0.1770 - accuracy: 0.9411 - val_loss: 0.2389 - val_accuracy: 0.9269\n",
            "Epoch 15/50\n",
            "6/6 [==============================] - 17s 3s/step - loss: 0.1573 - accuracy: 0.9486 - val_loss: 0.2321 - val_accuracy: 0.9269\n",
            "Epoch 16/50\n",
            "6/6 [==============================] - 17s 3s/step - loss: 0.1471 - accuracy: 0.9426 - val_loss: 0.2187 - val_accuracy: 0.9269\n",
            "Epoch 17/50\n",
            "6/6 [==============================] - 16s 3s/step - loss: 0.1449 - accuracy: 0.9426 - val_loss: 0.2171 - val_accuracy: 0.9269\n",
            "Epoch 18/50\n",
            "6/6 [==============================] - 17s 3s/step - loss: 0.1501 - accuracy: 0.9426 - val_loss: 0.2253 - val_accuracy: 0.9308\n",
            "Epoch 19/50\n",
            "6/6 [==============================] - 18s 3s/step - loss: 0.1519 - accuracy: 0.9366 - val_loss: 0.2099 - val_accuracy: 0.9346\n",
            "Epoch 20/50\n",
            "6/6 [==============================] - 17s 3s/step - loss: 0.1696 - accuracy: 0.9335 - val_loss: 0.2324 - val_accuracy: 0.9346\n",
            "Epoch 21/50\n",
            "6/6 [==============================] - 20s 3s/step - loss: 0.1545 - accuracy: 0.9411 - val_loss: 0.2323 - val_accuracy: 0.9269\n",
            "Epoch 22/50\n",
            "6/6 [==============================] - 19s 3s/step - loss: 0.1590 - accuracy: 0.9366 - val_loss: 0.2531 - val_accuracy: 0.9192\n",
            "Epoch 23/50\n",
            "6/6 [==============================] - 17s 3s/step - loss: 0.1747 - accuracy: 0.9275 - val_loss: 0.2072 - val_accuracy: 0.9308\n",
            "Epoch 24/50\n",
            "6/6 [==============================] - 18s 3s/step - loss: 0.1248 - accuracy: 0.9562 - val_loss: 0.2715 - val_accuracy: 0.9231\n",
            "Epoch 25/50\n",
            "6/6 [==============================] - 20s 3s/step - loss: 0.1534 - accuracy: 0.9320 - val_loss: 0.2632 - val_accuracy: 0.9346\n",
            "Epoch 26/50\n",
            "6/6 [==============================] - 17s 3s/step - loss: 0.1404 - accuracy: 0.9517 - val_loss: 0.2117 - val_accuracy: 0.9346\n",
            "Epoch 27/50\n",
            "6/6 [==============================] - 17s 3s/step - loss: 0.1279 - accuracy: 0.9517 - val_loss: 0.1985 - val_accuracy: 0.9308\n",
            "Epoch 28/50\n",
            "6/6 [==============================] - 17s 3s/step - loss: 0.1199 - accuracy: 0.9562 - val_loss: 0.2181 - val_accuracy: 0.9231\n",
            "Epoch 29/50\n",
            "6/6 [==============================] - 17s 3s/step - loss: 0.1328 - accuracy: 0.9607 - val_loss: 0.2179 - val_accuracy: 0.9231\n",
            "Epoch 30/50\n",
            "6/6 [==============================] - 17s 3s/step - loss: 0.1208 - accuracy: 0.9517 - val_loss: 0.2057 - val_accuracy: 0.9269\n",
            "Epoch 31/50\n",
            "6/6 [==============================] - 17s 3s/step - loss: 0.1159 - accuracy: 0.9517 - val_loss: 0.2061 - val_accuracy: 0.9346\n",
            "Epoch 32/50\n",
            "6/6 [==============================] - 18s 3s/step - loss: 0.1097 - accuracy: 0.9607 - val_loss: 0.2899 - val_accuracy: 0.9115\n",
            "Epoch 33/50\n",
            "6/6 [==============================] - 17s 3s/step - loss: 0.1095 - accuracy: 0.9577 - val_loss: 0.2336 - val_accuracy: 0.9385\n",
            "Epoch 34/50\n",
            "6/6 [==============================] - 18s 3s/step - loss: 0.1181 - accuracy: 0.9471 - val_loss: 0.2753 - val_accuracy: 0.9115\n",
            "Epoch 35/50\n",
            "6/6 [==============================] - 18s 3s/step - loss: 0.1148 - accuracy: 0.9547 - val_loss: 0.2490 - val_accuracy: 0.9115\n",
            "Epoch 36/50\n",
            "6/6 [==============================] - 17s 3s/step - loss: 0.1218 - accuracy: 0.9471 - val_loss: 0.1989 - val_accuracy: 0.9269\n",
            "Epoch 37/50\n",
            "6/6 [==============================] - 17s 3s/step - loss: 0.1154 - accuracy: 0.9547 - val_loss: 0.2067 - val_accuracy: 0.9308\n",
            "Epoch 38/50\n",
            "6/6 [==============================] - 17s 3s/step - loss: 0.1026 - accuracy: 0.9668 - val_loss: 0.2095 - val_accuracy: 0.9308\n",
            "Epoch 39/50\n",
            "6/6 [==============================] - 18s 3s/step - loss: 0.1039 - accuracy: 0.9637 - val_loss: 0.2140 - val_accuracy: 0.9346\n",
            "Epoch 40/50\n",
            "6/6 [==============================] - 18s 3s/step - loss: 0.1262 - accuracy: 0.9502 - val_loss: 0.2888 - val_accuracy: 0.9154\n",
            "Epoch 41/50\n",
            "6/6 [==============================] - 17s 3s/step - loss: 0.1238 - accuracy: 0.9607 - val_loss: 0.2806 - val_accuracy: 0.9115\n",
            "Epoch 42/50\n",
            "6/6 [==============================] - 17s 3s/step - loss: 0.1105 - accuracy: 0.9622 - val_loss: 0.2361 - val_accuracy: 0.9346\n",
            "Epoch 43/50\n",
            "6/6 [==============================] - 18s 3s/step - loss: 0.0870 - accuracy: 0.9758 - val_loss: 0.2139 - val_accuracy: 0.9269\n",
            "Epoch 44/50\n",
            "6/6 [==============================] - 18s 3s/step - loss: 0.0996 - accuracy: 0.9683 - val_loss: 0.2135 - val_accuracy: 0.9308\n",
            "Epoch 45/50\n",
            "6/6 [==============================] - 18s 3s/step - loss: 0.1243 - accuracy: 0.9562 - val_loss: 0.2046 - val_accuracy: 0.9385\n",
            "Epoch 46/50\n",
            "6/6 [==============================] - 18s 3s/step - loss: 0.1376 - accuracy: 0.9471 - val_loss: 0.2037 - val_accuracy: 0.9385\n",
            "Epoch 47/50\n",
            "6/6 [==============================] - 18s 3s/step - loss: 0.1524 - accuracy: 0.9366 - val_loss: 0.2280 - val_accuracy: 0.9385\n",
            "Epoch 48/50\n",
            "6/6 [==============================] - 17s 3s/step - loss: 0.1307 - accuracy: 0.9441 - val_loss: 0.2249 - val_accuracy: 0.9385\n",
            "Epoch 49/50\n",
            "6/6 [==============================] - 18s 3s/step - loss: 0.1137 - accuracy: 0.9592 - val_loss: 0.2023 - val_accuracy: 0.9346\n",
            "Epoch 50/50\n",
            "6/6 [==============================] - 16s 3s/step - loss: 0.1007 - accuracy: 0.9683 - val_loss: 0.2048 - val_accuracy: 0.9346\n"
          ],
          "name": "stdout"
        }
      ]
    },
    {
      "cell_type": "code",
      "metadata": {
        "id": "HE7vAmCnQ5iD",
        "outputId": "faf80659-5d96-4baf-82f0-60e1b1b59663",
        "colab": {
          "base_uri": "https://localhost:8080/",
          "height": 278
        }
      },
      "source": [
        "plot_loss(history_base_model)"
      ],
      "execution_count": 11,
      "outputs": [
        {
          "output_type": "display_data",
          "data": {
            "image/png": "[encoded data removed]",
            "text/plain": [
              "<Figure size 432x288 with 1 Axes>"
            ]
          },
          "metadata": {
            "tags": [],
            "needs_background": "light"
          }
        }
      ]
    },
    {
      "cell_type": "markdown",
      "metadata": {
        "id": "CkViq53GVrfe"
      },
      "source": [
        "##Optimizer ADAM"
      ]
    },
    {
      "cell_type": "code",
      "metadata": {
        "id": "4LD5Gw1RV2jh",
        "outputId": "1e7fcb59-9690-49f9-9aaf-30761fa54b19",
        "colab": {
          "base_uri": "https://localhost:8080/",
          "height": 440
        }
      },
      "source": [
        "from tensorflow.keras.models import Sequential\n",
        "from tensorflow.keras.layers import Conv2D, MaxPooling2D, Dense, Flatten\n",
        "from tensorflow.keras.optimizers import Adam\n",
        "\n",
        "model = Sequential()\n",
        "model.add(Conv2D(32, (3, 3), activation='relu', kernel_initializer='he_uniform', padding='same', input_shape=(200, 200, 3)))\n",
        "model.add(MaxPooling2D((2, 2)))\n",
        "\n",
        "model.add(Conv2D(64, (3, 3), activation='relu', kernel_initializer='he_uniform', padding='same', input_shape=(200, 200, 3)))\n",
        "model.add(MaxPooling2D((2, 2)))\n",
        "\n",
        "model.add(Conv2D(128, (3, 3), activation='relu', kernel_initializer='he_uniform', padding='same', input_shape=(200, 200, 3)))\n",
        "model.add(MaxPooling2D((2, 2)))\n",
        "\n",
        "model.add(Flatten())\n",
        "\n",
        "model.add(Dense(128, activation='relu', kernel_initializer='he_uniform'))\n",
        "model.add(Dense(1, activation='sigmoid'))\n",
        "\n",
        "opt = Adam(lr=0.001, beta_1=0.9, beta_2=0.999, epsilon=1e-07, amsgrad=False)\n",
        "\n",
        "model.compile(optimizer=opt, loss='binary_crossentropy', metrics=['accuracy'])\n",
        "\n",
        "model.summary()"
      ],
      "execution_count": 12,
      "outputs": [
        {
          "output_type": "stream",
          "text": [
            "Model: \"sequential_1\"\n",
            "_________________________________________________________________\n",
            "Layer (type)                 Output Shape              Param #   \n",
            "=================================================================\n",
            "conv2d_3 (Conv2D)            (None, 200, 200, 32)      896       \n",
            "_________________________________________________________________\n",
            "max_pooling2d_3 (MaxPooling2 (None, 100, 100, 32)      0         \n",
            "_________________________________________________________________\n",
            "conv2d_4 (Conv2D)            (None, 100, 100, 64)      18496     \n",
            "_________________________________________________________________\n",
            "max_pooling2d_4 (MaxPooling2 (None, 50, 50, 64)        0         \n",
            "_________________________________________________________________\n",
            "conv2d_5 (Conv2D)            (None, 50, 50, 128)       73856     \n",
            "_________________________________________________________________\n",
            "max_pooling2d_5 (MaxPooling2 (None, 25, 25, 128)       0         \n",
            "_________________________________________________________________\n",
            "flatten_1 (Flatten)          (None, 80000)             0         \n",
            "_________________________________________________________________\n",
            "dense_2 (Dense)              (None, 128)               10240128  \n",
            "_________________________________________________________________\n",
            "dense_3 (Dense)              (None, 1)                 129       \n",
            "=================================================================\n",
            "Total params: 10,333,505\n",
            "Trainable params: 10,333,505\n",
            "Non-trainable params: 0\n",
            "_________________________________________________________________\n"
          ],
          "name": "stdout"
        }
      ]
    },
    {
      "cell_type": "code",
      "metadata": {
        "id": "PHhs7OKDV6jM",
        "outputId": "20062e97-3462-40e5-b891-3463d49848b2",
        "colab": {
          "base_uri": "https://localhost:8080/",
          "height": 50
        }
      },
      "source": [
        "train_datagen = ImageDataGenerator(rescale=1.0/255.0, width_shift_range=0.1, height_shift_range=0.1, horizontal_flip=True)\n",
        "test_datagen = ImageDataGenerator(rescale=1.0/255.0)\n",
        "\n",
        "train_aug_iterator = train_datagen.flow_from_directory(os.path.join(dataset_dir, 'train'), class_mode='binary', batch_size=128, target_size=(200, 200))\n",
        "test_aug_iterator = test_datagen.flow_from_directory(os.path.join(dataset_dir, 'test'), class_mode='binary', batch_size=128, target_size=(200, 200))"
      ],
      "execution_count": 13,
      "outputs": [
        {
          "output_type": "stream",
          "text": [
            "Found 662 images belonging to 2 classes.\n",
            "Found 260 images belonging to 2 classes.\n"
          ],
          "name": "stdout"
        }
      ]
    },
    {
      "cell_type": "code",
      "metadata": {
        "id": "ntOFnP-OWXTh",
        "outputId": "e5a9c0aa-4b43-459c-fa43-38dea8aebb2f",
        "colab": {
          "base_uri": "https://localhost:8080/",
          "height": 1000
        }
      },
      "source": [
        "history_base_model = model.fit_generator(train_aug_iterator, steps_per_epoch=len(train_aug_iterator), validation_data=test_aug_iterator, validation_steps=len(test_aug_iterator), epochs=50)"
      ],
      "execution_count": 14,
      "outputs": [
        {
          "output_type": "stream",
          "text": [
            "Epoch 1/50\n",
            "6/6 [==============================] - 20s 3s/step - loss: 17.9841 - accuracy: 0.5060 - val_loss: 0.6959 - val_accuracy: 0.5500\n",
            "Epoch 2/50\n",
            "6/6 [==============================] - 17s 3s/step - loss: 0.6615 - accuracy: 0.5091 - val_loss: 0.6791 - val_accuracy: 0.5000\n",
            "Epoch 3/50\n",
            "6/6 [==============================] - 18s 3s/step - loss: 0.5847 - accuracy: 0.6073 - val_loss: 0.5948 - val_accuracy: 0.5654\n",
            "Epoch 4/50\n",
            "6/6 [==============================] - 16s 3s/step - loss: 0.5503 - accuracy: 0.7190 - val_loss: 0.5680 - val_accuracy: 0.7885\n",
            "Epoch 5/50\n",
            "6/6 [==============================] - 18s 3s/step - loss: 0.4888 - accuracy: 0.8459 - val_loss: 0.4799 - val_accuracy: 0.8423\n",
            "Epoch 6/50\n",
            "6/6 [==============================] - 17s 3s/step - loss: 0.3772 - accuracy: 0.8686 - val_loss: 0.3952 - val_accuracy: 0.8808\n",
            "Epoch 7/50\n",
            "6/6 [==============================] - 17s 3s/step - loss: 0.3526 - accuracy: 0.8610 - val_loss: 0.5192 - val_accuracy: 0.8077\n",
            "Epoch 8/50\n",
            "6/6 [==============================] - 19s 3s/step - loss: 0.3449 - accuracy: 0.8656 - val_loss: 0.3552 - val_accuracy: 0.8885\n",
            "Epoch 9/50\n",
            "6/6 [==============================] - 17s 3s/step - loss: 0.3974 - accuracy: 0.8338 - val_loss: 0.4675 - val_accuracy: 0.8346\n",
            "Epoch 10/50\n",
            "6/6 [==============================] - 18s 3s/step - loss: 0.3173 - accuracy: 0.8927 - val_loss: 0.3231 - val_accuracy: 0.9115\n",
            "Epoch 11/50\n",
            "6/6 [==============================] - 18s 3s/step - loss: 0.2976 - accuracy: 0.9018 - val_loss: 0.3510 - val_accuracy: 0.8808\n",
            "Epoch 12/50\n",
            "6/6 [==============================] - 17s 3s/step - loss: 0.2450 - accuracy: 0.9048 - val_loss: 0.3913 - val_accuracy: 0.8808\n",
            "Epoch 13/50\n",
            "6/6 [==============================] - 18s 3s/step - loss: 0.2294 - accuracy: 0.9169 - val_loss: 0.2969 - val_accuracy: 0.9269\n",
            "Epoch 14/50\n",
            "6/6 [==============================] - 17s 3s/step - loss: 0.1880 - accuracy: 0.9381 - val_loss: 0.3410 - val_accuracy: 0.9077\n",
            "Epoch 15/50\n",
            "6/6 [==============================] - 17s 3s/step - loss: 0.2165 - accuracy: 0.9320 - val_loss: 0.3231 - val_accuracy: 0.9000\n",
            "Epoch 16/50\n",
            "6/6 [==============================] - 17s 3s/step - loss: 0.1995 - accuracy: 0.9215 - val_loss: 0.3634 - val_accuracy: 0.8808\n",
            "Epoch 17/50\n",
            "6/6 [==============================] - 16s 3s/step - loss: 0.1789 - accuracy: 0.9305 - val_loss: 0.3014 - val_accuracy: 0.9077\n",
            "Epoch 18/50\n",
            "6/6 [==============================] - 18s 3s/step - loss: 0.1735 - accuracy: 0.9381 - val_loss: 0.2685 - val_accuracy: 0.9192\n",
            "Epoch 19/50\n",
            "6/6 [==============================] - 18s 3s/step - loss: 0.1984 - accuracy: 0.9169 - val_loss: 0.3296 - val_accuracy: 0.8808\n",
            "Epoch 20/50\n",
            "6/6 [==============================] - 17s 3s/step - loss: 0.1663 - accuracy: 0.9335 - val_loss: 0.3864 - val_accuracy: 0.8731\n",
            "Epoch 21/50\n",
            "6/6 [==============================] - 17s 3s/step - loss: 0.1684 - accuracy: 0.9366 - val_loss: 0.4618 - val_accuracy: 0.8500\n",
            "Epoch 22/50\n",
            "6/6 [==============================] - 20s 3s/step - loss: 0.1688 - accuracy: 0.9350 - val_loss: 0.2838 - val_accuracy: 0.9077\n",
            "Epoch 23/50\n",
            "6/6 [==============================] - 18s 3s/step - loss: 0.1132 - accuracy: 0.9607 - val_loss: 0.2833 - val_accuracy: 0.9038\n",
            "Epoch 24/50\n",
            "6/6 [==============================] - 18s 3s/step - loss: 0.1344 - accuracy: 0.9547 - val_loss: 0.2452 - val_accuracy: 0.9077\n",
            "Epoch 25/50\n",
            "6/6 [==============================] - 17s 3s/step - loss: 0.1293 - accuracy: 0.9622 - val_loss: 0.2771 - val_accuracy: 0.9077\n",
            "Epoch 26/50\n",
            "6/6 [==============================] - 18s 3s/step - loss: 0.1250 - accuracy: 0.9607 - val_loss: 0.2622 - val_accuracy: 0.9115\n",
            "Epoch 27/50\n",
            "6/6 [==============================] - 18s 3s/step - loss: 0.1486 - accuracy: 0.9486 - val_loss: 0.3133 - val_accuracy: 0.9077\n",
            "Epoch 28/50\n",
            "6/6 [==============================] - 16s 3s/step - loss: 0.1701 - accuracy: 0.9366 - val_loss: 0.5128 - val_accuracy: 0.8346\n",
            "Epoch 29/50\n",
            "6/6 [==============================] - 17s 3s/step - loss: 0.1688 - accuracy: 0.9305 - val_loss: 0.3146 - val_accuracy: 0.8923\n",
            "Epoch 30/50\n",
            "6/6 [==============================] - 17s 3s/step - loss: 0.1435 - accuracy: 0.9547 - val_loss: 0.2688 - val_accuracy: 0.9038\n",
            "Epoch 31/50\n",
            "6/6 [==============================] - 18s 3s/step - loss: 0.0900 - accuracy: 0.9698 - val_loss: 0.3732 - val_accuracy: 0.9077\n",
            "Epoch 32/50\n",
            "6/6 [==============================] - 17s 3s/step - loss: 0.0762 - accuracy: 0.9758 - val_loss: 0.3680 - val_accuracy: 0.8962\n",
            "Epoch 33/50\n",
            "6/6 [==============================] - 17s 3s/step - loss: 0.1228 - accuracy: 0.9547 - val_loss: 0.3151 - val_accuracy: 0.9115\n",
            "Epoch 34/50\n",
            "6/6 [==============================] - 17s 3s/step - loss: 0.1048 - accuracy: 0.9653 - val_loss: 0.3051 - val_accuracy: 0.9077\n",
            "Epoch 35/50\n",
            "6/6 [==============================] - 18s 3s/step - loss: 0.0759 - accuracy: 0.9804 - val_loss: 0.2877 - val_accuracy: 0.9115\n",
            "Epoch 36/50\n",
            "6/6 [==============================] - 17s 3s/step - loss: 0.0622 - accuracy: 0.9773 - val_loss: 0.3016 - val_accuracy: 0.9192\n",
            "Epoch 37/50\n",
            "6/6 [==============================] - 18s 3s/step - loss: 0.1154 - accuracy: 0.9486 - val_loss: 0.3291 - val_accuracy: 0.9038\n",
            "Epoch 38/50\n",
            "6/6 [==============================] - 17s 3s/step - loss: 0.0845 - accuracy: 0.9698 - val_loss: 0.7850 - val_accuracy: 0.8077\n",
            "Epoch 39/50\n",
            "6/6 [==============================] - 18s 3s/step - loss: 0.1697 - accuracy: 0.9320 - val_loss: 0.4625 - val_accuracy: 0.8500\n",
            "Epoch 40/50\n",
            "6/6 [==============================] - 17s 3s/step - loss: 0.1174 - accuracy: 0.9532 - val_loss: 0.3280 - val_accuracy: 0.9000\n",
            "Epoch 41/50\n",
            "6/6 [==============================] - 17s 3s/step - loss: 0.1046 - accuracy: 0.9637 - val_loss: 0.3608 - val_accuracy: 0.9077\n",
            "Epoch 42/50\n",
            "6/6 [==============================] - 17s 3s/step - loss: 0.0779 - accuracy: 0.9622 - val_loss: 0.3540 - val_accuracy: 0.9154\n",
            "Epoch 43/50\n",
            "6/6 [==============================] - 20s 3s/step - loss: 0.0712 - accuracy: 0.9789 - val_loss: 0.3189 - val_accuracy: 0.9077\n",
            "Epoch 44/50\n",
            "6/6 [==============================] - 18s 3s/step - loss: 0.0670 - accuracy: 0.9789 - val_loss: 0.4497 - val_accuracy: 0.9077\n",
            "Epoch 45/50\n",
            "6/6 [==============================] - 18s 3s/step - loss: 0.0793 - accuracy: 0.9698 - val_loss: 0.5493 - val_accuracy: 0.8731\n",
            "Epoch 46/50\n",
            "6/6 [==============================] - 17s 3s/step - loss: 0.1183 - accuracy: 0.9622 - val_loss: 0.3084 - val_accuracy: 0.9000\n",
            "Epoch 47/50\n",
            "6/6 [==============================] - 17s 3s/step - loss: 0.0871 - accuracy: 0.9607 - val_loss: 0.4032 - val_accuracy: 0.9000\n",
            "Epoch 48/50\n",
            "6/6 [==============================] - 18s 3s/step - loss: 0.0541 - accuracy: 0.9773 - val_loss: 0.3764 - val_accuracy: 0.9192\n",
            "Epoch 49/50\n",
            "6/6 [==============================] - 18s 3s/step - loss: 0.0477 - accuracy: 0.9849 - val_loss: 0.3446 - val_accuracy: 0.9192\n",
            "Epoch 50/50\n",
            "6/6 [==============================] - 18s 3s/step - loss: 0.0475 - accuracy: 0.9849 - val_loss: 0.3810 - val_accuracy: 0.9115\n"
          ],
          "name": "stdout"
        }
      ]
    },
    {
      "cell_type": "code",
      "metadata": {
        "id": "XQinvZ7vWah5",
        "outputId": "ceca58d3-c9a3-4233-a28a-e6f4c384ae29",
        "colab": {
          "base_uri": "https://localhost:8080/",
          "height": 278
        }
      },
      "source": [
        "plot_loss(history_base_model)"
      ],
      "execution_count": 15,
      "outputs": [
        {
          "output_type": "display_data",
          "data": {
            "image/png": "[encoded data removed]",
            "text/plain": [
              "<Figure size 432x288 with 1 Axes>"
            ]
          },
          "metadata": {
            "tags": [],
            "needs_background": "light"
          }
        }
      ]
    },
    {
      "cell_type": "markdown",
      "metadata": {
        "id": "fjWj8_FLbZLr"
      },
      "source": [
        "##Optimizer Adadelta"
      ]
    },
    {
      "cell_type": "code",
      "metadata": {
        "id": "A2qi7QSebe6y",
        "outputId": "65ac4467-e361-454d-ce88-3ba5eaa7e74d",
        "colab": {
          "base_uri": "https://localhost:8080/",
          "height": 440
        }
      },
      "source": [
        "from tensorflow.keras.models import Sequential\n",
        "from tensorflow.keras.layers import Conv2D, MaxPooling2D, Dense, Flatten\n",
        "from tensorflow.keras.optimizers import Adadelta\n",
        "\n",
        "model = Sequential()\n",
        "model.add(Conv2D(32, (3, 3), activation='relu', kernel_initializer='he_uniform', padding='same', input_shape=(200, 200, 3)))\n",
        "model.add(MaxPooling2D((2, 2)))\n",
        "\n",
        "model.add(Conv2D(64, (3, 3), activation='relu', kernel_initializer='he_uniform', padding='same', input_shape=(200, 200, 3)))\n",
        "model.add(MaxPooling2D((2, 2)))\n",
        "\n",
        "model.add(Conv2D(128, (3, 3), activation='relu', kernel_initializer='he_uniform', padding='same', input_shape=(200, 200, 3)))\n",
        "model.add(MaxPooling2D((2, 2)))\n",
        "\n",
        "model.add(Flatten())\n",
        "\n",
        "model.add(Dense(128, activation='relu', kernel_initializer='he_uniform'))\n",
        "model.add(Dense(1, activation='sigmoid'))\n",
        "\n",
        "opt = Adadelta(lr=0.001, rho=0.95, epsilon=1e-07)\n",
        "\n",
        "model.compile(optimizer=opt, loss='binary_crossentropy', metrics=['accuracy'])\n",
        "\n",
        "model.summary()"
      ],
      "execution_count": 16,
      "outputs": [
        {
          "output_type": "stream",
          "text": [
            "Model: \"sequential_2\"\n",
            "_________________________________________________________________\n",
            "Layer (type)                 Output Shape              Param #   \n",
            "=================================================================\n",
            "conv2d_6 (Conv2D)            (None, 200, 200, 32)      896       \n",
            "_________________________________________________________________\n",
            "max_pooling2d_6 (MaxPooling2 (None, 100, 100, 32)      0         \n",
            "_________________________________________________________________\n",
            "conv2d_7 (Conv2D)            (None, 100, 100, 64)      18496     \n",
            "_________________________________________________________________\n",
            "max_pooling2d_7 (MaxPooling2 (None, 50, 50, 64)        0         \n",
            "_________________________________________________________________\n",
            "conv2d_8 (Conv2D)            (None, 50, 50, 128)       73856     \n",
            "_________________________________________________________________\n",
            "max_pooling2d_8 (MaxPooling2 (None, 25, 25, 128)       0         \n",
            "_________________________________________________________________\n",
            "flatten_2 (Flatten)          (None, 80000)             0         \n",
            "_________________________________________________________________\n",
            "dense_4 (Dense)              (None, 128)               10240128  \n",
            "_________________________________________________________________\n",
            "dense_5 (Dense)              (None, 1)                 129       \n",
            "=================================================================\n",
            "Total params: 10,333,505\n",
            "Trainable params: 10,333,505\n",
            "Non-trainable params: 0\n",
            "_________________________________________________________________\n"
          ],
          "name": "stdout"
        }
      ]
    },
    {
      "cell_type": "code",
      "metadata": {
        "id": "ILfBpq1_bjRd",
        "outputId": "d2b01e44-503b-4af3-ead8-8f0bba1043d8",
        "colab": {
          "base_uri": "https://localhost:8080/",
          "height": 50
        }
      },
      "source": [
        "train_datagen = ImageDataGenerator(rescale=1.0/255.0, width_shift_range=0.1, height_shift_range=0.1, horizontal_flip=True)\n",
        "test_datagen = ImageDataGenerator(rescale=1.0/255.0)\n",
        "\n",
        "train_aug_iterator = train_datagen.flow_from_directory(os.path.join(dataset_dir, 'train'), class_mode='binary', batch_size=128, target_size=(200, 200))\n",
        "test_aug_iterator = test_datagen.flow_from_directory(os.path.join(dataset_dir, 'test'), class_mode='binary', batch_size=128, target_size=(200, 200))"
      ],
      "execution_count": 17,
      "outputs": [
        {
          "output_type": "stream",
          "text": [
            "Found 662 images belonging to 2 classes.\n",
            "Found 260 images belonging to 2 classes.\n"
          ],
          "name": "stdout"
        }
      ]
    },
    {
      "cell_type": "code",
      "metadata": {
        "id": "Hh90Uf1Ybo3-",
        "outputId": "444453e7-9a72-4a14-c415-64a88b9a786f",
        "colab": {
          "base_uri": "https://localhost:8080/",
          "height": 1000
        }
      },
      "source": [
        "history_base_model = model.fit_generator(train_aug_iterator, steps_per_epoch=len(train_aug_iterator), validation_data=test_aug_iterator, validation_steps=len(test_aug_iterator), epochs=50)"
      ],
      "execution_count": 18,
      "outputs": [
        {
          "output_type": "stream",
          "text": [
            "Epoch 1/50\n",
            "6/6 [==============================] - 21s 4s/step - loss: 0.7249 - accuracy: 0.5272 - val_loss: 0.7038 - val_accuracy: 0.5154\n",
            "Epoch 2/50\n",
            "6/6 [==============================] - 21s 3s/step - loss: 0.6883 - accuracy: 0.4743 - val_loss: 0.6890 - val_accuracy: 0.4923\n",
            "Epoch 3/50\n",
            "6/6 [==============================] - 18s 3s/step - loss: 0.6856 - accuracy: 0.4985 - val_loss: 0.6838 - val_accuracy: 0.4769\n",
            "Epoch 4/50\n",
            "6/6 [==============================] - 18s 3s/step - loss: 0.6885 - accuracy: 0.4955 - val_loss: 0.6792 - val_accuracy: 0.5000\n",
            "Epoch 5/50\n",
            "6/6 [==============================] - 18s 3s/step - loss: 0.6802 - accuracy: 0.5030 - val_loss: 0.6772 - val_accuracy: 0.5269\n",
            "Epoch 6/50\n",
            "6/6 [==============================] - 19s 3s/step - loss: 0.6735 - accuracy: 0.5242 - val_loss: 0.6716 - val_accuracy: 0.5077\n",
            "Epoch 7/50\n",
            "6/6 [==============================] - 19s 3s/step - loss: 0.6740 - accuracy: 0.5166 - val_loss: 0.6682 - val_accuracy: 0.4962\n",
            "Epoch 8/50\n",
            "6/6 [==============================] - 17s 3s/step - loss: 0.6681 - accuracy: 0.5121 - val_loss: 0.6650 - val_accuracy: 0.4962\n",
            "Epoch 9/50\n",
            "6/6 [==============================] - 18s 3s/step - loss: 0.6777 - accuracy: 0.5544 - val_loss: 0.6609 - val_accuracy: 0.5154\n",
            "Epoch 10/50\n",
            "6/6 [==============================] - 17s 3s/step - loss: 0.6609 - accuracy: 0.5816 - val_loss: 0.6706 - val_accuracy: 0.4846\n",
            "Epoch 11/50\n",
            "6/6 [==============================] - 18s 3s/step - loss: 0.6612 - accuracy: 0.5211 - val_loss: 0.6561 - val_accuracy: 0.5731\n",
            "Epoch 12/50\n",
            "6/6 [==============================] - 21s 3s/step - loss: 0.6528 - accuracy: 0.6148 - val_loss: 0.6514 - val_accuracy: 0.5231\n",
            "Epoch 13/50\n",
            "6/6 [==============================] - 18s 3s/step - loss: 0.6569 - accuracy: 0.5559 - val_loss: 0.6493 - val_accuracy: 0.5385\n",
            "Epoch 14/50\n",
            "6/6 [==============================] - 20s 3s/step - loss: 0.6556 - accuracy: 0.5770 - val_loss: 0.6470 - val_accuracy: 0.5538\n",
            "Epoch 15/50\n",
            "6/6 [==============================] - 18s 3s/step - loss: 0.6551 - accuracy: 0.5665 - val_loss: 0.6446 - val_accuracy: 0.5115\n",
            "Epoch 16/50\n",
            "6/6 [==============================] - 17s 3s/step - loss: 0.6535 - accuracy: 0.5770 - val_loss: 0.6427 - val_accuracy: 0.6346\n",
            "Epoch 17/50\n",
            "6/6 [==============================] - 18s 3s/step - loss: 0.6461 - accuracy: 0.5906 - val_loss: 0.6382 - val_accuracy: 0.6385\n",
            "Epoch 18/50\n",
            "6/6 [==============================] - 18s 3s/step - loss: 0.6359 - accuracy: 0.6405 - val_loss: 0.6345 - val_accuracy: 0.6192\n",
            "Epoch 19/50\n",
            "6/6 [==============================] - 19s 3s/step - loss: 0.6350 - accuracy: 0.6390 - val_loss: 0.6317 - val_accuracy: 0.5769\n",
            "Epoch 20/50\n",
            "6/6 [==============================] - 18s 3s/step - loss: 0.6365 - accuracy: 0.6390 - val_loss: 0.6275 - val_accuracy: 0.6192\n",
            "Epoch 21/50\n",
            "6/6 [==============================] - 18s 3s/step - loss: 0.6371 - accuracy: 0.6435 - val_loss: 0.6251 - val_accuracy: 0.6500\n",
            "Epoch 22/50\n",
            "6/6 [==============================] - 21s 3s/step - loss: 0.6257 - accuracy: 0.6344 - val_loss: 0.6227 - val_accuracy: 0.5808\n",
            "Epoch 23/50\n",
            "6/6 [==============================] - 18s 3s/step - loss: 0.6331 - accuracy: 0.6480 - val_loss: 0.6213 - val_accuracy: 0.5654\n",
            "Epoch 24/50\n",
            "6/6 [==============================] - 18s 3s/step - loss: 0.6194 - accuracy: 0.6284 - val_loss: 0.6176 - val_accuracy: 0.6846\n",
            "Epoch 25/50\n",
            "6/6 [==============================] - 18s 3s/step - loss: 0.6186 - accuracy: 0.6601 - val_loss: 0.6147 - val_accuracy: 0.6000\n",
            "Epoch 26/50\n",
            "6/6 [==============================] - 17s 3s/step - loss: 0.6065 - accuracy: 0.6692 - val_loss: 0.6157 - val_accuracy: 0.7038\n",
            "Epoch 27/50\n",
            "6/6 [==============================] - 18s 3s/step - loss: 0.6108 - accuracy: 0.7221 - val_loss: 0.6088 - val_accuracy: 0.6192\n",
            "Epoch 28/50\n",
            "6/6 [==============================] - 18s 3s/step - loss: 0.6144 - accuracy: 0.6903 - val_loss: 0.6071 - val_accuracy: 0.6077\n",
            "Epoch 29/50\n",
            "6/6 [==============================] - 18s 3s/step - loss: 0.6014 - accuracy: 0.6964 - val_loss: 0.6007 - val_accuracy: 0.6846\n",
            "Epoch 30/50\n",
            "6/6 [==============================] - 17s 3s/step - loss: 0.6059 - accuracy: 0.6828 - val_loss: 0.5992 - val_accuracy: 0.7154\n",
            "Epoch 31/50\n",
            "6/6 [==============================] - 17s 3s/step - loss: 0.6014 - accuracy: 0.7069 - val_loss: 0.5964 - val_accuracy: 0.7231\n",
            "Epoch 32/50\n",
            "6/6 [==============================] - 18s 3s/step - loss: 0.6022 - accuracy: 0.6873 - val_loss: 0.5935 - val_accuracy: 0.6846\n",
            "Epoch 33/50\n",
            "6/6 [==============================] - 18s 3s/step - loss: 0.5873 - accuracy: 0.7402 - val_loss: 0.5930 - val_accuracy: 0.6346\n",
            "Epoch 34/50\n",
            "6/6 [==============================] - 18s 3s/step - loss: 0.5993 - accuracy: 0.6677 - val_loss: 0.5876 - val_accuracy: 0.6731\n",
            "Epoch 35/50\n",
            "6/6 [==============================] - 17s 3s/step - loss: 0.5923 - accuracy: 0.7251 - val_loss: 0.5961 - val_accuracy: 0.5885\n",
            "Epoch 36/50\n",
            "6/6 [==============================] - 18s 3s/step - loss: 0.5920 - accuracy: 0.6722 - val_loss: 0.5827 - val_accuracy: 0.7462\n",
            "Epoch 37/50\n",
            "6/6 [==============================] - 17s 3s/step - loss: 0.5828 - accuracy: 0.7477 - val_loss: 0.5863 - val_accuracy: 0.7538\n",
            "Epoch 38/50\n",
            "6/6 [==============================] - 18s 3s/step - loss: 0.5887 - accuracy: 0.7387 - val_loss: 0.5765 - val_accuracy: 0.7308\n",
            "Epoch 39/50\n",
            "6/6 [==============================] - 18s 3s/step - loss: 0.5913 - accuracy: 0.7160 - val_loss: 0.5736 - val_accuracy: 0.7115\n",
            "Epoch 40/50\n",
            "6/6 [==============================] - 18s 3s/step - loss: 0.5807 - accuracy: 0.7205 - val_loss: 0.5725 - val_accuracy: 0.7385\n",
            "Epoch 41/50\n",
            "6/6 [==============================] - 18s 3s/step - loss: 0.5739 - accuracy: 0.7538 - val_loss: 0.5701 - val_accuracy: 0.7038\n",
            "Epoch 42/50\n",
            "6/6 [==============================] - 17s 3s/step - loss: 0.5767 - accuracy: 0.7447 - val_loss: 0.5675 - val_accuracy: 0.7077\n",
            "Epoch 43/50\n",
            "6/6 [==============================] - 18s 3s/step - loss: 0.5789 - accuracy: 0.7100 - val_loss: 0.5657 - val_accuracy: 0.7538\n",
            "Epoch 44/50\n",
            "6/6 [==============================] - 18s 3s/step - loss: 0.5809 - accuracy: 0.6949 - val_loss: 0.5616 - val_accuracy: 0.7346\n",
            "Epoch 45/50\n",
            "6/6 [==============================] - 18s 3s/step - loss: 0.5709 - accuracy: 0.7190 - val_loss: 0.5585 - val_accuracy: 0.7385\n",
            "Epoch 46/50\n",
            "6/6 [==============================] - 18s 3s/step - loss: 0.5731 - accuracy: 0.7130 - val_loss: 0.5616 - val_accuracy: 0.7654\n",
            "Epoch 47/50\n",
            "6/6 [==============================] - 18s 3s/step - loss: 0.5631 - accuracy: 0.7795 - val_loss: 0.5544 - val_accuracy: 0.7500\n",
            "Epoch 48/50\n",
            "6/6 [==============================] - 18s 3s/step - loss: 0.5695 - accuracy: 0.7130 - val_loss: 0.5545 - val_accuracy: 0.7654\n",
            "Epoch 49/50\n",
            "6/6 [==============================] - 17s 3s/step - loss: 0.5567 - accuracy: 0.7704 - val_loss: 0.5502 - val_accuracy: 0.7692\n",
            "Epoch 50/50\n",
            "6/6 [==============================] - 18s 3s/step - loss: 0.5630 - accuracy: 0.7568 - val_loss: 0.5549 - val_accuracy: 0.6962\n"
          ],
          "name": "stdout"
        }
      ]
    },
    {
      "cell_type": "code",
      "metadata": {
        "id": "GPd0J-Kubu4P",
        "outputId": "71ade2e7-bd05-4ce8-ecdb-38b201fc2b4b",
        "colab": {
          "base_uri": "https://localhost:8080/",
          "height": 278
        }
      },
      "source": [
        "plot_loss(history_base_model)"
      ],
      "execution_count": 20,
      "outputs": [
        {
          "output_type": "display_data",
          "data": {
            "image/png": "[encoded data removed]",
            "text/plain": [
              "<Figure size 432x288 with 1 Axes>"
            ]
          },
          "metadata": {
            "tags": [],
            "needs_background": "light"
          }
        }
      ]
    },
    {
      "cell_type": "markdown",
      "metadata": {
        "id": "vXo9ZIP1glBJ"
      },
      "source": [
        "##Optimizer Adamax"
      ]
    },
    {
      "cell_type": "code",
      "metadata": {
        "id": "IVi1MhMog5JZ",
        "outputId": "25eb174b-e922-4e6b-ca55-47f532271a63",
        "colab": {
          "base_uri": "https://localhost:8080/",
          "height": 440
        }
      },
      "source": [
        "from tensorflow.keras.models import Sequential\n",
        "from tensorflow.keras.layers import Conv2D, MaxPooling2D, Dense, Flatten\n",
        "from tensorflow.keras.optimizers import Adamax\n",
        "\n",
        "model = Sequential()\n",
        "model.add(Conv2D(32, (3, 3), activation='relu', kernel_initializer='he_uniform', padding='same', input_shape=(200, 200, 3)))\n",
        "model.add(MaxPooling2D((2, 2)))\n",
        "\n",
        "model.add(Conv2D(64, (3, 3), activation='relu', kernel_initializer='he_uniform', padding='same', input_shape=(200, 200, 3)))\n",
        "model.add(MaxPooling2D((2, 2)))\n",
        "\n",
        "model.add(Conv2D(128, (3, 3), activation='relu', kernel_initializer='he_uniform', padding='same', input_shape=(200, 200, 3)))\n",
        "model.add(MaxPooling2D((2, 2)))\n",
        "\n",
        "model.add(Flatten())\n",
        "\n",
        "model.add(Dense(128, activation='relu', kernel_initializer='he_uniform'))\n",
        "model.add(Dense(1, activation='sigmoid'))\n",
        "\n",
        "opt = Adamax(lr=0.001, beta_1=0.9, beta_2=0.999, epsilon=1e-07)\n",
        "\n",
        "model.compile(optimizer=opt, loss='binary_crossentropy', metrics=['accuracy'])\n",
        "\n",
        "model.summary()"
      ],
      "execution_count": 21,
      "outputs": [
        {
          "output_type": "stream",
          "text": [
            "Model: \"sequential_3\"\n",
            "_________________________________________________________________\n",
            "Layer (type)                 Output Shape              Param #   \n",
            "=================================================================\n",
            "conv2d_9 (Conv2D)            (None, 200, 200, 32)      896       \n",
            "_________________________________________________________________\n",
            "max_pooling2d_9 (MaxPooling2 (None, 100, 100, 32)      0         \n",
            "_________________________________________________________________\n",
            "conv2d_10 (Conv2D)           (None, 100, 100, 64)      18496     \n",
            "_________________________________________________________________\n",
            "max_pooling2d_10 (MaxPooling (None, 50, 50, 64)        0         \n",
            "_________________________________________________________________\n",
            "conv2d_11 (Conv2D)           (None, 50, 50, 128)       73856     \n",
            "_________________________________________________________________\n",
            "max_pooling2d_11 (MaxPooling (None, 25, 25, 128)       0         \n",
            "_________________________________________________________________\n",
            "flatten_3 (Flatten)          (None, 80000)             0         \n",
            "_________________________________________________________________\n",
            "dense_6 (Dense)              (None, 128)               10240128  \n",
            "_________________________________________________________________\n",
            "dense_7 (Dense)              (None, 1)                 129       \n",
            "=================================================================\n",
            "Total params: 10,333,505\n",
            "Trainable params: 10,333,505\n",
            "Non-trainable params: 0\n",
            "_________________________________________________________________\n"
          ],
          "name": "stdout"
        }
      ]
    },
    {
      "cell_type": "code",
      "metadata": {
        "id": "ExkB0-3Tgots",
        "outputId": "070bd5c7-ecb7-44c1-dd04-2a8c17e59dba",
        "colab": {
          "base_uri": "https://localhost:8080/",
          "height": 50
        }
      },
      "source": [
        "train_datagen = ImageDataGenerator(rescale=1.0/255.0, width_shift_range=0.1, height_shift_range=0.1, horizontal_flip=True)\n",
        "test_datagen = ImageDataGenerator(rescale=1.0/255.0)\n",
        "\n",
        "train_aug_iterator = train_datagen.flow_from_directory(os.path.join(dataset_dir, 'train'), class_mode='binary', batch_size=128, target_size=(200, 200))\n",
        "test_aug_iterator = test_datagen.flow_from_directory(os.path.join(dataset_dir, 'test'), class_mode='binary', batch_size=128, target_size=(200, 200))"
      ],
      "execution_count": 22,
      "outputs": [
        {
          "output_type": "stream",
          "text": [
            "Found 662 images belonging to 2 classes.\n",
            "Found 260 images belonging to 2 classes.\n"
          ],
          "name": "stdout"
        }
      ]
    },
    {
      "cell_type": "code",
      "metadata": {
        "id": "R-ralFj2hO5z",
        "outputId": "51d3e9dd-ead2-482f-ce64-6aaf52fda074",
        "colab": {
          "base_uri": "https://localhost:8080/",
          "height": 1000
        }
      },
      "source": [
        "history_base_model = model.fit_generator(train_aug_iterator, steps_per_epoch=len(train_aug_iterator), validation_data=test_aug_iterator, validation_steps=len(test_aug_iterator), epochs=50)"
      ],
      "execution_count": 23,
      "outputs": [
        {
          "output_type": "stream",
          "text": [
            "Epoch 1/50\n",
            "6/6 [==============================] - 24s 4s/step - loss: 22.8558 - accuracy: 0.4819 - val_loss: 3.0408 - val_accuracy: 0.5000\n",
            "Epoch 2/50\n",
            "6/6 [==============================] - 19s 3s/step - loss: 1.9870 - accuracy: 0.5030 - val_loss: 1.2705 - val_accuracy: 0.5000\n",
            "Epoch 3/50\n",
            "6/6 [==============================] - 17s 3s/step - loss: 0.7824 - accuracy: 0.5000 - val_loss: 0.6216 - val_accuracy: 0.5000\n",
            "Epoch 4/50\n",
            "6/6 [==============================] - 19s 3s/step - loss: 0.5863 - accuracy: 0.6133 - val_loss: 0.5958 - val_accuracy: 0.5808\n",
            "Epoch 5/50\n",
            "6/6 [==============================] - 21s 4s/step - loss: 0.5398 - accuracy: 0.6375 - val_loss: 0.5618 - val_accuracy: 0.6385\n",
            "Epoch 6/50\n",
            "6/6 [==============================] - 21s 4s/step - loss: 0.5042 - accuracy: 0.8006 - val_loss: 0.5271 - val_accuracy: 0.8077\n",
            "Epoch 7/50\n",
            "6/6 [==============================] - 19s 3s/step - loss: 0.4606 - accuracy: 0.8701 - val_loss: 0.5090 - val_accuracy: 0.8308\n",
            "Epoch 8/50\n",
            "6/6 [==============================] - 18s 3s/step - loss: 0.4193 - accuracy: 0.8640 - val_loss: 0.5335 - val_accuracy: 0.8346\n",
            "Epoch 9/50\n",
            "6/6 [==============================] - 18s 3s/step - loss: 0.3903 - accuracy: 0.8731 - val_loss: 0.4572 - val_accuracy: 0.8500\n",
            "Epoch 10/50\n",
            "6/6 [==============================] - 18s 3s/step - loss: 0.3589 - accuracy: 0.8761 - val_loss: 0.4274 - val_accuracy: 0.8577\n",
            "Epoch 11/50\n",
            "6/6 [==============================] - 19s 3s/step - loss: 0.3213 - accuracy: 0.9003 - val_loss: 0.4195 - val_accuracy: 0.8885\n",
            "Epoch 12/50\n",
            "6/6 [==============================] - 18s 3s/step - loss: 0.3050 - accuracy: 0.9063 - val_loss: 0.3845 - val_accuracy: 0.8615\n",
            "Epoch 13/50\n",
            "6/6 [==============================] - 19s 3s/step - loss: 0.2928 - accuracy: 0.8912 - val_loss: 0.3473 - val_accuracy: 0.8923\n",
            "Epoch 14/50\n",
            "6/6 [==============================] - 19s 3s/step - loss: 0.2594 - accuracy: 0.9063 - val_loss: 0.3373 - val_accuracy: 0.8846\n",
            "Epoch 15/50\n",
            "6/6 [==============================] - 19s 3s/step - loss: 0.2553 - accuracy: 0.8927 - val_loss: 0.3225 - val_accuracy: 0.9192\n",
            "Epoch 16/50\n",
            "6/6 [==============================] - 18s 3s/step - loss: 0.2502 - accuracy: 0.9033 - val_loss: 0.3711 - val_accuracy: 0.8923\n",
            "Epoch 17/50\n",
            "6/6 [==============================] - 21s 4s/step - loss: 0.2261 - accuracy: 0.9245 - val_loss: 0.3071 - val_accuracy: 0.9269\n",
            "Epoch 18/50\n",
            "6/6 [==============================] - 18s 3s/step - loss: 0.2160 - accuracy: 0.9320 - val_loss: 0.2861 - val_accuracy: 0.9154\n",
            "Epoch 19/50\n",
            "6/6 [==============================] - 18s 3s/step - loss: 0.1966 - accuracy: 0.9305 - val_loss: 0.3093 - val_accuracy: 0.9308\n",
            "Epoch 20/50\n",
            "6/6 [==============================] - 21s 4s/step - loss: 0.2019 - accuracy: 0.9260 - val_loss: 0.2826 - val_accuracy: 0.9308\n",
            "Epoch 21/50\n",
            "6/6 [==============================] - 18s 3s/step - loss: 0.1721 - accuracy: 0.9441 - val_loss: 0.2914 - val_accuracy: 0.8923\n",
            "Epoch 22/50\n",
            "6/6 [==============================] - 19s 3s/step - loss: 0.1777 - accuracy: 0.9305 - val_loss: 0.3214 - val_accuracy: 0.9192\n",
            "Epoch 23/50\n",
            "6/6 [==============================] - 21s 4s/step - loss: 0.2031 - accuracy: 0.9305 - val_loss: 0.2598 - val_accuracy: 0.9346\n",
            "Epoch 24/50\n",
            "6/6 [==============================] - 19s 3s/step - loss: 0.1774 - accuracy: 0.9335 - val_loss: 0.2467 - val_accuracy: 0.9385\n",
            "Epoch 25/50\n",
            "6/6 [==============================] - 19s 3s/step - loss: 0.1528 - accuracy: 0.9456 - val_loss: 0.2581 - val_accuracy: 0.9346\n",
            "Epoch 26/50\n",
            "6/6 [==============================] - 18s 3s/step - loss: 0.1572 - accuracy: 0.9502 - val_loss: 0.2664 - val_accuracy: 0.9346\n",
            "Epoch 27/50\n",
            "6/6 [==============================] - 19s 3s/step - loss: 0.1399 - accuracy: 0.9426 - val_loss: 0.3474 - val_accuracy: 0.9115\n",
            "Epoch 28/50\n",
            "6/6 [==============================] - 18s 3s/step - loss: 0.1333 - accuracy: 0.9486 - val_loss: 0.2872 - val_accuracy: 0.9308\n",
            "Epoch 29/50\n",
            "6/6 [==============================] - 19s 3s/step - loss: 0.1318 - accuracy: 0.9562 - val_loss: 0.2461 - val_accuracy: 0.9346\n",
            "Epoch 30/50\n",
            "6/6 [==============================] - 21s 3s/step - loss: 0.1163 - accuracy: 0.9607 - val_loss: 0.2600 - val_accuracy: 0.9308\n",
            "Epoch 31/50\n",
            "6/6 [==============================] - 19s 3s/step - loss: 0.1180 - accuracy: 0.9562 - val_loss: 0.3103 - val_accuracy: 0.9308\n",
            "Epoch 32/50\n",
            "6/6 [==============================] - 18s 3s/step - loss: 0.1542 - accuracy: 0.9471 - val_loss: 0.4390 - val_accuracy: 0.8654\n",
            "Epoch 33/50\n",
            "6/6 [==============================] - 19s 3s/step - loss: 0.1676 - accuracy: 0.9441 - val_loss: 0.3616 - val_accuracy: 0.8962\n",
            "Epoch 34/50\n",
            "6/6 [==============================] - 22s 4s/step - loss: 0.1500 - accuracy: 0.9411 - val_loss: 0.2876 - val_accuracy: 0.9308\n",
            "Epoch 35/50\n",
            "6/6 [==============================] - 22s 4s/step - loss: 0.1112 - accuracy: 0.9607 - val_loss: 0.2900 - val_accuracy: 0.9308\n",
            "Epoch 36/50\n",
            "6/6 [==============================] - 19s 3s/step - loss: 0.1109 - accuracy: 0.9668 - val_loss: 0.2893 - val_accuracy: 0.9308\n",
            "Epoch 37/50\n",
            "6/6 [==============================] - 19s 3s/step - loss: 0.1109 - accuracy: 0.9607 - val_loss: 0.2598 - val_accuracy: 0.9346\n",
            "Epoch 38/50\n",
            "6/6 [==============================] - 19s 3s/step - loss: 0.0974 - accuracy: 0.9622 - val_loss: 0.2657 - val_accuracy: 0.9308\n",
            "Epoch 39/50\n",
            "6/6 [==============================] - 18s 3s/step - loss: 0.0955 - accuracy: 0.9683 - val_loss: 0.2602 - val_accuracy: 0.9346\n",
            "Epoch 40/50\n",
            "6/6 [==============================] - 19s 3s/step - loss: 0.0938 - accuracy: 0.9698 - val_loss: 0.3020 - val_accuracy: 0.9385\n",
            "Epoch 41/50\n",
            "6/6 [==============================] - 18s 3s/step - loss: 0.1068 - accuracy: 0.9592 - val_loss: 0.2872 - val_accuracy: 0.9308\n",
            "Epoch 42/50\n",
            "6/6 [==============================] - 21s 3s/step - loss: 0.1259 - accuracy: 0.9502 - val_loss: 0.2642 - val_accuracy: 0.9308\n",
            "Epoch 43/50\n",
            "6/6 [==============================] - 20s 3s/step - loss: 0.1173 - accuracy: 0.9532 - val_loss: 0.2276 - val_accuracy: 0.9308\n",
            "Epoch 44/50\n",
            "6/6 [==============================] - 18s 3s/step - loss: 0.1118 - accuracy: 0.9637 - val_loss: 0.2414 - val_accuracy: 0.9346\n",
            "Epoch 45/50\n",
            "6/6 [==============================] - 18s 3s/step - loss: 0.0838 - accuracy: 0.9698 - val_loss: 0.3010 - val_accuracy: 0.9269\n",
            "Epoch 46/50\n",
            "6/6 [==============================] - 17s 3s/step - loss: 0.0863 - accuracy: 0.9728 - val_loss: 0.3057 - val_accuracy: 0.9308\n",
            "Epoch 47/50\n",
            "6/6 [==============================] - 17s 3s/step - loss: 0.0800 - accuracy: 0.9683 - val_loss: 0.2417 - val_accuracy: 0.9346\n",
            "Epoch 48/50\n",
            "6/6 [==============================] - 19s 3s/step - loss: 0.0995 - accuracy: 0.9637 - val_loss: 0.2177 - val_accuracy: 0.9385\n",
            "Epoch 49/50\n",
            "6/6 [==============================] - 18s 3s/step - loss: 0.0870 - accuracy: 0.9698 - val_loss: 0.2521 - val_accuracy: 0.9346\n",
            "Epoch 50/50\n",
            "6/6 [==============================] - 18s 3s/step - loss: 0.0990 - accuracy: 0.9698 - val_loss: 0.2392 - val_accuracy: 0.9346\n"
          ],
          "name": "stdout"
        }
      ]
    },
    {
      "cell_type": "code",
      "metadata": {
        "id": "dk1YHDQ_hPuA",
        "outputId": "ec55cac4-cd31-4545-9472-d3790e9e16b3",
        "colab": {
          "base_uri": "https://localhost:8080/",
          "height": 278
        }
      },
      "source": [
        "plot_loss(history_base_model)"
      ],
      "execution_count": 24,
      "outputs": [
        {
          "output_type": "display_data",
          "data": {
            "image/png": "[encoded data removed]",
            "text/plain": [
              "<Figure size 432x288 with 1 Axes>"
            ]
          },
          "metadata": {
            "tags": [],
            "needs_background": "light"
          }
        }
      ]
    },
    {
      "cell_type": "markdown",
      "metadata": {
        "id": "qBep7dlCsetK"
      },
      "source": [
        "Hasil terbaik yang saya dapat adalah dengan menggunakan optimizer SGD dengan tingkat akurasi 93% dan val_loss 21%"
      ]
    }
  ]
}