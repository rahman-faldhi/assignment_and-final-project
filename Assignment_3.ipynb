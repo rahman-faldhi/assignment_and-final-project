{
  "nbformat": 4,
  "nbformat_minor": 0,
  "metadata": {
    "colab": {
      "name": "Assignment 3",
      "provenance": [],
      "collapsed_sections": []
    },
    "kernelspec": {
      "name": "python3",
      "display_name": "Python 3"
    }
  },
  "cells": [
    {
      "cell_type": "code",
      "metadata": {
        "id": "4Ug1TO-z4H57",
        "colab_type": "code",
        "colab": {
          "base_uri": "https://localhost:8080/",
          "height": 66
        },
        "outputId": "4a843b24-20b7-414e-ca9f-941d9bf3d442"
      },
      "source": [
        "from statistics import mean\n",
        "\n",
        "print(\"soal nomor 1\")\n",
        "\n",
        "array_of_dictionaries = [{\n",
        "    \"name\": \"Budi\",\n",
        "    \"age\": 10,\n",
        "    \"test_scores\": [100.0, 98.0, 89.0]\n",
        "},\n",
        "{\n",
        "    \"name\": \"Charlie\",\n",
        "    \"age\": 12,\n",
        "    \"test_scores\": [90.0, 100.0]\n",
        "}]\n",
        "\n",
        "def get_student_average(dictionary_list):\n",
        "\n",
        "  avg=0\n",
        "  name=\"\"\n",
        "  age=\"\"\n",
        "\n",
        "  for element in array_of_dictionaries:                                           #elementnya adalah isi dari array_of_dictionaries\n",
        "    for attribute in element:                                                     #attributenya adalah name, age, test score\n",
        "      if attribute == 'name':                                                     \n",
        "        name = element[attribute]\n",
        "      if attribute == 'age':\n",
        "        age = element[attribute]\n",
        "      if attribute == 'test_scores':\n",
        "        avg=round(mean(element[attribute]),2)\n",
        "    print(\"Pelajar\",name,\"dengan umur\",age,\"mendapatkan nilai rata rata\",avg)\n",
        "  return\n",
        "\n",
        "get_student_average(array_of_dictionaries)"
      ],
      "execution_count": 2,
      "outputs": [
        {
          "output_type": "stream",
          "text": [
            "soal nomor 1\n",
            "Pelajar Budi dengan umur 10 mendapatkan nilai rata rata 95.67\n",
            "Pelajar Charlie dengan umur 12 mendapatkan nilai rata rata 95.0\n"
          ],
          "name": "stdout"
        }
      ]
    },
    {
      "cell_type": "code",
      "metadata": {
        "id": "quygCVscGYgq",
        "colab_type": "code",
        "colab": {
          "base_uri": "https://localhost:8080/",
          "height": 66
        },
        "outputId": "e94473e8-018e-45c4-ec57-615539ae1402"
      },
      "source": [
        "print(\"soal no 2\")\n",
        "\n",
        "def get_student_min_score(dictionary_list):\n",
        "  minimum=0\n",
        "  name=\"\"\n",
        "  age=\"\"\n",
        "\n",
        "  for element in array_of_dictionaries:                                           #elementnya adalah isi dari array_of_dictionaries\n",
        "    for attribute in element:                                                     #attributenya adalah name, age, test score\n",
        "      if attribute == 'name':                                                     \n",
        "        name = element[attribute]\n",
        "      if attribute == 'age':\n",
        "        age = element[attribute]\n",
        "      if attribute == 'test_scores':\n",
        "        minimum=min(element[attribute])\n",
        "    print(\"Pelajar\",name,\"dengan umur\",age,\"mendapatkan nilai minimal\",minimum)\n",
        "  return\n",
        "\n",
        "get_student_min_score(array_of_dictionaries)"
      ],
      "execution_count": 17,
      "outputs": [
        {
          "output_type": "stream",
          "text": [
            "soal no 2\n",
            "Pelajar Budi dengan umur 10 mendapatkan nilai minimal 89.0\n",
            "Pelajar Charlie dengan umur 12 mendapatkan nilai minimal 90.0\n"
          ],
          "name": "stdout"
        }
      ]
    },
    {
      "cell_type": "code",
      "metadata": {
        "id": "KGULW1pXJYJh",
        "colab_type": "code",
        "colab": {
          "base_uri": "https://localhost:8080/",
          "height": 66
        },
        "outputId": "7ff49d76-4a6b-49f4-e492-a3d1a87fa29a"
      },
      "source": [
        "print(\"soal no 3\")\n",
        "\n",
        "def get_student_max_score(dictionary_list):\n",
        "  maximum=0\n",
        "  name=\"\"\n",
        "  age=\"\"\n",
        "\n",
        "  for element in array_of_dictionaries:                                           #elementnya adalah isi dari array_of_dictionaries\n",
        "    for attribute in element:                                                     #attributenya adalah name, age, test score\n",
        "      if attribute == 'name':                                                     \n",
        "        name = element[attribute]\n",
        "      if attribute == 'age':\n",
        "        age = element[attribute]\n",
        "      if attribute == 'test_scores':\n",
        "        maximum=max(element[attribute])\n",
        "    print(\"Pelajar\",name,\"dengan umur\",age,\"mendapatkan nilai maximal\",maximum)\n",
        "  return\n",
        "\n",
        "get_student_max_score(array_of_dictionaries)"
      ],
      "execution_count": 4,
      "outputs": [
        {
          "output_type": "stream",
          "text": [
            "soal no 3\n",
            "Pelajar Budi dengan umur 10 mendapatkan nilai maximal 100.0\n",
            "Pelajar Charlie dengan umur 12 mendapatkan nilai maximal 100.0\n"
          ],
          "name": "stdout"
        }
      ]
    },
    {
      "cell_type": "code",
      "metadata": {
        "id": "UVqvYZ2lJqgl",
        "colab_type": "code",
        "colab": {
          "base_uri": "https://localhost:8080/",
          "height": 50
        },
        "outputId": "166bb035-ded6-4ff3-e171-e1b4124e1b7d"
      },
      "source": [
        "print(\"soal no 4\")\n",
        "\n",
        "name, age, score = [],[],[]\n",
        "def get_max_score_by_student(dictionary_list, student_name):\n",
        "\n",
        "  for element in array_of_dictionaries:                                           #elementnya adalah isi dari array_of_dictionaries\n",
        "    name.append(element['name'])\n",
        "    age.append(element['age'])\n",
        "    score.append(element['test_scores'])\n",
        "\n",
        "  for i, j in enumerate(name):\n",
        "    if student_name == j:\n",
        "      index = i  \n",
        "  print(\"Pelajar {0} dengan umur {1} mendapatkan nilai maximal {2}\".format(name[index], age[index], max(score[index])))\n",
        "\n",
        "get_max_score_by_student(array_of_dictionaries, \"Charlie\")"
      ],
      "execution_count": 16,
      "outputs": [
        {
          "output_type": "stream",
          "text": [
            "soal no 4\n",
            "Pelajar Charlie dengan umur 12 mendapatkan nilai maximal 100.0\n"
          ],
          "name": "stdout"
        }
      ]
    },
    {
      "cell_type": "code",
      "metadata": {
        "id": "BYQNWJ6AP_BT",
        "colab_type": "code",
        "colab": {
          "base_uri": "https://localhost:8080/",
          "height": 50
        },
        "outputId": "c3c06307-2546-4a83-e198-647af41c8ffd"
      },
      "source": [
        "print(\"soal no 5\")\n",
        "\n",
        "name, age, score, avg_score = [],[],[],[]\n",
        "def get_max_average_from_average_list(avg, max):\n",
        "  for i, j in enumerate(avg):\n",
        "    if max==j:\n",
        "      return i\n",
        "\n",
        "def get_all_time_max_avg_score(dictionary_list):\n",
        "\n",
        "  for element in dictionary_list:                                           #elementnya adalah isi dari array_of_dictionaries\n",
        "    name.append(element['name'])\n",
        "    age.append(element['age'])\n",
        "    score.append(element['test_scores'])\n",
        "    avg_score.append(round(mean(element['test_scores']),2))\n",
        "\n",
        "  max_score=max(avg_score)\n",
        "\n",
        "  i = get_max_average_from_average_list(avg_score,max_score) \n",
        "  print(\"Pelajar {0} dengan umur {1} mendapatkan nilai rata rata terbesar {2}\".format(name[i], age[i], avg_score[i]))\n",
        "\n",
        "get_all_time_max_avg_score(array_of_dictionaries)\n",
        "  \n"
      ],
      "execution_count": 92,
      "outputs": [
        {
          "output_type": "stream",
          "text": [
            "soal no 5\n",
            "Pelajar Budi dengan umur 10 mendapatkan nilai rata rata terbesar 95.67\n"
          ],
          "name": "stdout"
        }
      ]
    },
    {
      "cell_type": "code",
      "metadata": {
        "id": "IuKDn_5g4eaz",
        "colab_type": "code",
        "colab": {
          "base_uri": "https://localhost:8080/",
          "height": 70
        },
        "outputId": "e8cdefa9-66a2-4170-9ed1-efd6b4dee571"
      },
      "source": [
        "print(\"nomor 6\")\n",
        "\n",
        "def add_student(dictionary_list, student_dictionary):\n",
        "  dictionary_list.append(student_dictionary)\n",
        "  return dictionary_list\n",
        "\n",
        "update_dictionary = add_student(array_of_dictionaries, {\"name\":\"Doddy\", \"age\":17, \"test_scores\": [100.0, 100.0, 100.0]})\n",
        "print(update_dictionary)"
      ],
      "execution_count": 99,
      "outputs": [
        {
          "output_type": "stream",
          "text": [
            "nomor 6\n",
            "[{'name': 'Budi', 'age': 10, 'test_scores': [100.0, 98.0, 89.0]}, {'name': 'Charlie', 'age': 12, 'test_scores': [90.0, 100.0]}, {'name': 'Doddy', 'age': 17, 'test_scores': [100.0, 100, 0, 100.0]}, {'name': 'Doddy', 'age': 17, 'test_scores': [100.0, 100.0, 100.0]}]\n"
          ],
          "name": "stdout"
        }
      ]
    }
  ]
}