{
  "nbformat": 4,
  "nbformat_minor": 0,
  "metadata": {
    "colab": {
      "name": "Assignment 5 bonus.ipynb",
      "provenance": [],
      "collapsed_sections": []
    },
    "kernelspec": {
      "name": "python3",
      "display_name": "Python 3"
    }
  },
  "cells": [
    {
      "cell_type": "code",
      "metadata": {
        "id": "MHzpZFcLlEvF",
        "colab_type": "code",
        "colab": {}
      },
      "source": [
        "import os\n",
        "import pandas as pd\n",
        "import matplotlib.pyplot as plt\n",
        "import seaborn as sns\n",
        "import numpy as np\n",
        "from sklearn.model_selection import train_test_split\n",
        "from sklearn import preprocessing\n",
        "from sklearn.ensemble import RandomForestRegressor\n",
        "from sklearn import linear_model\n",
        "from sklearn.metrics import r2_score, mean_squared_error\n",
        "from sklearn.model_selection import cross_val_score\n",
        "from sklearn.svm import SVR\n",
        "from sklearn.datasets import load_boston\n",
        "from numpy import sqrt\n",
        "from sklearn.metrics import r2_score, mean_squared_error\n",
        "from sklearn.linear_model import LinearRegression\n",
        "from sklearn.linear_model import Ridge\n",
        "from sklearn.linear_model import Lasso\n",
        "from sklearn.linear_model import ElasticNet"
      ],
      "execution_count": 58,
      "outputs": []
    },
    {
      "cell_type": "code",
      "metadata": {
        "id": "YhM-Us87lhuy",
        "colab_type": "code",
        "colab": {
          "base_uri": "https://localhost:8080/",
          "height": 34
        },
        "outputId": "76e07c51-7612-47b5-ee3f-143be1d2e8f1"
      },
      "source": [
        "directory = os.path.join('sample_data', 'california_housing_train.csv') # Output: sample_data/california_housing_train.csv\n",
        "\n",
        "if os.path.isfile(directory):\n",
        "  print(\"File ditemukan\")"
      ],
      "execution_count": 41,
      "outputs": [
        {
          "output_type": "stream",
          "text": [
            "File ditemukan\n"
          ],
          "name": "stdout"
        }
      ]
    },
    {
      "cell_type": "code",
      "metadata": {
        "id": "HsGzGkSFln1R",
        "colab_type": "code",
        "colab": {}
      },
      "source": [
        "dataset = pd.read_csv(directory)"
      ],
      "execution_count": 42,
      "outputs": []
    },
    {
      "cell_type": "code",
      "metadata": {
        "id": "QxySvUorlplB",
        "colab_type": "code",
        "colab": {
          "base_uri": "https://localhost:8080/",
          "height": 204
        },
        "outputId": "fa30617a-db14-47ab-d5ab-8d2d00644365"
      },
      "source": [
        "dataset_numbers = dataset.select_dtypes(include = ['float64'])\n",
        "dataset_numbers.head()"
      ],
      "execution_count": 43,
      "outputs": [
        {
          "output_type": "execute_result",
          "data": {
            "text/html": [
              "<div>\n",
              "<style scoped>\n",
              "    .dataframe tbody tr th:only-of-type {\n",
              "        vertical-align: middle;\n",
              "    }\n",
              "\n",
              "    .dataframe tbody tr th {\n",
              "        vertical-align: top;\n",
              "    }\n",
              "\n",
              "    .dataframe thead th {\n",
              "        text-align: right;\n",
              "    }\n",
              "</style>\n",
              "<table border=\"1\" class=\"dataframe\">\n",
              "  <thead>\n",
              "    <tr style=\"text-align: right;\">\n",
              "      <th></th>\n",
              "      <th>longitude</th>\n",
              "      <th>latitude</th>\n",
              "      <th>housing_median_age</th>\n",
              "      <th>total_rooms</th>\n",
              "      <th>total_bedrooms</th>\n",
              "      <th>population</th>\n",
              "      <th>households</th>\n",
              "      <th>median_income</th>\n",
              "      <th>median_house_value</th>\n",
              "    </tr>\n",
              "  </thead>\n",
              "  <tbody>\n",
              "    <tr>\n",
              "      <th>0</th>\n",
              "      <td>-114.31</td>\n",
              "      <td>34.19</td>\n",
              "      <td>15.0</td>\n",
              "      <td>5612.0</td>\n",
              "      <td>1283.0</td>\n",
              "      <td>1015.0</td>\n",
              "      <td>472.0</td>\n",
              "      <td>1.4936</td>\n",
              "      <td>66900.0</td>\n",
              "    </tr>\n",
              "    <tr>\n",
              "      <th>1</th>\n",
              "      <td>-114.47</td>\n",
              "      <td>34.40</td>\n",
              "      <td>19.0</td>\n",
              "      <td>7650.0</td>\n",
              "      <td>1901.0</td>\n",
              "      <td>1129.0</td>\n",
              "      <td>463.0</td>\n",
              "      <td>1.8200</td>\n",
              "      <td>80100.0</td>\n",
              "    </tr>\n",
              "    <tr>\n",
              "      <th>2</th>\n",
              "      <td>-114.56</td>\n",
              "      <td>33.69</td>\n",
              "      <td>17.0</td>\n",
              "      <td>720.0</td>\n",
              "      <td>174.0</td>\n",
              "      <td>333.0</td>\n",
              "      <td>117.0</td>\n",
              "      <td>1.6509</td>\n",
              "      <td>85700.0</td>\n",
              "    </tr>\n",
              "    <tr>\n",
              "      <th>3</th>\n",
              "      <td>-114.57</td>\n",
              "      <td>33.64</td>\n",
              "      <td>14.0</td>\n",
              "      <td>1501.0</td>\n",
              "      <td>337.0</td>\n",
              "      <td>515.0</td>\n",
              "      <td>226.0</td>\n",
              "      <td>3.1917</td>\n",
              "      <td>73400.0</td>\n",
              "    </tr>\n",
              "    <tr>\n",
              "      <th>4</th>\n",
              "      <td>-114.57</td>\n",
              "      <td>33.57</td>\n",
              "      <td>20.0</td>\n",
              "      <td>1454.0</td>\n",
              "      <td>326.0</td>\n",
              "      <td>624.0</td>\n",
              "      <td>262.0</td>\n",
              "      <td>1.9250</td>\n",
              "      <td>65500.0</td>\n",
              "    </tr>\n",
              "  </tbody>\n",
              "</table>\n",
              "</div>"
            ],
            "text/plain": [
              "   longitude  latitude  ...  median_income  median_house_value\n",
              "0    -114.31     34.19  ...         1.4936             66900.0\n",
              "1    -114.47     34.40  ...         1.8200             80100.0\n",
              "2    -114.56     33.69  ...         1.6509             85700.0\n",
              "3    -114.57     33.64  ...         3.1917             73400.0\n",
              "4    -114.57     33.57  ...         1.9250             65500.0\n",
              "\n",
              "[5 rows x 9 columns]"
            ]
          },
          "metadata": {
            "tags": []
          },
          "execution_count": 43
        }
      ]
    },
    {
      "cell_type": "code",
      "metadata": {
        "id": "dwervA4HlwSi",
        "colab_type": "code",
        "colab": {}
      },
      "source": [
        "scaler = preprocessing.StandardScaler() \n",
        "\n",
        "dataset.columns\n",
        "\n",
        "feature = dataset.drop(['median_house_value'], axis=1) # Hapus kolom median_house_value dari feature karena ini adalah variabel yang kita ingin diprediksi\n",
        "label = dataset['median_house_value'] # Kolom median_house_value digunakan karena ini adalah yang ingin kita prediksi\n",
        "\n",
        "feature_scaled = scaler.fit_transform(feature.values) # Features setelah discaling\n",
        "label_scaled = scaler.fit_transform(dataset['median_house_value'].values.reshape(-1,1)).flatten() # Label/hasil prediksi setelah scaling\n",
        "\n",
        "feature_train, feature_test,label_train, label_test = train_test_split(feature_scaled, label_scaled, test_size=0.2)"
      ],
      "execution_count": 44,
      "outputs": []
    },
    {
      "cell_type": "markdown",
      "metadata": {
        "id": "cYHZDtX2oUl4",
        "colab_type": "text"
      },
      "source": [
        "**Linear Regression**\n"
      ]
    },
    {
      "cell_type": "code",
      "metadata": {
        "id": "pb6Bs33soTWi",
        "colab_type": "code",
        "colab": {
          "base_uri": "https://localhost:8080/",
          "height": 34
        },
        "outputId": "c9bdb13f-7af2-4512-8e6b-0710af6436bf"
      },
      "source": [
        "linear_reg = linear_model.LinearRegression()\n",
        "linear_reg.fit(feature_train,label_train)\n",
        "# r2_score(linear_reg.predict(feature_train), label_train)\n",
        "cross_validation_score = cross_val_score(linear_reg, feature_train,label_train, cv=10)\n",
        "reg_score = r2_score(linear_reg.predict(feature_test),label_test) \n",
        "reg_score"
      ],
      "execution_count": 45,
      "outputs": [
        {
          "output_type": "execute_result",
          "data": {
            "text/plain": [
              "0.48606946523175165"
            ]
          },
          "metadata": {
            "tags": []
          },
          "execution_count": 45
        }
      ]
    },
    {
      "cell_type": "markdown",
      "metadata": {
        "id": "OnkIsVtdovu1",
        "colab_type": "text"
      },
      "source": [
        "**Forest Regression**"
      ]
    },
    {
      "cell_type": "code",
      "metadata": {
        "id": "XwA0LYI_rm5E",
        "colab_type": "code",
        "colab": {
          "base_uri": "https://localhost:8080/",
          "height": 34
        },
        "outputId": "295ce0ff-04d8-458f-a50e-d94749e3d575"
      },
      "source": [
        "forest_reg = RandomForestRegressor()\n",
        "forest_reg.fit(feature_train,label_train)\n",
        "r2_score(forest_reg.predict(feature_train), label_train)\n",
        "cross_validation_score = cross_val_score(forest_reg, feature_train, label_train, cv=10)\n",
        "forest_score = r2_score(forest_reg.predict(feature_test), label_test) \n",
        "forest_score"
      ],
      "execution_count": 46,
      "outputs": [
        {
          "output_type": "execute_result",
          "data": {
            "text/plain": [
              "0.7915715732208212"
            ]
          },
          "metadata": {
            "tags": []
          },
          "execution_count": 46
        }
      ]
    },
    {
      "cell_type": "markdown",
      "metadata": {
        "id": "ax8vMEuLr824",
        "colab_type": "text"
      },
      "source": [
        "**SVR**"
      ]
    },
    {
      "cell_type": "code",
      "metadata": {
        "id": "9LRJRqt6snv5",
        "colab_type": "code",
        "colab": {
          "base_uri": "https://localhost:8080/",
          "height": 170
        },
        "outputId": "36b812f5-d494-4e96-84ba-70e5bf4770c3"
      },
      "source": [
        "feature_train, feature_test,label_train, label_test = train_test_split(feature_scaled, label_scaled, test_size=0.2)\n",
        "\n",
        "def svr_r(svr):\n",
        "  svr_rbf = SVR(kernel=svr)\n",
        "  svr_rbf.fit(feature_train,label_train)\n",
        "  svr_score = r2_score(svr_rbf.predict(feature_test), label_test) \n",
        "  print(svr_score)\n",
        "\n",
        "kernelsvc=['rbf','poly','linear']\n",
        "\n",
        "for x in kernelsvc:\n",
        "  print(\"SVR: \", x)\n",
        "  svr_r(x)\n",
        "  print()"
      ],
      "execution_count": 60,
      "outputs": [
        {
          "output_type": "stream",
          "text": [
            "SVR:  rbf\n",
            "0.6793655756139074\n",
            "\n",
            "SVR:  poly\n",
            "0.2318004446693115\n",
            "\n",
            "SVR:  linear\n",
            "0.44350629254287677\n",
            "\n"
          ],
          "name": "stdout"
        }
      ]
    },
    {
      "cell_type": "markdown",
      "metadata": {
        "id": "UyhAmbz5uvxc",
        "colab_type": "text"
      },
      "source": [
        "**Lasso**"
      ]
    },
    {
      "cell_type": "code",
      "metadata": {
        "id": "5i1L2BsVuXr6",
        "colab_type": "code",
        "colab": {
          "base_uri": "https://localhost:8080/",
          "height": 34
        },
        "outputId": "021e9aa0-5064-4527-ce35-4ae8dcc2df83"
      },
      "source": [
        "model_lasso = Lasso(alpha=0.01)\n",
        "\n",
        "model_lasso.fit(feature_train,label_train)\n",
        "r2_score(model_lasso.predict(feature_train), label_train)\n",
        "cross_validation_score = cross_val_score(model_lasso, feature_train, label_train, cv=10)\n",
        "lasso_score = r2_score(model_lasso.predict(feature_test), label_test) \n",
        "lasso_score"
      ],
      "execution_count": 48,
      "outputs": [
        {
          "output_type": "execute_result",
          "data": {
            "text/plain": [
              "0.3889829187782684"
            ]
          },
          "metadata": {
            "tags": []
          },
          "execution_count": 48
        }
      ]
    },
    {
      "cell_type": "markdown",
      "metadata": {
        "id": "OPld27Hhwm_2",
        "colab_type": "text"
      },
      "source": [
        "**Ridge**"
      ]
    },
    {
      "cell_type": "code",
      "metadata": {
        "id": "K4bpfeGVwmRC",
        "colab_type": "code",
        "colab": {
          "base_uri": "https://localhost:8080/",
          "height": 34
        },
        "outputId": "aa33bf69-d5e4-4d98-89ce-be897acb73a7"
      },
      "source": [
        "model_ridge = Ridge(alpha=0.01)\n",
        "\n",
        "model_ridge.fit(feature_train,label_train)\n",
        "r2_score(model_ridge.predict(feature_train), label_train)\n",
        "cross_validation_score = cross_val_score(model_ridge, feature_train, label_train, cv=10)\n",
        "ridge_score = r2_score(model_ridge.predict(feature_test), label_test) \n",
        "ridge_score"
      ],
      "execution_count": 49,
      "outputs": [
        {
          "output_type": "execute_result",
          "data": {
            "text/plain": [
              "0.4557661865877394"
            ]
          },
          "metadata": {
            "tags": []
          },
          "execution_count": 49
        }
      ]
    },
    {
      "cell_type": "markdown",
      "metadata": {
        "id": "U03-tWkdxID5",
        "colab_type": "text"
      },
      "source": [
        "**Elastic Net**"
      ]
    },
    {
      "cell_type": "code",
      "metadata": {
        "id": "IdLPCi-Bxaq3",
        "colab_type": "code",
        "colab": {
          "base_uri": "https://localhost:8080/",
          "height": 34
        },
        "outputId": "86d65b60-f8d0-41c3-ff52-3f4416ddae02"
      },
      "source": [
        "model_elastic = ElasticNet(alpha=0.01)\n",
        "\n",
        "model_elastic.fit(feature_train,label_train)\n",
        "r2_score(model_elastic.predict(feature_train), label_train)\n",
        "cross_validation_score = cross_val_score(model_elastic, feature_train, label_train, cv=10)\n",
        "elastic_score = r2_score(model_elastic.predict(feature_test), label_test) \n",
        "elastic_score"
      ],
      "execution_count": 50,
      "outputs": [
        {
          "output_type": "execute_result",
          "data": {
            "text/plain": [
              "0.40770771932166283"
            ]
          },
          "metadata": {
            "tags": []
          },
          "execution_count": 50
        }
      ]
    },
    {
      "cell_type": "markdown",
      "metadata": {
        "id": "q-zlEO3v8VZ7",
        "colab_type": "text"
      },
      "source": [
        "**SGD Regressor**\n"
      ]
    },
    {
      "cell_type": "code",
      "metadata": {
        "id": "_VsoKillzcOw",
        "colab_type": "code",
        "colab": {
          "base_uri": "https://localhost:8080/",
          "height": 34
        },
        "outputId": "d36409a2-4985-41db-c2fc-fefef07e83c0"
      },
      "source": [
        "from sklearn.linear_model import SGDRegressor\n",
        "from sklearn.pipeline import make_pipeline\n",
        "from sklearn.preprocessing import StandardScaler\n",
        "\n",
        "reg = make_pipeline(StandardScaler(),SGDRegressor(max_iter=1000, tol=1e-3))\n",
        "reg.fit(feature_train,label_train)\n",
        "r2_score(reg.predict(feature_train), label_train)\n",
        "cross_validation_score = cross_val_score(reg, feature_train, label_train, cv=10)\n",
        "reg_score = r2_score(reg.predict(feature_test), label_test) \n",
        "reg_score"
      ],
      "execution_count": 51,
      "outputs": [
        {
          "output_type": "execute_result",
          "data": {
            "text/plain": [
              "0.45923361827617093"
            ]
          },
          "metadata": {
            "tags": []
          },
          "execution_count": 51
        }
      ]
    },
    {
      "cell_type": "markdown",
      "metadata": {
        "id": "kS68nOI5DYLp",
        "colab_type": "text"
      },
      "source": [
        "**K-Nearest Neighbor**"
      ]
    },
    {
      "cell_type": "code",
      "metadata": {
        "id": "jdfNF25WAG3F",
        "colab_type": "code",
        "colab": {
          "base_uri": "https://localhost:8080/",
          "height": 34
        },
        "outputId": "3a79ce3a-6d82-4845-bdfb-9cfacc2f782f"
      },
      "source": [
        "from sklearn.neighbors import KNeighborsRegressor\n",
        "from sklearn.metrics import confusion_matrix\n",
        "\n",
        "knn = KNeighborsRegressor(n_neighbors=1)\n",
        "knn.fit(feature_train,label_train)\n",
        "r2_score(knn.predict(feature_train), label_train)\n",
        "cross_validation_score = cross_val_score(knn, feature_train, label_train, cv=10)\n",
        "knn_score = r2_score(knn.predict(feature_test), label_test) \n",
        "knn_score"
      ],
      "execution_count": 54,
      "outputs": [
        {
          "output_type": "execute_result",
          "data": {
            "text/plain": [
              "0.5602269797426795"
            ]
          },
          "metadata": {
            "tags": []
          },
          "execution_count": 54
        }
      ]
    },
    {
      "cell_type": "markdown",
      "metadata": {
        "id": "m-kH4uz5ECbe",
        "colab_type": "text"
      },
      "source": [
        "**Kesimpulan**\n",
        "Algoritma yang digunakan pada assignment ini antara lain:\n",
        "Linear Regression,\n",
        "Forest Regression,\n",
        "SVR RBF,\n",
        "SVR Linear,\n",
        "SVR Poly,\n",
        "Lasso,\n",
        "Ridge,\n",
        "Elastic Net,\n",
        "SGD Reggressor,\n",
        "K-Nearest Neighbor\n",
        "\n",
        "---\n",
        "Dari Algoritma algoritma diatas, yang paling akurat untuk digunakan pada california house adalah forest regression\n",
        "\n"
      ]
    }
  ]
}