{
  "nbformat": 4,
  "nbformat_minor": 0,
  "metadata": {
    "colab": {
      "name": "Assignment 2",
      "provenance": [],
      "collapsed_sections": []
    },
    "kernelspec": {
      "name": "python3",
      "display_name": "Python 3"
    }
  },
  "cells": [
    {
      "cell_type": "code",
      "metadata": {
        "id": "P1Dk7lgg7XU1",
        "colab_type": "code",
        "colab": {
          "base_uri": "https://localhost:8080/",
          "height": 51
        },
        "outputId": "807a428e-f40e-47fe-95ef-782f3b583873"
      },
      "source": [
        "print (\"Soal no 1\")\n",
        "# i = range(1, 11)\n",
        "# for numbers in i:\n",
        "#   print (\"number: \" + str(numbers))\n",
        "\n",
        "numbers1 = []\n",
        "numbers1 = [x for x in range(1,11)]\n",
        "print (numbers1)"
      ],
      "execution_count": 2,
      "outputs": [
        {
          "output_type": "stream",
          "text": [
            "Soal no 1\n",
            "[1, 2, 3, 4, 5, 6, 7, 8, 9, 10]\n"
          ],
          "name": "stdout"
        }
      ]
    },
    {
      "cell_type": "code",
      "metadata": {
        "id": "0ZmULoKNHlMP",
        "colab_type": "code",
        "colab": {
          "base_uri": "https://localhost:8080/",
          "height": 51
        },
        "outputId": "eb1bbe11-f653-4eda-f9df-ea80b44a5f0e"
      },
      "source": [
        "print (\"soal no 2\")\n",
        "# for numbers in i:\n",
        "#   numbers=numbers+2\n",
        "#   print(numbers, end=' ')\n",
        "\n",
        "numbers2 = []\n",
        "numbers2 = [x+2 for x in numbers1]\n",
        "print (numbers2)"
      ],
      "execution_count": 3,
      "outputs": [
        {
          "output_type": "stream",
          "text": [
            "soal no 2\n",
            "[3, 4, 5, 6, 7, 8, 9, 10, 11, 12]\n"
          ],
          "name": "stdout"
        }
      ]
    },
    {
      "cell_type": "code",
      "metadata": {
        "id": "LR6PxNYKUEGK",
        "colab_type": "code",
        "colab": {
          "base_uri": "https://localhost:8080/",
          "height": 51
        },
        "outputId": "a8d653de-4cf9-40f8-9914-52ecf0210c32"
      },
      "source": [
        "print (\"soal no 3\")\n",
        "# numbers3 = []\n",
        "# for i in numbers2:\n",
        "#   if i % 2 == 1:\n",
        "#     numbers3.append(i+1)\n",
        "#   if i % 2 == 0:\n",
        "#     numbers3.append(i)\n",
        "# print (numbers3)\n",
        "\n",
        "numbers3 = [1+x if x % 2 != 0 else x for x in numbers2]\n",
        "print(numbers3)"
      ],
      "execution_count": 43,
      "outputs": [
        {
          "output_type": "stream",
          "text": [
            "soal no 3\n",
            "[4, 4, 6, 6, 8, 8, 10, 10, 12, 12]\n"
          ],
          "name": "stdout"
        }
      ]
    },
    {
      "cell_type": "code",
      "metadata": {
        "id": "-2gmMmJex4Ha",
        "colab_type": "code",
        "colab": {
          "base_uri": "https://localhost:8080/",
          "height": 34
        },
        "outputId": "d3fae2ed-e5fe-4957-cfe4-bd319ede2c54"
      },
      "source": [
        "print(\"soal no 4\")\n",
        "numbers4 = []\n",
        "numbers4 = [x for x in numbers3]\n",
        "\n",
        "i=0\n",
        "numbers4.sort()\n",
        "\n",
        "for n in numbers4:\n",
        "  if n < 5:\n",
        "    i+=1\n",
        "\n",
        "numbers4=numbers4[i:]\n",
        "numbers4\n",
        "\n",
        "\n",
        "numbers4\n"
      ],
      "execution_count": 60,
      "outputs": [
        {
          "output_type": "execute_result",
          "data": {
            "text/plain": [
              "[6, 6, 8, 8, 10, 10, 12, 12]"
            ]
          },
          "metadata": {
            "tags": []
          },
          "execution_count": 60
        }
      ]
    },
    {
      "cell_type": "code",
      "metadata": {
        "id": "wJOL0k-cSlYi",
        "colab_type": "code",
        "colab": {
          "base_uri": "https://localhost:8080/",
          "height": 204
        },
        "outputId": "15e0ec45-c929-4731-b604-3bcbce504ceb"
      },
      "source": [
        "print (\"soal no 5\")\n",
        "\n",
        "numbers5 = []\n",
        "numbers5 = [x for x in numbers3]\n",
        "\n",
        "for index, element in enumerate(numbers5):\n",
        "  print(\"Angka ke-\" + str(index) + \" : \" + str(element))"
      ],
      "execution_count": 61,
      "outputs": [
        {
          "output_type": "stream",
          "text": [
            "soal no 5\n",
            "Angka ke-0 : 4\n",
            "Angka ke-1 : 4\n",
            "Angka ke-2 : 6\n",
            "Angka ke-3 : 6\n",
            "Angka ke-4 : 8\n",
            "Angka ke-5 : 8\n",
            "Angka ke-6 : 10\n",
            "Angka ke-7 : 10\n",
            "Angka ke-8 : 12\n",
            "Angka ke-9 : 12\n"
          ],
          "name": "stdout"
        }
      ]
    },
    {
      "cell_type": "code",
      "metadata": {
        "id": "3Oi8NcArV6rL",
        "colab_type": "code",
        "colab": {
          "base_uri": "https://localhost:8080/",
          "height": 119
        },
        "outputId": "a0a0b3a4-e354-469e-ff13-0334063aca31"
      },
      "source": [
        "print (\"soal no 6\")\n",
        "samenumber = [x for x in numbers2 if x % 2 == 0]\n",
        "for index, element in enumerate(samenumber):\n",
        "  print(\"Angka ke-\" + str(index) + \" : \" + str(element))"
      ],
      "execution_count": 63,
      "outputs": [
        {
          "output_type": "stream",
          "text": [
            "soal no 6\n",
            "Angka ke-0 : 4\n",
            "Angka ke-1 : 6\n",
            "Angka ke-2 : 8\n",
            "Angka ke-3 : 10\n",
            "Angka ke-4 : 12\n"
          ],
          "name": "stdout"
        }
      ]
    }
  ]
}