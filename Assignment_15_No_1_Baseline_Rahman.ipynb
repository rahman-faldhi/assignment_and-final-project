{
  "nbformat": 4,
  "nbformat_minor": 0,
  "metadata": {
    "colab": {
      "name": "Assignment_15_No_1_Baseline_Rahman.ipynb",
      "provenance": [],
      "collapsed_sections": [],
      "toc_visible": true
    },
    "kernelspec": {
      "name": "python3",
      "display_name": "Python 3"
    },
    "accelerator": "GPU"
  },
  "cells": [
    {
      "cell_type": "markdown",
      "metadata": {
        "id": "2z9Veqf0o_0h"
      },
      "source": [
        "# Assignment\n",
        "\n",
        "1. Tambahkan convolution layer berikut untuk data yang sudah dilakukan data augmentation:\n",
        "\n",
        "    - Convolution layer dengan 32 filters, kernel size 3x3, activation function ReLu, & nilai awal berdasarkan he_uniform\n",
        "    - Max Pooling Layer 2x2\n",
        "    - Convolution layer dengan 64 filters, kernel size 3x3, activation function ReLu, & nilai awal berdasarkan he_uniform\n",
        "    - Max Pooling Layer 2x2\n",
        "    - Convolution layer dengan 128 filters, kernel size 3x3, activation function ReLu, & nilai awal berdasarkan he_uniform\n",
        "    - Max Pooling Layer 2x2\n",
        "\n",
        "  Bandingkan hasil accuracy yang didapat dengan ketika training dilakukan dengan model baseline! Jelaskan kesimpulannya! Gunakan nilai epoch 75. Lalu bandingkan juga plot epoch terhadap lossnya!\n",
        "\n",
        "2. Tentukan arsitektur CNN serta hyperparameter tuning bagi mendapatkan hasil terbaik untuk dataset ini!"
      ]
    },
    {
      "cell_type": "code",
      "metadata": {
        "id": "uwMIlOndSAwf"
      },
      "source": [
        "zip_path = '/content/drive/My\\ Drive/Bootcamp\\ ML2020/dataset/cats-dogs.zip'\n",
        "\n",
        "!cp {zip_path} /content/\n",
        "\n",
        "!cd /content/\n",
        "\n",
        "!unzip -q /content/cats-dogs.zip -d /content\n",
        "\n",
        "# !rm /content/cats-dogs.zip"
      ],
      "execution_count": null,
      "outputs": []
    },
    {
      "cell_type": "code",
      "metadata": {
        "id": "Tiuas1EfgTFb"
      },
      "source": [
        "import numpy as np\n",
        "import os\n",
        "import matplotlib.pyplot as plt"
      ],
      "execution_count": null,
      "outputs": []
    },
    {
      "cell_type": "code",
      "metadata": {
        "id": "961tfxu7ga5Z"
      },
      "source": [
        "def plot_loss(history):\n",
        "  plt.plot(history.history['loss'], label='loss')\n",
        "  plt.plot(history.history['val_loss'], label='val_loss')\n",
        "  plt.xlabel('Epoch')\n",
        "  plt.ylabel('Loss')\n",
        "  plt.legend()\n",
        "  plt.grid(True)"
      ],
      "execution_count": null,
      "outputs": []
    },
    {
      "cell_type": "code",
      "metadata": {
        "id": "pSfGR3DhgdOg",
        "outputId": "9fee4f62-0239-46f4-f4bb-cad1c7063a34",
        "colab": {
          "base_uri": "https://localhost:8080/",
          "height": 310
        }
      },
      "source": [
        "from tensorflow.keras.models import Sequential\n",
        "from tensorflow.keras.layers import Conv2D, MaxPooling2D, Dense, Flatten\n",
        "from tensorflow.keras.optimizers import SGD\n",
        "\n",
        "model = Sequential()\n",
        "model.add(Conv2D(32, (3, 3), activation='relu', kernel_initializer='he_uniform', padding='same', input_shape=(200, 200, 3)))\n",
        "model.add(MaxPooling2D((2, 2)))\n",
        "\n",
        "model.add(Flatten())\n",
        "\n",
        "model.add(Dense(128, activation='relu', kernel_initializer='he_uniform'))\n",
        "model.add(Dense(1, activation='sigmoid'))\n",
        "\n",
        "opt = SGD(lr=0.001, momentum=0.9)\n",
        "\n",
        "model.compile(optimizer=opt, loss='binary_crossentropy', metrics=['accuracy'])\n",
        "\n",
        "model.summary()"
      ],
      "execution_count": null,
      "outputs": [
        {
          "output_type": "stream",
          "text": [
            "Model: \"sequential\"\n",
            "_________________________________________________________________\n",
            "Layer (type)                 Output Shape              Param #   \n",
            "=================================================================\n",
            "conv2d (Conv2D)              (None, 200, 200, 32)      896       \n",
            "_________________________________________________________________\n",
            "max_pooling2d (MaxPooling2D) (None, 100, 100, 32)      0         \n",
            "_________________________________________________________________\n",
            "flatten (Flatten)            (None, 320000)            0         \n",
            "_________________________________________________________________\n",
            "dense (Dense)                (None, 128)               40960128  \n",
            "_________________________________________________________________\n",
            "dense_1 (Dense)              (None, 1)                 129       \n",
            "=================================================================\n",
            "Total params: 40,961,153\n",
            "Trainable params: 40,961,153\n",
            "Non-trainable params: 0\n",
            "_________________________________________________________________\n"
          ],
          "name": "stdout"
        }
      ]
    },
    {
      "cell_type": "code",
      "metadata": {
        "id": "DZBGN9Avq6e4",
        "outputId": "f5b556a3-526c-488f-dd53-87f686062c34",
        "colab": {
          "base_uri": "https://localhost:8080/",
          "height": 50
        }
      },
      "source": [
        "dataset_dir = '/content/'\n",
        "\n",
        "from tensorflow.keras.preprocessing.image import ImageDataGenerator\n",
        "\n",
        "datagen = ImageDataGenerator(rescale=1.0/255.0)\n",
        "\n",
        "train_iterator = datagen.flow_from_directory(os.path.join(dataset_dir, 'train'), class_mode='binary', batch_size=128, target_size=(200, 200))\n",
        "test_iterator = datagen.flow_from_directory(os.path.join(dataset_dir, 'test'), class_mode='binary', batch_size=128, target_size=(200, 200))"
      ],
      "execution_count": null,
      "outputs": [
        {
          "output_type": "stream",
          "text": [
            "Found 12749 images belonging to 2 classes.\n",
            "Found 2252 images belonging to 2 classes.\n"
          ],
          "name": "stdout"
        }
      ]
    },
    {
      "cell_type": "code",
      "metadata": {
        "id": "jwYB4rY-rLV5",
        "outputId": "b3c39d81-c667-49d3-eca0-07d7d2508826",
        "colab": {
          "base_uri": "https://localhost:8080/",
          "height": 1000
        }
      },
      "source": [
        "history_base_model = model.fit_generator(train_iterator, steps_per_epoch=len(train_iterator), validation_data=test_iterator, validation_steps=len(test_iterator), epochs=75)"
      ],
      "execution_count": null,
      "outputs": [
        {
          "output_type": "stream",
          "text": [
            "WARNING:tensorflow:From <ipython-input-6-97d030b73ef6>:1: Model.fit_generator (from tensorflow.python.keras.engine.training) is deprecated and will be removed in a future version.\n",
            "Instructions for updating:\n",
            "Please use Model.fit, which supports generators.\n",
            "Epoch 1/75\n",
            "100/100 [==============================] - 55s 548ms/step - loss: 0.7617 - accuracy: 0.5298 - val_loss: 0.6896 - val_accuracy: 0.5018\n",
            "Epoch 2/75\n",
            "100/100 [==============================] - 52s 523ms/step - loss: 0.6770 - accuracy: 0.5750 - val_loss: 0.6649 - val_accuracy: 0.5719\n",
            "Epoch 3/75\n",
            "100/100 [==============================] - 52s 520ms/step - loss: 0.6538 - accuracy: 0.6095 - val_loss: 0.6386 - val_accuracy: 0.6292\n",
            "Epoch 4/75\n",
            "100/100 [==============================] - 51s 512ms/step - loss: 0.6331 - accuracy: 0.6306 - val_loss: 0.6158 - val_accuracy: 0.6679\n",
            "Epoch 5/75\n",
            "100/100 [==============================] - 51s 515ms/step - loss: 0.6241 - accuracy: 0.6383 - val_loss: 0.6306 - val_accuracy: 0.6461\n",
            "Epoch 6/75\n",
            "100/100 [==============================] - 51s 513ms/step - loss: 0.6509 - accuracy: 0.5816 - val_loss: 0.6709 - val_accuracy: 0.6146\n",
            "Epoch 7/75\n",
            "100/100 [==============================] - 51s 514ms/step - loss: 0.6409 - accuracy: 0.6282 - val_loss: 0.6162 - val_accuracy: 0.6488\n",
            "Epoch 8/75\n",
            "100/100 [==============================] - 51s 514ms/step - loss: 0.6124 - accuracy: 0.6563 - val_loss: 0.6196 - val_accuracy: 0.6448\n",
            "Epoch 9/75\n",
            "100/100 [==============================] - 52s 515ms/step - loss: 0.6119 - accuracy: 0.6550 - val_loss: 0.6071 - val_accuracy: 0.6612\n",
            "Epoch 10/75\n",
            "100/100 [==============================] - 51s 514ms/step - loss: 0.6106 - accuracy: 0.6558 - val_loss: 0.6078 - val_accuracy: 0.6705\n",
            "Epoch 11/75\n",
            "100/100 [==============================] - 51s 515ms/step - loss: 0.5928 - accuracy: 0.6729 - val_loss: 0.5964 - val_accuracy: 0.6723\n",
            "Epoch 12/75\n",
            "100/100 [==============================] - 51s 507ms/step - loss: 0.5786 - accuracy: 0.6883 - val_loss: 0.5951 - val_accuracy: 0.6718\n",
            "Epoch 13/75\n",
            "100/100 [==============================] - 51s 511ms/step - loss: 0.5932 - accuracy: 0.6725 - val_loss: 0.5962 - val_accuracy: 0.6687\n",
            "Epoch 14/75\n",
            "100/100 [==============================] - 51s 511ms/step - loss: 0.5686 - accuracy: 0.6976 - val_loss: 0.6485 - val_accuracy: 0.6075\n",
            "Epoch 15/75\n",
            "100/100 [==============================] - 51s 515ms/step - loss: 0.5845 - accuracy: 0.6785 - val_loss: 0.5912 - val_accuracy: 0.6812\n",
            "Epoch 16/75\n",
            "100/100 [==============================] - 51s 511ms/step - loss: 0.5565 - accuracy: 0.7118 - val_loss: 0.6589 - val_accuracy: 0.6012\n",
            "Epoch 17/75\n",
            "100/100 [==============================] - 51s 513ms/step - loss: 0.5800 - accuracy: 0.6886 - val_loss: 0.5813 - val_accuracy: 0.6847\n",
            "Epoch 18/75\n",
            "100/100 [==============================] - 51s 514ms/step - loss: 0.5684 - accuracy: 0.6939 - val_loss: 0.5833 - val_accuracy: 0.6758\n",
            "Epoch 19/75\n",
            "100/100 [==============================] - 51s 513ms/step - loss: 0.5343 - accuracy: 0.7316 - val_loss: 0.6126 - val_accuracy: 0.6461\n",
            "Epoch 20/75\n",
            "100/100 [==============================] - 51s 511ms/step - loss: 0.5403 - accuracy: 0.7255 - val_loss: 0.6164 - val_accuracy: 0.6554\n",
            "Epoch 21/75\n",
            "100/100 [==============================] - 52s 517ms/step - loss: 0.5273 - accuracy: 0.7360 - val_loss: 0.6492 - val_accuracy: 0.6194\n",
            "Epoch 22/75\n",
            "100/100 [==============================] - 51s 513ms/step - loss: 0.5181 - accuracy: 0.7419 - val_loss: 0.5784 - val_accuracy: 0.6905\n",
            "Epoch 23/75\n",
            "100/100 [==============================] - 51s 512ms/step - loss: 0.4975 - accuracy: 0.7588 - val_loss: 0.5785 - val_accuracy: 0.6940\n",
            "Epoch 24/75\n",
            "100/100 [==============================] - 51s 507ms/step - loss: 0.4869 - accuracy: 0.7660 - val_loss: 0.5742 - val_accuracy: 0.6967\n",
            "Epoch 25/75\n",
            "100/100 [==============================] - 51s 507ms/step - loss: 0.4719 - accuracy: 0.7746 - val_loss: 0.5854 - val_accuracy: 0.6976\n",
            "Epoch 26/75\n",
            "100/100 [==============================] - 51s 509ms/step - loss: 0.4726 - accuracy: 0.7714 - val_loss: 0.5731 - val_accuracy: 0.6972\n",
            "Epoch 27/75\n",
            "100/100 [==============================] - 51s 510ms/step - loss: 0.4555 - accuracy: 0.7852 - val_loss: 0.5763 - val_accuracy: 0.7012\n",
            "Epoch 28/75\n",
            "100/100 [==============================] - 51s 509ms/step - loss: 0.4372 - accuracy: 0.7980 - val_loss: 0.6167 - val_accuracy: 0.6834\n",
            "Epoch 29/75\n",
            "100/100 [==============================] - 51s 508ms/step - loss: 0.4387 - accuracy: 0.7972 - val_loss: 0.5799 - val_accuracy: 0.7114\n",
            "Epoch 30/75\n",
            "100/100 [==============================] - 51s 509ms/step - loss: 0.4139 - accuracy: 0.8139 - val_loss: 0.5628 - val_accuracy: 0.7194\n",
            "Epoch 31/75\n",
            "100/100 [==============================] - 51s 509ms/step - loss: 0.3872 - accuracy: 0.8349 - val_loss: 0.5846 - val_accuracy: 0.7087\n",
            "Epoch 32/75\n",
            "100/100 [==============================] - 51s 510ms/step - loss: 0.3691 - accuracy: 0.8485 - val_loss: 0.6157 - val_accuracy: 0.6954\n",
            "Epoch 33/75\n",
            "100/100 [==============================] - 51s 510ms/step - loss: 0.3515 - accuracy: 0.8537 - val_loss: 0.6164 - val_accuracy: 0.6940\n",
            "Epoch 34/75\n",
            "100/100 [==============================] - 51s 506ms/step - loss: 0.3418 - accuracy: 0.8574 - val_loss: 0.6460 - val_accuracy: 0.6914\n",
            "Epoch 35/75\n",
            "100/100 [==============================] - 51s 509ms/step - loss: 0.3186 - accuracy: 0.8707 - val_loss: 0.5770 - val_accuracy: 0.7229\n",
            "Epoch 36/75\n",
            "100/100 [==============================] - 51s 507ms/step - loss: 0.3059 - accuracy: 0.8772 - val_loss: 0.5792 - val_accuracy: 0.7189\n",
            "Epoch 37/75\n",
            "100/100 [==============================] - 51s 506ms/step - loss: 0.2857 - accuracy: 0.8906 - val_loss: 0.6200 - val_accuracy: 0.7052\n",
            "Epoch 38/75\n",
            "100/100 [==============================] - 51s 507ms/step - loss: 0.2796 - accuracy: 0.8946 - val_loss: 0.6114 - val_accuracy: 0.7091\n",
            "Epoch 39/75\n",
            "100/100 [==============================] - 51s 505ms/step - loss: 0.2633 - accuracy: 0.9027 - val_loss: 0.5977 - val_accuracy: 0.7238\n",
            "Epoch 40/75\n",
            "100/100 [==============================] - 50s 503ms/step - loss: 0.2351 - accuracy: 0.9198 - val_loss: 0.6449 - val_accuracy: 0.7091\n",
            "Epoch 41/75\n",
            "100/100 [==============================] - 51s 505ms/step - loss: 0.2172 - accuracy: 0.9267 - val_loss: 0.6831 - val_accuracy: 0.7016\n",
            "Epoch 42/75\n",
            "100/100 [==============================] - 50s 500ms/step - loss: 0.2228 - accuracy: 0.9217 - val_loss: 0.6315 - val_accuracy: 0.7198\n",
            "Epoch 43/75\n",
            "100/100 [==============================] - 50s 503ms/step - loss: 0.1984 - accuracy: 0.9394 - val_loss: 0.7366 - val_accuracy: 0.6878\n",
            "Epoch 44/75\n",
            "100/100 [==============================] - 50s 502ms/step - loss: 0.1957 - accuracy: 0.9343 - val_loss: 0.6615 - val_accuracy: 0.7131\n",
            "Epoch 45/75\n",
            "100/100 [==============================] - 50s 502ms/step - loss: 0.1645 - accuracy: 0.9538 - val_loss: 0.6433 - val_accuracy: 0.7282\n",
            "Epoch 46/75\n",
            "100/100 [==============================] - 50s 503ms/step - loss: 0.1735 - accuracy: 0.9468 - val_loss: 0.6714 - val_accuracy: 0.7185\n",
            "Epoch 47/75\n",
            "100/100 [==============================] - 50s 503ms/step - loss: 0.1395 - accuracy: 0.9652 - val_loss: 0.6778 - val_accuracy: 0.7180\n",
            "Epoch 48/75\n",
            "100/100 [==============================] - 50s 498ms/step - loss: 0.1316 - accuracy: 0.9701 - val_loss: 0.6794 - val_accuracy: 0.7207\n",
            "Epoch 49/75\n",
            "100/100 [==============================] - 50s 497ms/step - loss: 0.1152 - accuracy: 0.9775 - val_loss: 0.7048 - val_accuracy: 0.7229\n",
            "Epoch 50/75\n",
            "100/100 [==============================] - 50s 498ms/step - loss: 0.1070 - accuracy: 0.9794 - val_loss: 0.7014 - val_accuracy: 0.7211\n",
            "Epoch 51/75\n",
            "100/100 [==============================] - 50s 496ms/step - loss: 0.0985 - accuracy: 0.9825 - val_loss: 0.7456 - val_accuracy: 0.7123\n",
            "Epoch 52/75\n",
            "100/100 [==============================] - 51s 511ms/step - loss: 0.0962 - accuracy: 0.9826 - val_loss: 0.7249 - val_accuracy: 0.7260\n",
            "Epoch 53/75\n",
            "100/100 [==============================] - 50s 501ms/step - loss: 0.0949 - accuracy: 0.9803 - val_loss: 0.7234 - val_accuracy: 0.7207\n",
            "Epoch 54/75\n",
            "100/100 [==============================] - 50s 502ms/step - loss: 0.0797 - accuracy: 0.9895 - val_loss: 0.7562 - val_accuracy: 0.7265\n",
            "Epoch 55/75\n",
            "100/100 [==============================] - 50s 502ms/step - loss: 0.0796 - accuracy: 0.9845 - val_loss: 0.7448 - val_accuracy: 0.7349\n",
            "Epoch 56/75\n",
            "100/100 [==============================] - 50s 503ms/step - loss: 0.0639 - accuracy: 0.9934 - val_loss: 0.7660 - val_accuracy: 0.7336\n",
            "Epoch 57/75\n",
            "100/100 [==============================] - 50s 504ms/step - loss: 0.0597 - accuracy: 0.9947 - val_loss: 0.7783 - val_accuracy: 0.7296\n",
            "Epoch 58/75\n",
            "100/100 [==============================] - 50s 502ms/step - loss: 0.0571 - accuracy: 0.9949 - val_loss: 0.9755 - val_accuracy: 0.6829\n",
            "Epoch 59/75\n",
            "100/100 [==============================] - 51s 505ms/step - loss: 0.0525 - accuracy: 0.9958 - val_loss: 0.8104 - val_accuracy: 0.7216\n",
            "Epoch 60/75\n",
            "100/100 [==============================] - 50s 500ms/step - loss: 0.0567 - accuracy: 0.9937 - val_loss: 0.8452 - val_accuracy: 0.7105\n",
            "Epoch 61/75\n",
            "100/100 [==============================] - 51s 508ms/step - loss: 0.0437 - accuracy: 0.9978 - val_loss: 0.8416 - val_accuracy: 0.7194\n",
            "Epoch 62/75\n",
            "100/100 [==============================] - 50s 504ms/step - loss: 0.0403 - accuracy: 0.9980 - val_loss: 0.8533 - val_accuracy: 0.7300\n",
            "Epoch 63/75\n",
            "100/100 [==============================] - 50s 503ms/step - loss: 0.0399 - accuracy: 0.9978 - val_loss: 0.8400 - val_accuracy: 0.7269\n",
            "Epoch 64/75\n",
            "100/100 [==============================] - 51s 507ms/step - loss: 0.0390 - accuracy: 0.9980 - val_loss: 0.8450 - val_accuracy: 0.7309\n",
            "Epoch 65/75\n",
            "100/100 [==============================] - 51s 506ms/step - loss: 0.0345 - accuracy: 0.9991 - val_loss: 0.8479 - val_accuracy: 0.7278\n",
            "Epoch 66/75\n",
            "100/100 [==============================] - 51s 510ms/step - loss: 0.0309 - accuracy: 0.9991 - val_loss: 0.8621 - val_accuracy: 0.7278\n",
            "Epoch 67/75\n",
            "100/100 [==============================] - 51s 511ms/step - loss: 0.0283 - accuracy: 0.9989 - val_loss: 0.8894 - val_accuracy: 0.7194\n",
            "Epoch 68/75\n",
            "100/100 [==============================] - 51s 508ms/step - loss: 0.0269 - accuracy: 0.9993 - val_loss: 0.8935 - val_accuracy: 0.7313\n",
            "Epoch 69/75\n",
            "100/100 [==============================] - 51s 506ms/step - loss: 0.0247 - accuracy: 0.9995 - val_loss: 0.9265 - val_accuracy: 0.7207\n",
            "Epoch 70/75\n",
            "100/100 [==============================] - 50s 505ms/step - loss: 0.0242 - accuracy: 0.9995 - val_loss: 0.8993 - val_accuracy: 0.7278\n",
            "Epoch 71/75\n",
            "100/100 [==============================] - 50s 503ms/step - loss: 0.0227 - accuracy: 0.9991 - val_loss: 0.9204 - val_accuracy: 0.7180\n",
            "Epoch 72/75\n",
            "100/100 [==============================] - 50s 504ms/step - loss: 0.0201 - accuracy: 0.9995 - val_loss: 0.9248 - val_accuracy: 0.7242\n",
            "Epoch 73/75\n",
            "100/100 [==============================] - 51s 512ms/step - loss: 0.0190 - accuracy: 0.9995 - val_loss: 0.9386 - val_accuracy: 0.7274\n",
            "Epoch 74/75\n",
            "100/100 [==============================] - 52s 516ms/step - loss: 0.0182 - accuracy: 0.9995 - val_loss: 0.9382 - val_accuracy: 0.7282\n",
            "Epoch 75/75\n",
            "100/100 [==============================] - 52s 519ms/step - loss: 0.0187 - accuracy: 0.9997 - val_loss: 0.9447 - val_accuracy: 0.7269\n"
          ],
          "name": "stdout"
        }
      ]
    },
    {
      "cell_type": "code",
      "metadata": {
        "id": "lEOQj0zTrvwU",
        "outputId": "2671b142-9717-4054-a1f0-ad4766b9b8ea",
        "colab": {
          "base_uri": "https://localhost:8080/",
          "height": 278
        }
      },
      "source": [
        "plot_loss(history_base_model)"
      ],
      "execution_count": null,
      "outputs": [
        {
          "output_type": "display_data",
          "data": {
            "image/png": "[encoded data removed]",
            "text/plain": [
              "<Figure size 432x288 with 1 Axes>"
            ]
          },
          "metadata": {
            "tags": [],
            "needs_background": "light"
          }
        }
      ]
    },
    {
      "cell_type": "markdown",
      "metadata": {
        "id": "UJbeQRWW7vPt"
      },
      "source": [
        "**Kesimpulan:** Pada **Augmentation** 3 Layer, Saya Mendapatkan nilai akurasi terbaik pada epoch 73, dengan nilai akurasi **84%** dan val_loss **35%**, ini lebih baik jika dibandingkan dengan **Baseline** yang mana akurasi yang didapatkan adalah **71%** dan val_loss **56%**"
      ]
    }
  ]
}